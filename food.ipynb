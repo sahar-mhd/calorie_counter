{
  "nbformat": 4,
  "nbformat_minor": 0,
  "metadata": {
    "colab": {
      "provenance": [],
      "gpuType": "T4"
    },
    "kernelspec": {
      "name": "python3",
      "display_name": "Python 3"
    },
    "language_info": {
      "name": "python"
    },
    "accelerator": "GPU"
  },
  "cells": [
    {
      "cell_type": "code",
      "execution_count": 2,
      "metadata": {
        "colab": {
          "base_uri": "https://localhost:8080/"
        },
        "id": "3n54W5A_i5xD",
        "outputId": "a9ed2ba0-f7a5-4f89-8d5a-99cc55bddc71"
      },
      "outputs": [
        {
          "output_type": "stream",
          "name": "stdout",
          "text": [
            "Collecting ultralytics\n",
            "  Downloading ultralytics-8.3.79-py3-none-any.whl.metadata (35 kB)\n",
            "Requirement already satisfied: numpy<=2.1.1,>=1.23.0 in /usr/local/lib/python3.11/dist-packages (from ultralytics) (1.26.4)\n",
            "Requirement already satisfied: matplotlib>=3.3.0 in /usr/local/lib/python3.11/dist-packages (from ultralytics) (3.10.0)\n",
            "Requirement already satisfied: opencv-python>=4.6.0 in /usr/local/lib/python3.11/dist-packages (from ultralytics) (4.11.0.86)\n",
            "Requirement already satisfied: pillow>=7.1.2 in /usr/local/lib/python3.11/dist-packages (from ultralytics) (11.1.0)\n",
            "Requirement already satisfied: pyyaml>=5.3.1 in /usr/local/lib/python3.11/dist-packages (from ultralytics) (6.0.2)\n",
            "Requirement already satisfied: requests>=2.23.0 in /usr/local/lib/python3.11/dist-packages (from ultralytics) (2.32.3)\n",
            "Requirement already satisfied: scipy>=1.4.1 in /usr/local/lib/python3.11/dist-packages (from ultralytics) (1.13.1)\n",
            "Requirement already satisfied: torch>=1.8.0 in /usr/local/lib/python3.11/dist-packages (from ultralytics) (2.5.1+cu124)\n",
            "Requirement already satisfied: torchvision>=0.9.0 in /usr/local/lib/python3.11/dist-packages (from ultralytics) (0.20.1+cu124)\n",
            "Requirement already satisfied: tqdm>=4.64.0 in /usr/local/lib/python3.11/dist-packages (from ultralytics) (4.67.1)\n",
            "Requirement already satisfied: psutil in /usr/local/lib/python3.11/dist-packages (from ultralytics) (5.9.5)\n",
            "Requirement already satisfied: py-cpuinfo in /usr/local/lib/python3.11/dist-packages (from ultralytics) (9.0.0)\n",
            "Requirement already satisfied: pandas>=1.1.4 in /usr/local/lib/python3.11/dist-packages (from ultralytics) (2.2.2)\n",
            "Requirement already satisfied: seaborn>=0.11.0 in /usr/local/lib/python3.11/dist-packages (from ultralytics) (0.13.2)\n",
            "Collecting ultralytics-thop>=2.0.0 (from ultralytics)\n",
            "  Downloading ultralytics_thop-2.0.14-py3-none-any.whl.metadata (9.4 kB)\n",
            "Requirement already satisfied: contourpy>=1.0.1 in /usr/local/lib/python3.11/dist-packages (from matplotlib>=3.3.0->ultralytics) (1.3.1)\n",
            "Requirement already satisfied: cycler>=0.10 in /usr/local/lib/python3.11/dist-packages (from matplotlib>=3.3.0->ultralytics) (0.12.1)\n",
            "Requirement already satisfied: fonttools>=4.22.0 in /usr/local/lib/python3.11/dist-packages (from matplotlib>=3.3.0->ultralytics) (4.56.0)\n",
            "Requirement already satisfied: kiwisolver>=1.3.1 in /usr/local/lib/python3.11/dist-packages (from matplotlib>=3.3.0->ultralytics) (1.4.8)\n",
            "Requirement already satisfied: packaging>=20.0 in /usr/local/lib/python3.11/dist-packages (from matplotlib>=3.3.0->ultralytics) (24.2)\n",
            "Requirement already satisfied: pyparsing>=2.3.1 in /usr/local/lib/python3.11/dist-packages (from matplotlib>=3.3.0->ultralytics) (3.2.1)\n",
            "Requirement already satisfied: python-dateutil>=2.7 in /usr/local/lib/python3.11/dist-packages (from matplotlib>=3.3.0->ultralytics) (2.8.2)\n",
            "Requirement already satisfied: pytz>=2020.1 in /usr/local/lib/python3.11/dist-packages (from pandas>=1.1.4->ultralytics) (2025.1)\n",
            "Requirement already satisfied: tzdata>=2022.7 in /usr/local/lib/python3.11/dist-packages (from pandas>=1.1.4->ultralytics) (2025.1)\n",
            "Requirement already satisfied: charset-normalizer<4,>=2 in /usr/local/lib/python3.11/dist-packages (from requests>=2.23.0->ultralytics) (3.4.1)\n",
            "Requirement already satisfied: idna<4,>=2.5 in /usr/local/lib/python3.11/dist-packages (from requests>=2.23.0->ultralytics) (3.10)\n",
            "Requirement already satisfied: urllib3<3,>=1.21.1 in /usr/local/lib/python3.11/dist-packages (from requests>=2.23.0->ultralytics) (2.3.0)\n",
            "Requirement already satisfied: certifi>=2017.4.17 in /usr/local/lib/python3.11/dist-packages (from requests>=2.23.0->ultralytics) (2025.1.31)\n",
            "Requirement already satisfied: filelock in /usr/local/lib/python3.11/dist-packages (from torch>=1.8.0->ultralytics) (3.17.0)\n",
            "Requirement already satisfied: typing-extensions>=4.8.0 in /usr/local/lib/python3.11/dist-packages (from torch>=1.8.0->ultralytics) (4.12.2)\n",
            "Requirement already satisfied: networkx in /usr/local/lib/python3.11/dist-packages (from torch>=1.8.0->ultralytics) (3.4.2)\n",
            "Requirement already satisfied: jinja2 in /usr/local/lib/python3.11/dist-packages (from torch>=1.8.0->ultralytics) (3.1.5)\n",
            "Requirement already satisfied: fsspec in /usr/local/lib/python3.11/dist-packages (from torch>=1.8.0->ultralytics) (2024.10.0)\n",
            "Collecting nvidia-cuda-nvrtc-cu12==12.4.127 (from torch>=1.8.0->ultralytics)\n",
            "  Downloading nvidia_cuda_nvrtc_cu12-12.4.127-py3-none-manylinux2014_x86_64.whl.metadata (1.5 kB)\n",
            "Collecting nvidia-cuda-runtime-cu12==12.4.127 (from torch>=1.8.0->ultralytics)\n",
            "  Downloading nvidia_cuda_runtime_cu12-12.4.127-py3-none-manylinux2014_x86_64.whl.metadata (1.5 kB)\n",
            "Collecting nvidia-cuda-cupti-cu12==12.4.127 (from torch>=1.8.0->ultralytics)\n",
            "  Downloading nvidia_cuda_cupti_cu12-12.4.127-py3-none-manylinux2014_x86_64.whl.metadata (1.6 kB)\n",
            "Collecting nvidia-cudnn-cu12==9.1.0.70 (from torch>=1.8.0->ultralytics)\n",
            "  Downloading nvidia_cudnn_cu12-9.1.0.70-py3-none-manylinux2014_x86_64.whl.metadata (1.6 kB)\n",
            "Collecting nvidia-cublas-cu12==12.4.5.8 (from torch>=1.8.0->ultralytics)\n",
            "  Downloading nvidia_cublas_cu12-12.4.5.8-py3-none-manylinux2014_x86_64.whl.metadata (1.5 kB)\n",
            "Collecting nvidia-cufft-cu12==11.2.1.3 (from torch>=1.8.0->ultralytics)\n",
            "  Downloading nvidia_cufft_cu12-11.2.1.3-py3-none-manylinux2014_x86_64.whl.metadata (1.5 kB)\n",
            "Collecting nvidia-curand-cu12==10.3.5.147 (from torch>=1.8.0->ultralytics)\n",
            "  Downloading nvidia_curand_cu12-10.3.5.147-py3-none-manylinux2014_x86_64.whl.metadata (1.5 kB)\n",
            "Collecting nvidia-cusolver-cu12==11.6.1.9 (from torch>=1.8.0->ultralytics)\n",
            "  Downloading nvidia_cusolver_cu12-11.6.1.9-py3-none-manylinux2014_x86_64.whl.metadata (1.6 kB)\n",
            "Collecting nvidia-cusparse-cu12==12.3.1.170 (from torch>=1.8.0->ultralytics)\n",
            "  Downloading nvidia_cusparse_cu12-12.3.1.170-py3-none-manylinux2014_x86_64.whl.metadata (1.6 kB)\n",
            "Requirement already satisfied: nvidia-nccl-cu12==2.21.5 in /usr/local/lib/python3.11/dist-packages (from torch>=1.8.0->ultralytics) (2.21.5)\n",
            "Requirement already satisfied: nvidia-nvtx-cu12==12.4.127 in /usr/local/lib/python3.11/dist-packages (from torch>=1.8.0->ultralytics) (12.4.127)\n",
            "Collecting nvidia-nvjitlink-cu12==12.4.127 (from torch>=1.8.0->ultralytics)\n",
            "  Downloading nvidia_nvjitlink_cu12-12.4.127-py3-none-manylinux2014_x86_64.whl.metadata (1.5 kB)\n",
            "Requirement already satisfied: triton==3.1.0 in /usr/local/lib/python3.11/dist-packages (from torch>=1.8.0->ultralytics) (3.1.0)\n",
            "Requirement already satisfied: sympy==1.13.1 in /usr/local/lib/python3.11/dist-packages (from torch>=1.8.0->ultralytics) (1.13.1)\n",
            "Requirement already satisfied: mpmath<1.4,>=1.1.0 in /usr/local/lib/python3.11/dist-packages (from sympy==1.13.1->torch>=1.8.0->ultralytics) (1.3.0)\n",
            "Requirement already satisfied: six>=1.5 in /usr/local/lib/python3.11/dist-packages (from python-dateutil>=2.7->matplotlib>=3.3.0->ultralytics) (1.17.0)\n",
            "Requirement already satisfied: MarkupSafe>=2.0 in /usr/local/lib/python3.11/dist-packages (from jinja2->torch>=1.8.0->ultralytics) (3.0.2)\n",
            "Downloading ultralytics-8.3.79-py3-none-any.whl (921 kB)\n",
            "\u001b[2K   \u001b[90m━━━━━━━━━━━━━━━━━━━━━━━━━━━━━━━━━━━━━━━━\u001b[0m \u001b[32m921.8/921.8 kB\u001b[0m \u001b[31m25.0 MB/s\u001b[0m eta \u001b[36m0:00:00\u001b[0m\n",
            "\u001b[?25hDownloading nvidia_cublas_cu12-12.4.5.8-py3-none-manylinux2014_x86_64.whl (363.4 MB)\n",
            "\u001b[2K   \u001b[90m━━━━━━━━━━━━━━━━━━━━━━━━━━━━━━━━━━━━━━━━\u001b[0m \u001b[32m363.4/363.4 MB\u001b[0m \u001b[31m3.9 MB/s\u001b[0m eta \u001b[36m0:00:00\u001b[0m\n",
            "\u001b[?25hDownloading nvidia_cuda_cupti_cu12-12.4.127-py3-none-manylinux2014_x86_64.whl (13.8 MB)\n",
            "\u001b[2K   \u001b[90m━━━━━━━━━━━━━━━━━━━━━━━━━━━━━━━━━━━━━━━━\u001b[0m \u001b[32m13.8/13.8 MB\u001b[0m \u001b[31m99.2 MB/s\u001b[0m eta \u001b[36m0:00:00\u001b[0m\n",
            "\u001b[?25hDownloading nvidia_cuda_nvrtc_cu12-12.4.127-py3-none-manylinux2014_x86_64.whl (24.6 MB)\n",
            "\u001b[2K   \u001b[90m━━━━━━━━━━━━━━━━━━━━━━━━━━━━━━━━━━━━━━━━\u001b[0m \u001b[32m24.6/24.6 MB\u001b[0m \u001b[31m75.1 MB/s\u001b[0m eta \u001b[36m0:00:00\u001b[0m\n",
            "\u001b[?25hDownloading nvidia_cuda_runtime_cu12-12.4.127-py3-none-manylinux2014_x86_64.whl (883 kB)\n",
            "\u001b[2K   \u001b[90m━━━━━━━━━━━━━━━━━━━━━━━━━━━━━━━━━━━━━━━━\u001b[0m \u001b[32m883.7/883.7 kB\u001b[0m \u001b[31m50.7 MB/s\u001b[0m eta \u001b[36m0:00:00\u001b[0m\n",
            "\u001b[?25hDownloading nvidia_cudnn_cu12-9.1.0.70-py3-none-manylinux2014_x86_64.whl (664.8 MB)\n",
            "\u001b[2K   \u001b[90m━━━━━━━━━━━━━━━━━━━━━━━━━━━━━━━━━━━━━━━━\u001b[0m \u001b[32m664.8/664.8 MB\u001b[0m \u001b[31m1.2 MB/s\u001b[0m eta \u001b[36m0:00:00\u001b[0m\n",
            "\u001b[?25hDownloading nvidia_cufft_cu12-11.2.1.3-py3-none-manylinux2014_x86_64.whl (211.5 MB)\n",
            "\u001b[2K   \u001b[90m━━━━━━━━━━━━━━━━━━━━━━━━━━━━━━━━━━━━━━━━\u001b[0m \u001b[32m211.5/211.5 MB\u001b[0m \u001b[31m5.9 MB/s\u001b[0m eta \u001b[36m0:00:00\u001b[0m\n",
            "\u001b[?25hDownloading nvidia_curand_cu12-10.3.5.147-py3-none-manylinux2014_x86_64.whl (56.3 MB)\n",
            "\u001b[2K   \u001b[90m━━━━━━━━━━━━━━━━━━━━━━━━━━━━━━━━━━━━━━━━\u001b[0m \u001b[32m56.3/56.3 MB\u001b[0m \u001b[31m12.5 MB/s\u001b[0m eta \u001b[36m0:00:00\u001b[0m\n",
            "\u001b[?25hDownloading nvidia_cusolver_cu12-11.6.1.9-py3-none-manylinux2014_x86_64.whl (127.9 MB)\n",
            "\u001b[2K   \u001b[90m━━━━━━━━━━━━━━━━━━━━━━━━━━━━━━━━━━━━━━━━\u001b[0m \u001b[32m127.9/127.9 MB\u001b[0m \u001b[31m7.8 MB/s\u001b[0m eta \u001b[36m0:00:00\u001b[0m\n",
            "\u001b[?25hDownloading nvidia_cusparse_cu12-12.3.1.170-py3-none-manylinux2014_x86_64.whl (207.5 MB)\n",
            "\u001b[2K   \u001b[90m━━━━━━━━━━━━━━━━━━━━━━━━━━━━━━━━━━━━━━━━\u001b[0m \u001b[32m207.5/207.5 MB\u001b[0m \u001b[31m5.8 MB/s\u001b[0m eta \u001b[36m0:00:00\u001b[0m\n",
            "\u001b[?25hDownloading nvidia_nvjitlink_cu12-12.4.127-py3-none-manylinux2014_x86_64.whl (21.1 MB)\n",
            "\u001b[2K   \u001b[90m━━━━━━━━━━━━━━━━━━━━━━━━━━━━━━━━━━━━━━━━\u001b[0m \u001b[32m21.1/21.1 MB\u001b[0m \u001b[31m87.4 MB/s\u001b[0m eta \u001b[36m0:00:00\u001b[0m\n",
            "\u001b[?25hDownloading ultralytics_thop-2.0.14-py3-none-any.whl (26 kB)\n",
            "Installing collected packages: nvidia-nvjitlink-cu12, nvidia-curand-cu12, nvidia-cufft-cu12, nvidia-cuda-runtime-cu12, nvidia-cuda-nvrtc-cu12, nvidia-cuda-cupti-cu12, nvidia-cublas-cu12, nvidia-cusparse-cu12, nvidia-cudnn-cu12, nvidia-cusolver-cu12, ultralytics-thop, ultralytics\n",
            "  Attempting uninstall: nvidia-nvjitlink-cu12\n",
            "    Found existing installation: nvidia-nvjitlink-cu12 12.5.82\n",
            "    Uninstalling nvidia-nvjitlink-cu12-12.5.82:\n",
            "      Successfully uninstalled nvidia-nvjitlink-cu12-12.5.82\n",
            "  Attempting uninstall: nvidia-curand-cu12\n",
            "    Found existing installation: nvidia-curand-cu12 10.3.6.82\n",
            "    Uninstalling nvidia-curand-cu12-10.3.6.82:\n",
            "      Successfully uninstalled nvidia-curand-cu12-10.3.6.82\n",
            "  Attempting uninstall: nvidia-cufft-cu12\n",
            "    Found existing installation: nvidia-cufft-cu12 11.2.3.61\n",
            "    Uninstalling nvidia-cufft-cu12-11.2.3.61:\n",
            "      Successfully uninstalled nvidia-cufft-cu12-11.2.3.61\n",
            "  Attempting uninstall: nvidia-cuda-runtime-cu12\n",
            "    Found existing installation: nvidia-cuda-runtime-cu12 12.5.82\n",
            "    Uninstalling nvidia-cuda-runtime-cu12-12.5.82:\n",
            "      Successfully uninstalled nvidia-cuda-runtime-cu12-12.5.82\n",
            "  Attempting uninstall: nvidia-cuda-nvrtc-cu12\n",
            "    Found existing installation: nvidia-cuda-nvrtc-cu12 12.5.82\n",
            "    Uninstalling nvidia-cuda-nvrtc-cu12-12.5.82:\n",
            "      Successfully uninstalled nvidia-cuda-nvrtc-cu12-12.5.82\n",
            "  Attempting uninstall: nvidia-cuda-cupti-cu12\n",
            "    Found existing installation: nvidia-cuda-cupti-cu12 12.5.82\n",
            "    Uninstalling nvidia-cuda-cupti-cu12-12.5.82:\n",
            "      Successfully uninstalled nvidia-cuda-cupti-cu12-12.5.82\n",
            "  Attempting uninstall: nvidia-cublas-cu12\n",
            "    Found existing installation: nvidia-cublas-cu12 12.5.3.2\n",
            "    Uninstalling nvidia-cublas-cu12-12.5.3.2:\n",
            "      Successfully uninstalled nvidia-cublas-cu12-12.5.3.2\n",
            "  Attempting uninstall: nvidia-cusparse-cu12\n",
            "    Found existing installation: nvidia-cusparse-cu12 12.5.1.3\n",
            "    Uninstalling nvidia-cusparse-cu12-12.5.1.3:\n",
            "      Successfully uninstalled nvidia-cusparse-cu12-12.5.1.3\n",
            "  Attempting uninstall: nvidia-cudnn-cu12\n",
            "    Found existing installation: nvidia-cudnn-cu12 9.3.0.75\n",
            "    Uninstalling nvidia-cudnn-cu12-9.3.0.75:\n",
            "      Successfully uninstalled nvidia-cudnn-cu12-9.3.0.75\n",
            "  Attempting uninstall: nvidia-cusolver-cu12\n",
            "    Found existing installation: nvidia-cusolver-cu12 11.6.3.83\n",
            "    Uninstalling nvidia-cusolver-cu12-11.6.3.83:\n",
            "      Successfully uninstalled nvidia-cusolver-cu12-11.6.3.83\n",
            "Successfully installed nvidia-cublas-cu12-12.4.5.8 nvidia-cuda-cupti-cu12-12.4.127 nvidia-cuda-nvrtc-cu12-12.4.127 nvidia-cuda-runtime-cu12-12.4.127 nvidia-cudnn-cu12-9.1.0.70 nvidia-cufft-cu12-11.2.1.3 nvidia-curand-cu12-10.3.5.147 nvidia-cusolver-cu12-11.6.1.9 nvidia-cusparse-cu12-12.3.1.170 nvidia-nvjitlink-cu12-12.4.127 ultralytics-8.3.79 ultralytics-thop-2.0.14\n"
          ]
        }
      ],
      "source": [
        "!pip install ultralytics"
      ]
    },
    {
      "cell_type": "code",
      "source": [
        "import os\n",
        "import ultralytics\n",
        "import numpy as np\n",
        "from ultralytics import YOLO\n",
        "import shutil\n",
        "import cv2"
      ],
      "metadata": {
        "id": "fhETd9cTi80w"
      },
      "execution_count": 13,
      "outputs": []
    },
    {
      "cell_type": "code",
      "source": [
        "from google.colab import drive\n",
        "drive.mount(\"/content/drive\")"
      ],
      "metadata": {
        "colab": {
          "base_uri": "https://localhost:8080/"
        },
        "id": "s2vlB4aKi_dt",
        "outputId": "c0b3044f-1a39-4a0c-a99d-1082633ae7db"
      },
      "execution_count": 4,
      "outputs": [
        {
          "output_type": "stream",
          "name": "stdout",
          "text": [
            "Mounted at /content/drive\n"
          ]
        }
      ]
    },
    {
      "cell_type": "code",
      "source": [
        "!cp \"/content/drive/MyDrive/hong_kong/162-labeled-yolo.zip\" \"/content/\""
      ],
      "metadata": {
        "id": "5C7c-P9rjtBt"
      },
      "execution_count": 5,
      "outputs": []
    },
    {
      "cell_type": "code",
      "source": [
        "!unzip \"/content/162-labeled-yolo.zip\""
      ],
      "metadata": {
        "colab": {
          "base_uri": "https://localhost:8080/"
        },
        "id": "JQUxEGREjZHm",
        "outputId": "ba9f6f19-33b4-42ba-a39a-0551be6340aa"
      },
      "execution_count": 6,
      "outputs": [
        {
          "output_type": "stream",
          "name": "stdout",
          "text": [
            "Archive:  /content/162-labeled-yolo.zip\n",
            "   creating: images/\n",
            "   creating: labels/\n",
            "  inflating: classes.txt             \n",
            "  inflating: notes.json              \n",
            "  inflating: images/01154da3-1976362.jpg  \n",
            "  inflating: images/01c252f8-1574421.jpg  \n",
            "  inflating: images/02c4415a-995801.jpg  \n",
            "  inflating: images/02e731de-1106165.jpg  \n",
            "  inflating: images/069f9c9b-118126.jpg  \n",
            "  inflating: images/07e95446-2781056.jpg  \n",
            "  inflating: images/080248d8-2031692.jpg  \n",
            "  inflating: images/082737e5-2498460.jpg  \n",
            "  inflating: images/0b45d160-3763432.jpg  \n",
            "  inflating: images/0d1879f9-358748.jpg  \n",
            "  inflating: images/11c97300-3515250.jpg  \n",
            "  inflating: images/120ddac2-2674351.jpg  \n",
            "  inflating: images/123adde7-3827966.jpg  \n",
            "  inflating: images/165a1c35-538037.jpg  \n",
            "  inflating: images/173ece9d-1098082.jpg  \n",
            "  inflating: images/179a55c2-663285.jpg  \n",
            "  inflating: images/18717882-2580309.jpg  \n",
            "  inflating: images/1ac491f4-2569760.jpg  \n",
            "  inflating: images/1ce34d36-3606882.jpg  \n",
            "  inflating: images/1e2cd628-3464182.jpg  \n",
            "  inflating: images/23229113-3839255.jpg  \n",
            "  inflating: images/28a7c45e-761035.jpg  \n",
            "  inflating: images/2bf4eb29-1137400.jpg  \n",
            "  inflating: images/2d00b287-1226714.jpg  \n",
            "  inflating: images/2d139c35-3082443.jpg  \n",
            "  inflating: images/2d7fc5ad-1581355.jpg  \n",
            "  inflating: images/2db1fae2-45067.jpg  \n",
            "  inflating: images/2fa4bd26-1668806.jpg  \n",
            "  inflating: images/315f30af-153082.jpg  \n",
            "  inflating: images/341758e6-1725269.jpg  \n",
            "  inflating: images/36054e32-680155.jpg  \n",
            "  inflating: images/368b7222-2240535.jpg  \n",
            "  inflating: images/37eae2a5-1676252.jpg  \n",
            "  inflating: images/386040bf-2752957.jpg  \n",
            "  inflating: images/39245006-2352914.jpg  \n",
            "  inflating: images/3a42925b-238730.jpg  \n",
            "  inflating: images/42999b7e-909848.jpg  \n",
            "  inflating: images/433cf466-245724.jpg  \n",
            "  inflating: images/4549f6c3-1127099.jpg  \n",
            "  inflating: images/47e94771-1368498.jpg  \n",
            "  inflating: images/48802d1d-316451.jpg  \n",
            "  inflating: images/49228c3a-2587921.jpg  \n",
            "  inflating: images/4a2f89b1-1279146.jpg  \n",
            "  inflating: images/4a45f233-1680339.jpg  \n",
            "  inflating: images/4ae53831-3790643.jpg  \n",
            "  inflating: images/4db73d0e-3382880.jpg  \n",
            "  inflating: images/4ddd4d5b-2659527.jpg  \n",
            "  inflating: images/4f66689a-2519291.jpg  \n",
            "  inflating: images/4f8944b4-1099080.jpg  \n",
            "  inflating: images/5002917a-1327402.jpg  \n",
            "  inflating: images/516a61a1-3543883.jpg  \n",
            "  inflating: images/52de6bd3-1029698.jpg  \n",
            "  inflating: images/53cc0189-258111.jpg  \n",
            "  inflating: images/5528cfb5-3921590.jpg  \n",
            "  inflating: images/56831cfb-2198043.jpg  \n",
            "  inflating: images/599796b1-478300.jpg  \n",
            "  inflating: images/5a682264-20777.jpg  \n",
            "  inflating: images/5c099022-1873816.jpg  \n",
            "  inflating: images/5cdbcd1e-2278442.jpg  \n",
            "  inflating: images/5e83e2b2-2670852.jpg  \n",
            "  inflating: images/605b2856-383439.jpg  \n",
            "  inflating: images/6079f86d-3323080.jpg  \n",
            "  inflating: images/6193491e-2155429.jpg  \n",
            "  inflating: images/61fe7abb-573054.jpg  \n",
            "  inflating: images/662301c0-2104569.jpg  \n",
            "  inflating: images/66de92ba-2948087.jpg  \n",
            "  inflating: images/6aacbfee-3734413.jpg  \n",
            "  inflating: images/6bfa534a-870449.jpg  \n",
            "  inflating: images/71632285-1259816.jpg  \n",
            "  inflating: images/7462b06a-1727509.jpg  \n",
            "  inflating: images/75817f79-3693594.jpg  \n",
            "  inflating: images/7637160e-2772699.jpg  \n",
            "  inflating: images/76d38d5e-1176281.jpg  \n",
            "  inflating: images/772987e1-3018077.jpg  \n",
            "  inflating: images/7ae0684b-2078444.jpg  \n",
            "  inflating: images/7c808801-2265512.jpg  \n",
            "  inflating: images/7d531957-3282393.jpg  \n",
            "  inflating: images/7f3c9225-403431.jpg  \n",
            "  inflating: images/7ff5a4ea-3763593.jpg  \n",
            "  inflating: images/82d3b320-514090.jpg  \n",
            "  inflating: images/833cbb3b-2984337.jpg  \n",
            "  inflating: images/8407a260-2323548.jpg  \n",
            "  inflating: images/84c1baf6-706931.jpg  \n",
            "  inflating: images/8763e50e-265406.jpg  \n",
            "  inflating: images/8765709f-3381633.jpg  \n",
            "  inflating: images/8770a3ff-907155.jpg  \n",
            "  inflating: images/88a65abd-920703.jpg  \n",
            "  inflating: images/8af03f92-135434.jpg  \n",
            "  inflating: images/8b873d46-1327608.jpg  \n",
            "  inflating: images/8be40675-1854061.jpg  \n",
            "  inflating: images/8c03e01f-2120760.jpg  \n",
            "  inflating: images/8ca147ae-901549.jpg  \n",
            "  inflating: images/93d0e528-495881.jpg  \n",
            "  inflating: images/94b0882f-2296393.jpg  \n",
            "  inflating: images/9594fd87-3309395.jpg  \n",
            "  inflating: images/96e3a26c-1708466.jpg  \n",
            "  inflating: images/9731b2c8-1993926.jpg  \n",
            "  inflating: images/979af42c-584916.jpg  \n",
            "  inflating: images/98bdcdba-3728155.jpg  \n",
            "  inflating: images/98da9fce-3680697.jpg  \n",
            "  inflating: images/998aff27-515907.jpg  \n",
            "  inflating: images/99ef7210-2670730.jpg  \n",
            "  inflating: images/9a0f67a2-210027.jpg  \n",
            "  inflating: images/9e120cc8-1981348.jpg  \n",
            "  inflating: images/a1c949d3-2318938.jpg  \n",
            "  inflating: images/a20654e4-2466030.jpg  \n",
            "  inflating: images/a2fe1ab4-1021229.jpg  \n",
            "  inflating: images/a38d3724-401979.jpg  \n",
            "  inflating: images/a66b8628-3778801.jpg  \n",
            "  inflating: images/acf84d70-2476468.jpg  \n",
            "  inflating: images/adf3da67-2968258.jpg  \n",
            "  inflating: images/ae8acbac-2236338.jpg  \n",
            "  inflating: images/aed7bc39-2948329.jpg  \n",
            "  inflating: images/af82b8b2-8917.jpg  \n",
            "  inflating: images/b1914a0b-712331.jpg  \n",
            "  inflating: images/b3347163-1593665.jpg  \n",
            "  inflating: images/b34d8eb8-1407753.jpg  \n",
            "  inflating: images/b3fafc29-2168957.jpg  \n",
            "  inflating: images/b4261bd0-739531.jpg  \n",
            "  inflating: images/b5cfdd1f-2005627.jpg  \n",
            "  inflating: images/b7607bac-1822700.jpg  \n",
            "  inflating: images/bc8305b7-72729.jpg  \n",
            "  inflating: images/bcb2fdeb-2701185.jpg  \n",
            "  inflating: images/c227434f-108226.jpg  \n",
            "  inflating: images/c41ba1ea-1119011.jpg  \n",
            "  inflating: images/c492af2c-2431195.jpg  \n",
            "  inflating: images/c628f001-716348.jpg  \n",
            "  inflating: images/c70e6beb-45515.jpg  \n",
            "  inflating: images/c7b6ef96-790841.jpg  \n",
            "  inflating: images/c941d52f-3001740.jpg  \n",
            "  inflating: images/c99796f4-714866.jpg  \n",
            "  inflating: images/c9cc046a-1097991.jpg  \n",
            "  inflating: images/cc298798-280869.jpg  \n",
            "  inflating: images/d0280983-2517724.jpg  \n",
            "  inflating: images/d12d2211-1470156.jpg  \n",
            "  inflating: images/d3e6d927-2606829.jpg  \n",
            "  inflating: images/d6aeab37-1193742.jpg  \n",
            "  inflating: images/d7000609-2032236.jpg  \n",
            "  inflating: images/d91e93a4-786596.jpg  \n",
            "  inflating: images/d99b0683-863509.jpg  \n",
            "  inflating: images/da1297b4-3381609.jpg  \n",
            "  inflating: images/dad95938-2844278.jpg  \n",
            "  inflating: images/dcc5533f-1251166.jpg  \n",
            "  inflating: images/dd15030d-3445331.jpg  \n",
            "  inflating: images/dd670e51-3708711.jpg  \n",
            "  inflating: images/df117ee2-232737.jpg  \n",
            "  inflating: images/e51becfb-919785.jpg  \n",
            "  inflating: images/e83eed3f-447914.jpg  \n",
            "  inflating: images/e85e83d2-1926377.jpg  \n",
            "  inflating: images/ebbc3258-2570036.jpg  \n",
            "  inflating: images/edad813d-3401466.jpg  \n",
            "  inflating: images/ee2bb5a3-549804.jpg  \n",
            "  inflating: images/f2047a23-5764.jpg  \n",
            "  inflating: images/f221a416-1332728.jpg  \n",
            "  inflating: images/f2e1cb2e-1782666.jpg  \n",
            "  inflating: images/f313d111-326809.jpg  \n",
            "  inflating: images/f4aa90ed-1840963.jpg  \n",
            "  inflating: images/f4df36a7-568773.jpg  \n",
            "  inflating: images/f6a154a9-2632284.jpg  \n",
            "  inflating: images/f82da03c-68684.jpg  \n",
            "  inflating: images/fbf0cf11-3057757.jpg  \n",
            "  inflating: images/fd09d670-2759414.jpg  \n",
            "  inflating: labels/01154da3-1976362.txt  \n",
            "  inflating: labels/01c252f8-1574421.txt  \n",
            "  inflating: labels/02c4415a-995801.txt  \n",
            "  inflating: labels/02e731de-1106165.txt  \n",
            "  inflating: labels/069f9c9b-118126.txt  \n",
            "  inflating: labels/07e95446-2781056.txt  \n",
            "  inflating: labels/080248d8-2031692.txt  \n",
            "  inflating: labels/082737e5-2498460.txt  \n",
            "  inflating: labels/0b45d160-3763432.txt  \n",
            "  inflating: labels/0d1879f9-358748.txt  \n",
            "  inflating: labels/11c97300-3515250.txt  \n",
            "  inflating: labels/120ddac2-2674351.txt  \n",
            "  inflating: labels/123adde7-3827966.txt  \n",
            "  inflating: labels/165a1c35-538037.txt  \n",
            "  inflating: labels/173ece9d-1098082.txt  \n",
            "  inflating: labels/179a55c2-663285.txt  \n",
            "  inflating: labels/18717882-2580309.txt  \n",
            "  inflating: labels/1ac491f4-2569760.txt  \n",
            "  inflating: labels/1ce34d36-3606882.txt  \n",
            "  inflating: labels/1e2cd628-3464182.txt  \n",
            "  inflating: labels/23229113-3839255.txt  \n",
            "  inflating: labels/28a7c45e-761035.txt  \n",
            "  inflating: labels/2bf4eb29-1137400.txt  \n",
            "  inflating: labels/2d00b287-1226714.txt  \n",
            "  inflating: labels/2d139c35-3082443.txt  \n",
            "  inflating: labels/2d7fc5ad-1581355.txt  \n",
            "  inflating: labels/2db1fae2-45067.txt  \n",
            "  inflating: labels/2fa4bd26-1668806.txt  \n",
            "  inflating: labels/315f30af-153082.txt  \n",
            "  inflating: labels/341758e6-1725269.txt  \n",
            "  inflating: labels/36054e32-680155.txt  \n",
            "  inflating: labels/368b7222-2240535.txt  \n",
            "  inflating: labels/37eae2a5-1676252.txt  \n",
            "  inflating: labels/386040bf-2752957.txt  \n",
            "  inflating: labels/39245006-2352914.txt  \n",
            "  inflating: labels/3a42925b-238730.txt  \n",
            "  inflating: labels/42999b7e-909848.txt  \n",
            "  inflating: labels/433cf466-245724.txt  \n",
            "  inflating: labels/4549f6c3-1127099.txt  \n",
            "  inflating: labels/47e94771-1368498.txt  \n",
            "  inflating: labels/48802d1d-316451.txt  \n",
            "  inflating: labels/49228c3a-2587921.txt  \n",
            "  inflating: labels/4a2f89b1-1279146.txt  \n",
            "  inflating: labels/4a45f233-1680339.txt  \n",
            "  inflating: labels/4ae53831-3790643.txt  \n",
            "  inflating: labels/4db73d0e-3382880.txt  \n",
            "  inflating: labels/4ddd4d5b-2659527.txt  \n",
            "  inflating: labels/4f66689a-2519291.txt  \n",
            "  inflating: labels/4f8944b4-1099080.txt  \n",
            "  inflating: labels/5002917a-1327402.txt  \n",
            "  inflating: labels/516a61a1-3543883.txt  \n",
            "  inflating: labels/52de6bd3-1029698.txt  \n",
            "  inflating: labels/53cc0189-258111.txt  \n",
            "  inflating: labels/5528cfb5-3921590.txt  \n",
            "  inflating: labels/56831cfb-2198043.txt  \n",
            "  inflating: labels/599796b1-478300.txt  \n",
            "  inflating: labels/5a682264-20777.txt  \n",
            "  inflating: labels/5c099022-1873816.txt  \n",
            "  inflating: labels/5cdbcd1e-2278442.txt  \n",
            "  inflating: labels/5e83e2b2-2670852.txt  \n",
            "  inflating: labels/605b2856-383439.txt  \n",
            "  inflating: labels/6079f86d-3323080.txt  \n",
            "  inflating: labels/6193491e-2155429.txt  \n",
            "  inflating: labels/61fe7abb-573054.txt  \n",
            "  inflating: labels/662301c0-2104569.txt  \n",
            "  inflating: labels/66de92ba-2948087.txt  \n",
            "  inflating: labels/6aacbfee-3734413.txt  \n",
            "  inflating: labels/6bfa534a-870449.txt  \n",
            "  inflating: labels/71632285-1259816.txt  \n",
            "  inflating: labels/7462b06a-1727509.txt  \n",
            "  inflating: labels/75817f79-3693594.txt  \n",
            "  inflating: labels/7637160e-2772699.txt  \n",
            "  inflating: labels/76d38d5e-1176281.txt  \n",
            "  inflating: labels/772987e1-3018077.txt  \n",
            "  inflating: labels/7ae0684b-2078444.txt  \n",
            "  inflating: labels/7c808801-2265512.txt  \n",
            "  inflating: labels/7d531957-3282393.txt  \n",
            "  inflating: labels/7f3c9225-403431.txt  \n",
            "  inflating: labels/7ff5a4ea-3763593.txt  \n",
            "  inflating: labels/82d3b320-514090.txt  \n",
            "  inflating: labels/833cbb3b-2984337.txt  \n",
            "  inflating: labels/8407a260-2323548.txt  \n",
            "  inflating: labels/84c1baf6-706931.txt  \n",
            "  inflating: labels/8763e50e-265406.txt  \n",
            "  inflating: labels/8765709f-3381633.txt  \n",
            "  inflating: labels/8770a3ff-907155.txt  \n",
            "  inflating: labels/88a65abd-920703.txt  \n",
            "  inflating: labels/8af03f92-135434.txt  \n",
            "  inflating: labels/8b873d46-1327608.txt  \n",
            "  inflating: labels/8be40675-1854061.txt  \n",
            "  inflating: labels/8c03e01f-2120760.txt  \n",
            "  inflating: labels/8ca147ae-901549.txt  \n",
            "  inflating: labels/93d0e528-495881.txt  \n",
            "  inflating: labels/94b0882f-2296393.txt  \n",
            "  inflating: labels/9594fd87-3309395.txt  \n",
            "  inflating: labels/96e3a26c-1708466.txt  \n",
            "  inflating: labels/9731b2c8-1993926.txt  \n",
            "  inflating: labels/979af42c-584916.txt  \n",
            "  inflating: labels/98bdcdba-3728155.txt  \n",
            "  inflating: labels/98da9fce-3680697.txt  \n",
            "  inflating: labels/998aff27-515907.txt  \n",
            "  inflating: labels/99ef7210-2670730.txt  \n",
            "  inflating: labels/9a0f67a2-210027.txt  \n",
            "  inflating: labels/9e120cc8-1981348.txt  \n",
            "  inflating: labels/a1c949d3-2318938.txt  \n",
            "  inflating: labels/a20654e4-2466030.txt  \n",
            "  inflating: labels/a2fe1ab4-1021229.txt  \n",
            "  inflating: labels/a38d3724-401979.txt  \n",
            "  inflating: labels/a66b8628-3778801.txt  \n",
            "  inflating: labels/acf84d70-2476468.txt  \n",
            "  inflating: labels/adf3da67-2968258.txt  \n",
            "  inflating: labels/ae8acbac-2236338.txt  \n",
            "  inflating: labels/aed7bc39-2948329.txt  \n",
            "  inflating: labels/af82b8b2-8917.txt  \n",
            "  inflating: labels/b1914a0b-712331.txt  \n",
            "  inflating: labels/b3347163-1593665.txt  \n",
            "  inflating: labels/b34d8eb8-1407753.txt  \n",
            "  inflating: labels/b3fafc29-2168957.txt  \n",
            "  inflating: labels/b4261bd0-739531.txt  \n",
            "  inflating: labels/b5cfdd1f-2005627.txt  \n",
            "  inflating: labels/b7607bac-1822700.txt  \n",
            "  inflating: labels/bc8305b7-72729.txt  \n",
            "  inflating: labels/bcb2fdeb-2701185.txt  \n",
            "  inflating: labels/c227434f-108226.txt  \n",
            "  inflating: labels/c41ba1ea-1119011.txt  \n",
            "  inflating: labels/c492af2c-2431195.txt  \n",
            "  inflating: labels/c628f001-716348.txt  \n",
            "  inflating: labels/c70e6beb-45515.txt  \n",
            "  inflating: labels/c7b6ef96-790841.txt  \n",
            "  inflating: labels/c941d52f-3001740.txt  \n",
            "  inflating: labels/c99796f4-714866.txt  \n",
            "  inflating: labels/c9cc046a-1097991.txt  \n",
            "  inflating: labels/cc298798-280869.txt  \n",
            "  inflating: labels/d0280983-2517724.txt  \n",
            "  inflating: labels/d12d2211-1470156.txt  \n",
            "  inflating: labels/d3e6d927-2606829.txt  \n",
            "  inflating: labels/d6aeab37-1193742.txt  \n",
            "  inflating: labels/d7000609-2032236.txt  \n",
            "  inflating: labels/d91e93a4-786596.txt  \n",
            "  inflating: labels/d99b0683-863509.txt  \n",
            "  inflating: labels/da1297b4-3381609.txt  \n",
            "  inflating: labels/dad95938-2844278.txt  \n",
            "  inflating: labels/dcc5533f-1251166.txt  \n",
            "  inflating: labels/dd15030d-3445331.txt  \n",
            "  inflating: labels/dd670e51-3708711.txt  \n",
            "  inflating: labels/df117ee2-232737.txt  \n",
            "  inflating: labels/e51becfb-919785.txt  \n",
            "  inflating: labels/e83eed3f-447914.txt  \n",
            "  inflating: labels/e85e83d2-1926377.txt  \n",
            "  inflating: labels/ebbc3258-2570036.txt  \n",
            "  inflating: labels/edad813d-3401466.txt  \n",
            "  inflating: labels/ee2bb5a3-549804.txt  \n",
            "  inflating: labels/f2047a23-5764.txt  \n",
            "  inflating: labels/f221a416-1332728.txt  \n",
            "  inflating: labels/f2e1cb2e-1782666.txt  \n",
            "  inflating: labels/f313d111-326809.txt  \n",
            "  inflating: labels/f4aa90ed-1840963.txt  \n",
            "  inflating: labels/f4df36a7-568773.txt  \n",
            "  inflating: labels/f6a154a9-2632284.txt  \n",
            "  inflating: labels/f82da03c-68684.txt  \n",
            "  inflating: labels/fbf0cf11-3057757.txt  \n",
            "  inflating: labels/fd09d670-2759414.txt  \n"
          ]
        }
      ]
    },
    {
      "cell_type": "code",
      "source": [
        "dataset_path = r\"/content/\"\n",
        "processed_dataset_path = r\"/content/processed_dataset3/\"\n",
        "images_path = os.path.join(processed_dataset_path, \"images\")\n",
        "labels_path = os.path.join(processed_dataset_path, \"labels\")\n",
        "os.makedirs(images_path, exist_ok=True)\n",
        "os.makedirs(labels_path, exist_ok=True)"
      ],
      "metadata": {
        "id": "MdCijzYPjdmj"
      },
      "execution_count": 16,
      "outputs": []
    },
    {
      "cell_type": "code",
      "source": [
        "def preprocess_image(image_path, target_size=(640, 640)):\n",
        "    image = cv2.imread(image_path)\n",
        "    if image is None:\n",
        "        return None\n",
        "\n",
        "    image = cv2.resize(image, target_size)\n",
        "\n",
        "    image = cv2.GaussianBlur(image, (5, 5), 0)\n",
        "\n",
        "    lab = cv2.cvtColor(image, cv2.COLOR_BGR2LAB)\n",
        "    l, a, b = cv2.split(lab)\n",
        "    clahe = cv2.createCLAHE(clipLimit=3.0, tileGridSize=(8,8))\n",
        "    l = clahe.apply(l)\n",
        "    lab = cv2.merge((l, a, b))\n",
        "    image = cv2.cvtColor(lab, cv2.COLOR_LAB2BGR)\n",
        "\n",
        "    image = image / 255.0\n",
        "\n",
        "    return (image * 255).astype(np.uint8)\n",
        "\n",
        "image_files = os.listdir(os.path.join(dataset_path, \"images\"))\n",
        "for image_file in image_files:\n",
        "    image_path = os.path.join(dataset_path, \"images\", image_file)\n",
        "    label_path = os.path.join(dataset_path, \"labels\", image_file.replace(\".jpg\", \".txt\"))\n",
        "\n",
        "    processed_image = preprocess_image(image_path)\n",
        "    if processed_image is not None:\n",
        "        cv2.imwrite(os.path.join(images_path, image_file), processed_image)\n",
        "\n",
        "        if os.path.exists(label_path):\n",
        "            shutil.copy(label_path, os.path.join(labels_path, image_file.replace(\".jpg\", \".txt\")))\n"
      ],
      "metadata": {
        "id": "qfusA-1Cjfdj"
      },
      "execution_count": null,
      "outputs": []
    },
    {
      "cell_type": "code",
      "source": [
        "import cv2\n",
        "import numpy as np\n",
        "import os\n",
        "import shutil\n",
        "import albumentations as A\n",
        "from albumentations.pytorch import ToTensorV2\n",
        "\n",
        "def preprocess_image(image_path, target_size=(640, 640)):\n",
        "    image = cv2.imread(image_path)\n",
        "    if image is None:\n",
        "        return None\n",
        "\n",
        "    # Resize the image\n",
        "    image = cv2.resize(image, target_size)\n",
        "\n",
        "    # Use Bilateral Filter instead of Gaussian Blur to keep edges\n",
        "    image = cv2.bilateralFilter(image, 9, 75, 75)\n",
        "\n",
        "    # Convert to LAB and apply CLAHE only if image is dark\n",
        "    lab = cv2.cvtColor(image, cv2.COLOR_BGR2LAB)\n",
        "    l, a, b = cv2.split(lab)\n",
        "    if np.mean(l) < 100:  # Apply CLAHE only if the image is dark\n",
        "        clahe = cv2.createCLAHE(clipLimit=3.0, tileGridSize=(8,8))\n",
        "        l = clahe.apply(l)\n",
        "    lab = cv2.merge((l, a, b))\n",
        "    image = cv2.cvtColor(lab, cv2.COLOR_LAB2BGR)\n",
        "\n",
        "    # Convert image to float32 and normalize (if using a deep learning framework)\n",
        "    image = image.astype(np.float32) / 255.0\n",
        "\n",
        "    return (image * 255).astype(np.uint8)\n",
        "\n",
        "# Albumentations augmentation (optional)\n",
        "augment = A.Compose([\n",
        "    A.HorizontalFlip(p=0.5),\n",
        "    A.RandomBrightnessContrast(p=0.2),\n",
        "    A.GaussNoise(p=0.2),\n",
        "    A.Rotate(limit=15, p=0.3),\n",
        "])\n",
        "\n",
        "image_files = os.listdir(os.path.join(dataset_path, \"images\"))\n",
        "for image_file in image_files:\n",
        "    image_path = os.path.join(dataset_path, \"images\", image_file)\n",
        "    label_path = os.path.join(dataset_path, \"labels\", image_file.replace(\".jpg\", \".txt\"))\n",
        "\n",
        "    processed_image = preprocess_image(image_path)\n",
        "    if processed_image is not None:\n",
        "        augmented = augment(image=processed_image)[\"image\"]\n",
        "        cv2.imwrite(os.path.join(images_path, image_file), augmented)\n",
        "\n",
        "        if os.path.exists(label_path):\n",
        "            shutil.copy(label_path, os.path.join(labels_path, image_file.replace(\".jpg\", \".txt\")))\n"
      ],
      "metadata": {
        "id": "Y01vUNrI1njR"
      },
      "execution_count": 8,
      "outputs": []
    },
    {
      "cell_type": "code",
      "source": [
        "import cv2\n",
        "import numpy as np\n",
        "import os\n",
        "import shutil\n",
        "import albumentations as A\n",
        "\n",
        "# Define augmentation with polygon support\n",
        "augment = A.Compose([\n",
        "    A.HorizontalFlip(p=0.5),  # Flip\n",
        "    A.RandomBrightnessContrast(p=0.2),  # Adjust brightness/contrast\n",
        "    A.Rotate(limit=15, p=0.3),  # Rotate\n",
        "], keypoint_params=A.KeypointParams(format=\"xy\", remove_invisible=False))\n",
        "\n",
        "def preprocess_and_augment(image_path, label_path, target_size=(640, 640)):\n",
        "    image = cv2.imread(image_path)\n",
        "    if image is None:\n",
        "        return None, None\n",
        "\n",
        "    # Read YOLO polygon label file\n",
        "    polygons = []\n",
        "    class_labels = []\n",
        "    if os.path.exists(label_path):\n",
        "        with open(label_path, \"r\") as f:\n",
        "            for line in f.readlines():\n",
        "                values = line.strip().split()\n",
        "                if len(values) > 1:\n",
        "                    class_id = int(values[0])\n",
        "                    points = list(map(float, values[1:]))  # Polygon points\n",
        "                    polygon = [(points[i], points[i+1]) for i in range(0, len(points), 2)]\n",
        "                    polygons.append(polygon)\n",
        "                    class_labels.append(class_id)\n",
        "\n",
        "    # Apply augmentation\n",
        "    augmented = augment(image=image, keypoints=[p for polygon in polygons for p in polygon])\n",
        "\n",
        "    # Get augmented image and updated polygons\n",
        "    aug_image = augmented[\"image\"]\n",
        "    aug_keypoints = augmented[\"keypoints\"]\n",
        "\n",
        "    # Reconstruct polygons\n",
        "    new_polygons = []\n",
        "    index = 0\n",
        "    for polygon in polygons:\n",
        "        new_polygons.append(aug_keypoints[index : index + len(polygon)])\n",
        "        index += len(polygon)\n",
        "\n",
        "    return aug_image, new_polygons, class_labels\n",
        "\n",
        "# Process dataset\n",
        "image_files = os.listdir(os.path.join(dataset_path, \"images\"))\n",
        "for image_file in image_files:\n",
        "    image_path = os.path.join(dataset_path, \"images\", image_file)\n",
        "    label_path = os.path.join(dataset_path, \"labels\", image_file.replace(\".jpg\", \".txt\"))\n",
        "\n",
        "    # Preprocess and augment the image and labels\n",
        "    processed_image, processed_polygons, processed_labels = preprocess_and_augment(image_path, label_path)\n",
        "\n",
        "    if processed_image is not None:\n",
        "        # Save augmented image\n",
        "        cv2.imwrite(os.path.join(images_path, image_file), processed_image)\n",
        "\n",
        "        # Save updated polygon label file\n",
        "        if processed_polygons:\n",
        "            label_save_path = os.path.join(labels_path, image_file.replace(\".jpg\", \".txt\"))\n",
        "            with open(label_save_path, \"w\") as f:\n",
        "                for polygon, class_id in zip(processed_polygons, processed_labels):\n",
        "                    flattened = [str(coord) for point in polygon for coord in point]\n",
        "                    f.write(f\"{class_id} \" + \" \".join(flattened) + \"\\n\")\n"
      ],
      "metadata": {
        "id": "BP1upg-wFSDP"
      },
      "execution_count": 17,
      "outputs": []
    },
    {
      "cell_type": "code",
      "source": [
        "import cv2\n",
        "import numpy as np\n",
        "import os\n",
        "import shutil\n",
        "import albumentations as A\n",
        "\n",
        "# Define augmentation with polygon support\n",
        "augment = A.Compose([\n",
        "    A.HorizontalFlip(p=0.5),  # Flip\n",
        "    A.RandomBrightnessContrast(p=0.2),  # Adjust brightness/contrast\n",
        "    A.Rotate(limit=15, p=0.3),  # Rotate\n",
        "], keypoint_params=A.KeypointParams(format=\"xy\", remove_invisible=False))\n",
        "\n",
        "def preprocess_and_augment(image_path, label_path, target_size=(640, 640)):\n",
        "    image = cv2.imread(image_path)\n",
        "    if image is None:\n",
        "        return None, None\n",
        "\n",
        "    # Read YOLO polygon label file\n",
        "    polygons = []\n",
        "    class_labels = []\n",
        "    if os.path.exists(label_path):\n",
        "        with open(label_path, \"r\") as f:\n",
        "            for line in f.readlines():\n",
        "                values = line.strip().split()\n",
        "                if len(values) > 1:\n",
        "                    class_id = int(values[0])\n",
        "                    points = list(map(float, values[1:]))  # Polygon points\n",
        "                    polygon = [(points[i], points[i+1]) for i in range(0, len(points), 2)]\n",
        "                    polygons.append(polygon)\n",
        "                    class_labels.append(class_id)\n",
        "\n",
        "    # Apply augmentation\n",
        "    augmented = augment(image=image, keypoints=[p for polygon in polygons for p in polygon])\n",
        "\n",
        "    # Get augmented image and updated polygons\n",
        "    aug_image = augmented[\"image\"]\n",
        "    aug_keypoints = augmented[\"keypoints\"]\n",
        "\n",
        "    # Reconstruct polygons\n",
        "    new_polygons = []\n",
        "    index = 0\n",
        "    for polygon in polygons:\n",
        "        new_polygons.append(aug_keypoints[index : index + len(polygon)])\n",
        "        index += len(polygon)\n",
        "\n",
        "    return aug_image, new_polygons, class_labels\n",
        "\n",
        "# Process dataset\n",
        "image_files = os.listdir(os.path.join(dataset_path, \"images\"))\n",
        "for image_file in image_files:\n",
        "    image_path = os.path.join(dataset_path, \"images\", image_file)\n",
        "    label_path = os.path.join(dataset_path, \"labels\", image_file.replace(\".jpg\", \".txt\"))\n",
        "\n",
        "    # Preprocess and augment the image and labels\n",
        "    processed_image, processed_polygons, processed_labels = preprocess_and_augment(image_path, label_path)\n",
        "\n",
        "    if processed_image is not None:\n",
        "        # Save augmented image with a unique name (to avoid overwriting)\n",
        "        aug_image_name = f\"aug_{image_file}\"\n",
        "        cv2.imwrite(os.path.join(images_path, aug_image_name), processed_image)\n",
        "\n",
        "        # Save updated polygon label file\n",
        "        if processed_polygons:\n",
        "            label_save_path = os.path.join(labels_path, aug_image_name.replace(\".jpg\", \".txt\"))\n",
        "            with open(label_save_path, \"w\") as f:\n",
        "                for polygon, class_id in zip(processed_polygons, processed_labels):\n",
        "                    flattened = [str(coord) for point in polygon for coord in point]\n",
        "                    f.write(f\"{class_id} \" + \" \".join(flattened) + \"\\n\")\n"
      ],
      "metadata": {
        "id": "GMHqJCJHHKcV"
      },
      "execution_count": 19,
      "outputs": []
    },
    {
      "cell_type": "code",
      "source": [
        "import os\n",
        "\n",
        "folder_path = \"/content/processed_dataset3/images\"  # Change this to your folder path\n",
        "image_count = len([f for f in os.listdir(folder_path) if f.endswith((\".jpg\", \".png\", \".jpeg\"))])\n",
        "\n",
        "print(f\"Number of images: {image_count}\")\n"
      ],
      "metadata": {
        "colab": {
          "base_uri": "https://localhost:8080/"
        },
        "id": "okDzHIbtGUps",
        "outputId": "0ee3390d-71ed-4ed1-a6d8-024836a1c981"
      },
      "execution_count": 20,
      "outputs": [
        {
          "output_type": "stream",
          "name": "stdout",
          "text": [
            "Number of images: 324\n"
          ]
        }
      ]
    },
    {
      "cell_type": "code",
      "source": [
        "yaml_path = os.path.join(processed_dataset_path, \"data.yaml\")\n",
        "classes_file = os.path.join(dataset_path, \"classes.txt\")\n",
        "\n",
        "if os.path.exists(classes_file):\n",
        "    with open(classes_file, \"r\") as f:\n",
        "        class_names = [line.strip() for line in f.readlines()]\n",
        "else:\n",
        "    class_names = [\"class_0\", \"class_1\", \"class_2\", \"class_3\"]\n",
        "\n",
        "yaml_content = f\"\"\"\n",
        "path: {processed_dataset_path}\n",
        "train: images\n",
        "val: images\n",
        "test: images\n",
        "\n",
        "nc: {len(class_names)}\n",
        "names: {class_names}\n",
        "\"\"\"\n",
        "\n",
        "with open(yaml_path, \"w\") as f:\n",
        "    f.write(yaml_content.strip())\n"
      ],
      "metadata": {
        "id": "OFqtGu8Ajf6Q"
      },
      "execution_count": 21,
      "outputs": []
    },
    {
      "cell_type": "code",
      "source": [
        "import torch\n",
        "print(torch.__version__)\n",
        "print(torch.version.cuda)\n",
        "print(torch.backends.cudnn.version())\n",
        "print(torch.cuda.is_available())\n",
        "print(torch.cuda.is_available())\n",
        "print(torch.cuda.get_device_name(0))\n",
        "print(torch.version.cuda)\n",
        "print(ultralytics.__version__)\n",
        "model = YOLO(\"yolo11n-seg.pt\").to(\"cuda\")\n",
        "torch.compile(model)\n",
        "torch.backends.cudnn.benchmark = True\n",
        "torch.backends.cudnn.enabled = True\n"
      ],
      "metadata": {
        "colab": {
          "base_uri": "https://localhost:8080/"
        },
        "id": "SJtPY_OKjhrC",
        "outputId": "83c7f909-14eb-45ec-add8-b57f4a2c8698"
      },
      "execution_count": 22,
      "outputs": [
        {
          "output_type": "stream",
          "name": "stdout",
          "text": [
            "2.5.1+cu124\n",
            "12.4\n",
            "90100\n",
            "True\n",
            "True\n",
            "Tesla T4\n",
            "12.4\n",
            "8.3.79\n"
          ]
        }
      ]
    },
    {
      "cell_type": "code",
      "source": [
        "if __name__ == '__main__':\n",
        "    model.train(\n",
        "        data=yaml_path,\n",
        "        epochs=60,\n",
        "        imgsz=640,\n",
        "        batch=16,\n",
        "        device=\"0\",\n",
        "        optimizer=\"AdamW\",\n",
        "        lr0=0.01,\n",
        "        lrf=0.001,\n",
        "        momentum=0.937,\n",
        "        weight_decay=0.0005,\n",
        "        cos_lr=True,\n",
        "        patience=10\n",
        ")"
      ],
      "metadata": {
        "colab": {
          "base_uri": "https://localhost:8080/",
          "height": 1000
        },
        "id": "1p7PaAEjjkMU",
        "outputId": "ee923eef-47d6-4531-f62b-6c812135fd6e"
      },
      "execution_count": 23,
      "outputs": [
        {
          "output_type": "stream",
          "name": "stdout",
          "text": [
            "Ultralytics 8.3.79 🚀 Python-3.11.11 torch-2.5.1+cu124 CUDA:0 (Tesla T4, 15095MiB)\n",
            "\u001b[34m\u001b[1mengine/trainer: \u001b[0mtask=segment, mode=train, model=yolo11n-seg.pt, data=/content/processed_dataset3/data.yaml, epochs=60, time=None, patience=10, batch=16, imgsz=640, save=True, save_period=-1, cache=False, device=0, workers=8, project=None, name=train2, exist_ok=False, pretrained=True, optimizer=AdamW, verbose=True, seed=0, deterministic=True, single_cls=False, rect=False, cos_lr=True, close_mosaic=10, resume=False, amp=True, fraction=1.0, profile=False, freeze=None, multi_scale=False, overlap_mask=True, mask_ratio=4, dropout=0.0, val=True, split=val, save_json=False, save_hybrid=False, conf=None, iou=0.7, max_det=300, half=False, dnn=False, plots=True, source=None, vid_stride=1, stream_buffer=False, visualize=False, augment=False, agnostic_nms=False, classes=None, retina_masks=False, embed=None, show=False, save_frames=False, save_txt=False, save_conf=False, save_crop=False, show_labels=True, show_conf=True, show_boxes=True, line_width=None, format=torchscript, keras=False, optimize=False, int8=False, dynamic=False, simplify=True, opset=None, workspace=None, nms=False, lr0=0.01, lrf=0.001, momentum=0.937, weight_decay=0.0005, warmup_epochs=3.0, warmup_momentum=0.8, warmup_bias_lr=0.1, box=7.5, cls=0.5, dfl=1.5, pose=12.0, kobj=1.0, nbs=64, hsv_h=0.015, hsv_s=0.7, hsv_v=0.4, degrees=0.0, translate=0.1, scale=0.5, shear=0.0, perspective=0.0, flipud=0.0, fliplr=0.5, bgr=0.0, mosaic=1.0, mixup=0.0, copy_paste=0.0, copy_paste_mode=flip, auto_augment=randaugment, erasing=0.4, crop_fraction=1.0, cfg=None, tracker=botsort.yaml, save_dir=runs/segment/train2\n",
            "Overriding model.yaml nc=80 with nc=4\n",
            "\n",
            "                   from  n    params  module                                       arguments                     \n",
            "  0                  -1  1       464  ultralytics.nn.modules.conv.Conv             [3, 16, 3, 2]                 \n",
            "  1                  -1  1      4672  ultralytics.nn.modules.conv.Conv             [16, 32, 3, 2]                \n",
            "  2                  -1  1      6640  ultralytics.nn.modules.block.C3k2            [32, 64, 1, False, 0.25]      \n",
            "  3                  -1  1     36992  ultralytics.nn.modules.conv.Conv             [64, 64, 3, 2]                \n",
            "  4                  -1  1     26080  ultralytics.nn.modules.block.C3k2            [64, 128, 1, False, 0.25]     \n",
            "  5                  -1  1    147712  ultralytics.nn.modules.conv.Conv             [128, 128, 3, 2]              \n",
            "  6                  -1  1     87040  ultralytics.nn.modules.block.C3k2            [128, 128, 1, True]           \n",
            "  7                  -1  1    295424  ultralytics.nn.modules.conv.Conv             [128, 256, 3, 2]              \n",
            "  8                  -1  1    346112  ultralytics.nn.modules.block.C3k2            [256, 256, 1, True]           \n",
            "  9                  -1  1    164608  ultralytics.nn.modules.block.SPPF            [256, 256, 5]                 \n",
            " 10                  -1  1    249728  ultralytics.nn.modules.block.C2PSA           [256, 256, 1]                 \n",
            " 11                  -1  1         0  torch.nn.modules.upsampling.Upsample         [None, 2, 'nearest']          \n",
            " 12             [-1, 6]  1         0  ultralytics.nn.modules.conv.Concat           [1]                           \n",
            " 13                  -1  1    111296  ultralytics.nn.modules.block.C3k2            [384, 128, 1, False]          \n",
            " 14                  -1  1         0  torch.nn.modules.upsampling.Upsample         [None, 2, 'nearest']          \n",
            " 15             [-1, 4]  1         0  ultralytics.nn.modules.conv.Concat           [1]                           \n",
            " 16                  -1  1     32096  ultralytics.nn.modules.block.C3k2            [256, 64, 1, False]           \n",
            " 17                  -1  1     36992  ultralytics.nn.modules.conv.Conv             [64, 64, 3, 2]                \n",
            " 18            [-1, 13]  1         0  ultralytics.nn.modules.conv.Concat           [1]                           \n",
            " 19                  -1  1     86720  ultralytics.nn.modules.block.C3k2            [192, 128, 1, False]          \n",
            " 20                  -1  1    147712  ultralytics.nn.modules.conv.Conv             [128, 128, 3, 2]              \n",
            " 21            [-1, 10]  1         0  ultralytics.nn.modules.conv.Concat           [1]                           \n",
            " 22                  -1  1    378880  ultralytics.nn.modules.block.C3k2            [384, 256, 1, True]           \n",
            " 23        [16, 19, 22]  1    684220  ultralytics.nn.modules.head.Segment          [4, 32, 64, [64, 128, 256]]   \n",
            "YOLO11n-seg summary: 203 layers, 2,843,388 parameters, 2,843,372 gradients, 10.4 GFLOPs\n",
            "\n",
            "Transferred 510/561 items from pretrained weights\n",
            "\u001b[34m\u001b[1mTensorBoard: \u001b[0mStart with 'tensorboard --logdir runs/segment/train2', view at http://localhost:6006/\n",
            "Freezing layer 'model.23.dfl.conv.weight'\n",
            "\u001b[34m\u001b[1mAMP: \u001b[0mrunning Automatic Mixed Precision (AMP) checks...\n",
            "\u001b[34m\u001b[1mAMP: \u001b[0mchecks passed ✅\n"
          ]
        },
        {
          "output_type": "stream",
          "name": "stderr",
          "text": [
            "\u001b[34m\u001b[1mtrain: \u001b[0mScanning /content/processed_dataset3/labels... 324 images, 0 backgrounds, 218 corrupt: 100%|██████████| 324/324 [00:00<00:00, 1876.53it/s]"
          ]
        },
        {
          "output_type": "stream",
          "name": "stdout",
          "text": [
            "\u001b[34m\u001b[1mtrain: \u001b[0mWARNING ⚠️ /content/processed_dataset3/images/01c252f8-1574421.jpg: ignoring corrupt image/label: non-normalized or out of bounds coordinates [     382.36      382.71      382.74      382.65      382.38      382.36      382.11      382.91      382.68]\n",
            "\u001b[34m\u001b[1mtrain: \u001b[0mWARNING ⚠️ /content/processed_dataset3/images/02c4415a-995801.jpg: ignoring corrupt image/label: non-normalized or out of bounds coordinates [     19.226]\n",
            "\u001b[34m\u001b[1mtrain: \u001b[0mWARNING ⚠️ /content/processed_dataset3/images/069f9c9b-118126.jpg: ignoring corrupt image/label: non-normalized or out of bounds coordinates [     382.52]\n",
            "\u001b[34m\u001b[1mtrain: \u001b[0mWARNING ⚠️ /content/processed_dataset3/images/07e95446-2781056.jpg: ignoring corrupt image/label: non-normalized or out of bounds coordinates [     510.57]\n",
            "\u001b[34m\u001b[1mtrain: \u001b[0mWARNING ⚠️ /content/processed_dataset3/images/080248d8-2031692.jpg: ignoring corrupt image/label: non-normalized or out of bounds coordinates [     496.58      1.0339]\n",
            "\u001b[34m\u001b[1mtrain: \u001b[0mWARNING ⚠️ /content/processed_dataset3/images/082737e5-2498460.jpg: ignoring corrupt image/label: non-normalized or out of bounds coordinates [     510.15]\n",
            "\u001b[34m\u001b[1mtrain: \u001b[0mWARNING ⚠️ /content/processed_dataset3/images/0b45d160-3763432.jpg: ignoring corrupt image/label: non-normalized or out of bounds coordinates [     543.83      38.935]\n",
            "\u001b[34m\u001b[1mtrain: \u001b[0mWARNING ⚠️ /content/processed_dataset3/images/0d1879f9-358748.jpg: ignoring corrupt image/label: non-normalized or out of bounds coordinates [     380.54]\n",
            "\u001b[34m\u001b[1mtrain: \u001b[0mWARNING ⚠️ /content/processed_dataset3/images/11c97300-3515250.jpg: ignoring corrupt image/label: non-normalized or out of bounds coordinates [      510.5]\n",
            "\u001b[34m\u001b[1mtrain: \u001b[0mWARNING ⚠️ /content/processed_dataset3/images/123adde7-3827966.jpg: ignoring corrupt image/label: non-normalized or out of bounds coordinates [     512.25      2.2466]\n",
            "\u001b[34m\u001b[1mtrain: \u001b[0mWARNING ⚠️ /content/processed_dataset3/images/165a1c35-538037.jpg: ignoring corrupt image/label: non-normalized or out of bounds coordinates [     42.876]\n",
            "\u001b[34m\u001b[1mtrain: \u001b[0mWARNING ⚠️ /content/processed_dataset3/images/179a55c2-663285.jpg: ignoring corrupt image/label: non-normalized or out of bounds coordinates [     23.059      1.0093       1.094]\n",
            "\u001b[34m\u001b[1mtrain: \u001b[0mWARNING ⚠️ /content/processed_dataset3/images/18717882-2580309.jpg: ignoring corrupt image/label: non-normalized or out of bounds coordinates [     545.02      40.295      544.49      40.118]\n",
            "\u001b[34m\u001b[1mtrain: \u001b[0mWARNING ⚠️ /content/processed_dataset3/images/1ac491f4-2569760.jpg: ignoring corrupt image/label: non-normalized or out of bounds coordinates [     382.49      1.0024]\n",
            "\u001b[34m\u001b[1mtrain: \u001b[0mWARNING ⚠️ /content/processed_dataset3/images/2bf4eb29-1137400.jpg: ignoring corrupt image/label: non-normalized or out of bounds coordinates [     1.0037]\n",
            "\u001b[34m\u001b[1mtrain: \u001b[0mWARNING ⚠️ /content/processed_dataset3/images/2d139c35-3082443.jpg: ignoring corrupt image/label: non-normalized or out of bounds coordinates [     510.52]\n",
            "\u001b[34m\u001b[1mtrain: \u001b[0mWARNING ⚠️ /content/processed_dataset3/images/2db1fae2-45067.jpg: ignoring corrupt image/label: non-normalized or out of bounds coordinates [     530.17      30.036]\n",
            "\u001b[34m\u001b[1mtrain: \u001b[0mWARNING ⚠️ /content/processed_dataset3/images/2fa4bd26-1668806.jpg: ignoring corrupt image/label: non-normalized or out of bounds coordinates [     556.33      56.565]\n",
            "\u001b[34m\u001b[1mtrain: \u001b[0mWARNING ⚠️ /content/processed_dataset3/images/315f30af-153082.jpg: ignoring corrupt image/label: non-normalized or out of bounds coordinates [     510.43]\n",
            "\u001b[34m\u001b[1mtrain: \u001b[0mWARNING ⚠️ /content/processed_dataset3/images/341758e6-1725269.jpg: ignoring corrupt image/label: non-normalized or out of bounds coordinates [     510.49]\n",
            "\u001b[34m\u001b[1mtrain: \u001b[0mWARNING ⚠️ /content/processed_dataset3/images/36054e32-680155.jpg: ignoring corrupt image/label: non-normalized or out of bounds coordinates [     7.8623]\n",
            "\u001b[34m\u001b[1mtrain: \u001b[0mWARNING ⚠️ /content/processed_dataset3/images/368b7222-2240535.jpg: ignoring corrupt image/label: non-normalized or out of bounds coordinates [     510.54]\n",
            "\u001b[34m\u001b[1mtrain: \u001b[0mWARNING ⚠️ /content/processed_dataset3/images/386040bf-2752957.jpg: ignoring corrupt image/label: non-normalized or out of bounds coordinates [     520.66      16.994      1.0181]\n",
            "\u001b[34m\u001b[1mtrain: \u001b[0mWARNING ⚠️ /content/processed_dataset3/images/39245006-2352914.jpg: ignoring corrupt image/label: non-normalized or out of bounds coordinates [     10.468      10.557      10.506      10.461      10.436]\n",
            "\u001b[34m\u001b[1mtrain: \u001b[0mWARNING ⚠️ /content/processed_dataset3/images/3a42925b-238730.jpg: ignoring corrupt image/label: non-normalized or out of bounds coordinates [     380.59]\n",
            "\u001b[34m\u001b[1mtrain: \u001b[0mWARNING ⚠️ /content/processed_dataset3/images/42999b7e-909848.jpg: ignoring corrupt image/label: non-normalized or out of bounds coordinates [     510.68      510.17       510.5      510.43]\n",
            "\u001b[34m\u001b[1mtrain: \u001b[0mWARNING ⚠️ /content/processed_dataset3/images/4549f6c3-1127099.jpg: ignoring corrupt image/label: non-normalized or out of bounds coordinates [      510.5]\n",
            "\u001b[34m\u001b[1mtrain: \u001b[0mWARNING ⚠️ /content/processed_dataset3/images/47e94771-1368498.jpg: ignoring corrupt image/label: non-normalized or out of bounds coordinates [     58.502      58.947      58.896      58.472]\n",
            "\u001b[34m\u001b[1mtrain: \u001b[0mWARNING ⚠️ /content/processed_dataset3/images/48802d1d-316451.jpg: ignoring corrupt image/label: non-normalized or out of bounds coordinates [     510.96      510.66      510.31      510.39      510.67      510.94]\n",
            "\u001b[34m\u001b[1mtrain: \u001b[0mWARNING ⚠️ /content/processed_dataset3/images/4a2f89b1-1279146.jpg: ignoring corrupt image/label: non-normalized or out of bounds coordinates [     526.37      23.673]\n",
            "\u001b[34m\u001b[1mtrain: \u001b[0mWARNING ⚠️ /content/processed_dataset3/images/4a45f233-1680339.jpg: ignoring corrupt image/label: non-normalized or out of bounds coordinates [      510.5      1.0037]\n",
            "\u001b[34m\u001b[1mtrain: \u001b[0mWARNING ⚠️ /content/processed_dataset3/images/4db73d0e-3382880.jpg: ignoring corrupt image/label: non-normalized or out of bounds coordinates [     314.84      18.042]\n",
            "\u001b[34m\u001b[1mtrain: \u001b[0mWARNING ⚠️ /content/processed_dataset3/images/4f66689a-2519291.jpg: ignoring corrupt image/label: non-normalized or out of bounds coordinates [     1.0016]\n",
            "\u001b[34m\u001b[1mtrain: \u001b[0mWARNING ⚠️ /content/processed_dataset3/images/4f8944b4-1099080.jpg: ignoring corrupt image/label: non-normalized or out of bounds coordinates [        557      58.281]\n",
            "\u001b[34m\u001b[1mtrain: \u001b[0mWARNING ⚠️ /content/processed_dataset3/images/5002917a-1327402.jpg: ignoring corrupt image/label: non-normalized or out of bounds coordinates [      510.5]\n",
            "\u001b[34m\u001b[1mtrain: \u001b[0mWARNING ⚠️ /content/processed_dataset3/images/516a61a1-3543883.jpg: ignoring corrupt image/label: non-normalized or out of bounds coordinates [     510.48]\n",
            "\u001b[34m\u001b[1mtrain: \u001b[0mWARNING ⚠️ /content/processed_dataset3/images/52de6bd3-1029698.jpg: ignoring corrupt image/label: non-normalized or out of bounds coordinates [     510.49      1.0055]\n",
            "\u001b[34m\u001b[1mtrain: \u001b[0mWARNING ⚠️ /content/processed_dataset3/images/53cc0189-258111.jpg: ignoring corrupt image/label: non-normalized or out of bounds coordinates [     510.43]\n",
            "\u001b[34m\u001b[1mtrain: \u001b[0mWARNING ⚠️ /content/processed_dataset3/images/56831cfb-2198043.jpg: ignoring corrupt image/label: non-normalized or out of bounds coordinates [     17.538]\n",
            "\u001b[34m\u001b[1mtrain: \u001b[0mWARNING ⚠️ /content/processed_dataset3/images/599796b1-478300.jpg: ignoring corrupt image/label: non-normalized or out of bounds coordinates [     56.126]\n",
            "\u001b[34m\u001b[1mtrain: \u001b[0mWARNING ⚠️ /content/processed_dataset3/images/5a682264-20777.jpg: ignoring corrupt image/label: non-normalized or out of bounds coordinates [     44.782      44.659      44.656      44.349      44.287      44.186      44.134]\n",
            "\u001b[34m\u001b[1mtrain: \u001b[0mWARNING ⚠️ /content/processed_dataset3/images/5c099022-1873816.jpg: ignoring corrupt image/label: non-normalized or out of bounds coordinates [     492.41]\n",
            "\u001b[34m\u001b[1mtrain: \u001b[0mWARNING ⚠️ /content/processed_dataset3/images/5cdbcd1e-2278442.jpg: ignoring corrupt image/label: non-normalized or out of bounds coordinates [     346.45]\n",
            "\u001b[34m\u001b[1mtrain: \u001b[0mWARNING ⚠️ /content/processed_dataset3/images/5e83e2b2-2670852.jpg: ignoring corrupt image/label: non-normalized or out of bounds coordinates [     510.43]\n",
            "\u001b[34m\u001b[1mtrain: \u001b[0mWARNING ⚠️ /content/processed_dataset3/images/605b2856-383439.jpg: ignoring corrupt image/label: non-normalized or out of bounds coordinates [     510.57]\n",
            "\u001b[34m\u001b[1mtrain: \u001b[0mWARNING ⚠️ /content/processed_dataset3/images/6079f86d-3323080.jpg: ignoring corrupt image/label: non-normalized or out of bounds coordinates [      16.07      15.931]\n",
            "\u001b[34m\u001b[1mtrain: \u001b[0mWARNING ⚠️ /content/processed_dataset3/images/6193491e-2155429.jpg: ignoring corrupt image/label: non-normalized or out of bounds coordinates [     527.38       18.65]\n",
            "\u001b[34m\u001b[1mtrain: \u001b[0mWARNING ⚠️ /content/processed_dataset3/images/61fe7abb-573054.jpg: ignoring corrupt image/label: non-normalized or out of bounds coordinates [     67.395      1.0276]\n",
            "\u001b[34m\u001b[1mtrain: \u001b[0mWARNING ⚠️ /content/processed_dataset3/images/6aacbfee-3734413.jpg: ignoring corrupt image/label: non-normalized or out of bounds coordinates [     532.14      24.079      1.0008]\n",
            "\u001b[34m\u001b[1mtrain: \u001b[0mWARNING ⚠️ /content/processed_dataset3/images/6bfa534a-870449.jpg: ignoring corrupt image/label: non-normalized or out of bounds coordinates [     510.56]\n",
            "\u001b[34m\u001b[1mtrain: \u001b[0mWARNING ⚠️ /content/processed_dataset3/images/71632285-1259816.jpg: ignoring corrupt image/label: non-normalized or out of bounds coordinates [     27.897      1.0309]\n",
            "\u001b[34m\u001b[1mtrain: \u001b[0mWARNING ⚠️ /content/processed_dataset3/images/7462b06a-1727509.jpg: ignoring corrupt image/label: non-normalized or out of bounds coordinates [     73.413      1.2027      1.1334]\n",
            "\u001b[34m\u001b[1mtrain: \u001b[0mWARNING ⚠️ /content/processed_dataset3/images/75817f79-3693594.jpg: ignoring corrupt image/label: non-normalized or out of bounds coordinates [     44.322]\n",
            "\u001b[34m\u001b[1mtrain: \u001b[0mWARNING ⚠️ /content/processed_dataset3/images/7637160e-2772699.jpg: ignoring corrupt image/label: non-normalized or out of bounds coordinates [     33.551]\n",
            "\u001b[34m\u001b[1mtrain: \u001b[0mWARNING ⚠️ /content/processed_dataset3/images/772987e1-3018077.jpg: ignoring corrupt image/label: non-normalized or out of bounds coordinates [     29.406]\n",
            "\u001b[34m\u001b[1mtrain: \u001b[0mWARNING ⚠️ /content/processed_dataset3/images/7c808801-2265512.jpg: ignoring corrupt image/label: non-normalized or out of bounds coordinates [     14.114      1.0455]\n",
            "\u001b[34m\u001b[1mtrain: \u001b[0mWARNING ⚠️ /content/processed_dataset3/images/7f3c9225-403431.jpg: ignoring corrupt image/label: non-normalized or out of bounds coordinates [     1.0018]\n",
            "\u001b[34m\u001b[1mtrain: \u001b[0mWARNING ⚠️ /content/processed_dataset3/images/7ff5a4ea-3763593.jpg: ignoring corrupt image/label: non-normalized or out of bounds coordinates [     43.057]\n",
            "\u001b[34m\u001b[1mtrain: \u001b[0mWARNING ⚠️ /content/processed_dataset3/images/8407a260-2323548.jpg: ignoring corrupt image/label: non-normalized or out of bounds coordinates [     509.13]\n",
            "\u001b[34m\u001b[1mtrain: \u001b[0mWARNING ⚠️ /content/processed_dataset3/images/84c1baf6-706931.jpg: ignoring corrupt image/label: non-normalized or out of bounds coordinates [     46.104      46.562]\n",
            "\u001b[34m\u001b[1mtrain: \u001b[0mWARNING ⚠️ /content/processed_dataset3/images/8763e50e-265406.jpg: ignoring corrupt image/label: non-normalized or out of bounds coordinates [     30.522]\n",
            "\u001b[34m\u001b[1mtrain: \u001b[0mWARNING ⚠️ /content/processed_dataset3/images/8765709f-3381633.jpg: ignoring corrupt image/label: non-normalized or out of bounds coordinates [     510.48]\n",
            "\u001b[34m\u001b[1mtrain: \u001b[0mWARNING ⚠️ /content/processed_dataset3/images/88a65abd-920703.jpg: ignoring corrupt image/label: non-normalized or out of bounds coordinates [     501.87      501.54      501.78      501.53      501.73      501.58      501.55      501.69      501.56]\n",
            "\u001b[34m\u001b[1mtrain: \u001b[0mWARNING ⚠️ /content/processed_dataset3/images/8af03f92-135434.jpg: ignoring corrupt image/label: non-normalized or out of bounds coordinates [     548.22      65.758       1.134      1.1032]\n",
            "\u001b[34m\u001b[1mtrain: \u001b[0mWARNING ⚠️ /content/processed_dataset3/images/8be40675-1854061.jpg: ignoring corrupt image/label: non-normalized or out of bounds coordinates [     510.69      510.62]\n",
            "\u001b[34m\u001b[1mtrain: \u001b[0mWARNING ⚠️ /content/processed_dataset3/images/93d0e528-495881.jpg: ignoring corrupt image/label: non-normalized or out of bounds coordinates [      547.6      64.784]\n",
            "\u001b[34m\u001b[1mtrain: \u001b[0mWARNING ⚠️ /content/processed_dataset3/images/94b0882f-2296393.jpg: ignoring corrupt image/label: non-normalized or out of bounds coordinates [     510.51]\n",
            "\u001b[34m\u001b[1mtrain: \u001b[0mWARNING ⚠️ /content/processed_dataset3/images/979af42c-584916.jpg: ignoring corrupt image/label: non-normalized or out of bounds coordinates [     529.81      21.559]\n",
            "\u001b[34m\u001b[1mtrain: \u001b[0mWARNING ⚠️ /content/processed_dataset3/images/98da9fce-3680697.jpg: ignoring corrupt image/label: non-normalized or out of bounds coordinates [     510.31      510.77      510.16      510.49      510.78]\n",
            "\u001b[34m\u001b[1mtrain: \u001b[0mWARNING ⚠️ /content/processed_dataset3/images/998aff27-515907.jpg: ignoring corrupt image/label: non-normalized or out of bounds coordinates [     510.48]\n",
            "\u001b[34m\u001b[1mtrain: \u001b[0mWARNING ⚠️ /content/processed_dataset3/images/99ef7210-2670730.jpg: ignoring corrupt image/label: non-normalized or out of bounds coordinates [     67.297      1.1451      1.0761]\n",
            "\u001b[34m\u001b[1mtrain: \u001b[0mWARNING ⚠️ /content/processed_dataset3/images/9a0f67a2-210027.jpg: ignoring corrupt image/label: non-normalized or out of bounds coordinates [     43.566]\n",
            "\u001b[34m\u001b[1mtrain: \u001b[0mWARNING ⚠️ /content/processed_dataset3/images/9e120cc8-1981348.jpg: ignoring corrupt image/label: non-normalized or out of bounds coordinates [     420.76      35.292]\n",
            "\u001b[34m\u001b[1mtrain: \u001b[0mWARNING ⚠️ /content/processed_dataset3/images/a1c949d3-2318938.jpg: ignoring corrupt image/label: non-normalized or out of bounds coordinates [     35.058      1.0569]\n",
            "\u001b[34m\u001b[1mtrain: \u001b[0mWARNING ⚠️ /content/processed_dataset3/images/a20654e4-2466030.jpg: ignoring corrupt image/label: non-normalized or out of bounds coordinates [      510.5]\n",
            "\u001b[34m\u001b[1mtrain: \u001b[0mWARNING ⚠️ /content/processed_dataset3/images/a2fe1ab4-1021229.jpg: ignoring corrupt image/label: non-normalized or out of bounds coordinates [     510.48]\n",
            "\u001b[34m\u001b[1mtrain: \u001b[0mWARNING ⚠️ /content/processed_dataset3/images/acf84d70-2476468.jpg: ignoring corrupt image/label: non-normalized or out of bounds coordinates [     510.47]\n",
            "\u001b[34m\u001b[1mtrain: \u001b[0mWARNING ⚠️ /content/processed_dataset3/images/adf3da67-2968258.jpg: ignoring corrupt image/label: non-normalized or out of bounds coordinates [     510.49]\n",
            "\u001b[34m\u001b[1mtrain: \u001b[0mWARNING ⚠️ /content/processed_dataset3/images/ae8acbac-2236338.jpg: ignoring corrupt image/label: non-normalized or out of bounds coordinates [     509.11      1.0067]\n",
            "\u001b[34m\u001b[1mtrain: \u001b[0mWARNING ⚠️ /content/processed_dataset3/images/aed7bc39-2948329.jpg: ignoring corrupt image/label: non-normalized or out of bounds coordinates [     510.52]\n",
            "\u001b[34m\u001b[1mtrain: \u001b[0mWARNING ⚠️ /content/processed_dataset3/images/af82b8b2-8917.jpg: ignoring corrupt image/label: non-normalized or out of bounds coordinates [     1.0009]\n",
            "\u001b[34m\u001b[1mtrain: \u001b[0mWARNING ⚠️ /content/processed_dataset3/images/aug_02e731de-1106165.jpg: ignoring corrupt image/label: non-normalized or out of bounds coordinates [     510.53]\n",
            "\u001b[34m\u001b[1mtrain: \u001b[0mWARNING ⚠️ /content/processed_dataset3/images/aug_07e95446-2781056.jpg: ignoring corrupt image/label: non-normalized or out of bounds coordinates [     510.57]\n",
            "\u001b[34m\u001b[1mtrain: \u001b[0mWARNING ⚠️ /content/processed_dataset3/images/aug_080248d8-2031692.jpg: ignoring corrupt image/label: non-normalized or out of bounds coordinates [     460.37       1.147      1.0487]\n",
            "\u001b[34m\u001b[1mtrain: \u001b[0mWARNING ⚠️ /content/processed_dataset3/images/aug_082737e5-2498460.jpg: ignoring corrupt image/label: non-normalized or out of bounds coordinates [     510.15]\n",
            "\u001b[34m\u001b[1mtrain: \u001b[0mWARNING ⚠️ /content/processed_dataset3/images/aug_0b45d160-3763432.jpg: ignoring corrupt image/label: non-normalized or out of bounds coordinates [     510.47]\n",
            "\u001b[34m\u001b[1mtrain: \u001b[0mWARNING ⚠️ /content/processed_dataset3/images/aug_11c97300-3515250.jpg: ignoring corrupt image/label: non-normalized or out of bounds coordinates [     523.24      13.914      1.0485      1.0162]\n",
            "\u001b[34m\u001b[1mtrain: \u001b[0mWARNING ⚠️ /content/processed_dataset3/images/aug_120ddac2-2674351.jpg: ignoring corrupt image/label: non-normalized or out of bounds coordinates [     510.49]\n",
            "\u001b[34m\u001b[1mtrain: \u001b[0mWARNING ⚠️ /content/processed_dataset3/images/aug_179a55c2-663285.jpg: ignoring corrupt image/label: non-normalized or out of bounds coordinates [     10.584      1.0305]\n",
            "\u001b[34m\u001b[1mtrain: \u001b[0mWARNING ⚠️ /content/processed_dataset3/images/aug_18717882-2580309.jpg: ignoring corrupt image/label: non-normalized or out of bounds coordinates [     510.76      510.22]\n",
            "\u001b[34m\u001b[1mtrain: \u001b[0mWARNING ⚠️ /content/processed_dataset3/images/aug_1ac491f4-2569760.jpg: ignoring corrupt image/label: non-normalized or out of bounds coordinates [     1.0025]\n",
            "\u001b[34m\u001b[1mtrain: \u001b[0mWARNING ⚠️ /content/processed_dataset3/images/aug_1ce34d36-3606882.jpg: ignoring corrupt image/label: non-normalized or out of bounds coordinates [     541.62      35.795]\n",
            "\u001b[34m\u001b[1mtrain: \u001b[0mWARNING ⚠️ /content/processed_dataset3/images/aug_23229113-3839255.jpg: ignoring corrupt image/label: non-normalized or out of bounds coordinates [     382.47]\n",
            "\u001b[34m\u001b[1mtrain: \u001b[0mWARNING ⚠️ /content/processed_dataset3/images/aug_2bf4eb29-1137400.jpg: ignoring corrupt image/label: non-normalized or out of bounds coordinates [     510.49      1.0037]\n",
            "\u001b[34m\u001b[1mtrain: \u001b[0mWARNING ⚠️ /content/processed_dataset3/images/aug_2d139c35-3082443.jpg: ignoring corrupt image/label: non-normalized or out of bounds coordinates [     27.212]\n",
            "\u001b[34m\u001b[1mtrain: \u001b[0mWARNING ⚠️ /content/processed_dataset3/images/aug_2d7fc5ad-1581355.jpg: ignoring corrupt image/label: non-normalized or out of bounds coordinates [     510.49]\n",
            "\u001b[34m\u001b[1mtrain: \u001b[0mWARNING ⚠️ /content/processed_dataset3/images/aug_2fa4bd26-1668806.jpg: ignoring corrupt image/label: non-normalized or out of bounds coordinates [     510.57]\n",
            "\u001b[34m\u001b[1mtrain: \u001b[0mWARNING ⚠️ /content/processed_dataset3/images/aug_341758e6-1725269.jpg: ignoring corrupt image/label: non-normalized or out of bounds coordinates [     510.49]\n",
            "\u001b[34m\u001b[1mtrain: \u001b[0mWARNING ⚠️ /content/processed_dataset3/images/aug_368b7222-2240535.jpg: ignoring corrupt image/label: non-normalized or out of bounds coordinates [     42.166]\n",
            "\u001b[34m\u001b[1mtrain: \u001b[0mWARNING ⚠️ /content/processed_dataset3/images/aug_37eae2a5-1676252.jpg: ignoring corrupt image/label: non-normalized or out of bounds coordinates [     35.189       34.82]\n",
            "\u001b[34m\u001b[1mtrain: \u001b[0mWARNING ⚠️ /content/processed_dataset3/images/aug_386040bf-2752957.jpg: ignoring corrupt image/label: non-normalized or out of bounds coordinates [     464.77      1.0253]\n",
            "\u001b[34m\u001b[1mtrain: \u001b[0mWARNING ⚠️ /content/processed_dataset3/images/aug_3a42925b-238730.jpg: ignoring corrupt image/label: non-normalized or out of bounds coordinates [     377.43]\n",
            "\u001b[34m\u001b[1mtrain: \u001b[0mWARNING ⚠️ /content/processed_dataset3/images/aug_433cf466-245724.jpg: ignoring corrupt image/label: non-normalized or out of bounds coordinates [     56.728]\n",
            "\u001b[34m\u001b[1mtrain: \u001b[0mWARNING ⚠️ /content/processed_dataset3/images/aug_4549f6c3-1127099.jpg: ignoring corrupt image/label: non-normalized or out of bounds coordinates [      510.5]\n",
            "\u001b[34m\u001b[1mtrain: \u001b[0mWARNING ⚠️ /content/processed_dataset3/images/aug_47e94771-1368498.jpg: ignoring corrupt image/label: non-normalized or out of bounds coordinates [     484.41      484.48      484.12      484.06]\n",
            "\u001b[34m\u001b[1mtrain: \u001b[0mWARNING ⚠️ /content/processed_dataset3/images/aug_48802d1d-316451.jpg: ignoring corrupt image/label: non-normalized or out of bounds coordinates [     489.77      489.47      489.12      489.16      489.44      489.71]\n",
            "\u001b[34m\u001b[1mtrain: \u001b[0mWARNING ⚠️ /content/processed_dataset3/images/aug_49228c3a-2587921.jpg: ignoring corrupt image/label: non-normalized or out of bounds coordinates [     65.274]\n",
            "\u001b[34m\u001b[1mtrain: \u001b[0mWARNING ⚠️ /content/processed_dataset3/images/aug_4a2f89b1-1279146.jpg: ignoring corrupt image/label: non-normalized or out of bounds coordinates [     510.47]\n",
            "\u001b[34m\u001b[1mtrain: \u001b[0mWARNING ⚠️ /content/processed_dataset3/images/aug_4a45f233-1680339.jpg: ignoring corrupt image/label: non-normalized or out of bounds coordinates [     1.0037]\n",
            "\u001b[34m\u001b[1mtrain: \u001b[0mWARNING ⚠️ /content/processed_dataset3/images/aug_4ae53831-3790643.jpg: ignoring corrupt image/label: non-normalized or out of bounds coordinates [     286.46]\n",
            "\u001b[34m\u001b[1mtrain: \u001b[0mWARNING ⚠️ /content/processed_dataset3/images/aug_4db73d0e-3382880.jpg: ignoring corrupt image/label: non-normalized or out of bounds coordinates [     59.243]\n",
            "\u001b[34m\u001b[1mtrain: \u001b[0mWARNING ⚠️ /content/processed_dataset3/images/aug_4f66689a-2519291.jpg: ignoring corrupt image/label: non-normalized or out of bounds coordinates [      510.5      1.0016]\n",
            "\u001b[34m\u001b[1mtrain: \u001b[0mWARNING ⚠️ /content/processed_dataset3/images/aug_4f8944b4-1099080.jpg: ignoring corrupt image/label: non-normalized or out of bounds coordinates [     510.25]\n",
            "\u001b[34m\u001b[1mtrain: \u001b[0mWARNING ⚠️ /content/processed_dataset3/images/aug_516a61a1-3543883.jpg: ignoring corrupt image/label: non-normalized or out of bounds coordinates [     510.48]\n",
            "\u001b[34m\u001b[1mtrain: \u001b[0mWARNING ⚠️ /content/processed_dataset3/images/aug_52de6bd3-1029698.jpg: ignoring corrupt image/label: non-normalized or out of bounds coordinates [     510.49      1.0055]\n",
            "\u001b[34m\u001b[1mtrain: \u001b[0mWARNING ⚠️ /content/processed_dataset3/images/aug_53cc0189-258111.jpg: ignoring corrupt image/label: non-normalized or out of bounds coordinates [     510.43]\n",
            "\u001b[34m\u001b[1mtrain: \u001b[0mWARNING ⚠️ /content/processed_dataset3/images/aug_5528cfb5-3921590.jpg: ignoring corrupt image/label: non-normalized or out of bounds coordinates [     510.43]\n",
            "\u001b[34m\u001b[1mtrain: \u001b[0mWARNING ⚠️ /content/processed_dataset3/images/aug_56831cfb-2198043.jpg: ignoring corrupt image/label: non-normalized or out of bounds coordinates [     563.94      68.757]\n",
            "\u001b[34m\u001b[1mtrain: \u001b[0mWARNING ⚠️ /content/processed_dataset3/images/aug_599796b1-478300.jpg: ignoring corrupt image/label: non-normalized or out of bounds coordinates [     17.719       1.003]\n",
            "\u001b[34m\u001b[1mtrain: \u001b[0mWARNING ⚠️ /content/processed_dataset3/images/aug_5a682264-20777.jpg: ignoring corrupt image/label: non-normalized or out of bounds coordinates [     385.89      3.0466      385.51      2.9756      385.18      3.0634      385.84      2.6149      385.58      2.6033      385.29      2.5563      385.12      2.5416]\n",
            "\u001b[34m\u001b[1mtrain: \u001b[0mWARNING ⚠️ /content/processed_dataset3/images/aug_5c099022-1873816.jpg: ignoring corrupt image/label: non-normalized or out of bounds coordinates [     510.48]\n",
            "\u001b[34m\u001b[1mtrain: \u001b[0mWARNING ⚠️ /content/processed_dataset3/images/aug_5e83e2b2-2670852.jpg: ignoring corrupt image/label: non-normalized or out of bounds coordinates [     5.6548]\n",
            "\u001b[34m\u001b[1mtrain: \u001b[0mWARNING ⚠️ /content/processed_dataset3/images/aug_605b2856-383439.jpg: ignoring corrupt image/label: non-normalized or out of bounds coordinates [     510.57]\n",
            "\u001b[34m\u001b[1mtrain: \u001b[0mWARNING ⚠️ /content/processed_dataset3/images/aug_6193491e-2155429.jpg: ignoring corrupt image/label: non-normalized or out of bounds coordinates [     510.58]\n",
            "\u001b[34m\u001b[1mtrain: \u001b[0mWARNING ⚠️ /content/processed_dataset3/images/aug_61fe7abb-573054.jpg: ignoring corrupt image/label: non-normalized or out of bounds coordinates [     512.74      2.9127]\n",
            "\u001b[34m\u001b[1mtrain: \u001b[0mWARNING ⚠️ /content/processed_dataset3/images/aug_6aacbfee-3734413.jpg: ignoring corrupt image/label: non-normalized or out of bounds coordinates [      510.5]\n",
            "\u001b[34m\u001b[1mtrain: \u001b[0mWARNING ⚠️ /content/processed_dataset3/images/aug_7637160e-2772699.jpg: ignoring corrupt image/label: non-normalized or out of bounds coordinates [     510.57]\n",
            "\u001b[34m\u001b[1mtrain: \u001b[0mWARNING ⚠️ /content/processed_dataset3/images/aug_772987e1-3018077.jpg: ignoring corrupt image/label: non-normalized or out of bounds coordinates [     565.73       71.63]\n",
            "\u001b[34m\u001b[1mtrain: \u001b[0mWARNING ⚠️ /content/processed_dataset3/images/aug_7c808801-2265512.jpg: ignoring corrupt image/label: non-normalized or out of bounds coordinates [     474.54      1.1131]\n",
            "\u001b[34m\u001b[1mtrain: \u001b[0mWARNING ⚠️ /content/processed_dataset3/images/aug_7d531957-3282393.jpg: ignoring corrupt image/label: non-normalized or out of bounds coordinates [      510.5]\n",
            "\u001b[34m\u001b[1mtrain: \u001b[0mWARNING ⚠️ /content/processed_dataset3/images/aug_7f3c9225-403431.jpg: ignoring corrupt image/label: non-normalized or out of bounds coordinates [      510.5      1.0019]\n",
            "\u001b[34m\u001b[1mtrain: \u001b[0mWARNING ⚠️ /content/processed_dataset3/images/aug_7ff5a4ea-3763593.jpg: ignoring corrupt image/label: non-normalized or out of bounds coordinates [     548.64      45.632]\n",
            "\u001b[34m\u001b[1mtrain: \u001b[0mWARNING ⚠️ /content/processed_dataset3/images/aug_833cbb3b-2984337.jpg: ignoring corrupt image/label: non-normalized or out of bounds coordinates [     496.94]\n",
            "\u001b[34m\u001b[1mtrain: \u001b[0mWARNING ⚠️ /content/processed_dataset3/images/aug_84c1baf6-706931.jpg: ignoring corrupt image/label: non-normalized or out of bounds coordinates [     525.64      22.508      525.17      22.507]\n",
            "\u001b[34m\u001b[1mtrain: \u001b[0mWARNING ⚠️ /content/processed_dataset3/images/aug_8763e50e-265406.jpg: ignoring corrupt image/label: non-normalized or out of bounds coordinates [     454.43]\n",
            "\u001b[34m\u001b[1mtrain: \u001b[0mWARNING ⚠️ /content/processed_dataset3/images/aug_8765709f-3381633.jpg: ignoring corrupt image/label: non-normalized or out of bounds coordinates [     467.41      1.0092]\n",
            "\u001b[34m\u001b[1mtrain: \u001b[0mWARNING ⚠️ /content/processed_dataset3/images/aug_88a65abd-920703.jpg: ignoring corrupt image/label: non-normalized or out of bounds coordinates [     510.81      510.47      510.72      510.48      510.67      510.52      510.51      510.64      510.51]\n",
            "\u001b[34m\u001b[1mtrain: \u001b[0mWARNING ⚠️ /content/processed_dataset3/images/aug_8af03f92-135434.jpg: ignoring corrupt image/label: non-normalized or out of bounds coordinates [      510.5]\n",
            "\u001b[34m\u001b[1mtrain: \u001b[0mWARNING ⚠️ /content/processed_dataset3/images/aug_8b873d46-1327608.jpg: ignoring corrupt image/label: non-normalized or out of bounds coordinates [     510.52]\n",
            "\u001b[34m\u001b[1mtrain: \u001b[0mWARNING ⚠️ /content/processed_dataset3/images/aug_8be40675-1854061.jpg: ignoring corrupt image/label: non-normalized or out of bounds coordinates [     510.69      510.62]\n",
            "\u001b[34m\u001b[1mtrain: \u001b[0mWARNING ⚠️ /content/processed_dataset3/images/aug_8c03e01f-2120760.jpg: ignoring corrupt image/label: non-normalized or out of bounds coordinates [     12.671]\n",
            "\u001b[34m\u001b[1mtrain: \u001b[0mWARNING ⚠️ /content/processed_dataset3/images/aug_8ca147ae-901549.jpg: ignoring corrupt image/label: non-normalized or out of bounds coordinates [      510.5]\n",
            "\u001b[34m\u001b[1mtrain: \u001b[0mWARNING ⚠️ /content/processed_dataset3/images/aug_93d0e528-495881.jpg: ignoring corrupt image/label: non-normalized or out of bounds coordinates [     509.17]\n",
            "\u001b[34m\u001b[1mtrain: \u001b[0mWARNING ⚠️ /content/processed_dataset3/images/aug_94b0882f-2296393.jpg: ignoring corrupt image/label: non-normalized or out of bounds coordinates [     510.51]\n",
            "\u001b[34m\u001b[1mtrain: \u001b[0mWARNING ⚠️ /content/processed_dataset3/images/aug_96e3a26c-1708466.jpg: ignoring corrupt image/label: non-normalized or out of bounds coordinates [     552.37      50.709      1.0051]\n",
            "\u001b[34m\u001b[1mtrain: \u001b[0mWARNING ⚠️ /content/processed_dataset3/images/aug_9731b2c8-1993926.jpg: ignoring corrupt image/label: non-normalized or out of bounds coordinates [     510.43]\n",
            "\u001b[34m\u001b[1mtrain: \u001b[0mWARNING ⚠️ /content/processed_dataset3/images/aug_98bdcdba-3728155.jpg: ignoring corrupt image/label: non-normalized or out of bounds coordinates [     510.51]\n",
            "\u001b[34m\u001b[1mtrain: \u001b[0mWARNING ⚠️ /content/processed_dataset3/images/aug_98da9fce-3680697.jpg: ignoring corrupt image/label: non-normalized or out of bounds coordinates [     510.31      510.77      510.16      510.49      510.78]\n",
            "\u001b[34m\u001b[1mtrain: \u001b[0mWARNING ⚠️ /content/processed_dataset3/images/aug_998aff27-515907.jpg: ignoring corrupt image/label: non-normalized or out of bounds coordinates [     510.48]\n",
            "\u001b[34m\u001b[1mtrain: \u001b[0mWARNING ⚠️ /content/processed_dataset3/images/aug_9a0f67a2-210027.jpg: ignoring corrupt image/label: non-normalized or out of bounds coordinates [     510.61]\n",
            "\u001b[34m\u001b[1mtrain: \u001b[0mWARNING ⚠️ /content/processed_dataset3/images/aug_9e120cc8-1981348.jpg: ignoring corrupt image/label: non-normalized or out of bounds coordinates [     420.94      35.478]\n",
            "\u001b[34m\u001b[1mtrain: \u001b[0mWARNING ⚠️ /content/processed_dataset3/images/aug_a2fe1ab4-1021229.jpg: ignoring corrupt image/label: non-normalized or out of bounds coordinates [     480.24]\n",
            "\u001b[34m\u001b[1mtrain: \u001b[0mWARNING ⚠️ /content/processed_dataset3/images/aug_a66b8628-3778801.jpg: ignoring corrupt image/label: non-normalized or out of bounds coordinates [     540.85      49.847      1.0897      1.0708]\n",
            "\u001b[34m\u001b[1mtrain: \u001b[0mWARNING ⚠️ /content/processed_dataset3/images/aug_acf84d70-2476468.jpg: ignoring corrupt image/label: non-normalized or out of bounds coordinates [     510.47]\n",
            "\u001b[34m\u001b[1mtrain: \u001b[0mWARNING ⚠️ /content/processed_dataset3/images/aug_ae8acbac-2236338.jpg: ignoring corrupt image/label: non-normalized or out of bounds coordinates [     1.0018]\n",
            "\u001b[34m\u001b[1mtrain: \u001b[0mWARNING ⚠️ /content/processed_dataset3/images/aug_aed7bc39-2948329.jpg: ignoring corrupt image/label: non-normalized or out of bounds coordinates [     510.52]\n",
            "\u001b[34m\u001b[1mtrain: \u001b[0mWARNING ⚠️ /content/processed_dataset3/images/aug_af82b8b2-8917.jpg: ignoring corrupt image/label: non-normalized or out of bounds coordinates [      510.5      1.0009]\n",
            "\u001b[34m\u001b[1mtrain: \u001b[0mWARNING ⚠️ /content/processed_dataset3/images/aug_b1914a0b-712331.jpg: ignoring corrupt image/label: non-normalized or out of bounds coordinates [     509.82      509.89      509.54      509.14      509.51      509.18]\n",
            "\u001b[34m\u001b[1mtrain: \u001b[0mWARNING ⚠️ /content/processed_dataset3/images/aug_b34d8eb8-1407753.jpg: ignoring corrupt image/label: non-normalized or out of bounds coordinates [     382.13]\n",
            "\u001b[34m\u001b[1mtrain: \u001b[0mWARNING ⚠️ /content/processed_dataset3/images/aug_b3fafc29-2168957.jpg: ignoring corrupt image/label: non-normalized or out of bounds coordinates [     510.53]\n",
            "\u001b[34m\u001b[1mtrain: \u001b[0mWARNING ⚠️ /content/processed_dataset3/images/aug_b4261bd0-739531.jpg: ignoring corrupt image/label: non-normalized or out of bounds coordinates [     510.51]\n",
            "\u001b[34m\u001b[1mtrain: \u001b[0mWARNING ⚠️ /content/processed_dataset3/images/aug_b5cfdd1f-2005627.jpg: ignoring corrupt image/label: non-normalized or out of bounds coordinates [     1.0055]\n",
            "\u001b[34m\u001b[1mtrain: \u001b[0mWARNING ⚠️ /content/processed_dataset3/images/aug_bc8305b7-72729.jpg: ignoring corrupt image/label: non-normalized or out of bounds coordinates [     510.75      510.46      510.26]\n",
            "\u001b[34m\u001b[1mtrain: \u001b[0mWARNING ⚠️ /content/processed_dataset3/images/aug_bcb2fdeb-2701185.jpg: ignoring corrupt image/label: non-normalized or out of bounds coordinates [     510.53]\n",
            "\u001b[34m\u001b[1mtrain: \u001b[0mWARNING ⚠️ /content/processed_dataset3/images/aug_c41ba1ea-1119011.jpg: ignoring corrupt image/label: non-normalized or out of bounds coordinates [     507.85]\n",
            "\u001b[34m\u001b[1mtrain: \u001b[0mWARNING ⚠️ /content/processed_dataset3/images/aug_c492af2c-2431195.jpg: ignoring corrupt image/label: non-normalized or out of bounds coordinates [     510.49]\n",
            "\u001b[34m\u001b[1mtrain: \u001b[0mWARNING ⚠️ /content/processed_dataset3/images/aug_c628f001-716348.jpg: ignoring corrupt image/label: non-normalized or out of bounds coordinates [     304.75      304.36]\n",
            "\u001b[34m\u001b[1mtrain: \u001b[0mWARNING ⚠️ /content/processed_dataset3/images/aug_c70e6beb-45515.jpg: ignoring corrupt image/label: non-normalized or out of bounds coordinates [     382.66]\n",
            "\u001b[34m\u001b[1mtrain: \u001b[0mWARNING ⚠️ /content/processed_dataset3/images/aug_c941d52f-3001740.jpg: ignoring corrupt image/label: non-normalized or out of bounds coordinates [     46.152      1.0475]\n",
            "\u001b[34m\u001b[1mtrain: \u001b[0mWARNING ⚠️ /content/processed_dataset3/images/aug_c99796f4-714866.jpg: ignoring corrupt image/label: non-normalized or out of bounds coordinates [      510.5]\n",
            "\u001b[34m\u001b[1mtrain: \u001b[0mWARNING ⚠️ /content/processed_dataset3/images/aug_c9cc046a-1097991.jpg: ignoring corrupt image/label: non-normalized or out of bounds coordinates [     519.85      10.323]\n",
            "\u001b[34m\u001b[1mtrain: \u001b[0mWARNING ⚠️ /content/processed_dataset3/images/aug_cc298798-280869.jpg: ignoring corrupt image/label: non-normalized or out of bounds coordinates [     510.52]\n",
            "\u001b[34m\u001b[1mtrain: \u001b[0mWARNING ⚠️ /content/processed_dataset3/images/aug_d0280983-2517724.jpg: ignoring corrupt image/label: non-normalized or out of bounds coordinates [     510.49]\n",
            "\u001b[34m\u001b[1mtrain: \u001b[0mWARNING ⚠️ /content/processed_dataset3/images/aug_d12d2211-1470156.jpg: ignoring corrupt image/label: non-normalized or out of bounds coordinates [     510.49]\n",
            "\u001b[34m\u001b[1mtrain: \u001b[0mWARNING ⚠️ /content/processed_dataset3/images/aug_d3e6d927-2606829.jpg: ignoring corrupt image/label: non-normalized or out of bounds coordinates [     1.0018]\n",
            "\u001b[34m\u001b[1mtrain: \u001b[0mWARNING ⚠️ /content/processed_dataset3/images/aug_d6aeab37-1193742.jpg: ignoring corrupt image/label: non-normalized or out of bounds coordinates [     64.213      64.661      64.538]\n",
            "\u001b[34m\u001b[1mtrain: \u001b[0mWARNING ⚠️ /content/processed_dataset3/images/aug_d7000609-2032236.jpg: ignoring corrupt image/label: non-normalized or out of bounds coordinates [     384.43      1.9576]\n",
            "\u001b[34m\u001b[1mtrain: \u001b[0mWARNING ⚠️ /content/processed_dataset3/images/aug_d91e93a4-786596.jpg: ignoring corrupt image/label: non-normalized or out of bounds coordinates [     329.15]\n",
            "\u001b[34m\u001b[1mtrain: \u001b[0mWARNING ⚠️ /content/processed_dataset3/images/aug_da1297b4-3381609.jpg: ignoring corrupt image/label: non-normalized or out of bounds coordinates [     510.46]\n",
            "\u001b[34m\u001b[1mtrain: \u001b[0mWARNING ⚠️ /content/processed_dataset3/images/aug_dd15030d-3445331.jpg: ignoring corrupt image/label: non-normalized or out of bounds coordinates [     443.91]\n",
            "\u001b[34m\u001b[1mtrain: \u001b[0mWARNING ⚠️ /content/processed_dataset3/images/aug_dd670e51-3708711.jpg: ignoring corrupt image/label: non-normalized or out of bounds coordinates [     510.49]\n",
            "\u001b[34m\u001b[1mtrain: \u001b[0mWARNING ⚠️ /content/processed_dataset3/images/aug_df117ee2-232737.jpg: ignoring corrupt image/label: non-normalized or out of bounds coordinates [     380.49      1.0052]\n",
            "\u001b[34m\u001b[1mtrain: \u001b[0mWARNING ⚠️ /content/processed_dataset3/images/aug_e51becfb-919785.jpg: ignoring corrupt image/label: non-normalized or out of bounds coordinates [      510.5      1.0037]\n",
            "\u001b[34m\u001b[1mtrain: \u001b[0mWARNING ⚠️ /content/processed_dataset3/images/aug_e83eed3f-447914.jpg: ignoring corrupt image/label: non-normalized or out of bounds coordinates [     382.49      1.0074]\n",
            "\u001b[34m\u001b[1mtrain: \u001b[0mWARNING ⚠️ /content/processed_dataset3/images/aug_ebbc3258-2570036.jpg: ignoring corrupt image/label: non-normalized or out of bounds coordinates [     510.49]\n",
            "\u001b[34m\u001b[1mtrain: \u001b[0mWARNING ⚠️ /content/processed_dataset3/images/aug_edad813d-3401466.jpg: ignoring corrupt image/label: non-normalized or out of bounds coordinates [     8.0135]\n",
            "\u001b[34m\u001b[1mtrain: \u001b[0mWARNING ⚠️ /content/processed_dataset3/images/aug_ee2bb5a3-549804.jpg: ignoring corrupt image/label: non-normalized or out of bounds coordinates [     510.49]\n",
            "\u001b[34m\u001b[1mtrain: \u001b[0mWARNING ⚠️ /content/processed_dataset3/images/aug_f2047a23-5764.jpg: ignoring corrupt image/label: non-normalized or out of bounds coordinates [     548.76      67.091]\n",
            "\u001b[34m\u001b[1mtrain: \u001b[0mWARNING ⚠️ /content/processed_dataset3/images/aug_f221a416-1332728.jpg: ignoring corrupt image/label: non-normalized or out of bounds coordinates [     47.574]\n",
            "\u001b[34m\u001b[1mtrain: \u001b[0mWARNING ⚠️ /content/processed_dataset3/images/aug_f313d111-326809.jpg: ignoring corrupt image/label: non-normalized or out of bounds coordinates [     439.32      57.472]\n",
            "\u001b[34m\u001b[1mtrain: \u001b[0mWARNING ⚠️ /content/processed_dataset3/images/aug_f4df36a7-568773.jpg: ignoring corrupt image/label: non-normalized or out of bounds coordinates [     73.951]\n",
            "\u001b[34m\u001b[1mtrain: \u001b[0mWARNING ⚠️ /content/processed_dataset3/images/b1914a0b-712331.jpg: ignoring corrupt image/label: non-normalized or out of bounds coordinates [     509.82      509.89      509.54      509.14      509.51      509.18]\n",
            "\u001b[34m\u001b[1mtrain: \u001b[0mWARNING ⚠️ /content/processed_dataset3/images/b34d8eb8-1407753.jpg: ignoring corrupt image/label: non-normalized or out of bounds coordinates [     382.13]\n",
            "\u001b[34m\u001b[1mtrain: \u001b[0mWARNING ⚠️ /content/processed_dataset3/images/b5cfdd1f-2005627.jpg: ignoring corrupt image/label: non-normalized or out of bounds coordinates [     455.19      1.0392]\n",
            "\u001b[34m\u001b[1mtrain: \u001b[0mWARNING ⚠️ /content/processed_dataset3/images/b7607bac-1822700.jpg: ignoring corrupt image/label: non-normalized or out of bounds coordinates [      510.5]\n",
            "\u001b[34m\u001b[1mtrain: \u001b[0mWARNING ⚠️ /content/processed_dataset3/images/bc8305b7-72729.jpg: ignoring corrupt image/label: non-normalized or out of bounds coordinates [     487.35       487.1      486.85]\n",
            "\u001b[34m\u001b[1mtrain: \u001b[0mWARNING ⚠️ /content/processed_dataset3/images/c41ba1ea-1119011.jpg: ignoring corrupt image/label: non-normalized or out of bounds coordinates [     510.47]\n",
            "\u001b[34m\u001b[1mtrain: \u001b[0mWARNING ⚠️ /content/processed_dataset3/images/c492af2c-2431195.jpg: ignoring corrupt image/label: non-normalized or out of bounds coordinates [     27.196]\n",
            "\u001b[34m\u001b[1mtrain: \u001b[0mWARNING ⚠️ /content/processed_dataset3/images/c70e6beb-45515.jpg: ignoring corrupt image/label: non-normalized or out of bounds coordinates [     382.66]\n",
            "\u001b[34m\u001b[1mtrain: \u001b[0mWARNING ⚠️ /content/processed_dataset3/images/c99796f4-714866.jpg: ignoring corrupt image/label: non-normalized or out of bounds coordinates [      510.5]\n",
            "\u001b[34m\u001b[1mtrain: \u001b[0mWARNING ⚠️ /content/processed_dataset3/images/c9cc046a-1097991.jpg: ignoring corrupt image/label: non-normalized or out of bounds coordinates [      510.5]\n",
            "\u001b[34m\u001b[1mtrain: \u001b[0mWARNING ⚠️ /content/processed_dataset3/images/d0280983-2517724.jpg: ignoring corrupt image/label: non-normalized or out of bounds coordinates [     504.27]\n",
            "\u001b[34m\u001b[1mtrain: \u001b[0mWARNING ⚠️ /content/processed_dataset3/images/d3e6d927-2606829.jpg: ignoring corrupt image/label: non-normalized or out of bounds coordinates [     1.0018]\n",
            "\u001b[34m\u001b[1mtrain: \u001b[0mWARNING ⚠️ /content/processed_dataset3/images/d6aeab37-1193742.jpg: ignoring corrupt image/label: non-normalized or out of bounds coordinates [     510.75      510.43      510.47]\n",
            "\u001b[34m\u001b[1mtrain: \u001b[0mWARNING ⚠️ /content/processed_dataset3/images/d91e93a4-786596.jpg: ignoring corrupt image/label: non-normalized or out of bounds coordinates [     382.47]\n",
            "\u001b[34m\u001b[1mtrain: \u001b[0mWARNING ⚠️ /content/processed_dataset3/images/d99b0683-863509.jpg: ignoring corrupt image/label: non-normalized or out of bounds coordinates [     510.51]\n",
            "\u001b[34m\u001b[1mtrain: \u001b[0mWARNING ⚠️ /content/processed_dataset3/images/dad95938-2844278.jpg: ignoring corrupt image/label: non-normalized or out of bounds coordinates [     560.31      62.756      1.1816       1.162]\n",
            "\u001b[34m\u001b[1mtrain: \u001b[0mWARNING ⚠️ /content/processed_dataset3/images/df117ee2-232737.jpg: ignoring corrupt image/label: non-normalized or out of bounds coordinates [     1.0052]\n",
            "\u001b[34m\u001b[1mtrain: \u001b[0mWARNING ⚠️ /content/processed_dataset3/images/e51becfb-919785.jpg: ignoring corrupt image/label: non-normalized or out of bounds coordinates [      510.5      1.0037]\n",
            "\u001b[34m\u001b[1mtrain: \u001b[0mWARNING ⚠️ /content/processed_dataset3/images/e83eed3f-447914.jpg: ignoring corrupt image/label: non-normalized or out of bounds coordinates [     422.84      36.467      1.0993]\n",
            "\u001b[34m\u001b[1mtrain: \u001b[0mWARNING ⚠️ /content/processed_dataset3/images/ebbc3258-2570036.jpg: ignoring corrupt image/label: non-normalized or out of bounds coordinates [     510.49]\n",
            "\u001b[34m\u001b[1mtrain: \u001b[0mWARNING ⚠️ /content/processed_dataset3/images/edad813d-3401466.jpg: ignoring corrupt image/label: non-normalized or out of bounds coordinates [     510.52]\n",
            "\u001b[34m\u001b[1mtrain: \u001b[0mWARNING ⚠️ /content/processed_dataset3/images/f2047a23-5764.jpg: ignoring corrupt image/label: non-normalized or out of bounds coordinates [     510.49]\n",
            "\u001b[34m\u001b[1mtrain: \u001b[0mWARNING ⚠️ /content/processed_dataset3/images/f2e1cb2e-1782666.jpg: ignoring corrupt image/label: non-normalized or out of bounds coordinates [     444.94]\n",
            "\u001b[34m\u001b[1mtrain: \u001b[0mWARNING ⚠️ /content/processed_dataset3/images/f313d111-326809.jpg: ignoring corrupt image/label: non-normalized or out of bounds coordinates [     410.64      26.015]\n",
            "\u001b[34m\u001b[1mtrain: \u001b[0mWARNING ⚠️ /content/processed_dataset3/images/f4df36a7-568773.jpg: ignoring corrupt image/label: non-normalized or out of bounds coordinates [     42.903      1.0033]\n",
            "\u001b[34m\u001b[1mtrain: \u001b[0mWARNING ⚠️ /content/processed_dataset3/images/f82da03c-68684.jpg: ignoring corrupt image/label: non-normalized or out of bounds coordinates [     510.52]\n",
            "\u001b[34m\u001b[1mtrain: \u001b[0mWARNING ⚠️ /content/processed_dataset3/images/fbf0cf11-3057757.jpg: ignoring corrupt image/label: non-normalized or out of bounds coordinates [     382.51]\n",
            "\u001b[34m\u001b[1mtrain: \u001b[0mNew cache created: /content/processed_dataset3/labels.cache\n",
            "\u001b[34m\u001b[1malbumentations: \u001b[0mBlur(p=0.01, blur_limit=(3, 7)), MedianBlur(p=0.01, blur_limit=(3, 7)), ToGray(p=0.01, num_output_channels=3, method='weighted_average'), CLAHE(p=0.01, clip_limit=(1.0, 4.0), tile_grid_size=(8, 8))\n"
          ]
        },
        {
          "output_type": "stream",
          "name": "stderr",
          "text": [
            "\n",
            "\u001b[34m\u001b[1mval: \u001b[0mScanning /content/processed_dataset3/labels.cache... 324 images, 0 backgrounds, 218 corrupt: 100%|██████████| 324/324 [00:00<?, ?it/s]"
          ]
        },
        {
          "output_type": "stream",
          "name": "stdout",
          "text": [
            "\u001b[34m\u001b[1mtrain: \u001b[0mWARNING ⚠️ /content/processed_dataset3/images/01c252f8-1574421.jpg: ignoring corrupt image/label: non-normalized or out of bounds coordinates [     382.36      382.71      382.74      382.65      382.38      382.36      382.11      382.91      382.68]\n",
            "\u001b[34m\u001b[1mtrain: \u001b[0mWARNING ⚠️ /content/processed_dataset3/images/02c4415a-995801.jpg: ignoring corrupt image/label: non-normalized or out of bounds coordinates [     19.226]\n",
            "\u001b[34m\u001b[1mtrain: \u001b[0mWARNING ⚠️ /content/processed_dataset3/images/069f9c9b-118126.jpg: ignoring corrupt image/label: non-normalized or out of bounds coordinates [     382.52]\n",
            "\u001b[34m\u001b[1mtrain: \u001b[0mWARNING ⚠️ /content/processed_dataset3/images/07e95446-2781056.jpg: ignoring corrupt image/label: non-normalized or out of bounds coordinates [     510.57]\n",
            "\u001b[34m\u001b[1mtrain: \u001b[0mWARNING ⚠️ /content/processed_dataset3/images/080248d8-2031692.jpg: ignoring corrupt image/label: non-normalized or out of bounds coordinates [     496.58      1.0339]\n",
            "\u001b[34m\u001b[1mtrain: \u001b[0mWARNING ⚠️ /content/processed_dataset3/images/082737e5-2498460.jpg: ignoring corrupt image/label: non-normalized or out of bounds coordinates [     510.15]\n",
            "\u001b[34m\u001b[1mtrain: \u001b[0mWARNING ⚠️ /content/processed_dataset3/images/0b45d160-3763432.jpg: ignoring corrupt image/label: non-normalized or out of bounds coordinates [     543.83      38.935]\n",
            "\u001b[34m\u001b[1mtrain: \u001b[0mWARNING ⚠️ /content/processed_dataset3/images/0d1879f9-358748.jpg: ignoring corrupt image/label: non-normalized or out of bounds coordinates [     380.54]\n",
            "\u001b[34m\u001b[1mtrain: \u001b[0mWARNING ⚠️ /content/processed_dataset3/images/11c97300-3515250.jpg: ignoring corrupt image/label: non-normalized or out of bounds coordinates [      510.5]\n",
            "\u001b[34m\u001b[1mtrain: \u001b[0mWARNING ⚠️ /content/processed_dataset3/images/123adde7-3827966.jpg: ignoring corrupt image/label: non-normalized or out of bounds coordinates [     512.25      2.2466]\n",
            "\u001b[34m\u001b[1mtrain: \u001b[0mWARNING ⚠️ /content/processed_dataset3/images/165a1c35-538037.jpg: ignoring corrupt image/label: non-normalized or out of bounds coordinates [     42.876]\n",
            "\u001b[34m\u001b[1mtrain: \u001b[0mWARNING ⚠️ /content/processed_dataset3/images/179a55c2-663285.jpg: ignoring corrupt image/label: non-normalized or out of bounds coordinates [     23.059      1.0093       1.094]\n",
            "\u001b[34m\u001b[1mtrain: \u001b[0mWARNING ⚠️ /content/processed_dataset3/images/18717882-2580309.jpg: ignoring corrupt image/label: non-normalized or out of bounds coordinates [     545.02      40.295      544.49      40.118]\n",
            "\u001b[34m\u001b[1mtrain: \u001b[0mWARNING ⚠️ /content/processed_dataset3/images/1ac491f4-2569760.jpg: ignoring corrupt image/label: non-normalized or out of bounds coordinates [     382.49      1.0024]\n",
            "\u001b[34m\u001b[1mtrain: \u001b[0mWARNING ⚠️ /content/processed_dataset3/images/2bf4eb29-1137400.jpg: ignoring corrupt image/label: non-normalized or out of bounds coordinates [     1.0037]\n",
            "\u001b[34m\u001b[1mtrain: \u001b[0mWARNING ⚠️ /content/processed_dataset3/images/2d139c35-3082443.jpg: ignoring corrupt image/label: non-normalized or out of bounds coordinates [     510.52]\n",
            "\u001b[34m\u001b[1mtrain: \u001b[0mWARNING ⚠️ /content/processed_dataset3/images/2db1fae2-45067.jpg: ignoring corrupt image/label: non-normalized or out of bounds coordinates [     530.17      30.036]\n",
            "\u001b[34m\u001b[1mtrain: \u001b[0mWARNING ⚠️ /content/processed_dataset3/images/2fa4bd26-1668806.jpg: ignoring corrupt image/label: non-normalized or out of bounds coordinates [     556.33      56.565]\n",
            "\u001b[34m\u001b[1mtrain: \u001b[0mWARNING ⚠️ /content/processed_dataset3/images/315f30af-153082.jpg: ignoring corrupt image/label: non-normalized or out of bounds coordinates [     510.43]\n",
            "\u001b[34m\u001b[1mtrain: \u001b[0mWARNING ⚠️ /content/processed_dataset3/images/341758e6-1725269.jpg: ignoring corrupt image/label: non-normalized or out of bounds coordinates [     510.49]\n",
            "\u001b[34m\u001b[1mtrain: \u001b[0mWARNING ⚠️ /content/processed_dataset3/images/36054e32-680155.jpg: ignoring corrupt image/label: non-normalized or out of bounds coordinates [     7.8623]\n",
            "\u001b[34m\u001b[1mtrain: \u001b[0mWARNING ⚠️ /content/processed_dataset3/images/368b7222-2240535.jpg: ignoring corrupt image/label: non-normalized or out of bounds coordinates [     510.54]\n",
            "\u001b[34m\u001b[1mtrain: \u001b[0mWARNING ⚠️ /content/processed_dataset3/images/386040bf-2752957.jpg: ignoring corrupt image/label: non-normalized or out of bounds coordinates [     520.66      16.994      1.0181]\n",
            "\u001b[34m\u001b[1mtrain: \u001b[0mWARNING ⚠️ /content/processed_dataset3/images/39245006-2352914.jpg: ignoring corrupt image/label: non-normalized or out of bounds coordinates [     10.468      10.557      10.506      10.461      10.436]\n",
            "\u001b[34m\u001b[1mtrain: \u001b[0mWARNING ⚠️ /content/processed_dataset3/images/3a42925b-238730.jpg: ignoring corrupt image/label: non-normalized or out of bounds coordinates [     380.59]\n",
            "\u001b[34m\u001b[1mtrain: \u001b[0mWARNING ⚠️ /content/processed_dataset3/images/42999b7e-909848.jpg: ignoring corrupt image/label: non-normalized or out of bounds coordinates [     510.68      510.17       510.5      510.43]\n",
            "\u001b[34m\u001b[1mtrain: \u001b[0mWARNING ⚠️ /content/processed_dataset3/images/4549f6c3-1127099.jpg: ignoring corrupt image/label: non-normalized or out of bounds coordinates [      510.5]\n",
            "\u001b[34m\u001b[1mtrain: \u001b[0mWARNING ⚠️ /content/processed_dataset3/images/47e94771-1368498.jpg: ignoring corrupt image/label: non-normalized or out of bounds coordinates [     58.502      58.947      58.896      58.472]\n",
            "\u001b[34m\u001b[1mtrain: \u001b[0mWARNING ⚠️ /content/processed_dataset3/images/48802d1d-316451.jpg: ignoring corrupt image/label: non-normalized or out of bounds coordinates [     510.96      510.66      510.31      510.39      510.67      510.94]\n",
            "\u001b[34m\u001b[1mtrain: \u001b[0mWARNING ⚠️ /content/processed_dataset3/images/4a2f89b1-1279146.jpg: ignoring corrupt image/label: non-normalized or out of bounds coordinates [     526.37      23.673]\n",
            "\u001b[34m\u001b[1mtrain: \u001b[0mWARNING ⚠️ /content/processed_dataset3/images/4a45f233-1680339.jpg: ignoring corrupt image/label: non-normalized or out of bounds coordinates [      510.5      1.0037]\n",
            "\u001b[34m\u001b[1mtrain: \u001b[0mWARNING ⚠️ /content/processed_dataset3/images/4db73d0e-3382880.jpg: ignoring corrupt image/label: non-normalized or out of bounds coordinates [     314.84      18.042]\n",
            "\u001b[34m\u001b[1mtrain: \u001b[0mWARNING ⚠️ /content/processed_dataset3/images/4f66689a-2519291.jpg: ignoring corrupt image/label: non-normalized or out of bounds coordinates [     1.0016]\n",
            "\u001b[34m\u001b[1mtrain: \u001b[0mWARNING ⚠️ /content/processed_dataset3/images/4f8944b4-1099080.jpg: ignoring corrupt image/label: non-normalized or out of bounds coordinates [        557      58.281]\n",
            "\u001b[34m\u001b[1mtrain: \u001b[0mWARNING ⚠️ /content/processed_dataset3/images/5002917a-1327402.jpg: ignoring corrupt image/label: non-normalized or out of bounds coordinates [      510.5]\n",
            "\u001b[34m\u001b[1mtrain: \u001b[0mWARNING ⚠️ /content/processed_dataset3/images/516a61a1-3543883.jpg: ignoring corrupt image/label: non-normalized or out of bounds coordinates [     510.48]\n",
            "\u001b[34m\u001b[1mtrain: \u001b[0mWARNING ⚠️ /content/processed_dataset3/images/52de6bd3-1029698.jpg: ignoring corrupt image/label: non-normalized or out of bounds coordinates [     510.49      1.0055]\n",
            "\u001b[34m\u001b[1mtrain: \u001b[0mWARNING ⚠️ /content/processed_dataset3/images/53cc0189-258111.jpg: ignoring corrupt image/label: non-normalized or out of bounds coordinates [     510.43]\n",
            "\u001b[34m\u001b[1mtrain: \u001b[0mWARNING ⚠️ /content/processed_dataset3/images/56831cfb-2198043.jpg: ignoring corrupt image/label: non-normalized or out of bounds coordinates [     17.538]\n",
            "\u001b[34m\u001b[1mtrain: \u001b[0mWARNING ⚠️ /content/processed_dataset3/images/599796b1-478300.jpg: ignoring corrupt image/label: non-normalized or out of bounds coordinates [     56.126]\n",
            "\u001b[34m\u001b[1mtrain: \u001b[0mWARNING ⚠️ /content/processed_dataset3/images/5a682264-20777.jpg: ignoring corrupt image/label: non-normalized or out of bounds coordinates [     44.782      44.659      44.656      44.349      44.287      44.186      44.134]\n",
            "\u001b[34m\u001b[1mtrain: \u001b[0mWARNING ⚠️ /content/processed_dataset3/images/5c099022-1873816.jpg: ignoring corrupt image/label: non-normalized or out of bounds coordinates [     492.41]\n",
            "\u001b[34m\u001b[1mtrain: \u001b[0mWARNING ⚠️ /content/processed_dataset3/images/5cdbcd1e-2278442.jpg: ignoring corrupt image/label: non-normalized or out of bounds coordinates [     346.45]\n",
            "\u001b[34m\u001b[1mtrain: \u001b[0mWARNING ⚠️ /content/processed_dataset3/images/5e83e2b2-2670852.jpg: ignoring corrupt image/label: non-normalized or out of bounds coordinates [     510.43]\n",
            "\u001b[34m\u001b[1mtrain: \u001b[0mWARNING ⚠️ /content/processed_dataset3/images/605b2856-383439.jpg: ignoring corrupt image/label: non-normalized or out of bounds coordinates [     510.57]\n",
            "\u001b[34m\u001b[1mtrain: \u001b[0mWARNING ⚠️ /content/processed_dataset3/images/6079f86d-3323080.jpg: ignoring corrupt image/label: non-normalized or out of bounds coordinates [      16.07      15.931]\n",
            "\u001b[34m\u001b[1mtrain: \u001b[0mWARNING ⚠️ /content/processed_dataset3/images/6193491e-2155429.jpg: ignoring corrupt image/label: non-normalized or out of bounds coordinates [     527.38       18.65]\n",
            "\u001b[34m\u001b[1mtrain: \u001b[0mWARNING ⚠️ /content/processed_dataset3/images/61fe7abb-573054.jpg: ignoring corrupt image/label: non-normalized or out of bounds coordinates [     67.395      1.0276]\n",
            "\u001b[34m\u001b[1mtrain: \u001b[0mWARNING ⚠️ /content/processed_dataset3/images/6aacbfee-3734413.jpg: ignoring corrupt image/label: non-normalized or out of bounds coordinates [     532.14      24.079      1.0008]\n",
            "\u001b[34m\u001b[1mtrain: \u001b[0mWARNING ⚠️ /content/processed_dataset3/images/6bfa534a-870449.jpg: ignoring corrupt image/label: non-normalized or out of bounds coordinates [     510.56]\n",
            "\u001b[34m\u001b[1mtrain: \u001b[0mWARNING ⚠️ /content/processed_dataset3/images/71632285-1259816.jpg: ignoring corrupt image/label: non-normalized or out of bounds coordinates [     27.897      1.0309]\n",
            "\u001b[34m\u001b[1mtrain: \u001b[0mWARNING ⚠️ /content/processed_dataset3/images/7462b06a-1727509.jpg: ignoring corrupt image/label: non-normalized or out of bounds coordinates [     73.413      1.2027      1.1334]\n",
            "\u001b[34m\u001b[1mtrain: \u001b[0mWARNING ⚠️ /content/processed_dataset3/images/75817f79-3693594.jpg: ignoring corrupt image/label: non-normalized or out of bounds coordinates [     44.322]\n",
            "\u001b[34m\u001b[1mtrain: \u001b[0mWARNING ⚠️ /content/processed_dataset3/images/7637160e-2772699.jpg: ignoring corrupt image/label: non-normalized or out of bounds coordinates [     33.551]\n",
            "\u001b[34m\u001b[1mtrain: \u001b[0mWARNING ⚠️ /content/processed_dataset3/images/772987e1-3018077.jpg: ignoring corrupt image/label: non-normalized or out of bounds coordinates [     29.406]\n",
            "\u001b[34m\u001b[1mtrain: \u001b[0mWARNING ⚠️ /content/processed_dataset3/images/7c808801-2265512.jpg: ignoring corrupt image/label: non-normalized or out of bounds coordinates [     14.114      1.0455]\n",
            "\u001b[34m\u001b[1mtrain: \u001b[0mWARNING ⚠️ /content/processed_dataset3/images/7f3c9225-403431.jpg: ignoring corrupt image/label: non-normalized or out of bounds coordinates [     1.0018]\n",
            "\u001b[34m\u001b[1mtrain: \u001b[0mWARNING ⚠️ /content/processed_dataset3/images/7ff5a4ea-3763593.jpg: ignoring corrupt image/label: non-normalized or out of bounds coordinates [     43.057]\n",
            "\u001b[34m\u001b[1mtrain: \u001b[0mWARNING ⚠️ /content/processed_dataset3/images/8407a260-2323548.jpg: ignoring corrupt image/label: non-normalized or out of bounds coordinates [     509.13]\n",
            "\u001b[34m\u001b[1mtrain: \u001b[0mWARNING ⚠️ /content/processed_dataset3/images/84c1baf6-706931.jpg: ignoring corrupt image/label: non-normalized or out of bounds coordinates [     46.104      46.562]\n",
            "\u001b[34m\u001b[1mtrain: \u001b[0mWARNING ⚠️ /content/processed_dataset3/images/8763e50e-265406.jpg: ignoring corrupt image/label: non-normalized or out of bounds coordinates [     30.522]\n",
            "\u001b[34m\u001b[1mtrain: \u001b[0mWARNING ⚠️ /content/processed_dataset3/images/8765709f-3381633.jpg: ignoring corrupt image/label: non-normalized or out of bounds coordinates [     510.48]\n",
            "\u001b[34m\u001b[1mtrain: \u001b[0mWARNING ⚠️ /content/processed_dataset3/images/88a65abd-920703.jpg: ignoring corrupt image/label: non-normalized or out of bounds coordinates [     501.87      501.54      501.78      501.53      501.73      501.58      501.55      501.69      501.56]\n",
            "\u001b[34m\u001b[1mtrain: \u001b[0mWARNING ⚠️ /content/processed_dataset3/images/8af03f92-135434.jpg: ignoring corrupt image/label: non-normalized or out of bounds coordinates [     548.22      65.758       1.134      1.1032]\n",
            "\u001b[34m\u001b[1mtrain: \u001b[0mWARNING ⚠️ /content/processed_dataset3/images/8be40675-1854061.jpg: ignoring corrupt image/label: non-normalized or out of bounds coordinates [     510.69      510.62]\n",
            "\u001b[34m\u001b[1mtrain: \u001b[0mWARNING ⚠️ /content/processed_dataset3/images/93d0e528-495881.jpg: ignoring corrupt image/label: non-normalized or out of bounds coordinates [      547.6      64.784]\n",
            "\u001b[34m\u001b[1mtrain: \u001b[0mWARNING ⚠️ /content/processed_dataset3/images/94b0882f-2296393.jpg: ignoring corrupt image/label: non-normalized or out of bounds coordinates [     510.51]\n",
            "\u001b[34m\u001b[1mtrain: \u001b[0mWARNING ⚠️ /content/processed_dataset3/images/979af42c-584916.jpg: ignoring corrupt image/label: non-normalized or out of bounds coordinates [     529.81      21.559]\n",
            "\u001b[34m\u001b[1mtrain: \u001b[0mWARNING ⚠️ /content/processed_dataset3/images/98da9fce-3680697.jpg: ignoring corrupt image/label: non-normalized or out of bounds coordinates [     510.31      510.77      510.16      510.49      510.78]\n",
            "\u001b[34m\u001b[1mtrain: \u001b[0mWARNING ⚠️ /content/processed_dataset3/images/998aff27-515907.jpg: ignoring corrupt image/label: non-normalized or out of bounds coordinates [     510.48]\n",
            "\u001b[34m\u001b[1mtrain: \u001b[0mWARNING ⚠️ /content/processed_dataset3/images/99ef7210-2670730.jpg: ignoring corrupt image/label: non-normalized or out of bounds coordinates [     67.297      1.1451      1.0761]\n",
            "\u001b[34m\u001b[1mtrain: \u001b[0mWARNING ⚠️ /content/processed_dataset3/images/9a0f67a2-210027.jpg: ignoring corrupt image/label: non-normalized or out of bounds coordinates [     43.566]\n",
            "\u001b[34m\u001b[1mtrain: \u001b[0mWARNING ⚠️ /content/processed_dataset3/images/9e120cc8-1981348.jpg: ignoring corrupt image/label: non-normalized or out of bounds coordinates [     420.76      35.292]\n",
            "\u001b[34m\u001b[1mtrain: \u001b[0mWARNING ⚠️ /content/processed_dataset3/images/a1c949d3-2318938.jpg: ignoring corrupt image/label: non-normalized or out of bounds coordinates [     35.058      1.0569]\n",
            "\u001b[34m\u001b[1mtrain: \u001b[0mWARNING ⚠️ /content/processed_dataset3/images/a20654e4-2466030.jpg: ignoring corrupt image/label: non-normalized or out of bounds coordinates [      510.5]\n",
            "\u001b[34m\u001b[1mtrain: \u001b[0mWARNING ⚠️ /content/processed_dataset3/images/a2fe1ab4-1021229.jpg: ignoring corrupt image/label: non-normalized or out of bounds coordinates [     510.48]\n",
            "\u001b[34m\u001b[1mtrain: \u001b[0mWARNING ⚠️ /content/processed_dataset3/images/acf84d70-2476468.jpg: ignoring corrupt image/label: non-normalized or out of bounds coordinates [     510.47]\n",
            "\u001b[34m\u001b[1mtrain: \u001b[0mWARNING ⚠️ /content/processed_dataset3/images/adf3da67-2968258.jpg: ignoring corrupt image/label: non-normalized or out of bounds coordinates [     510.49]\n",
            "\u001b[34m\u001b[1mtrain: \u001b[0mWARNING ⚠️ /content/processed_dataset3/images/ae8acbac-2236338.jpg: ignoring corrupt image/label: non-normalized or out of bounds coordinates [     509.11      1.0067]\n",
            "\u001b[34m\u001b[1mtrain: \u001b[0mWARNING ⚠️ /content/processed_dataset3/images/aed7bc39-2948329.jpg: ignoring corrupt image/label: non-normalized or out of bounds coordinates [     510.52]\n",
            "\u001b[34m\u001b[1mtrain: \u001b[0mWARNING ⚠️ /content/processed_dataset3/images/af82b8b2-8917.jpg: ignoring corrupt image/label: non-normalized or out of bounds coordinates [     1.0009]\n",
            "\u001b[34m\u001b[1mtrain: \u001b[0mWARNING ⚠️ /content/processed_dataset3/images/aug_02e731de-1106165.jpg: ignoring corrupt image/label: non-normalized or out of bounds coordinates [     510.53]\n",
            "\u001b[34m\u001b[1mtrain: \u001b[0mWARNING ⚠️ /content/processed_dataset3/images/aug_07e95446-2781056.jpg: ignoring corrupt image/label: non-normalized or out of bounds coordinates [     510.57]\n",
            "\u001b[34m\u001b[1mtrain: \u001b[0mWARNING ⚠️ /content/processed_dataset3/images/aug_080248d8-2031692.jpg: ignoring corrupt image/label: non-normalized or out of bounds coordinates [     460.37       1.147      1.0487]\n",
            "\u001b[34m\u001b[1mtrain: \u001b[0mWARNING ⚠️ /content/processed_dataset3/images/aug_082737e5-2498460.jpg: ignoring corrupt image/label: non-normalized or out of bounds coordinates [     510.15]\n",
            "\u001b[34m\u001b[1mtrain: \u001b[0mWARNING ⚠️ /content/processed_dataset3/images/aug_0b45d160-3763432.jpg: ignoring corrupt image/label: non-normalized or out of bounds coordinates [     510.47]\n",
            "\u001b[34m\u001b[1mtrain: \u001b[0mWARNING ⚠️ /content/processed_dataset3/images/aug_11c97300-3515250.jpg: ignoring corrupt image/label: non-normalized or out of bounds coordinates [     523.24      13.914      1.0485      1.0162]\n",
            "\u001b[34m\u001b[1mtrain: \u001b[0mWARNING ⚠️ /content/processed_dataset3/images/aug_120ddac2-2674351.jpg: ignoring corrupt image/label: non-normalized or out of bounds coordinates [     510.49]\n",
            "\u001b[34m\u001b[1mtrain: \u001b[0mWARNING ⚠️ /content/processed_dataset3/images/aug_179a55c2-663285.jpg: ignoring corrupt image/label: non-normalized or out of bounds coordinates [     10.584      1.0305]\n",
            "\u001b[34m\u001b[1mtrain: \u001b[0mWARNING ⚠️ /content/processed_dataset3/images/aug_18717882-2580309.jpg: ignoring corrupt image/label: non-normalized or out of bounds coordinates [     510.76      510.22]\n",
            "\u001b[34m\u001b[1mtrain: \u001b[0mWARNING ⚠️ /content/processed_dataset3/images/aug_1ac491f4-2569760.jpg: ignoring corrupt image/label: non-normalized or out of bounds coordinates [     1.0025]\n",
            "\u001b[34m\u001b[1mtrain: \u001b[0mWARNING ⚠️ /content/processed_dataset3/images/aug_1ce34d36-3606882.jpg: ignoring corrupt image/label: non-normalized or out of bounds coordinates [     541.62      35.795]\n",
            "\u001b[34m\u001b[1mtrain: \u001b[0mWARNING ⚠️ /content/processed_dataset3/images/aug_23229113-3839255.jpg: ignoring corrupt image/label: non-normalized or out of bounds coordinates [     382.47]\n",
            "\u001b[34m\u001b[1mtrain: \u001b[0mWARNING ⚠️ /content/processed_dataset3/images/aug_2bf4eb29-1137400.jpg: ignoring corrupt image/label: non-normalized or out of bounds coordinates [     510.49      1.0037]\n",
            "\u001b[34m\u001b[1mtrain: \u001b[0mWARNING ⚠️ /content/processed_dataset3/images/aug_2d139c35-3082443.jpg: ignoring corrupt image/label: non-normalized or out of bounds coordinates [     27.212]\n",
            "\u001b[34m\u001b[1mtrain: \u001b[0mWARNING ⚠️ /content/processed_dataset3/images/aug_2d7fc5ad-1581355.jpg: ignoring corrupt image/label: non-normalized or out of bounds coordinates [     510.49]\n",
            "\u001b[34m\u001b[1mtrain: \u001b[0mWARNING ⚠️ /content/processed_dataset3/images/aug_2fa4bd26-1668806.jpg: ignoring corrupt image/label: non-normalized or out of bounds coordinates [     510.57]\n",
            "\u001b[34m\u001b[1mtrain: \u001b[0mWARNING ⚠️ /content/processed_dataset3/images/aug_341758e6-1725269.jpg: ignoring corrupt image/label: non-normalized or out of bounds coordinates [     510.49]\n",
            "\u001b[34m\u001b[1mtrain: \u001b[0mWARNING ⚠️ /content/processed_dataset3/images/aug_368b7222-2240535.jpg: ignoring corrupt image/label: non-normalized or out of bounds coordinates [     42.166]\n",
            "\u001b[34m\u001b[1mtrain: \u001b[0mWARNING ⚠️ /content/processed_dataset3/images/aug_37eae2a5-1676252.jpg: ignoring corrupt image/label: non-normalized or out of bounds coordinates [     35.189       34.82]\n",
            "\u001b[34m\u001b[1mtrain: \u001b[0mWARNING ⚠️ /content/processed_dataset3/images/aug_386040bf-2752957.jpg: ignoring corrupt image/label: non-normalized or out of bounds coordinates [     464.77      1.0253]\n",
            "\u001b[34m\u001b[1mtrain: \u001b[0mWARNING ⚠️ /content/processed_dataset3/images/aug_3a42925b-238730.jpg: ignoring corrupt image/label: non-normalized or out of bounds coordinates [     377.43]\n",
            "\u001b[34m\u001b[1mtrain: \u001b[0mWARNING ⚠️ /content/processed_dataset3/images/aug_433cf466-245724.jpg: ignoring corrupt image/label: non-normalized or out of bounds coordinates [     56.728]\n",
            "\u001b[34m\u001b[1mtrain: \u001b[0mWARNING ⚠️ /content/processed_dataset3/images/aug_4549f6c3-1127099.jpg: ignoring corrupt image/label: non-normalized or out of bounds coordinates [      510.5]\n",
            "\u001b[34m\u001b[1mtrain: \u001b[0mWARNING ⚠️ /content/processed_dataset3/images/aug_47e94771-1368498.jpg: ignoring corrupt image/label: non-normalized or out of bounds coordinates [     484.41      484.48      484.12      484.06]\n",
            "\u001b[34m\u001b[1mtrain: \u001b[0mWARNING ⚠️ /content/processed_dataset3/images/aug_48802d1d-316451.jpg: ignoring corrupt image/label: non-normalized or out of bounds coordinates [     489.77      489.47      489.12      489.16      489.44      489.71]\n",
            "\u001b[34m\u001b[1mtrain: \u001b[0mWARNING ⚠️ /content/processed_dataset3/images/aug_49228c3a-2587921.jpg: ignoring corrupt image/label: non-normalized or out of bounds coordinates [     65.274]\n",
            "\u001b[34m\u001b[1mtrain: \u001b[0mWARNING ⚠️ /content/processed_dataset3/images/aug_4a2f89b1-1279146.jpg: ignoring corrupt image/label: non-normalized or out of bounds coordinates [     510.47]\n",
            "\u001b[34m\u001b[1mtrain: \u001b[0mWARNING ⚠️ /content/processed_dataset3/images/aug_4a45f233-1680339.jpg: ignoring corrupt image/label: non-normalized or out of bounds coordinates [     1.0037]\n",
            "\u001b[34m\u001b[1mtrain: \u001b[0mWARNING ⚠️ /content/processed_dataset3/images/aug_4ae53831-3790643.jpg: ignoring corrupt image/label: non-normalized or out of bounds coordinates [     286.46]\n",
            "\u001b[34m\u001b[1mtrain: \u001b[0mWARNING ⚠️ /content/processed_dataset3/images/aug_4db73d0e-3382880.jpg: ignoring corrupt image/label: non-normalized or out of bounds coordinates [     59.243]\n",
            "\u001b[34m\u001b[1mtrain: \u001b[0mWARNING ⚠️ /content/processed_dataset3/images/aug_4f66689a-2519291.jpg: ignoring corrupt image/label: non-normalized or out of bounds coordinates [      510.5      1.0016]\n",
            "\u001b[34m\u001b[1mtrain: \u001b[0mWARNING ⚠️ /content/processed_dataset3/images/aug_4f8944b4-1099080.jpg: ignoring corrupt image/label: non-normalized or out of bounds coordinates [     510.25]\n",
            "\u001b[34m\u001b[1mtrain: \u001b[0mWARNING ⚠️ /content/processed_dataset3/images/aug_516a61a1-3543883.jpg: ignoring corrupt image/label: non-normalized or out of bounds coordinates [     510.48]\n",
            "\u001b[34m\u001b[1mtrain: \u001b[0mWARNING ⚠️ /content/processed_dataset3/images/aug_52de6bd3-1029698.jpg: ignoring corrupt image/label: non-normalized or out of bounds coordinates [     510.49      1.0055]\n",
            "\u001b[34m\u001b[1mtrain: \u001b[0mWARNING ⚠️ /content/processed_dataset3/images/aug_53cc0189-258111.jpg: ignoring corrupt image/label: non-normalized or out of bounds coordinates [     510.43]\n",
            "\u001b[34m\u001b[1mtrain: \u001b[0mWARNING ⚠️ /content/processed_dataset3/images/aug_5528cfb5-3921590.jpg: ignoring corrupt image/label: non-normalized or out of bounds coordinates [     510.43]\n",
            "\u001b[34m\u001b[1mtrain: \u001b[0mWARNING ⚠️ /content/processed_dataset3/images/aug_56831cfb-2198043.jpg: ignoring corrupt image/label: non-normalized or out of bounds coordinates [     563.94      68.757]\n",
            "\u001b[34m\u001b[1mtrain: \u001b[0mWARNING ⚠️ /content/processed_dataset3/images/aug_599796b1-478300.jpg: ignoring corrupt image/label: non-normalized or out of bounds coordinates [     17.719       1.003]\n",
            "\u001b[34m\u001b[1mtrain: \u001b[0mWARNING ⚠️ /content/processed_dataset3/images/aug_5a682264-20777.jpg: ignoring corrupt image/label: non-normalized or out of bounds coordinates [     385.89      3.0466      385.51      2.9756      385.18      3.0634      385.84      2.6149      385.58      2.6033      385.29      2.5563      385.12      2.5416]\n",
            "\u001b[34m\u001b[1mtrain: \u001b[0mWARNING ⚠️ /content/processed_dataset3/images/aug_5c099022-1873816.jpg: ignoring corrupt image/label: non-normalized or out of bounds coordinates [     510.48]\n",
            "\u001b[34m\u001b[1mtrain: \u001b[0mWARNING ⚠️ /content/processed_dataset3/images/aug_5e83e2b2-2670852.jpg: ignoring corrupt image/label: non-normalized or out of bounds coordinates [     5.6548]\n",
            "\u001b[34m\u001b[1mtrain: \u001b[0mWARNING ⚠️ /content/processed_dataset3/images/aug_605b2856-383439.jpg: ignoring corrupt image/label: non-normalized or out of bounds coordinates [     510.57]\n",
            "\u001b[34m\u001b[1mtrain: \u001b[0mWARNING ⚠️ /content/processed_dataset3/images/aug_6193491e-2155429.jpg: ignoring corrupt image/label: non-normalized or out of bounds coordinates [     510.58]\n",
            "\u001b[34m\u001b[1mtrain: \u001b[0mWARNING ⚠️ /content/processed_dataset3/images/aug_61fe7abb-573054.jpg: ignoring corrupt image/label: non-normalized or out of bounds coordinates [     512.74      2.9127]\n",
            "\u001b[34m\u001b[1mtrain: \u001b[0mWARNING ⚠️ /content/processed_dataset3/images/aug_6aacbfee-3734413.jpg: ignoring corrupt image/label: non-normalized or out of bounds coordinates [      510.5]\n",
            "\u001b[34m\u001b[1mtrain: \u001b[0mWARNING ⚠️ /content/processed_dataset3/images/aug_7637160e-2772699.jpg: ignoring corrupt image/label: non-normalized or out of bounds coordinates [     510.57]\n",
            "\u001b[34m\u001b[1mtrain: \u001b[0mWARNING ⚠️ /content/processed_dataset3/images/aug_772987e1-3018077.jpg: ignoring corrupt image/label: non-normalized or out of bounds coordinates [     565.73       71.63]\n",
            "\u001b[34m\u001b[1mtrain: \u001b[0mWARNING ⚠️ /content/processed_dataset3/images/aug_7c808801-2265512.jpg: ignoring corrupt image/label: non-normalized or out of bounds coordinates [     474.54      1.1131]\n",
            "\u001b[34m\u001b[1mtrain: \u001b[0mWARNING ⚠️ /content/processed_dataset3/images/aug_7d531957-3282393.jpg: ignoring corrupt image/label: non-normalized or out of bounds coordinates [      510.5]\n",
            "\u001b[34m\u001b[1mtrain: \u001b[0mWARNING ⚠️ /content/processed_dataset3/images/aug_7f3c9225-403431.jpg: ignoring corrupt image/label: non-normalized or out of bounds coordinates [      510.5      1.0019]\n",
            "\u001b[34m\u001b[1mtrain: \u001b[0mWARNING ⚠️ /content/processed_dataset3/images/aug_7ff5a4ea-3763593.jpg: ignoring corrupt image/label: non-normalized or out of bounds coordinates [     548.64      45.632]\n",
            "\u001b[34m\u001b[1mtrain: \u001b[0mWARNING ⚠️ /content/processed_dataset3/images/aug_833cbb3b-2984337.jpg: ignoring corrupt image/label: non-normalized or out of bounds coordinates [     496.94]\n",
            "\u001b[34m\u001b[1mtrain: \u001b[0mWARNING ⚠️ /content/processed_dataset3/images/aug_84c1baf6-706931.jpg: ignoring corrupt image/label: non-normalized or out of bounds coordinates [     525.64      22.508      525.17      22.507]\n",
            "\u001b[34m\u001b[1mtrain: \u001b[0mWARNING ⚠️ /content/processed_dataset3/images/aug_8763e50e-265406.jpg: ignoring corrupt image/label: non-normalized or out of bounds coordinates [     454.43]\n",
            "\u001b[34m\u001b[1mtrain: \u001b[0mWARNING ⚠️ /content/processed_dataset3/images/aug_8765709f-3381633.jpg: ignoring corrupt image/label: non-normalized or out of bounds coordinates [     467.41      1.0092]\n",
            "\u001b[34m\u001b[1mtrain: \u001b[0mWARNING ⚠️ /content/processed_dataset3/images/aug_88a65abd-920703.jpg: ignoring corrupt image/label: non-normalized or out of bounds coordinates [     510.81      510.47      510.72      510.48      510.67      510.52      510.51      510.64      510.51]\n",
            "\u001b[34m\u001b[1mtrain: \u001b[0mWARNING ⚠️ /content/processed_dataset3/images/aug_8af03f92-135434.jpg: ignoring corrupt image/label: non-normalized or out of bounds coordinates [      510.5]\n",
            "\u001b[34m\u001b[1mtrain: \u001b[0mWARNING ⚠️ /content/processed_dataset3/images/aug_8b873d46-1327608.jpg: ignoring corrupt image/label: non-normalized or out of bounds coordinates [     510.52]\n",
            "\u001b[34m\u001b[1mtrain: \u001b[0mWARNING ⚠️ /content/processed_dataset3/images/aug_8be40675-1854061.jpg: ignoring corrupt image/label: non-normalized or out of bounds coordinates [     510.69      510.62]\n",
            "\u001b[34m\u001b[1mtrain: \u001b[0mWARNING ⚠️ /content/processed_dataset3/images/aug_8c03e01f-2120760.jpg: ignoring corrupt image/label: non-normalized or out of bounds coordinates [     12.671]\n",
            "\u001b[34m\u001b[1mtrain: \u001b[0mWARNING ⚠️ /content/processed_dataset3/images/aug_8ca147ae-901549.jpg: ignoring corrupt image/label: non-normalized or out of bounds coordinates [      510.5]\n",
            "\u001b[34m\u001b[1mtrain: \u001b[0mWARNING ⚠️ /content/processed_dataset3/images/aug_93d0e528-495881.jpg: ignoring corrupt image/label: non-normalized or out of bounds coordinates [     509.17]\n",
            "\u001b[34m\u001b[1mtrain: \u001b[0mWARNING ⚠️ /content/processed_dataset3/images/aug_94b0882f-2296393.jpg: ignoring corrupt image/label: non-normalized or out of bounds coordinates [     510.51]\n",
            "\u001b[34m\u001b[1mtrain: \u001b[0mWARNING ⚠️ /content/processed_dataset3/images/aug_96e3a26c-1708466.jpg: ignoring corrupt image/label: non-normalized or out of bounds coordinates [     552.37      50.709      1.0051]\n",
            "\u001b[34m\u001b[1mtrain: \u001b[0mWARNING ⚠️ /content/processed_dataset3/images/aug_9731b2c8-1993926.jpg: ignoring corrupt image/label: non-normalized or out of bounds coordinates [     510.43]\n",
            "\u001b[34m\u001b[1mtrain: \u001b[0mWARNING ⚠️ /content/processed_dataset3/images/aug_98bdcdba-3728155.jpg: ignoring corrupt image/label: non-normalized or out of bounds coordinates [     510.51]\n",
            "\u001b[34m\u001b[1mtrain: \u001b[0mWARNING ⚠️ /content/processed_dataset3/images/aug_98da9fce-3680697.jpg: ignoring corrupt image/label: non-normalized or out of bounds coordinates [     510.31      510.77      510.16      510.49      510.78]\n",
            "\u001b[34m\u001b[1mtrain: \u001b[0mWARNING ⚠️ /content/processed_dataset3/images/aug_998aff27-515907.jpg: ignoring corrupt image/label: non-normalized or out of bounds coordinates [     510.48]\n",
            "\u001b[34m\u001b[1mtrain: \u001b[0mWARNING ⚠️ /content/processed_dataset3/images/aug_9a0f67a2-210027.jpg: ignoring corrupt image/label: non-normalized or out of bounds coordinates [     510.61]\n",
            "\u001b[34m\u001b[1mtrain: \u001b[0mWARNING ⚠️ /content/processed_dataset3/images/aug_9e120cc8-1981348.jpg: ignoring corrupt image/label: non-normalized or out of bounds coordinates [     420.94      35.478]\n",
            "\u001b[34m\u001b[1mtrain: \u001b[0mWARNING ⚠️ /content/processed_dataset3/images/aug_a2fe1ab4-1021229.jpg: ignoring corrupt image/label: non-normalized or out of bounds coordinates [     480.24]\n",
            "\u001b[34m\u001b[1mtrain: \u001b[0mWARNING ⚠️ /content/processed_dataset3/images/aug_a66b8628-3778801.jpg: ignoring corrupt image/label: non-normalized or out of bounds coordinates [     540.85      49.847      1.0897      1.0708]\n",
            "\u001b[34m\u001b[1mtrain: \u001b[0mWARNING ⚠️ /content/processed_dataset3/images/aug_acf84d70-2476468.jpg: ignoring corrupt image/label: non-normalized or out of bounds coordinates [     510.47]\n",
            "\u001b[34m\u001b[1mtrain: \u001b[0mWARNING ⚠️ /content/processed_dataset3/images/aug_ae8acbac-2236338.jpg: ignoring corrupt image/label: non-normalized or out of bounds coordinates [     1.0018]\n",
            "\u001b[34m\u001b[1mtrain: \u001b[0mWARNING ⚠️ /content/processed_dataset3/images/aug_aed7bc39-2948329.jpg: ignoring corrupt image/label: non-normalized or out of bounds coordinates [     510.52]\n",
            "\u001b[34m\u001b[1mtrain: \u001b[0mWARNING ⚠️ /content/processed_dataset3/images/aug_af82b8b2-8917.jpg: ignoring corrupt image/label: non-normalized or out of bounds coordinates [      510.5      1.0009]\n",
            "\u001b[34m\u001b[1mtrain: \u001b[0mWARNING ⚠️ /content/processed_dataset3/images/aug_b1914a0b-712331.jpg: ignoring corrupt image/label: non-normalized or out of bounds coordinates [     509.82      509.89      509.54      509.14      509.51      509.18]\n",
            "\u001b[34m\u001b[1mtrain: \u001b[0mWARNING ⚠️ /content/processed_dataset3/images/aug_b34d8eb8-1407753.jpg: ignoring corrupt image/label: non-normalized or out of bounds coordinates [     382.13]\n",
            "\u001b[34m\u001b[1mtrain: \u001b[0mWARNING ⚠️ /content/processed_dataset3/images/aug_b3fafc29-2168957.jpg: ignoring corrupt image/label: non-normalized or out of bounds coordinates [     510.53]\n",
            "\u001b[34m\u001b[1mtrain: \u001b[0mWARNING ⚠️ /content/processed_dataset3/images/aug_b4261bd0-739531.jpg: ignoring corrupt image/label: non-normalized or out of bounds coordinates [     510.51]\n",
            "\u001b[34m\u001b[1mtrain: \u001b[0mWARNING ⚠️ /content/processed_dataset3/images/aug_b5cfdd1f-2005627.jpg: ignoring corrupt image/label: non-normalized or out of bounds coordinates [     1.0055]\n",
            "\u001b[34m\u001b[1mtrain: \u001b[0mWARNING ⚠️ /content/processed_dataset3/images/aug_bc8305b7-72729.jpg: ignoring corrupt image/label: non-normalized or out of bounds coordinates [     510.75      510.46      510.26]\n",
            "\u001b[34m\u001b[1mtrain: \u001b[0mWARNING ⚠️ /content/processed_dataset3/images/aug_bcb2fdeb-2701185.jpg: ignoring corrupt image/label: non-normalized or out of bounds coordinates [     510.53]\n",
            "\u001b[34m\u001b[1mtrain: \u001b[0mWARNING ⚠️ /content/processed_dataset3/images/aug_c41ba1ea-1119011.jpg: ignoring corrupt image/label: non-normalized or out of bounds coordinates [     507.85]\n",
            "\u001b[34m\u001b[1mtrain: \u001b[0mWARNING ⚠️ /content/processed_dataset3/images/aug_c492af2c-2431195.jpg: ignoring corrupt image/label: non-normalized or out of bounds coordinates [     510.49]\n",
            "\u001b[34m\u001b[1mtrain: \u001b[0mWARNING ⚠️ /content/processed_dataset3/images/aug_c628f001-716348.jpg: ignoring corrupt image/label: non-normalized or out of bounds coordinates [     304.75      304.36]\n",
            "\u001b[34m\u001b[1mtrain: \u001b[0mWARNING ⚠️ /content/processed_dataset3/images/aug_c70e6beb-45515.jpg: ignoring corrupt image/label: non-normalized or out of bounds coordinates [     382.66]\n",
            "\u001b[34m\u001b[1mtrain: \u001b[0mWARNING ⚠️ /content/processed_dataset3/images/aug_c941d52f-3001740.jpg: ignoring corrupt image/label: non-normalized or out of bounds coordinates [     46.152      1.0475]\n",
            "\u001b[34m\u001b[1mtrain: \u001b[0mWARNING ⚠️ /content/processed_dataset3/images/aug_c99796f4-714866.jpg: ignoring corrupt image/label: non-normalized or out of bounds coordinates [      510.5]\n",
            "\u001b[34m\u001b[1mtrain: \u001b[0mWARNING ⚠️ /content/processed_dataset3/images/aug_c9cc046a-1097991.jpg: ignoring corrupt image/label: non-normalized or out of bounds coordinates [     519.85      10.323]\n",
            "\u001b[34m\u001b[1mtrain: \u001b[0mWARNING ⚠️ /content/processed_dataset3/images/aug_cc298798-280869.jpg: ignoring corrupt image/label: non-normalized or out of bounds coordinates [     510.52]\n",
            "\u001b[34m\u001b[1mtrain: \u001b[0mWARNING ⚠️ /content/processed_dataset3/images/aug_d0280983-2517724.jpg: ignoring corrupt image/label: non-normalized or out of bounds coordinates [     510.49]\n",
            "\u001b[34m\u001b[1mtrain: \u001b[0mWARNING ⚠️ /content/processed_dataset3/images/aug_d12d2211-1470156.jpg: ignoring corrupt image/label: non-normalized or out of bounds coordinates [     510.49]\n",
            "\u001b[34m\u001b[1mtrain: \u001b[0mWARNING ⚠️ /content/processed_dataset3/images/aug_d3e6d927-2606829.jpg: ignoring corrupt image/label: non-normalized or out of bounds coordinates [     1.0018]\n",
            "\u001b[34m\u001b[1mtrain: \u001b[0mWARNING ⚠️ /content/processed_dataset3/images/aug_d6aeab37-1193742.jpg: ignoring corrupt image/label: non-normalized or out of bounds coordinates [     64.213      64.661      64.538]\n",
            "\u001b[34m\u001b[1mtrain: \u001b[0mWARNING ⚠️ /content/processed_dataset3/images/aug_d7000609-2032236.jpg: ignoring corrupt image/label: non-normalized or out of bounds coordinates [     384.43      1.9576]\n",
            "\u001b[34m\u001b[1mtrain: \u001b[0mWARNING ⚠️ /content/processed_dataset3/images/aug_d91e93a4-786596.jpg: ignoring corrupt image/label: non-normalized or out of bounds coordinates [     329.15]\n",
            "\u001b[34m\u001b[1mtrain: \u001b[0mWARNING ⚠️ /content/processed_dataset3/images/aug_da1297b4-3381609.jpg: ignoring corrupt image/label: non-normalized or out of bounds coordinates [     510.46]\n",
            "\u001b[34m\u001b[1mtrain: \u001b[0mWARNING ⚠️ /content/processed_dataset3/images/aug_dd15030d-3445331.jpg: ignoring corrupt image/label: non-normalized or out of bounds coordinates [     443.91]\n",
            "\u001b[34m\u001b[1mtrain: \u001b[0mWARNING ⚠️ /content/processed_dataset3/images/aug_dd670e51-3708711.jpg: ignoring corrupt image/label: non-normalized or out of bounds coordinates [     510.49]\n",
            "\u001b[34m\u001b[1mtrain: \u001b[0mWARNING ⚠️ /content/processed_dataset3/images/aug_df117ee2-232737.jpg: ignoring corrupt image/label: non-normalized or out of bounds coordinates [     380.49      1.0052]\n",
            "\u001b[34m\u001b[1mtrain: \u001b[0mWARNING ⚠️ /content/processed_dataset3/images/aug_e51becfb-919785.jpg: ignoring corrupt image/label: non-normalized or out of bounds coordinates [      510.5      1.0037]\n",
            "\u001b[34m\u001b[1mtrain: \u001b[0mWARNING ⚠️ /content/processed_dataset3/images/aug_e83eed3f-447914.jpg: ignoring corrupt image/label: non-normalized or out of bounds coordinates [     382.49      1.0074]\n",
            "\u001b[34m\u001b[1mtrain: \u001b[0mWARNING ⚠️ /content/processed_dataset3/images/aug_ebbc3258-2570036.jpg: ignoring corrupt image/label: non-normalized or out of bounds coordinates [     510.49]\n",
            "\u001b[34m\u001b[1mtrain: \u001b[0mWARNING ⚠️ /content/processed_dataset3/images/aug_edad813d-3401466.jpg: ignoring corrupt image/label: non-normalized or out of bounds coordinates [     8.0135]\n",
            "\u001b[34m\u001b[1mtrain: \u001b[0mWARNING ⚠️ /content/processed_dataset3/images/aug_ee2bb5a3-549804.jpg: ignoring corrupt image/label: non-normalized or out of bounds coordinates [     510.49]\n",
            "\u001b[34m\u001b[1mtrain: \u001b[0mWARNING ⚠️ /content/processed_dataset3/images/aug_f2047a23-5764.jpg: ignoring corrupt image/label: non-normalized or out of bounds coordinates [     548.76      67.091]\n",
            "\u001b[34m\u001b[1mtrain: \u001b[0mWARNING ⚠️ /content/processed_dataset3/images/aug_f221a416-1332728.jpg: ignoring corrupt image/label: non-normalized or out of bounds coordinates [     47.574]\n",
            "\u001b[34m\u001b[1mtrain: \u001b[0mWARNING ⚠️ /content/processed_dataset3/images/aug_f313d111-326809.jpg: ignoring corrupt image/label: non-normalized or out of bounds coordinates [     439.32      57.472]\n",
            "\u001b[34m\u001b[1mtrain: \u001b[0mWARNING ⚠️ /content/processed_dataset3/images/aug_f4df36a7-568773.jpg: ignoring corrupt image/label: non-normalized or out of bounds coordinates [     73.951]\n",
            "\u001b[34m\u001b[1mtrain: \u001b[0mWARNING ⚠️ /content/processed_dataset3/images/b1914a0b-712331.jpg: ignoring corrupt image/label: non-normalized or out of bounds coordinates [     509.82      509.89      509.54      509.14      509.51      509.18]\n",
            "\u001b[34m\u001b[1mtrain: \u001b[0mWARNING ⚠️ /content/processed_dataset3/images/b34d8eb8-1407753.jpg: ignoring corrupt image/label: non-normalized or out of bounds coordinates [     382.13]\n",
            "\u001b[34m\u001b[1mtrain: \u001b[0mWARNING ⚠️ /content/processed_dataset3/images/b5cfdd1f-2005627.jpg: ignoring corrupt image/label: non-normalized or out of bounds coordinates [     455.19      1.0392]\n",
            "\u001b[34m\u001b[1mtrain: \u001b[0mWARNING ⚠️ /content/processed_dataset3/images/b7607bac-1822700.jpg: ignoring corrupt image/label: non-normalized or out of bounds coordinates [      510.5]\n",
            "\u001b[34m\u001b[1mtrain: \u001b[0mWARNING ⚠️ /content/processed_dataset3/images/bc8305b7-72729.jpg: ignoring corrupt image/label: non-normalized or out of bounds coordinates [     487.35       487.1      486.85]\n",
            "\u001b[34m\u001b[1mtrain: \u001b[0mWARNING ⚠️ /content/processed_dataset3/images/c41ba1ea-1119011.jpg: ignoring corrupt image/label: non-normalized or out of bounds coordinates [     510.47]\n",
            "\u001b[34m\u001b[1mtrain: \u001b[0mWARNING ⚠️ /content/processed_dataset3/images/c492af2c-2431195.jpg: ignoring corrupt image/label: non-normalized or out of bounds coordinates [     27.196]\n",
            "\u001b[34m\u001b[1mtrain: \u001b[0mWARNING ⚠️ /content/processed_dataset3/images/c70e6beb-45515.jpg: ignoring corrupt image/label: non-normalized or out of bounds coordinates [     382.66]\n",
            "\u001b[34m\u001b[1mtrain: \u001b[0mWARNING ⚠️ /content/processed_dataset3/images/c99796f4-714866.jpg: ignoring corrupt image/label: non-normalized or out of bounds coordinates [      510.5]\n",
            "\u001b[34m\u001b[1mtrain: \u001b[0mWARNING ⚠️ /content/processed_dataset3/images/c9cc046a-1097991.jpg: ignoring corrupt image/label: non-normalized or out of bounds coordinates [      510.5]\n",
            "\u001b[34m\u001b[1mtrain: \u001b[0mWARNING ⚠️ /content/processed_dataset3/images/d0280983-2517724.jpg: ignoring corrupt image/label: non-normalized or out of bounds coordinates [     504.27]\n",
            "\u001b[34m\u001b[1mtrain: \u001b[0mWARNING ⚠️ /content/processed_dataset3/images/d3e6d927-2606829.jpg: ignoring corrupt image/label: non-normalized or out of bounds coordinates [     1.0018]\n",
            "\u001b[34m\u001b[1mtrain: \u001b[0mWARNING ⚠️ /content/processed_dataset3/images/d6aeab37-1193742.jpg: ignoring corrupt image/label: non-normalized or out of bounds coordinates [     510.75      510.43      510.47]\n",
            "\u001b[34m\u001b[1mtrain: \u001b[0mWARNING ⚠️ /content/processed_dataset3/images/d91e93a4-786596.jpg: ignoring corrupt image/label: non-normalized or out of bounds coordinates [     382.47]\n",
            "\u001b[34m\u001b[1mtrain: \u001b[0mWARNING ⚠️ /content/processed_dataset3/images/d99b0683-863509.jpg: ignoring corrupt image/label: non-normalized or out of bounds coordinates [     510.51]\n",
            "\u001b[34m\u001b[1mtrain: \u001b[0mWARNING ⚠️ /content/processed_dataset3/images/dad95938-2844278.jpg: ignoring corrupt image/label: non-normalized or out of bounds coordinates [     560.31      62.756      1.1816       1.162]\n",
            "\u001b[34m\u001b[1mtrain: \u001b[0mWARNING ⚠️ /content/processed_dataset3/images/df117ee2-232737.jpg: ignoring corrupt image/label: non-normalized or out of bounds coordinates [     1.0052]\n",
            "\u001b[34m\u001b[1mtrain: \u001b[0mWARNING ⚠️ /content/processed_dataset3/images/e51becfb-919785.jpg: ignoring corrupt image/label: non-normalized or out of bounds coordinates [      510.5      1.0037]\n",
            "\u001b[34m\u001b[1mtrain: \u001b[0mWARNING ⚠️ /content/processed_dataset3/images/e83eed3f-447914.jpg: ignoring corrupt image/label: non-normalized or out of bounds coordinates [     422.84      36.467      1.0993]\n",
            "\u001b[34m\u001b[1mtrain: \u001b[0mWARNING ⚠️ /content/processed_dataset3/images/ebbc3258-2570036.jpg: ignoring corrupt image/label: non-normalized or out of bounds coordinates [     510.49]\n",
            "\u001b[34m\u001b[1mtrain: \u001b[0mWARNING ⚠️ /content/processed_dataset3/images/edad813d-3401466.jpg: ignoring corrupt image/label: non-normalized or out of bounds coordinates [     510.52]\n",
            "\u001b[34m\u001b[1mtrain: \u001b[0mWARNING ⚠️ /content/processed_dataset3/images/f2047a23-5764.jpg: ignoring corrupt image/label: non-normalized or out of bounds coordinates [     510.49]\n",
            "\u001b[34m\u001b[1mtrain: \u001b[0mWARNING ⚠️ /content/processed_dataset3/images/f2e1cb2e-1782666.jpg: ignoring corrupt image/label: non-normalized or out of bounds coordinates [     444.94]\n",
            "\u001b[34m\u001b[1mtrain: \u001b[0mWARNING ⚠️ /content/processed_dataset3/images/f313d111-326809.jpg: ignoring corrupt image/label: non-normalized or out of bounds coordinates [     410.64      26.015]\n",
            "\u001b[34m\u001b[1mtrain: \u001b[0mWARNING ⚠️ /content/processed_dataset3/images/f4df36a7-568773.jpg: ignoring corrupt image/label: non-normalized or out of bounds coordinates [     42.903      1.0033]\n",
            "\u001b[34m\u001b[1mtrain: \u001b[0mWARNING ⚠️ /content/processed_dataset3/images/f82da03c-68684.jpg: ignoring corrupt image/label: non-normalized or out of bounds coordinates [     510.52]\n",
            "\u001b[34m\u001b[1mtrain: \u001b[0mWARNING ⚠️ /content/processed_dataset3/images/fbf0cf11-3057757.jpg: ignoring corrupt image/label: non-normalized or out of bounds coordinates [     382.51]\n"
          ]
        },
        {
          "output_type": "stream",
          "name": "stderr",
          "text": [
            "\n"
          ]
        },
        {
          "output_type": "error",
          "ename": "KeyboardInterrupt",
          "evalue": "",
          "traceback": [
            "\u001b[0;31m---------------------------------------------------------------------------\u001b[0m",
            "\u001b[0;31mKeyboardInterrupt\u001b[0m                         Traceback (most recent call last)",
            "\u001b[0;32m<ipython-input-23-bdc0aa53dbeb>\u001b[0m in \u001b[0;36m<cell line: 0>\u001b[0;34m()\u001b[0m\n\u001b[1;32m      1\u001b[0m \u001b[0;32mif\u001b[0m \u001b[0m__name__\u001b[0m \u001b[0;34m==\u001b[0m \u001b[0;34m'__main__'\u001b[0m\u001b[0;34m:\u001b[0m\u001b[0;34m\u001b[0m\u001b[0;34m\u001b[0m\u001b[0m\n\u001b[0;32m----> 2\u001b[0;31m     model.train(\n\u001b[0m\u001b[1;32m      3\u001b[0m         \u001b[0mdata\u001b[0m\u001b[0;34m=\u001b[0m\u001b[0myaml_path\u001b[0m\u001b[0;34m,\u001b[0m\u001b[0;34m\u001b[0m\u001b[0;34m\u001b[0m\u001b[0m\n\u001b[1;32m      4\u001b[0m         \u001b[0mepochs\u001b[0m\u001b[0;34m=\u001b[0m\u001b[0;36m60\u001b[0m\u001b[0;34m,\u001b[0m\u001b[0;34m\u001b[0m\u001b[0;34m\u001b[0m\u001b[0m\n\u001b[1;32m      5\u001b[0m         \u001b[0mimgsz\u001b[0m\u001b[0;34m=\u001b[0m\u001b[0;36m640\u001b[0m\u001b[0;34m,\u001b[0m\u001b[0;34m\u001b[0m\u001b[0;34m\u001b[0m\u001b[0m\n",
            "\u001b[0;32m/usr/local/lib/python3.11/dist-packages/ultralytics/engine/model.py\u001b[0m in \u001b[0;36mtrain\u001b[0;34m(self, trainer, **kwargs)\u001b[0m\n\u001b[1;32m    808\u001b[0m \u001b[0;34m\u001b[0m\u001b[0m\n\u001b[1;32m    809\u001b[0m         \u001b[0mself\u001b[0m\u001b[0;34m.\u001b[0m\u001b[0mtrainer\u001b[0m\u001b[0;34m.\u001b[0m\u001b[0mhub_session\u001b[0m \u001b[0;34m=\u001b[0m \u001b[0mself\u001b[0m\u001b[0;34m.\u001b[0m\u001b[0msession\u001b[0m  \u001b[0;31m# attach optional HUB session\u001b[0m\u001b[0;34m\u001b[0m\u001b[0;34m\u001b[0m\u001b[0m\n\u001b[0;32m--> 810\u001b[0;31m         \u001b[0mself\u001b[0m\u001b[0;34m.\u001b[0m\u001b[0mtrainer\u001b[0m\u001b[0;34m.\u001b[0m\u001b[0mtrain\u001b[0m\u001b[0;34m(\u001b[0m\u001b[0;34m)\u001b[0m\u001b[0;34m\u001b[0m\u001b[0;34m\u001b[0m\u001b[0m\n\u001b[0m\u001b[1;32m    811\u001b[0m         \u001b[0;31m# Update model and cfg after training\u001b[0m\u001b[0;34m\u001b[0m\u001b[0;34m\u001b[0m\u001b[0m\n\u001b[1;32m    812\u001b[0m         \u001b[0;32mif\u001b[0m \u001b[0mRANK\u001b[0m \u001b[0;32min\u001b[0m \u001b[0;34m{\u001b[0m\u001b[0;34m-\u001b[0m\u001b[0;36m1\u001b[0m\u001b[0;34m,\u001b[0m \u001b[0;36m0\u001b[0m\u001b[0;34m}\u001b[0m\u001b[0;34m:\u001b[0m\u001b[0;34m\u001b[0m\u001b[0;34m\u001b[0m\u001b[0m\n",
            "\u001b[0;32m/usr/local/lib/python3.11/dist-packages/ultralytics/engine/trainer.py\u001b[0m in \u001b[0;36mtrain\u001b[0;34m(self)\u001b[0m\n\u001b[1;32m    206\u001b[0m \u001b[0;34m\u001b[0m\u001b[0m\n\u001b[1;32m    207\u001b[0m         \u001b[0;32melse\u001b[0m\u001b[0;34m:\u001b[0m\u001b[0;34m\u001b[0m\u001b[0;34m\u001b[0m\u001b[0m\n\u001b[0;32m--> 208\u001b[0;31m             \u001b[0mself\u001b[0m\u001b[0;34m.\u001b[0m\u001b[0m_do_train\u001b[0m\u001b[0;34m(\u001b[0m\u001b[0mworld_size\u001b[0m\u001b[0;34m)\u001b[0m\u001b[0;34m\u001b[0m\u001b[0;34m\u001b[0m\u001b[0m\n\u001b[0m\u001b[1;32m    209\u001b[0m \u001b[0;34m\u001b[0m\u001b[0m\n\u001b[1;32m    210\u001b[0m     \u001b[0;32mdef\u001b[0m \u001b[0m_setup_scheduler\u001b[0m\u001b[0;34m(\u001b[0m\u001b[0mself\u001b[0m\u001b[0;34m)\u001b[0m\u001b[0;34m:\u001b[0m\u001b[0;34m\u001b[0m\u001b[0;34m\u001b[0m\u001b[0m\n",
            "\u001b[0;32m/usr/local/lib/python3.11/dist-packages/ultralytics/engine/trainer.py\u001b[0m in \u001b[0;36m_do_train\u001b[0;34m(self, world_size)\u001b[0m\n\u001b[1;32m    321\u001b[0m         \u001b[0;32mif\u001b[0m \u001b[0mworld_size\u001b[0m \u001b[0;34m>\u001b[0m \u001b[0;36m1\u001b[0m\u001b[0;34m:\u001b[0m\u001b[0;34m\u001b[0m\u001b[0;34m\u001b[0m\u001b[0m\n\u001b[1;32m    322\u001b[0m             \u001b[0mself\u001b[0m\u001b[0;34m.\u001b[0m\u001b[0m_setup_ddp\u001b[0m\u001b[0;34m(\u001b[0m\u001b[0mworld_size\u001b[0m\u001b[0;34m)\u001b[0m\u001b[0;34m\u001b[0m\u001b[0;34m\u001b[0m\u001b[0m\n\u001b[0;32m--> 323\u001b[0;31m         \u001b[0mself\u001b[0m\u001b[0;34m.\u001b[0m\u001b[0m_setup_train\u001b[0m\u001b[0;34m(\u001b[0m\u001b[0mworld_size\u001b[0m\u001b[0;34m)\u001b[0m\u001b[0;34m\u001b[0m\u001b[0;34m\u001b[0m\u001b[0m\n\u001b[0m\u001b[1;32m    324\u001b[0m \u001b[0;34m\u001b[0m\u001b[0m\n\u001b[1;32m    325\u001b[0m         \u001b[0mnb\u001b[0m \u001b[0;34m=\u001b[0m \u001b[0mlen\u001b[0m\u001b[0;34m(\u001b[0m\u001b[0mself\u001b[0m\u001b[0;34m.\u001b[0m\u001b[0mtrain_loader\u001b[0m\u001b[0;34m)\u001b[0m  \u001b[0;31m# number of batches\u001b[0m\u001b[0;34m\u001b[0m\u001b[0;34m\u001b[0m\u001b[0m\n",
            "\u001b[0;32m/usr/local/lib/python3.11/dist-packages/ultralytics/engine/trainer.py\u001b[0m in \u001b[0;36m_setup_train\u001b[0;34m(self, world_size)\u001b[0m\n\u001b[1;32m    294\u001b[0m             \u001b[0mmetric_keys\u001b[0m \u001b[0;34m=\u001b[0m \u001b[0mself\u001b[0m\u001b[0;34m.\u001b[0m\u001b[0mvalidator\u001b[0m\u001b[0;34m.\u001b[0m\u001b[0mmetrics\u001b[0m\u001b[0;34m.\u001b[0m\u001b[0mkeys\u001b[0m \u001b[0;34m+\u001b[0m \u001b[0mself\u001b[0m\u001b[0;34m.\u001b[0m\u001b[0mlabel_loss_items\u001b[0m\u001b[0;34m(\u001b[0m\u001b[0mprefix\u001b[0m\u001b[0;34m=\u001b[0m\u001b[0;34m\"val\"\u001b[0m\u001b[0;34m)\u001b[0m\u001b[0;34m\u001b[0m\u001b[0;34m\u001b[0m\u001b[0m\n\u001b[1;32m    295\u001b[0m             \u001b[0mself\u001b[0m\u001b[0;34m.\u001b[0m\u001b[0mmetrics\u001b[0m \u001b[0;34m=\u001b[0m \u001b[0mdict\u001b[0m\u001b[0;34m(\u001b[0m\u001b[0mzip\u001b[0m\u001b[0;34m(\u001b[0m\u001b[0mmetric_keys\u001b[0m\u001b[0;34m,\u001b[0m \u001b[0;34m[\u001b[0m\u001b[0;36m0\u001b[0m\u001b[0;34m]\u001b[0m \u001b[0;34m*\u001b[0m \u001b[0mlen\u001b[0m\u001b[0;34m(\u001b[0m\u001b[0mmetric_keys\u001b[0m\u001b[0;34m)\u001b[0m\u001b[0;34m)\u001b[0m\u001b[0;34m)\u001b[0m\u001b[0;34m\u001b[0m\u001b[0;34m\u001b[0m\u001b[0m\n\u001b[0;32m--> 296\u001b[0;31m             \u001b[0mself\u001b[0m\u001b[0;34m.\u001b[0m\u001b[0mema\u001b[0m \u001b[0;34m=\u001b[0m \u001b[0mModelEMA\u001b[0m\u001b[0;34m(\u001b[0m\u001b[0mself\u001b[0m\u001b[0;34m.\u001b[0m\u001b[0mmodel\u001b[0m\u001b[0;34m)\u001b[0m\u001b[0;34m\u001b[0m\u001b[0;34m\u001b[0m\u001b[0m\n\u001b[0m\u001b[1;32m    297\u001b[0m             \u001b[0;32mif\u001b[0m \u001b[0mself\u001b[0m\u001b[0;34m.\u001b[0m\u001b[0margs\u001b[0m\u001b[0;34m.\u001b[0m\u001b[0mplots\u001b[0m\u001b[0;34m:\u001b[0m\u001b[0;34m\u001b[0m\u001b[0;34m\u001b[0m\u001b[0m\n\u001b[1;32m    298\u001b[0m                 \u001b[0mself\u001b[0m\u001b[0;34m.\u001b[0m\u001b[0mplot_training_labels\u001b[0m\u001b[0;34m(\u001b[0m\u001b[0;34m)\u001b[0m\u001b[0;34m\u001b[0m\u001b[0;34m\u001b[0m\u001b[0m\n",
            "\u001b[0;32m/usr/local/lib/python3.11/dist-packages/ultralytics/utils/torch_utils.py\u001b[0m in \u001b[0;36m__init__\u001b[0;34m(self, model, decay, tau, updates)\u001b[0m\n\u001b[1;32m    525\u001b[0m     \u001b[0;32mdef\u001b[0m \u001b[0m__init__\u001b[0m\u001b[0;34m(\u001b[0m\u001b[0mself\u001b[0m\u001b[0;34m,\u001b[0m \u001b[0mmodel\u001b[0m\u001b[0;34m,\u001b[0m \u001b[0mdecay\u001b[0m\u001b[0;34m=\u001b[0m\u001b[0;36m0.9999\u001b[0m\u001b[0;34m,\u001b[0m \u001b[0mtau\u001b[0m\u001b[0;34m=\u001b[0m\u001b[0;36m2000\u001b[0m\u001b[0;34m,\u001b[0m \u001b[0mupdates\u001b[0m\u001b[0;34m=\u001b[0m\u001b[0;36m0\u001b[0m\u001b[0;34m)\u001b[0m\u001b[0;34m:\u001b[0m\u001b[0;34m\u001b[0m\u001b[0;34m\u001b[0m\u001b[0m\n\u001b[1;32m    526\u001b[0m         \u001b[0;34m\"\"\"Initialize EMA for 'model' with given arguments.\"\"\"\u001b[0m\u001b[0;34m\u001b[0m\u001b[0;34m\u001b[0m\u001b[0m\n\u001b[0;32m--> 527\u001b[0;31m         \u001b[0mself\u001b[0m\u001b[0;34m.\u001b[0m\u001b[0mema\u001b[0m \u001b[0;34m=\u001b[0m \u001b[0mdeepcopy\u001b[0m\u001b[0;34m(\u001b[0m\u001b[0mde_parallel\u001b[0m\u001b[0;34m(\u001b[0m\u001b[0mmodel\u001b[0m\u001b[0;34m)\u001b[0m\u001b[0;34m)\u001b[0m\u001b[0;34m.\u001b[0m\u001b[0meval\u001b[0m\u001b[0;34m(\u001b[0m\u001b[0;34m)\u001b[0m  \u001b[0;31m# FP32 EMA\u001b[0m\u001b[0;34m\u001b[0m\u001b[0;34m\u001b[0m\u001b[0m\n\u001b[0m\u001b[1;32m    528\u001b[0m         \u001b[0mself\u001b[0m\u001b[0;34m.\u001b[0m\u001b[0mupdates\u001b[0m \u001b[0;34m=\u001b[0m \u001b[0mupdates\u001b[0m  \u001b[0;31m# number of EMA updates\u001b[0m\u001b[0;34m\u001b[0m\u001b[0;34m\u001b[0m\u001b[0m\n\u001b[1;32m    529\u001b[0m         \u001b[0mself\u001b[0m\u001b[0;34m.\u001b[0m\u001b[0mdecay\u001b[0m \u001b[0;34m=\u001b[0m \u001b[0;32mlambda\u001b[0m \u001b[0mx\u001b[0m\u001b[0;34m:\u001b[0m \u001b[0mdecay\u001b[0m \u001b[0;34m*\u001b[0m \u001b[0;34m(\u001b[0m\u001b[0;36m1\u001b[0m \u001b[0;34m-\u001b[0m \u001b[0mmath\u001b[0m\u001b[0;34m.\u001b[0m\u001b[0mexp\u001b[0m\u001b[0;34m(\u001b[0m\u001b[0;34m-\u001b[0m\u001b[0mx\u001b[0m \u001b[0;34m/\u001b[0m \u001b[0mtau\u001b[0m\u001b[0;34m)\u001b[0m\u001b[0;34m)\u001b[0m  \u001b[0;31m# decay exponential ramp (to help early epochs)\u001b[0m\u001b[0;34m\u001b[0m\u001b[0;34m\u001b[0m\u001b[0m\n",
            "\u001b[0;32m/usr/lib/python3.11/copy.py\u001b[0m in \u001b[0;36mdeepcopy\u001b[0;34m(x, memo, _nil)\u001b[0m\n\u001b[1;32m    170\u001b[0m                     \u001b[0my\u001b[0m \u001b[0;34m=\u001b[0m \u001b[0mx\u001b[0m\u001b[0;34m\u001b[0m\u001b[0;34m\u001b[0m\u001b[0m\n\u001b[1;32m    171\u001b[0m                 \u001b[0;32melse\u001b[0m\u001b[0;34m:\u001b[0m\u001b[0;34m\u001b[0m\u001b[0;34m\u001b[0m\u001b[0m\n\u001b[0;32m--> 172\u001b[0;31m                     \u001b[0my\u001b[0m \u001b[0;34m=\u001b[0m \u001b[0m_reconstruct\u001b[0m\u001b[0;34m(\u001b[0m\u001b[0mx\u001b[0m\u001b[0;34m,\u001b[0m \u001b[0mmemo\u001b[0m\u001b[0;34m,\u001b[0m \u001b[0;34m*\u001b[0m\u001b[0mrv\u001b[0m\u001b[0;34m)\u001b[0m\u001b[0;34m\u001b[0m\u001b[0;34m\u001b[0m\u001b[0m\n\u001b[0m\u001b[1;32m    173\u001b[0m \u001b[0;34m\u001b[0m\u001b[0m\n\u001b[1;32m    174\u001b[0m     \u001b[0;31m# If is its own copy, don't memoize.\u001b[0m\u001b[0;34m\u001b[0m\u001b[0;34m\u001b[0m\u001b[0m\n",
            "\u001b[0;32m/usr/lib/python3.11/copy.py\u001b[0m in \u001b[0;36m_reconstruct\u001b[0;34m(x, memo, func, args, state, listiter, dictiter, deepcopy)\u001b[0m\n\u001b[1;32m    269\u001b[0m     \u001b[0;32mif\u001b[0m \u001b[0mstate\u001b[0m \u001b[0;32mis\u001b[0m \u001b[0;32mnot\u001b[0m \u001b[0;32mNone\u001b[0m\u001b[0;34m:\u001b[0m\u001b[0;34m\u001b[0m\u001b[0;34m\u001b[0m\u001b[0m\n\u001b[1;32m    270\u001b[0m         \u001b[0;32mif\u001b[0m \u001b[0mdeep\u001b[0m\u001b[0;34m:\u001b[0m\u001b[0;34m\u001b[0m\u001b[0;34m\u001b[0m\u001b[0m\n\u001b[0;32m--> 271\u001b[0;31m             \u001b[0mstate\u001b[0m \u001b[0;34m=\u001b[0m \u001b[0mdeepcopy\u001b[0m\u001b[0;34m(\u001b[0m\u001b[0mstate\u001b[0m\u001b[0;34m,\u001b[0m \u001b[0mmemo\u001b[0m\u001b[0;34m)\u001b[0m\u001b[0;34m\u001b[0m\u001b[0;34m\u001b[0m\u001b[0m\n\u001b[0m\u001b[1;32m    272\u001b[0m         \u001b[0;32mif\u001b[0m \u001b[0mhasattr\u001b[0m\u001b[0;34m(\u001b[0m\u001b[0my\u001b[0m\u001b[0;34m,\u001b[0m \u001b[0;34m'__setstate__'\u001b[0m\u001b[0;34m)\u001b[0m\u001b[0;34m:\u001b[0m\u001b[0;34m\u001b[0m\u001b[0;34m\u001b[0m\u001b[0m\n\u001b[1;32m    273\u001b[0m             \u001b[0my\u001b[0m\u001b[0;34m.\u001b[0m\u001b[0m__setstate__\u001b[0m\u001b[0;34m(\u001b[0m\u001b[0mstate\u001b[0m\u001b[0;34m)\u001b[0m\u001b[0;34m\u001b[0m\u001b[0;34m\u001b[0m\u001b[0m\n",
            "\u001b[0;32m/usr/lib/python3.11/copy.py\u001b[0m in \u001b[0;36mdeepcopy\u001b[0;34m(x, memo, _nil)\u001b[0m\n\u001b[1;32m    144\u001b[0m     \u001b[0mcopier\u001b[0m \u001b[0;34m=\u001b[0m \u001b[0m_deepcopy_dispatch\u001b[0m\u001b[0;34m.\u001b[0m\u001b[0mget\u001b[0m\u001b[0;34m(\u001b[0m\u001b[0mcls\u001b[0m\u001b[0;34m)\u001b[0m\u001b[0;34m\u001b[0m\u001b[0;34m\u001b[0m\u001b[0m\n\u001b[1;32m    145\u001b[0m     \u001b[0;32mif\u001b[0m \u001b[0mcopier\u001b[0m \u001b[0;32mis\u001b[0m \u001b[0;32mnot\u001b[0m \u001b[0;32mNone\u001b[0m\u001b[0;34m:\u001b[0m\u001b[0;34m\u001b[0m\u001b[0;34m\u001b[0m\u001b[0m\n\u001b[0;32m--> 146\u001b[0;31m         \u001b[0my\u001b[0m \u001b[0;34m=\u001b[0m \u001b[0mcopier\u001b[0m\u001b[0;34m(\u001b[0m\u001b[0mx\u001b[0m\u001b[0;34m,\u001b[0m \u001b[0mmemo\u001b[0m\u001b[0;34m)\u001b[0m\u001b[0;34m\u001b[0m\u001b[0;34m\u001b[0m\u001b[0m\n\u001b[0m\u001b[1;32m    147\u001b[0m     \u001b[0;32melse\u001b[0m\u001b[0;34m:\u001b[0m\u001b[0;34m\u001b[0m\u001b[0;34m\u001b[0m\u001b[0m\n\u001b[1;32m    148\u001b[0m         \u001b[0;32mif\u001b[0m \u001b[0missubclass\u001b[0m\u001b[0;34m(\u001b[0m\u001b[0mcls\u001b[0m\u001b[0;34m,\u001b[0m \u001b[0mtype\u001b[0m\u001b[0;34m)\u001b[0m\u001b[0;34m:\u001b[0m\u001b[0;34m\u001b[0m\u001b[0;34m\u001b[0m\u001b[0m\n",
            "\u001b[0;32m/usr/lib/python3.11/copy.py\u001b[0m in \u001b[0;36m_deepcopy_dict\u001b[0;34m(x, memo, deepcopy)\u001b[0m\n\u001b[1;32m    229\u001b[0m     \u001b[0mmemo\u001b[0m\u001b[0;34m[\u001b[0m\u001b[0mid\u001b[0m\u001b[0;34m(\u001b[0m\u001b[0mx\u001b[0m\u001b[0;34m)\u001b[0m\u001b[0;34m]\u001b[0m \u001b[0;34m=\u001b[0m \u001b[0my\u001b[0m\u001b[0;34m\u001b[0m\u001b[0;34m\u001b[0m\u001b[0m\n\u001b[1;32m    230\u001b[0m     \u001b[0;32mfor\u001b[0m \u001b[0mkey\u001b[0m\u001b[0;34m,\u001b[0m \u001b[0mvalue\u001b[0m \u001b[0;32min\u001b[0m \u001b[0mx\u001b[0m\u001b[0;34m.\u001b[0m\u001b[0mitems\u001b[0m\u001b[0;34m(\u001b[0m\u001b[0;34m)\u001b[0m\u001b[0;34m:\u001b[0m\u001b[0;34m\u001b[0m\u001b[0;34m\u001b[0m\u001b[0m\n\u001b[0;32m--> 231\u001b[0;31m         \u001b[0my\u001b[0m\u001b[0;34m[\u001b[0m\u001b[0mdeepcopy\u001b[0m\u001b[0;34m(\u001b[0m\u001b[0mkey\u001b[0m\u001b[0;34m,\u001b[0m \u001b[0mmemo\u001b[0m\u001b[0;34m)\u001b[0m\u001b[0;34m]\u001b[0m \u001b[0;34m=\u001b[0m \u001b[0mdeepcopy\u001b[0m\u001b[0;34m(\u001b[0m\u001b[0mvalue\u001b[0m\u001b[0;34m,\u001b[0m \u001b[0mmemo\u001b[0m\u001b[0;34m)\u001b[0m\u001b[0;34m\u001b[0m\u001b[0;34m\u001b[0m\u001b[0m\n\u001b[0m\u001b[1;32m    232\u001b[0m     \u001b[0;32mreturn\u001b[0m \u001b[0my\u001b[0m\u001b[0;34m\u001b[0m\u001b[0;34m\u001b[0m\u001b[0m\n\u001b[1;32m    233\u001b[0m \u001b[0md\u001b[0m\u001b[0;34m[\u001b[0m\u001b[0mdict\u001b[0m\u001b[0;34m]\u001b[0m \u001b[0;34m=\u001b[0m \u001b[0m_deepcopy_dict\u001b[0m\u001b[0;34m\u001b[0m\u001b[0;34m\u001b[0m\u001b[0m\n",
            "\u001b[0;32m/usr/lib/python3.11/copy.py\u001b[0m in \u001b[0;36mdeepcopy\u001b[0;34m(x, memo, _nil)\u001b[0m\n\u001b[1;32m    144\u001b[0m     \u001b[0mcopier\u001b[0m \u001b[0;34m=\u001b[0m \u001b[0m_deepcopy_dispatch\u001b[0m\u001b[0;34m.\u001b[0m\u001b[0mget\u001b[0m\u001b[0;34m(\u001b[0m\u001b[0mcls\u001b[0m\u001b[0;34m)\u001b[0m\u001b[0;34m\u001b[0m\u001b[0;34m\u001b[0m\u001b[0m\n\u001b[1;32m    145\u001b[0m     \u001b[0;32mif\u001b[0m \u001b[0mcopier\u001b[0m \u001b[0;32mis\u001b[0m \u001b[0;32mnot\u001b[0m \u001b[0;32mNone\u001b[0m\u001b[0;34m:\u001b[0m\u001b[0;34m\u001b[0m\u001b[0;34m\u001b[0m\u001b[0m\n\u001b[0;32m--> 146\u001b[0;31m         \u001b[0my\u001b[0m \u001b[0;34m=\u001b[0m \u001b[0mcopier\u001b[0m\u001b[0;34m(\u001b[0m\u001b[0mx\u001b[0m\u001b[0;34m,\u001b[0m \u001b[0mmemo\u001b[0m\u001b[0;34m)\u001b[0m\u001b[0;34m\u001b[0m\u001b[0;34m\u001b[0m\u001b[0m\n\u001b[0m\u001b[1;32m    147\u001b[0m     \u001b[0;32melse\u001b[0m\u001b[0;34m:\u001b[0m\u001b[0;34m\u001b[0m\u001b[0;34m\u001b[0m\u001b[0m\n\u001b[1;32m    148\u001b[0m         \u001b[0;32mif\u001b[0m \u001b[0missubclass\u001b[0m\u001b[0;34m(\u001b[0m\u001b[0mcls\u001b[0m\u001b[0;34m,\u001b[0m \u001b[0mtype\u001b[0m\u001b[0;34m)\u001b[0m\u001b[0;34m:\u001b[0m\u001b[0;34m\u001b[0m\u001b[0;34m\u001b[0m\u001b[0m\n",
            "\u001b[0;32m/usr/lib/python3.11/copy.py\u001b[0m in \u001b[0;36m_deepcopy_dict\u001b[0;34m(x, memo, deepcopy)\u001b[0m\n\u001b[1;32m    229\u001b[0m     \u001b[0mmemo\u001b[0m\u001b[0;34m[\u001b[0m\u001b[0mid\u001b[0m\u001b[0;34m(\u001b[0m\u001b[0mx\u001b[0m\u001b[0;34m)\u001b[0m\u001b[0;34m]\u001b[0m \u001b[0;34m=\u001b[0m \u001b[0my\u001b[0m\u001b[0;34m\u001b[0m\u001b[0;34m\u001b[0m\u001b[0m\n\u001b[1;32m    230\u001b[0m     \u001b[0;32mfor\u001b[0m \u001b[0mkey\u001b[0m\u001b[0;34m,\u001b[0m \u001b[0mvalue\u001b[0m \u001b[0;32min\u001b[0m \u001b[0mx\u001b[0m\u001b[0;34m.\u001b[0m\u001b[0mitems\u001b[0m\u001b[0;34m(\u001b[0m\u001b[0;34m)\u001b[0m\u001b[0;34m:\u001b[0m\u001b[0;34m\u001b[0m\u001b[0;34m\u001b[0m\u001b[0m\n\u001b[0;32m--> 231\u001b[0;31m         \u001b[0my\u001b[0m\u001b[0;34m[\u001b[0m\u001b[0mdeepcopy\u001b[0m\u001b[0;34m(\u001b[0m\u001b[0mkey\u001b[0m\u001b[0;34m,\u001b[0m \u001b[0mmemo\u001b[0m\u001b[0;34m)\u001b[0m\u001b[0;34m]\u001b[0m \u001b[0;34m=\u001b[0m \u001b[0mdeepcopy\u001b[0m\u001b[0;34m(\u001b[0m\u001b[0mvalue\u001b[0m\u001b[0;34m,\u001b[0m \u001b[0mmemo\u001b[0m\u001b[0;34m)\u001b[0m\u001b[0;34m\u001b[0m\u001b[0;34m\u001b[0m\u001b[0m\n\u001b[0m\u001b[1;32m    232\u001b[0m     \u001b[0;32mreturn\u001b[0m \u001b[0my\u001b[0m\u001b[0;34m\u001b[0m\u001b[0;34m\u001b[0m\u001b[0m\n\u001b[1;32m    233\u001b[0m \u001b[0md\u001b[0m\u001b[0;34m[\u001b[0m\u001b[0mdict\u001b[0m\u001b[0;34m]\u001b[0m \u001b[0;34m=\u001b[0m \u001b[0m_deepcopy_dict\u001b[0m\u001b[0;34m\u001b[0m\u001b[0;34m\u001b[0m\u001b[0m\n",
            "\u001b[0;32m/usr/lib/python3.11/copy.py\u001b[0m in \u001b[0;36mdeepcopy\u001b[0;34m(x, memo, _nil)\u001b[0m\n\u001b[1;32m    170\u001b[0m                     \u001b[0my\u001b[0m \u001b[0;34m=\u001b[0m \u001b[0mx\u001b[0m\u001b[0;34m\u001b[0m\u001b[0;34m\u001b[0m\u001b[0m\n\u001b[1;32m    171\u001b[0m                 \u001b[0;32melse\u001b[0m\u001b[0;34m:\u001b[0m\u001b[0;34m\u001b[0m\u001b[0;34m\u001b[0m\u001b[0m\n\u001b[0;32m--> 172\u001b[0;31m                     \u001b[0my\u001b[0m \u001b[0;34m=\u001b[0m \u001b[0m_reconstruct\u001b[0m\u001b[0;34m(\u001b[0m\u001b[0mx\u001b[0m\u001b[0;34m,\u001b[0m \u001b[0mmemo\u001b[0m\u001b[0;34m,\u001b[0m \u001b[0;34m*\u001b[0m\u001b[0mrv\u001b[0m\u001b[0;34m)\u001b[0m\u001b[0;34m\u001b[0m\u001b[0;34m\u001b[0m\u001b[0m\n\u001b[0m\u001b[1;32m    173\u001b[0m \u001b[0;34m\u001b[0m\u001b[0m\n\u001b[1;32m    174\u001b[0m     \u001b[0;31m# If is its own copy, don't memoize.\u001b[0m\u001b[0;34m\u001b[0m\u001b[0;34m\u001b[0m\u001b[0m\n",
            "\u001b[0;32m/usr/lib/python3.11/copy.py\u001b[0m in \u001b[0;36m_reconstruct\u001b[0;34m(x, memo, func, args, state, listiter, dictiter, deepcopy)\u001b[0m\n\u001b[1;32m    269\u001b[0m     \u001b[0;32mif\u001b[0m \u001b[0mstate\u001b[0m \u001b[0;32mis\u001b[0m \u001b[0;32mnot\u001b[0m \u001b[0;32mNone\u001b[0m\u001b[0;34m:\u001b[0m\u001b[0;34m\u001b[0m\u001b[0;34m\u001b[0m\u001b[0m\n\u001b[1;32m    270\u001b[0m         \u001b[0;32mif\u001b[0m \u001b[0mdeep\u001b[0m\u001b[0;34m:\u001b[0m\u001b[0;34m\u001b[0m\u001b[0;34m\u001b[0m\u001b[0m\n\u001b[0;32m--> 271\u001b[0;31m             \u001b[0mstate\u001b[0m \u001b[0;34m=\u001b[0m \u001b[0mdeepcopy\u001b[0m\u001b[0;34m(\u001b[0m\u001b[0mstate\u001b[0m\u001b[0;34m,\u001b[0m \u001b[0mmemo\u001b[0m\u001b[0;34m)\u001b[0m\u001b[0;34m\u001b[0m\u001b[0;34m\u001b[0m\u001b[0m\n\u001b[0m\u001b[1;32m    272\u001b[0m         \u001b[0;32mif\u001b[0m \u001b[0mhasattr\u001b[0m\u001b[0;34m(\u001b[0m\u001b[0my\u001b[0m\u001b[0;34m,\u001b[0m \u001b[0;34m'__setstate__'\u001b[0m\u001b[0;34m)\u001b[0m\u001b[0;34m:\u001b[0m\u001b[0;34m\u001b[0m\u001b[0;34m\u001b[0m\u001b[0m\n\u001b[1;32m    273\u001b[0m             \u001b[0my\u001b[0m\u001b[0;34m.\u001b[0m\u001b[0m__setstate__\u001b[0m\u001b[0;34m(\u001b[0m\u001b[0mstate\u001b[0m\u001b[0;34m)\u001b[0m\u001b[0;34m\u001b[0m\u001b[0;34m\u001b[0m\u001b[0m\n",
            "\u001b[0;32m/usr/lib/python3.11/copy.py\u001b[0m in \u001b[0;36mdeepcopy\u001b[0;34m(x, memo, _nil)\u001b[0m\n\u001b[1;32m    144\u001b[0m     \u001b[0mcopier\u001b[0m \u001b[0;34m=\u001b[0m \u001b[0m_deepcopy_dispatch\u001b[0m\u001b[0;34m.\u001b[0m\u001b[0mget\u001b[0m\u001b[0;34m(\u001b[0m\u001b[0mcls\u001b[0m\u001b[0;34m)\u001b[0m\u001b[0;34m\u001b[0m\u001b[0;34m\u001b[0m\u001b[0m\n\u001b[1;32m    145\u001b[0m     \u001b[0;32mif\u001b[0m \u001b[0mcopier\u001b[0m \u001b[0;32mis\u001b[0m \u001b[0;32mnot\u001b[0m \u001b[0;32mNone\u001b[0m\u001b[0;34m:\u001b[0m\u001b[0;34m\u001b[0m\u001b[0;34m\u001b[0m\u001b[0m\n\u001b[0;32m--> 146\u001b[0;31m         \u001b[0my\u001b[0m \u001b[0;34m=\u001b[0m \u001b[0mcopier\u001b[0m\u001b[0;34m(\u001b[0m\u001b[0mx\u001b[0m\u001b[0;34m,\u001b[0m \u001b[0mmemo\u001b[0m\u001b[0;34m)\u001b[0m\u001b[0;34m\u001b[0m\u001b[0;34m\u001b[0m\u001b[0m\n\u001b[0m\u001b[1;32m    147\u001b[0m     \u001b[0;32melse\u001b[0m\u001b[0;34m:\u001b[0m\u001b[0;34m\u001b[0m\u001b[0;34m\u001b[0m\u001b[0m\n\u001b[1;32m    148\u001b[0m         \u001b[0;32mif\u001b[0m \u001b[0missubclass\u001b[0m\u001b[0;34m(\u001b[0m\u001b[0mcls\u001b[0m\u001b[0;34m,\u001b[0m \u001b[0mtype\u001b[0m\u001b[0;34m)\u001b[0m\u001b[0;34m:\u001b[0m\u001b[0;34m\u001b[0m\u001b[0;34m\u001b[0m\u001b[0m\n",
            "\u001b[0;32m/usr/lib/python3.11/copy.py\u001b[0m in \u001b[0;36m_deepcopy_dict\u001b[0;34m(x, memo, deepcopy)\u001b[0m\n\u001b[1;32m    229\u001b[0m     \u001b[0mmemo\u001b[0m\u001b[0;34m[\u001b[0m\u001b[0mid\u001b[0m\u001b[0;34m(\u001b[0m\u001b[0mx\u001b[0m\u001b[0;34m)\u001b[0m\u001b[0;34m]\u001b[0m \u001b[0;34m=\u001b[0m \u001b[0my\u001b[0m\u001b[0;34m\u001b[0m\u001b[0;34m\u001b[0m\u001b[0m\n\u001b[1;32m    230\u001b[0m     \u001b[0;32mfor\u001b[0m \u001b[0mkey\u001b[0m\u001b[0;34m,\u001b[0m \u001b[0mvalue\u001b[0m \u001b[0;32min\u001b[0m \u001b[0mx\u001b[0m\u001b[0;34m.\u001b[0m\u001b[0mitems\u001b[0m\u001b[0;34m(\u001b[0m\u001b[0;34m)\u001b[0m\u001b[0;34m:\u001b[0m\u001b[0;34m\u001b[0m\u001b[0;34m\u001b[0m\u001b[0m\n\u001b[0;32m--> 231\u001b[0;31m         \u001b[0my\u001b[0m\u001b[0;34m[\u001b[0m\u001b[0mdeepcopy\u001b[0m\u001b[0;34m(\u001b[0m\u001b[0mkey\u001b[0m\u001b[0;34m,\u001b[0m \u001b[0mmemo\u001b[0m\u001b[0;34m)\u001b[0m\u001b[0;34m]\u001b[0m \u001b[0;34m=\u001b[0m \u001b[0mdeepcopy\u001b[0m\u001b[0;34m(\u001b[0m\u001b[0mvalue\u001b[0m\u001b[0;34m,\u001b[0m \u001b[0mmemo\u001b[0m\u001b[0;34m)\u001b[0m\u001b[0;34m\u001b[0m\u001b[0;34m\u001b[0m\u001b[0m\n\u001b[0m\u001b[1;32m    232\u001b[0m     \u001b[0;32mreturn\u001b[0m \u001b[0my\u001b[0m\u001b[0;34m\u001b[0m\u001b[0;34m\u001b[0m\u001b[0m\n\u001b[1;32m    233\u001b[0m \u001b[0md\u001b[0m\u001b[0;34m[\u001b[0m\u001b[0mdict\u001b[0m\u001b[0;34m]\u001b[0m \u001b[0;34m=\u001b[0m \u001b[0m_deepcopy_dict\u001b[0m\u001b[0;34m\u001b[0m\u001b[0;34m\u001b[0m\u001b[0m\n",
            "\u001b[0;32m/usr/lib/python3.11/copy.py\u001b[0m in \u001b[0;36mdeepcopy\u001b[0;34m(x, memo, _nil)\u001b[0m\n\u001b[1;32m    144\u001b[0m     \u001b[0mcopier\u001b[0m \u001b[0;34m=\u001b[0m \u001b[0m_deepcopy_dispatch\u001b[0m\u001b[0;34m.\u001b[0m\u001b[0mget\u001b[0m\u001b[0;34m(\u001b[0m\u001b[0mcls\u001b[0m\u001b[0;34m)\u001b[0m\u001b[0;34m\u001b[0m\u001b[0;34m\u001b[0m\u001b[0m\n\u001b[1;32m    145\u001b[0m     \u001b[0;32mif\u001b[0m \u001b[0mcopier\u001b[0m \u001b[0;32mis\u001b[0m \u001b[0;32mnot\u001b[0m \u001b[0;32mNone\u001b[0m\u001b[0;34m:\u001b[0m\u001b[0;34m\u001b[0m\u001b[0;34m\u001b[0m\u001b[0m\n\u001b[0;32m--> 146\u001b[0;31m         \u001b[0my\u001b[0m \u001b[0;34m=\u001b[0m \u001b[0mcopier\u001b[0m\u001b[0;34m(\u001b[0m\u001b[0mx\u001b[0m\u001b[0;34m,\u001b[0m \u001b[0mmemo\u001b[0m\u001b[0;34m)\u001b[0m\u001b[0;34m\u001b[0m\u001b[0;34m\u001b[0m\u001b[0m\n\u001b[0m\u001b[1;32m    147\u001b[0m     \u001b[0;32melse\u001b[0m\u001b[0;34m:\u001b[0m\u001b[0;34m\u001b[0m\u001b[0;34m\u001b[0m\u001b[0m\n\u001b[1;32m    148\u001b[0m         \u001b[0;32mif\u001b[0m \u001b[0missubclass\u001b[0m\u001b[0;34m(\u001b[0m\u001b[0mcls\u001b[0m\u001b[0;34m,\u001b[0m \u001b[0mtype\u001b[0m\u001b[0;34m)\u001b[0m\u001b[0;34m:\u001b[0m\u001b[0;34m\u001b[0m\u001b[0;34m\u001b[0m\u001b[0m\n",
            "\u001b[0;32m/usr/lib/python3.11/copy.py\u001b[0m in \u001b[0;36m_deepcopy_dict\u001b[0;34m(x, memo, deepcopy)\u001b[0m\n\u001b[1;32m    229\u001b[0m     \u001b[0mmemo\u001b[0m\u001b[0;34m[\u001b[0m\u001b[0mid\u001b[0m\u001b[0;34m(\u001b[0m\u001b[0mx\u001b[0m\u001b[0;34m)\u001b[0m\u001b[0;34m]\u001b[0m \u001b[0;34m=\u001b[0m \u001b[0my\u001b[0m\u001b[0;34m\u001b[0m\u001b[0;34m\u001b[0m\u001b[0m\n\u001b[1;32m    230\u001b[0m     \u001b[0;32mfor\u001b[0m \u001b[0mkey\u001b[0m\u001b[0;34m,\u001b[0m \u001b[0mvalue\u001b[0m \u001b[0;32min\u001b[0m \u001b[0mx\u001b[0m\u001b[0;34m.\u001b[0m\u001b[0mitems\u001b[0m\u001b[0;34m(\u001b[0m\u001b[0;34m)\u001b[0m\u001b[0;34m:\u001b[0m\u001b[0;34m\u001b[0m\u001b[0;34m\u001b[0m\u001b[0m\n\u001b[0;32m--> 231\u001b[0;31m         \u001b[0my\u001b[0m\u001b[0;34m[\u001b[0m\u001b[0mdeepcopy\u001b[0m\u001b[0;34m(\u001b[0m\u001b[0mkey\u001b[0m\u001b[0;34m,\u001b[0m \u001b[0mmemo\u001b[0m\u001b[0;34m)\u001b[0m\u001b[0;34m]\u001b[0m \u001b[0;34m=\u001b[0m \u001b[0mdeepcopy\u001b[0m\u001b[0;34m(\u001b[0m\u001b[0mvalue\u001b[0m\u001b[0;34m,\u001b[0m \u001b[0mmemo\u001b[0m\u001b[0;34m)\u001b[0m\u001b[0;34m\u001b[0m\u001b[0;34m\u001b[0m\u001b[0m\n\u001b[0m\u001b[1;32m    232\u001b[0m     \u001b[0;32mreturn\u001b[0m \u001b[0my\u001b[0m\u001b[0;34m\u001b[0m\u001b[0;34m\u001b[0m\u001b[0m\n\u001b[1;32m    233\u001b[0m \u001b[0md\u001b[0m\u001b[0;34m[\u001b[0m\u001b[0mdict\u001b[0m\u001b[0;34m]\u001b[0m \u001b[0;34m=\u001b[0m \u001b[0m_deepcopy_dict\u001b[0m\u001b[0;34m\u001b[0m\u001b[0;34m\u001b[0m\u001b[0m\n",
            "\u001b[0;32m/usr/lib/python3.11/copy.py\u001b[0m in \u001b[0;36mdeepcopy\u001b[0;34m(x, memo, _nil)\u001b[0m\n\u001b[1;32m    170\u001b[0m                     \u001b[0my\u001b[0m \u001b[0;34m=\u001b[0m \u001b[0mx\u001b[0m\u001b[0;34m\u001b[0m\u001b[0;34m\u001b[0m\u001b[0m\n\u001b[1;32m    171\u001b[0m                 \u001b[0;32melse\u001b[0m\u001b[0;34m:\u001b[0m\u001b[0;34m\u001b[0m\u001b[0;34m\u001b[0m\u001b[0m\n\u001b[0;32m--> 172\u001b[0;31m                     \u001b[0my\u001b[0m \u001b[0;34m=\u001b[0m \u001b[0m_reconstruct\u001b[0m\u001b[0;34m(\u001b[0m\u001b[0mx\u001b[0m\u001b[0;34m,\u001b[0m \u001b[0mmemo\u001b[0m\u001b[0;34m,\u001b[0m \u001b[0;34m*\u001b[0m\u001b[0mrv\u001b[0m\u001b[0;34m)\u001b[0m\u001b[0;34m\u001b[0m\u001b[0;34m\u001b[0m\u001b[0m\n\u001b[0m\u001b[1;32m    173\u001b[0m \u001b[0;34m\u001b[0m\u001b[0m\n\u001b[1;32m    174\u001b[0m     \u001b[0;31m# If is its own copy, don't memoize.\u001b[0m\u001b[0;34m\u001b[0m\u001b[0;34m\u001b[0m\u001b[0m\n",
            "\u001b[0;32m/usr/lib/python3.11/copy.py\u001b[0m in \u001b[0;36m_reconstruct\u001b[0;34m(x, memo, func, args, state, listiter, dictiter, deepcopy)\u001b[0m\n\u001b[1;32m    269\u001b[0m     \u001b[0;32mif\u001b[0m \u001b[0mstate\u001b[0m \u001b[0;32mis\u001b[0m \u001b[0;32mnot\u001b[0m \u001b[0;32mNone\u001b[0m\u001b[0;34m:\u001b[0m\u001b[0;34m\u001b[0m\u001b[0;34m\u001b[0m\u001b[0m\n\u001b[1;32m    270\u001b[0m         \u001b[0;32mif\u001b[0m \u001b[0mdeep\u001b[0m\u001b[0;34m:\u001b[0m\u001b[0;34m\u001b[0m\u001b[0;34m\u001b[0m\u001b[0m\n\u001b[0;32m--> 271\u001b[0;31m             \u001b[0mstate\u001b[0m \u001b[0;34m=\u001b[0m \u001b[0mdeepcopy\u001b[0m\u001b[0;34m(\u001b[0m\u001b[0mstate\u001b[0m\u001b[0;34m,\u001b[0m \u001b[0mmemo\u001b[0m\u001b[0;34m)\u001b[0m\u001b[0;34m\u001b[0m\u001b[0;34m\u001b[0m\u001b[0m\n\u001b[0m\u001b[1;32m    272\u001b[0m         \u001b[0;32mif\u001b[0m \u001b[0mhasattr\u001b[0m\u001b[0;34m(\u001b[0m\u001b[0my\u001b[0m\u001b[0;34m,\u001b[0m \u001b[0;34m'__setstate__'\u001b[0m\u001b[0;34m)\u001b[0m\u001b[0;34m:\u001b[0m\u001b[0;34m\u001b[0m\u001b[0;34m\u001b[0m\u001b[0m\n\u001b[1;32m    273\u001b[0m             \u001b[0my\u001b[0m\u001b[0;34m.\u001b[0m\u001b[0m__setstate__\u001b[0m\u001b[0;34m(\u001b[0m\u001b[0mstate\u001b[0m\u001b[0;34m)\u001b[0m\u001b[0;34m\u001b[0m\u001b[0;34m\u001b[0m\u001b[0m\n",
            "\u001b[0;32m/usr/lib/python3.11/copy.py\u001b[0m in \u001b[0;36mdeepcopy\u001b[0;34m(x, memo, _nil)\u001b[0m\n\u001b[1;32m    144\u001b[0m     \u001b[0mcopier\u001b[0m \u001b[0;34m=\u001b[0m \u001b[0m_deepcopy_dispatch\u001b[0m\u001b[0;34m.\u001b[0m\u001b[0mget\u001b[0m\u001b[0;34m(\u001b[0m\u001b[0mcls\u001b[0m\u001b[0;34m)\u001b[0m\u001b[0;34m\u001b[0m\u001b[0;34m\u001b[0m\u001b[0m\n\u001b[1;32m    145\u001b[0m     \u001b[0;32mif\u001b[0m \u001b[0mcopier\u001b[0m \u001b[0;32mis\u001b[0m \u001b[0;32mnot\u001b[0m \u001b[0;32mNone\u001b[0m\u001b[0;34m:\u001b[0m\u001b[0;34m\u001b[0m\u001b[0;34m\u001b[0m\u001b[0m\n\u001b[0;32m--> 146\u001b[0;31m         \u001b[0my\u001b[0m \u001b[0;34m=\u001b[0m \u001b[0mcopier\u001b[0m\u001b[0;34m(\u001b[0m\u001b[0mx\u001b[0m\u001b[0;34m,\u001b[0m \u001b[0mmemo\u001b[0m\u001b[0;34m)\u001b[0m\u001b[0;34m\u001b[0m\u001b[0;34m\u001b[0m\u001b[0m\n\u001b[0m\u001b[1;32m    147\u001b[0m     \u001b[0;32melse\u001b[0m\u001b[0;34m:\u001b[0m\u001b[0;34m\u001b[0m\u001b[0;34m\u001b[0m\u001b[0m\n\u001b[1;32m    148\u001b[0m         \u001b[0;32mif\u001b[0m \u001b[0missubclass\u001b[0m\u001b[0;34m(\u001b[0m\u001b[0mcls\u001b[0m\u001b[0;34m,\u001b[0m \u001b[0mtype\u001b[0m\u001b[0;34m)\u001b[0m\u001b[0;34m:\u001b[0m\u001b[0;34m\u001b[0m\u001b[0;34m\u001b[0m\u001b[0m\n",
            "\u001b[0;32m/usr/lib/python3.11/copy.py\u001b[0m in \u001b[0;36m_deepcopy_dict\u001b[0;34m(x, memo, deepcopy)\u001b[0m\n\u001b[1;32m    229\u001b[0m     \u001b[0mmemo\u001b[0m\u001b[0;34m[\u001b[0m\u001b[0mid\u001b[0m\u001b[0;34m(\u001b[0m\u001b[0mx\u001b[0m\u001b[0;34m)\u001b[0m\u001b[0;34m]\u001b[0m \u001b[0;34m=\u001b[0m \u001b[0my\u001b[0m\u001b[0;34m\u001b[0m\u001b[0;34m\u001b[0m\u001b[0m\n\u001b[1;32m    230\u001b[0m     \u001b[0;32mfor\u001b[0m \u001b[0mkey\u001b[0m\u001b[0;34m,\u001b[0m \u001b[0mvalue\u001b[0m \u001b[0;32min\u001b[0m \u001b[0mx\u001b[0m\u001b[0;34m.\u001b[0m\u001b[0mitems\u001b[0m\u001b[0;34m(\u001b[0m\u001b[0;34m)\u001b[0m\u001b[0;34m:\u001b[0m\u001b[0;34m\u001b[0m\u001b[0;34m\u001b[0m\u001b[0m\n\u001b[0;32m--> 231\u001b[0;31m         \u001b[0my\u001b[0m\u001b[0;34m[\u001b[0m\u001b[0mdeepcopy\u001b[0m\u001b[0;34m(\u001b[0m\u001b[0mkey\u001b[0m\u001b[0;34m,\u001b[0m \u001b[0mmemo\u001b[0m\u001b[0;34m)\u001b[0m\u001b[0;34m]\u001b[0m \u001b[0;34m=\u001b[0m \u001b[0mdeepcopy\u001b[0m\u001b[0;34m(\u001b[0m\u001b[0mvalue\u001b[0m\u001b[0;34m,\u001b[0m \u001b[0mmemo\u001b[0m\u001b[0;34m)\u001b[0m\u001b[0;34m\u001b[0m\u001b[0;34m\u001b[0m\u001b[0m\n\u001b[0m\u001b[1;32m    232\u001b[0m     \u001b[0;32mreturn\u001b[0m \u001b[0my\u001b[0m\u001b[0;34m\u001b[0m\u001b[0;34m\u001b[0m\u001b[0m\n\u001b[1;32m    233\u001b[0m \u001b[0md\u001b[0m\u001b[0;34m[\u001b[0m\u001b[0mdict\u001b[0m\u001b[0;34m]\u001b[0m \u001b[0;34m=\u001b[0m \u001b[0m_deepcopy_dict\u001b[0m\u001b[0;34m\u001b[0m\u001b[0;34m\u001b[0m\u001b[0m\n",
            "\u001b[0;32m/usr/lib/python3.11/copy.py\u001b[0m in \u001b[0;36mdeepcopy\u001b[0;34m(x, memo, _nil)\u001b[0m\n\u001b[1;32m    144\u001b[0m     \u001b[0mcopier\u001b[0m \u001b[0;34m=\u001b[0m \u001b[0m_deepcopy_dispatch\u001b[0m\u001b[0;34m.\u001b[0m\u001b[0mget\u001b[0m\u001b[0;34m(\u001b[0m\u001b[0mcls\u001b[0m\u001b[0;34m)\u001b[0m\u001b[0;34m\u001b[0m\u001b[0;34m\u001b[0m\u001b[0m\n\u001b[1;32m    145\u001b[0m     \u001b[0;32mif\u001b[0m \u001b[0mcopier\u001b[0m \u001b[0;32mis\u001b[0m \u001b[0;32mnot\u001b[0m \u001b[0;32mNone\u001b[0m\u001b[0;34m:\u001b[0m\u001b[0;34m\u001b[0m\u001b[0;34m\u001b[0m\u001b[0m\n\u001b[0;32m--> 146\u001b[0;31m         \u001b[0my\u001b[0m \u001b[0;34m=\u001b[0m \u001b[0mcopier\u001b[0m\u001b[0;34m(\u001b[0m\u001b[0mx\u001b[0m\u001b[0;34m,\u001b[0m \u001b[0mmemo\u001b[0m\u001b[0;34m)\u001b[0m\u001b[0;34m\u001b[0m\u001b[0;34m\u001b[0m\u001b[0m\n\u001b[0m\u001b[1;32m    147\u001b[0m     \u001b[0;32melse\u001b[0m\u001b[0;34m:\u001b[0m\u001b[0;34m\u001b[0m\u001b[0;34m\u001b[0m\u001b[0m\n\u001b[1;32m    148\u001b[0m         \u001b[0;32mif\u001b[0m \u001b[0missubclass\u001b[0m\u001b[0;34m(\u001b[0m\u001b[0mcls\u001b[0m\u001b[0;34m,\u001b[0m \u001b[0mtype\u001b[0m\u001b[0;34m)\u001b[0m\u001b[0;34m:\u001b[0m\u001b[0;34m\u001b[0m\u001b[0;34m\u001b[0m\u001b[0m\n",
            "\u001b[0;32m/usr/lib/python3.11/copy.py\u001b[0m in \u001b[0;36m_deepcopy_dict\u001b[0;34m(x, memo, deepcopy)\u001b[0m\n\u001b[1;32m    229\u001b[0m     \u001b[0mmemo\u001b[0m\u001b[0;34m[\u001b[0m\u001b[0mid\u001b[0m\u001b[0;34m(\u001b[0m\u001b[0mx\u001b[0m\u001b[0;34m)\u001b[0m\u001b[0;34m]\u001b[0m \u001b[0;34m=\u001b[0m \u001b[0my\u001b[0m\u001b[0;34m\u001b[0m\u001b[0;34m\u001b[0m\u001b[0m\n\u001b[1;32m    230\u001b[0m     \u001b[0;32mfor\u001b[0m \u001b[0mkey\u001b[0m\u001b[0;34m,\u001b[0m \u001b[0mvalue\u001b[0m \u001b[0;32min\u001b[0m \u001b[0mx\u001b[0m\u001b[0;34m.\u001b[0m\u001b[0mitems\u001b[0m\u001b[0;34m(\u001b[0m\u001b[0;34m)\u001b[0m\u001b[0;34m:\u001b[0m\u001b[0;34m\u001b[0m\u001b[0;34m\u001b[0m\u001b[0m\n\u001b[0;32m--> 231\u001b[0;31m         \u001b[0my\u001b[0m\u001b[0;34m[\u001b[0m\u001b[0mdeepcopy\u001b[0m\u001b[0;34m(\u001b[0m\u001b[0mkey\u001b[0m\u001b[0;34m,\u001b[0m \u001b[0mmemo\u001b[0m\u001b[0;34m)\u001b[0m\u001b[0;34m]\u001b[0m \u001b[0;34m=\u001b[0m \u001b[0mdeepcopy\u001b[0m\u001b[0;34m(\u001b[0m\u001b[0mvalue\u001b[0m\u001b[0;34m,\u001b[0m \u001b[0mmemo\u001b[0m\u001b[0;34m)\u001b[0m\u001b[0;34m\u001b[0m\u001b[0;34m\u001b[0m\u001b[0m\n\u001b[0m\u001b[1;32m    232\u001b[0m     \u001b[0;32mreturn\u001b[0m \u001b[0my\u001b[0m\u001b[0;34m\u001b[0m\u001b[0;34m\u001b[0m\u001b[0m\n\u001b[1;32m    233\u001b[0m \u001b[0md\u001b[0m\u001b[0;34m[\u001b[0m\u001b[0mdict\u001b[0m\u001b[0;34m]\u001b[0m \u001b[0;34m=\u001b[0m \u001b[0m_deepcopy_dict\u001b[0m\u001b[0;34m\u001b[0m\u001b[0;34m\u001b[0m\u001b[0m\n",
            "\u001b[0;32m/usr/lib/python3.11/copy.py\u001b[0m in \u001b[0;36mdeepcopy\u001b[0;34m(x, memo, _nil)\u001b[0m\n\u001b[1;32m    170\u001b[0m                     \u001b[0my\u001b[0m \u001b[0;34m=\u001b[0m \u001b[0mx\u001b[0m\u001b[0;34m\u001b[0m\u001b[0;34m\u001b[0m\u001b[0m\n\u001b[1;32m    171\u001b[0m                 \u001b[0;32melse\u001b[0m\u001b[0;34m:\u001b[0m\u001b[0;34m\u001b[0m\u001b[0;34m\u001b[0m\u001b[0m\n\u001b[0;32m--> 172\u001b[0;31m                     \u001b[0my\u001b[0m \u001b[0;34m=\u001b[0m \u001b[0m_reconstruct\u001b[0m\u001b[0;34m(\u001b[0m\u001b[0mx\u001b[0m\u001b[0;34m,\u001b[0m \u001b[0mmemo\u001b[0m\u001b[0;34m,\u001b[0m \u001b[0;34m*\u001b[0m\u001b[0mrv\u001b[0m\u001b[0;34m)\u001b[0m\u001b[0;34m\u001b[0m\u001b[0;34m\u001b[0m\u001b[0m\n\u001b[0m\u001b[1;32m    173\u001b[0m \u001b[0;34m\u001b[0m\u001b[0m\n\u001b[1;32m    174\u001b[0m     \u001b[0;31m# If is its own copy, don't memoize.\u001b[0m\u001b[0;34m\u001b[0m\u001b[0;34m\u001b[0m\u001b[0m\n",
            "\u001b[0;32m/usr/lib/python3.11/copy.py\u001b[0m in \u001b[0;36m_reconstruct\u001b[0;34m(x, memo, func, args, state, listiter, dictiter, deepcopy)\u001b[0m\n\u001b[1;32m    269\u001b[0m     \u001b[0;32mif\u001b[0m \u001b[0mstate\u001b[0m \u001b[0;32mis\u001b[0m \u001b[0;32mnot\u001b[0m \u001b[0;32mNone\u001b[0m\u001b[0;34m:\u001b[0m\u001b[0;34m\u001b[0m\u001b[0;34m\u001b[0m\u001b[0m\n\u001b[1;32m    270\u001b[0m         \u001b[0;32mif\u001b[0m \u001b[0mdeep\u001b[0m\u001b[0;34m:\u001b[0m\u001b[0;34m\u001b[0m\u001b[0;34m\u001b[0m\u001b[0m\n\u001b[0;32m--> 271\u001b[0;31m             \u001b[0mstate\u001b[0m \u001b[0;34m=\u001b[0m \u001b[0mdeepcopy\u001b[0m\u001b[0;34m(\u001b[0m\u001b[0mstate\u001b[0m\u001b[0;34m,\u001b[0m \u001b[0mmemo\u001b[0m\u001b[0;34m)\u001b[0m\u001b[0;34m\u001b[0m\u001b[0;34m\u001b[0m\u001b[0m\n\u001b[0m\u001b[1;32m    272\u001b[0m         \u001b[0;32mif\u001b[0m \u001b[0mhasattr\u001b[0m\u001b[0;34m(\u001b[0m\u001b[0my\u001b[0m\u001b[0;34m,\u001b[0m \u001b[0;34m'__setstate__'\u001b[0m\u001b[0;34m)\u001b[0m\u001b[0;34m:\u001b[0m\u001b[0;34m\u001b[0m\u001b[0;34m\u001b[0m\u001b[0m\n\u001b[1;32m    273\u001b[0m             \u001b[0my\u001b[0m\u001b[0;34m.\u001b[0m\u001b[0m__setstate__\u001b[0m\u001b[0;34m(\u001b[0m\u001b[0mstate\u001b[0m\u001b[0;34m)\u001b[0m\u001b[0;34m\u001b[0m\u001b[0;34m\u001b[0m\u001b[0m\n",
            "\u001b[0;32m/usr/lib/python3.11/copy.py\u001b[0m in \u001b[0;36mdeepcopy\u001b[0;34m(x, memo, _nil)\u001b[0m\n\u001b[1;32m    144\u001b[0m     \u001b[0mcopier\u001b[0m \u001b[0;34m=\u001b[0m \u001b[0m_deepcopy_dispatch\u001b[0m\u001b[0;34m.\u001b[0m\u001b[0mget\u001b[0m\u001b[0;34m(\u001b[0m\u001b[0mcls\u001b[0m\u001b[0;34m)\u001b[0m\u001b[0;34m\u001b[0m\u001b[0;34m\u001b[0m\u001b[0m\n\u001b[1;32m    145\u001b[0m     \u001b[0;32mif\u001b[0m \u001b[0mcopier\u001b[0m \u001b[0;32mis\u001b[0m \u001b[0;32mnot\u001b[0m \u001b[0;32mNone\u001b[0m\u001b[0;34m:\u001b[0m\u001b[0;34m\u001b[0m\u001b[0;34m\u001b[0m\u001b[0m\n\u001b[0;32m--> 146\u001b[0;31m         \u001b[0my\u001b[0m \u001b[0;34m=\u001b[0m \u001b[0mcopier\u001b[0m\u001b[0;34m(\u001b[0m\u001b[0mx\u001b[0m\u001b[0;34m,\u001b[0m \u001b[0mmemo\u001b[0m\u001b[0;34m)\u001b[0m\u001b[0;34m\u001b[0m\u001b[0;34m\u001b[0m\u001b[0m\n\u001b[0m\u001b[1;32m    147\u001b[0m     \u001b[0;32melse\u001b[0m\u001b[0;34m:\u001b[0m\u001b[0;34m\u001b[0m\u001b[0;34m\u001b[0m\u001b[0m\n\u001b[1;32m    148\u001b[0m         \u001b[0;32mif\u001b[0m \u001b[0missubclass\u001b[0m\u001b[0;34m(\u001b[0m\u001b[0mcls\u001b[0m\u001b[0;34m,\u001b[0m \u001b[0mtype\u001b[0m\u001b[0;34m)\u001b[0m\u001b[0;34m:\u001b[0m\u001b[0;34m\u001b[0m\u001b[0;34m\u001b[0m\u001b[0m\n",
            "\u001b[0;32m/usr/lib/python3.11/copy.py\u001b[0m in \u001b[0;36m_deepcopy_dict\u001b[0;34m(x, memo, deepcopy)\u001b[0m\n\u001b[1;32m    229\u001b[0m     \u001b[0mmemo\u001b[0m\u001b[0;34m[\u001b[0m\u001b[0mid\u001b[0m\u001b[0;34m(\u001b[0m\u001b[0mx\u001b[0m\u001b[0;34m)\u001b[0m\u001b[0;34m]\u001b[0m \u001b[0;34m=\u001b[0m \u001b[0my\u001b[0m\u001b[0;34m\u001b[0m\u001b[0;34m\u001b[0m\u001b[0m\n\u001b[1;32m    230\u001b[0m     \u001b[0;32mfor\u001b[0m \u001b[0mkey\u001b[0m\u001b[0;34m,\u001b[0m \u001b[0mvalue\u001b[0m \u001b[0;32min\u001b[0m \u001b[0mx\u001b[0m\u001b[0;34m.\u001b[0m\u001b[0mitems\u001b[0m\u001b[0;34m(\u001b[0m\u001b[0;34m)\u001b[0m\u001b[0;34m:\u001b[0m\u001b[0;34m\u001b[0m\u001b[0;34m\u001b[0m\u001b[0m\n\u001b[0;32m--> 231\u001b[0;31m         \u001b[0my\u001b[0m\u001b[0;34m[\u001b[0m\u001b[0mdeepcopy\u001b[0m\u001b[0;34m(\u001b[0m\u001b[0mkey\u001b[0m\u001b[0;34m,\u001b[0m \u001b[0mmemo\u001b[0m\u001b[0;34m)\u001b[0m\u001b[0;34m]\u001b[0m \u001b[0;34m=\u001b[0m \u001b[0mdeepcopy\u001b[0m\u001b[0;34m(\u001b[0m\u001b[0mvalue\u001b[0m\u001b[0;34m,\u001b[0m \u001b[0mmemo\u001b[0m\u001b[0;34m)\u001b[0m\u001b[0;34m\u001b[0m\u001b[0;34m\u001b[0m\u001b[0m\n\u001b[0m\u001b[1;32m    232\u001b[0m     \u001b[0;32mreturn\u001b[0m \u001b[0my\u001b[0m\u001b[0;34m\u001b[0m\u001b[0;34m\u001b[0m\u001b[0m\n\u001b[1;32m    233\u001b[0m \u001b[0md\u001b[0m\u001b[0;34m[\u001b[0m\u001b[0mdict\u001b[0m\u001b[0;34m]\u001b[0m \u001b[0;34m=\u001b[0m \u001b[0m_deepcopy_dict\u001b[0m\u001b[0;34m\u001b[0m\u001b[0;34m\u001b[0m\u001b[0m\n",
            "\u001b[0;32m/usr/lib/python3.11/copy.py\u001b[0m in \u001b[0;36mdeepcopy\u001b[0;34m(x, memo, _nil)\u001b[0m\n\u001b[1;32m    144\u001b[0m     \u001b[0mcopier\u001b[0m \u001b[0;34m=\u001b[0m \u001b[0m_deepcopy_dispatch\u001b[0m\u001b[0;34m.\u001b[0m\u001b[0mget\u001b[0m\u001b[0;34m(\u001b[0m\u001b[0mcls\u001b[0m\u001b[0;34m)\u001b[0m\u001b[0;34m\u001b[0m\u001b[0;34m\u001b[0m\u001b[0m\n\u001b[1;32m    145\u001b[0m     \u001b[0;32mif\u001b[0m \u001b[0mcopier\u001b[0m \u001b[0;32mis\u001b[0m \u001b[0;32mnot\u001b[0m \u001b[0;32mNone\u001b[0m\u001b[0;34m:\u001b[0m\u001b[0;34m\u001b[0m\u001b[0;34m\u001b[0m\u001b[0m\n\u001b[0;32m--> 146\u001b[0;31m         \u001b[0my\u001b[0m \u001b[0;34m=\u001b[0m \u001b[0mcopier\u001b[0m\u001b[0;34m(\u001b[0m\u001b[0mx\u001b[0m\u001b[0;34m,\u001b[0m \u001b[0mmemo\u001b[0m\u001b[0;34m)\u001b[0m\u001b[0;34m\u001b[0m\u001b[0;34m\u001b[0m\u001b[0m\n\u001b[0m\u001b[1;32m    147\u001b[0m     \u001b[0;32melse\u001b[0m\u001b[0;34m:\u001b[0m\u001b[0;34m\u001b[0m\u001b[0;34m\u001b[0m\u001b[0m\n\u001b[1;32m    148\u001b[0m         \u001b[0;32mif\u001b[0m \u001b[0missubclass\u001b[0m\u001b[0;34m(\u001b[0m\u001b[0mcls\u001b[0m\u001b[0;34m,\u001b[0m \u001b[0mtype\u001b[0m\u001b[0;34m)\u001b[0m\u001b[0;34m:\u001b[0m\u001b[0;34m\u001b[0m\u001b[0;34m\u001b[0m\u001b[0m\n",
            "\u001b[0;32m/usr/lib/python3.11/copy.py\u001b[0m in \u001b[0;36m_deepcopy_dict\u001b[0;34m(x, memo, deepcopy)\u001b[0m\n\u001b[1;32m    229\u001b[0m     \u001b[0mmemo\u001b[0m\u001b[0;34m[\u001b[0m\u001b[0mid\u001b[0m\u001b[0;34m(\u001b[0m\u001b[0mx\u001b[0m\u001b[0;34m)\u001b[0m\u001b[0;34m]\u001b[0m \u001b[0;34m=\u001b[0m \u001b[0my\u001b[0m\u001b[0;34m\u001b[0m\u001b[0;34m\u001b[0m\u001b[0m\n\u001b[1;32m    230\u001b[0m     \u001b[0;32mfor\u001b[0m \u001b[0mkey\u001b[0m\u001b[0;34m,\u001b[0m \u001b[0mvalue\u001b[0m \u001b[0;32min\u001b[0m \u001b[0mx\u001b[0m\u001b[0;34m.\u001b[0m\u001b[0mitems\u001b[0m\u001b[0;34m(\u001b[0m\u001b[0;34m)\u001b[0m\u001b[0;34m:\u001b[0m\u001b[0;34m\u001b[0m\u001b[0;34m\u001b[0m\u001b[0m\n\u001b[0;32m--> 231\u001b[0;31m         \u001b[0my\u001b[0m\u001b[0;34m[\u001b[0m\u001b[0mdeepcopy\u001b[0m\u001b[0;34m(\u001b[0m\u001b[0mkey\u001b[0m\u001b[0;34m,\u001b[0m \u001b[0mmemo\u001b[0m\u001b[0;34m)\u001b[0m\u001b[0;34m]\u001b[0m \u001b[0;34m=\u001b[0m \u001b[0mdeepcopy\u001b[0m\u001b[0;34m(\u001b[0m\u001b[0mvalue\u001b[0m\u001b[0;34m,\u001b[0m \u001b[0mmemo\u001b[0m\u001b[0;34m)\u001b[0m\u001b[0;34m\u001b[0m\u001b[0;34m\u001b[0m\u001b[0m\n\u001b[0m\u001b[1;32m    232\u001b[0m     \u001b[0;32mreturn\u001b[0m \u001b[0my\u001b[0m\u001b[0;34m\u001b[0m\u001b[0;34m\u001b[0m\u001b[0m\n\u001b[1;32m    233\u001b[0m \u001b[0md\u001b[0m\u001b[0;34m[\u001b[0m\u001b[0mdict\u001b[0m\u001b[0;34m]\u001b[0m \u001b[0;34m=\u001b[0m \u001b[0m_deepcopy_dict\u001b[0m\u001b[0;34m\u001b[0m\u001b[0;34m\u001b[0m\u001b[0m\n",
            "\u001b[0;32m/usr/lib/python3.11/copy.py\u001b[0m in \u001b[0;36mdeepcopy\u001b[0;34m(x, memo, _nil)\u001b[0m\n\u001b[1;32m    170\u001b[0m                     \u001b[0my\u001b[0m \u001b[0;34m=\u001b[0m \u001b[0mx\u001b[0m\u001b[0;34m\u001b[0m\u001b[0;34m\u001b[0m\u001b[0m\n\u001b[1;32m    171\u001b[0m                 \u001b[0;32melse\u001b[0m\u001b[0;34m:\u001b[0m\u001b[0;34m\u001b[0m\u001b[0;34m\u001b[0m\u001b[0m\n\u001b[0;32m--> 172\u001b[0;31m                     \u001b[0my\u001b[0m \u001b[0;34m=\u001b[0m \u001b[0m_reconstruct\u001b[0m\u001b[0;34m(\u001b[0m\u001b[0mx\u001b[0m\u001b[0;34m,\u001b[0m \u001b[0mmemo\u001b[0m\u001b[0;34m,\u001b[0m \u001b[0;34m*\u001b[0m\u001b[0mrv\u001b[0m\u001b[0;34m)\u001b[0m\u001b[0;34m\u001b[0m\u001b[0;34m\u001b[0m\u001b[0m\n\u001b[0m\u001b[1;32m    173\u001b[0m \u001b[0;34m\u001b[0m\u001b[0m\n\u001b[1;32m    174\u001b[0m     \u001b[0;31m# If is its own copy, don't memoize.\u001b[0m\u001b[0;34m\u001b[0m\u001b[0;34m\u001b[0m\u001b[0m\n",
            "\u001b[0;32m/usr/lib/python3.11/copy.py\u001b[0m in \u001b[0;36m_reconstruct\u001b[0;34m(x, memo, func, args, state, listiter, dictiter, deepcopy)\u001b[0m\n\u001b[1;32m    269\u001b[0m     \u001b[0;32mif\u001b[0m \u001b[0mstate\u001b[0m \u001b[0;32mis\u001b[0m \u001b[0;32mnot\u001b[0m \u001b[0;32mNone\u001b[0m\u001b[0;34m:\u001b[0m\u001b[0;34m\u001b[0m\u001b[0;34m\u001b[0m\u001b[0m\n\u001b[1;32m    270\u001b[0m         \u001b[0;32mif\u001b[0m \u001b[0mdeep\u001b[0m\u001b[0;34m:\u001b[0m\u001b[0;34m\u001b[0m\u001b[0;34m\u001b[0m\u001b[0m\n\u001b[0;32m--> 271\u001b[0;31m             \u001b[0mstate\u001b[0m \u001b[0;34m=\u001b[0m \u001b[0mdeepcopy\u001b[0m\u001b[0;34m(\u001b[0m\u001b[0mstate\u001b[0m\u001b[0;34m,\u001b[0m \u001b[0mmemo\u001b[0m\u001b[0;34m)\u001b[0m\u001b[0;34m\u001b[0m\u001b[0;34m\u001b[0m\u001b[0m\n\u001b[0m\u001b[1;32m    272\u001b[0m         \u001b[0;32mif\u001b[0m \u001b[0mhasattr\u001b[0m\u001b[0;34m(\u001b[0m\u001b[0my\u001b[0m\u001b[0;34m,\u001b[0m \u001b[0;34m'__setstate__'\u001b[0m\u001b[0;34m)\u001b[0m\u001b[0;34m:\u001b[0m\u001b[0;34m\u001b[0m\u001b[0;34m\u001b[0m\u001b[0m\n\u001b[1;32m    273\u001b[0m             \u001b[0my\u001b[0m\u001b[0;34m.\u001b[0m\u001b[0m__setstate__\u001b[0m\u001b[0;34m(\u001b[0m\u001b[0mstate\u001b[0m\u001b[0;34m)\u001b[0m\u001b[0;34m\u001b[0m\u001b[0;34m\u001b[0m\u001b[0m\n",
            "\u001b[0;32m/usr/lib/python3.11/copy.py\u001b[0m in \u001b[0;36mdeepcopy\u001b[0;34m(x, memo, _nil)\u001b[0m\n\u001b[1;32m    144\u001b[0m     \u001b[0mcopier\u001b[0m \u001b[0;34m=\u001b[0m \u001b[0m_deepcopy_dispatch\u001b[0m\u001b[0;34m.\u001b[0m\u001b[0mget\u001b[0m\u001b[0;34m(\u001b[0m\u001b[0mcls\u001b[0m\u001b[0;34m)\u001b[0m\u001b[0;34m\u001b[0m\u001b[0;34m\u001b[0m\u001b[0m\n\u001b[1;32m    145\u001b[0m     \u001b[0;32mif\u001b[0m \u001b[0mcopier\u001b[0m \u001b[0;32mis\u001b[0m \u001b[0;32mnot\u001b[0m \u001b[0;32mNone\u001b[0m\u001b[0;34m:\u001b[0m\u001b[0;34m\u001b[0m\u001b[0;34m\u001b[0m\u001b[0m\n\u001b[0;32m--> 146\u001b[0;31m         \u001b[0my\u001b[0m \u001b[0;34m=\u001b[0m \u001b[0mcopier\u001b[0m\u001b[0;34m(\u001b[0m\u001b[0mx\u001b[0m\u001b[0;34m,\u001b[0m \u001b[0mmemo\u001b[0m\u001b[0;34m)\u001b[0m\u001b[0;34m\u001b[0m\u001b[0;34m\u001b[0m\u001b[0m\n\u001b[0m\u001b[1;32m    147\u001b[0m     \u001b[0;32melse\u001b[0m\u001b[0;34m:\u001b[0m\u001b[0;34m\u001b[0m\u001b[0;34m\u001b[0m\u001b[0m\n\u001b[1;32m    148\u001b[0m         \u001b[0;32mif\u001b[0m \u001b[0missubclass\u001b[0m\u001b[0;34m(\u001b[0m\u001b[0mcls\u001b[0m\u001b[0;34m,\u001b[0m \u001b[0mtype\u001b[0m\u001b[0;34m)\u001b[0m\u001b[0;34m:\u001b[0m\u001b[0;34m\u001b[0m\u001b[0;34m\u001b[0m\u001b[0m\n",
            "\u001b[0;32m/usr/lib/python3.11/copy.py\u001b[0m in \u001b[0;36m_deepcopy_dict\u001b[0;34m(x, memo, deepcopy)\u001b[0m\n\u001b[1;32m    229\u001b[0m     \u001b[0mmemo\u001b[0m\u001b[0;34m[\u001b[0m\u001b[0mid\u001b[0m\u001b[0;34m(\u001b[0m\u001b[0mx\u001b[0m\u001b[0;34m)\u001b[0m\u001b[0;34m]\u001b[0m \u001b[0;34m=\u001b[0m \u001b[0my\u001b[0m\u001b[0;34m\u001b[0m\u001b[0;34m\u001b[0m\u001b[0m\n\u001b[1;32m    230\u001b[0m     \u001b[0;32mfor\u001b[0m \u001b[0mkey\u001b[0m\u001b[0;34m,\u001b[0m \u001b[0mvalue\u001b[0m \u001b[0;32min\u001b[0m \u001b[0mx\u001b[0m\u001b[0;34m.\u001b[0m\u001b[0mitems\u001b[0m\u001b[0;34m(\u001b[0m\u001b[0;34m)\u001b[0m\u001b[0;34m:\u001b[0m\u001b[0;34m\u001b[0m\u001b[0;34m\u001b[0m\u001b[0m\n\u001b[0;32m--> 231\u001b[0;31m         \u001b[0my\u001b[0m\u001b[0;34m[\u001b[0m\u001b[0mdeepcopy\u001b[0m\u001b[0;34m(\u001b[0m\u001b[0mkey\u001b[0m\u001b[0;34m,\u001b[0m \u001b[0mmemo\u001b[0m\u001b[0;34m)\u001b[0m\u001b[0;34m]\u001b[0m \u001b[0;34m=\u001b[0m \u001b[0mdeepcopy\u001b[0m\u001b[0;34m(\u001b[0m\u001b[0mvalue\u001b[0m\u001b[0;34m,\u001b[0m \u001b[0mmemo\u001b[0m\u001b[0;34m)\u001b[0m\u001b[0;34m\u001b[0m\u001b[0;34m\u001b[0m\u001b[0m\n\u001b[0m\u001b[1;32m    232\u001b[0m     \u001b[0;32mreturn\u001b[0m \u001b[0my\u001b[0m\u001b[0;34m\u001b[0m\u001b[0;34m\u001b[0m\u001b[0m\n\u001b[1;32m    233\u001b[0m \u001b[0md\u001b[0m\u001b[0;34m[\u001b[0m\u001b[0mdict\u001b[0m\u001b[0;34m]\u001b[0m \u001b[0;34m=\u001b[0m \u001b[0m_deepcopy_dict\u001b[0m\u001b[0;34m\u001b[0m\u001b[0;34m\u001b[0m\u001b[0m\n",
            "\u001b[0;32m/usr/lib/python3.11/copy.py\u001b[0m in \u001b[0;36mdeepcopy\u001b[0;34m(x, memo, _nil)\u001b[0m\n\u001b[1;32m    144\u001b[0m     \u001b[0mcopier\u001b[0m \u001b[0;34m=\u001b[0m \u001b[0m_deepcopy_dispatch\u001b[0m\u001b[0;34m.\u001b[0m\u001b[0mget\u001b[0m\u001b[0;34m(\u001b[0m\u001b[0mcls\u001b[0m\u001b[0;34m)\u001b[0m\u001b[0;34m\u001b[0m\u001b[0;34m\u001b[0m\u001b[0m\n\u001b[1;32m    145\u001b[0m     \u001b[0;32mif\u001b[0m \u001b[0mcopier\u001b[0m \u001b[0;32mis\u001b[0m \u001b[0;32mnot\u001b[0m \u001b[0;32mNone\u001b[0m\u001b[0;34m:\u001b[0m\u001b[0;34m\u001b[0m\u001b[0;34m\u001b[0m\u001b[0m\n\u001b[0;32m--> 146\u001b[0;31m         \u001b[0my\u001b[0m \u001b[0;34m=\u001b[0m \u001b[0mcopier\u001b[0m\u001b[0;34m(\u001b[0m\u001b[0mx\u001b[0m\u001b[0;34m,\u001b[0m \u001b[0mmemo\u001b[0m\u001b[0;34m)\u001b[0m\u001b[0;34m\u001b[0m\u001b[0;34m\u001b[0m\u001b[0m\n\u001b[0m\u001b[1;32m    147\u001b[0m     \u001b[0;32melse\u001b[0m\u001b[0;34m:\u001b[0m\u001b[0;34m\u001b[0m\u001b[0;34m\u001b[0m\u001b[0m\n\u001b[1;32m    148\u001b[0m         \u001b[0;32mif\u001b[0m \u001b[0missubclass\u001b[0m\u001b[0;34m(\u001b[0m\u001b[0mcls\u001b[0m\u001b[0;34m,\u001b[0m \u001b[0mtype\u001b[0m\u001b[0;34m)\u001b[0m\u001b[0;34m:\u001b[0m\u001b[0;34m\u001b[0m\u001b[0;34m\u001b[0m\u001b[0m\n",
            "\u001b[0;32m/usr/lib/python3.11/copy.py\u001b[0m in \u001b[0;36m_deepcopy_dict\u001b[0;34m(x, memo, deepcopy)\u001b[0m\n\u001b[1;32m    229\u001b[0m     \u001b[0mmemo\u001b[0m\u001b[0;34m[\u001b[0m\u001b[0mid\u001b[0m\u001b[0;34m(\u001b[0m\u001b[0mx\u001b[0m\u001b[0;34m)\u001b[0m\u001b[0;34m]\u001b[0m \u001b[0;34m=\u001b[0m \u001b[0my\u001b[0m\u001b[0;34m\u001b[0m\u001b[0;34m\u001b[0m\u001b[0m\n\u001b[1;32m    230\u001b[0m     \u001b[0;32mfor\u001b[0m \u001b[0mkey\u001b[0m\u001b[0;34m,\u001b[0m \u001b[0mvalue\u001b[0m \u001b[0;32min\u001b[0m \u001b[0mx\u001b[0m\u001b[0;34m.\u001b[0m\u001b[0mitems\u001b[0m\u001b[0;34m(\u001b[0m\u001b[0;34m)\u001b[0m\u001b[0;34m:\u001b[0m\u001b[0;34m\u001b[0m\u001b[0;34m\u001b[0m\u001b[0m\n\u001b[0;32m--> 231\u001b[0;31m         \u001b[0my\u001b[0m\u001b[0;34m[\u001b[0m\u001b[0mdeepcopy\u001b[0m\u001b[0;34m(\u001b[0m\u001b[0mkey\u001b[0m\u001b[0;34m,\u001b[0m \u001b[0mmemo\u001b[0m\u001b[0;34m)\u001b[0m\u001b[0;34m]\u001b[0m \u001b[0;34m=\u001b[0m \u001b[0mdeepcopy\u001b[0m\u001b[0;34m(\u001b[0m\u001b[0mvalue\u001b[0m\u001b[0;34m,\u001b[0m \u001b[0mmemo\u001b[0m\u001b[0;34m)\u001b[0m\u001b[0;34m\u001b[0m\u001b[0;34m\u001b[0m\u001b[0m\n\u001b[0m\u001b[1;32m    232\u001b[0m     \u001b[0;32mreturn\u001b[0m \u001b[0my\u001b[0m\u001b[0;34m\u001b[0m\u001b[0;34m\u001b[0m\u001b[0m\n\u001b[1;32m    233\u001b[0m \u001b[0md\u001b[0m\u001b[0;34m[\u001b[0m\u001b[0mdict\u001b[0m\u001b[0;34m]\u001b[0m \u001b[0;34m=\u001b[0m \u001b[0m_deepcopy_dict\u001b[0m\u001b[0;34m\u001b[0m\u001b[0;34m\u001b[0m\u001b[0m\n",
            "\u001b[0;32m/usr/lib/python3.11/copy.py\u001b[0m in \u001b[0;36mdeepcopy\u001b[0;34m(x, memo, _nil)\u001b[0m\n\u001b[1;32m    170\u001b[0m                     \u001b[0my\u001b[0m \u001b[0;34m=\u001b[0m \u001b[0mx\u001b[0m\u001b[0;34m\u001b[0m\u001b[0;34m\u001b[0m\u001b[0m\n\u001b[1;32m    171\u001b[0m                 \u001b[0;32melse\u001b[0m\u001b[0;34m:\u001b[0m\u001b[0;34m\u001b[0m\u001b[0;34m\u001b[0m\u001b[0m\n\u001b[0;32m--> 172\u001b[0;31m                     \u001b[0my\u001b[0m \u001b[0;34m=\u001b[0m \u001b[0m_reconstruct\u001b[0m\u001b[0;34m(\u001b[0m\u001b[0mx\u001b[0m\u001b[0;34m,\u001b[0m \u001b[0mmemo\u001b[0m\u001b[0;34m,\u001b[0m \u001b[0;34m*\u001b[0m\u001b[0mrv\u001b[0m\u001b[0;34m)\u001b[0m\u001b[0;34m\u001b[0m\u001b[0;34m\u001b[0m\u001b[0m\n\u001b[0m\u001b[1;32m    173\u001b[0m \u001b[0;34m\u001b[0m\u001b[0m\n\u001b[1;32m    174\u001b[0m     \u001b[0;31m# If is its own copy, don't memoize.\u001b[0m\u001b[0;34m\u001b[0m\u001b[0;34m\u001b[0m\u001b[0m\n",
            "\u001b[0;32m/usr/lib/python3.11/copy.py\u001b[0m in \u001b[0;36m_reconstruct\u001b[0;34m(x, memo, func, args, state, listiter, dictiter, deepcopy)\u001b[0m\n\u001b[1;32m    269\u001b[0m     \u001b[0;32mif\u001b[0m \u001b[0mstate\u001b[0m \u001b[0;32mis\u001b[0m \u001b[0;32mnot\u001b[0m \u001b[0;32mNone\u001b[0m\u001b[0;34m:\u001b[0m\u001b[0;34m\u001b[0m\u001b[0;34m\u001b[0m\u001b[0m\n\u001b[1;32m    270\u001b[0m         \u001b[0;32mif\u001b[0m \u001b[0mdeep\u001b[0m\u001b[0;34m:\u001b[0m\u001b[0;34m\u001b[0m\u001b[0;34m\u001b[0m\u001b[0m\n\u001b[0;32m--> 271\u001b[0;31m             \u001b[0mstate\u001b[0m \u001b[0;34m=\u001b[0m \u001b[0mdeepcopy\u001b[0m\u001b[0;34m(\u001b[0m\u001b[0mstate\u001b[0m\u001b[0;34m,\u001b[0m \u001b[0mmemo\u001b[0m\u001b[0;34m)\u001b[0m\u001b[0;34m\u001b[0m\u001b[0;34m\u001b[0m\u001b[0m\n\u001b[0m\u001b[1;32m    272\u001b[0m         \u001b[0;32mif\u001b[0m \u001b[0mhasattr\u001b[0m\u001b[0;34m(\u001b[0m\u001b[0my\u001b[0m\u001b[0;34m,\u001b[0m \u001b[0;34m'__setstate__'\u001b[0m\u001b[0;34m)\u001b[0m\u001b[0;34m:\u001b[0m\u001b[0;34m\u001b[0m\u001b[0;34m\u001b[0m\u001b[0m\n\u001b[1;32m    273\u001b[0m             \u001b[0my\u001b[0m\u001b[0;34m.\u001b[0m\u001b[0m__setstate__\u001b[0m\u001b[0;34m(\u001b[0m\u001b[0mstate\u001b[0m\u001b[0;34m)\u001b[0m\u001b[0;34m\u001b[0m\u001b[0;34m\u001b[0m\u001b[0m\n",
            "\u001b[0;32m/usr/lib/python3.11/copy.py\u001b[0m in \u001b[0;36mdeepcopy\u001b[0;34m(x, memo, _nil)\u001b[0m\n\u001b[1;32m    144\u001b[0m     \u001b[0mcopier\u001b[0m \u001b[0;34m=\u001b[0m \u001b[0m_deepcopy_dispatch\u001b[0m\u001b[0;34m.\u001b[0m\u001b[0mget\u001b[0m\u001b[0;34m(\u001b[0m\u001b[0mcls\u001b[0m\u001b[0;34m)\u001b[0m\u001b[0;34m\u001b[0m\u001b[0;34m\u001b[0m\u001b[0m\n\u001b[1;32m    145\u001b[0m     \u001b[0;32mif\u001b[0m \u001b[0mcopier\u001b[0m \u001b[0;32mis\u001b[0m \u001b[0;32mnot\u001b[0m \u001b[0;32mNone\u001b[0m\u001b[0;34m:\u001b[0m\u001b[0;34m\u001b[0m\u001b[0;34m\u001b[0m\u001b[0m\n\u001b[0;32m--> 146\u001b[0;31m         \u001b[0my\u001b[0m \u001b[0;34m=\u001b[0m \u001b[0mcopier\u001b[0m\u001b[0;34m(\u001b[0m\u001b[0mx\u001b[0m\u001b[0;34m,\u001b[0m \u001b[0mmemo\u001b[0m\u001b[0;34m)\u001b[0m\u001b[0;34m\u001b[0m\u001b[0;34m\u001b[0m\u001b[0m\n\u001b[0m\u001b[1;32m    147\u001b[0m     \u001b[0;32melse\u001b[0m\u001b[0;34m:\u001b[0m\u001b[0;34m\u001b[0m\u001b[0;34m\u001b[0m\u001b[0m\n\u001b[1;32m    148\u001b[0m         \u001b[0;32mif\u001b[0m \u001b[0missubclass\u001b[0m\u001b[0;34m(\u001b[0m\u001b[0mcls\u001b[0m\u001b[0;34m,\u001b[0m \u001b[0mtype\u001b[0m\u001b[0;34m)\u001b[0m\u001b[0;34m:\u001b[0m\u001b[0;34m\u001b[0m\u001b[0;34m\u001b[0m\u001b[0m\n",
            "\u001b[0;32m/usr/lib/python3.11/copy.py\u001b[0m in \u001b[0;36m_deepcopy_dict\u001b[0;34m(x, memo, deepcopy)\u001b[0m\n\u001b[1;32m    229\u001b[0m     \u001b[0mmemo\u001b[0m\u001b[0;34m[\u001b[0m\u001b[0mid\u001b[0m\u001b[0;34m(\u001b[0m\u001b[0mx\u001b[0m\u001b[0;34m)\u001b[0m\u001b[0;34m]\u001b[0m \u001b[0;34m=\u001b[0m \u001b[0my\u001b[0m\u001b[0;34m\u001b[0m\u001b[0;34m\u001b[0m\u001b[0m\n\u001b[1;32m    230\u001b[0m     \u001b[0;32mfor\u001b[0m \u001b[0mkey\u001b[0m\u001b[0;34m,\u001b[0m \u001b[0mvalue\u001b[0m \u001b[0;32min\u001b[0m \u001b[0mx\u001b[0m\u001b[0;34m.\u001b[0m\u001b[0mitems\u001b[0m\u001b[0;34m(\u001b[0m\u001b[0;34m)\u001b[0m\u001b[0;34m:\u001b[0m\u001b[0;34m\u001b[0m\u001b[0;34m\u001b[0m\u001b[0m\n\u001b[0;32m--> 231\u001b[0;31m         \u001b[0my\u001b[0m\u001b[0;34m[\u001b[0m\u001b[0mdeepcopy\u001b[0m\u001b[0;34m(\u001b[0m\u001b[0mkey\u001b[0m\u001b[0;34m,\u001b[0m \u001b[0mmemo\u001b[0m\u001b[0;34m)\u001b[0m\u001b[0;34m]\u001b[0m \u001b[0;34m=\u001b[0m \u001b[0mdeepcopy\u001b[0m\u001b[0;34m(\u001b[0m\u001b[0mvalue\u001b[0m\u001b[0;34m,\u001b[0m \u001b[0mmemo\u001b[0m\u001b[0;34m)\u001b[0m\u001b[0;34m\u001b[0m\u001b[0;34m\u001b[0m\u001b[0m\n\u001b[0m\u001b[1;32m    232\u001b[0m     \u001b[0;32mreturn\u001b[0m \u001b[0my\u001b[0m\u001b[0;34m\u001b[0m\u001b[0;34m\u001b[0m\u001b[0m\n\u001b[1;32m    233\u001b[0m \u001b[0md\u001b[0m\u001b[0;34m[\u001b[0m\u001b[0mdict\u001b[0m\u001b[0;34m]\u001b[0m \u001b[0;34m=\u001b[0m \u001b[0m_deepcopy_dict\u001b[0m\u001b[0;34m\u001b[0m\u001b[0;34m\u001b[0m\u001b[0m\n",
            "\u001b[0;32m/usr/lib/python3.11/copy.py\u001b[0m in \u001b[0;36mdeepcopy\u001b[0;34m(x, memo, _nil)\u001b[0m\n\u001b[1;32m    144\u001b[0m     \u001b[0mcopier\u001b[0m \u001b[0;34m=\u001b[0m \u001b[0m_deepcopy_dispatch\u001b[0m\u001b[0;34m.\u001b[0m\u001b[0mget\u001b[0m\u001b[0;34m(\u001b[0m\u001b[0mcls\u001b[0m\u001b[0;34m)\u001b[0m\u001b[0;34m\u001b[0m\u001b[0;34m\u001b[0m\u001b[0m\n\u001b[1;32m    145\u001b[0m     \u001b[0;32mif\u001b[0m \u001b[0mcopier\u001b[0m \u001b[0;32mis\u001b[0m \u001b[0;32mnot\u001b[0m \u001b[0;32mNone\u001b[0m\u001b[0;34m:\u001b[0m\u001b[0;34m\u001b[0m\u001b[0;34m\u001b[0m\u001b[0m\n\u001b[0;32m--> 146\u001b[0;31m         \u001b[0my\u001b[0m \u001b[0;34m=\u001b[0m \u001b[0mcopier\u001b[0m\u001b[0;34m(\u001b[0m\u001b[0mx\u001b[0m\u001b[0;34m,\u001b[0m \u001b[0mmemo\u001b[0m\u001b[0;34m)\u001b[0m\u001b[0;34m\u001b[0m\u001b[0;34m\u001b[0m\u001b[0m\n\u001b[0m\u001b[1;32m    147\u001b[0m     \u001b[0;32melse\u001b[0m\u001b[0;34m:\u001b[0m\u001b[0;34m\u001b[0m\u001b[0;34m\u001b[0m\u001b[0m\n\u001b[1;32m    148\u001b[0m         \u001b[0;32mif\u001b[0m \u001b[0missubclass\u001b[0m\u001b[0;34m(\u001b[0m\u001b[0mcls\u001b[0m\u001b[0;34m,\u001b[0m \u001b[0mtype\u001b[0m\u001b[0;34m)\u001b[0m\u001b[0;34m:\u001b[0m\u001b[0;34m\u001b[0m\u001b[0;34m\u001b[0m\u001b[0m\n",
            "\u001b[0;32m/usr/lib/python3.11/copy.py\u001b[0m in \u001b[0;36m_deepcopy_dict\u001b[0;34m(x, memo, deepcopy)\u001b[0m\n\u001b[1;32m    229\u001b[0m     \u001b[0mmemo\u001b[0m\u001b[0;34m[\u001b[0m\u001b[0mid\u001b[0m\u001b[0;34m(\u001b[0m\u001b[0mx\u001b[0m\u001b[0;34m)\u001b[0m\u001b[0;34m]\u001b[0m \u001b[0;34m=\u001b[0m \u001b[0my\u001b[0m\u001b[0;34m\u001b[0m\u001b[0;34m\u001b[0m\u001b[0m\n\u001b[1;32m    230\u001b[0m     \u001b[0;32mfor\u001b[0m \u001b[0mkey\u001b[0m\u001b[0;34m,\u001b[0m \u001b[0mvalue\u001b[0m \u001b[0;32min\u001b[0m \u001b[0mx\u001b[0m\u001b[0;34m.\u001b[0m\u001b[0mitems\u001b[0m\u001b[0;34m(\u001b[0m\u001b[0;34m)\u001b[0m\u001b[0;34m:\u001b[0m\u001b[0;34m\u001b[0m\u001b[0;34m\u001b[0m\u001b[0m\n\u001b[0;32m--> 231\u001b[0;31m         \u001b[0my\u001b[0m\u001b[0;34m[\u001b[0m\u001b[0mdeepcopy\u001b[0m\u001b[0;34m(\u001b[0m\u001b[0mkey\u001b[0m\u001b[0;34m,\u001b[0m \u001b[0mmemo\u001b[0m\u001b[0;34m)\u001b[0m\u001b[0;34m]\u001b[0m \u001b[0;34m=\u001b[0m \u001b[0mdeepcopy\u001b[0m\u001b[0;34m(\u001b[0m\u001b[0mvalue\u001b[0m\u001b[0;34m,\u001b[0m \u001b[0mmemo\u001b[0m\u001b[0;34m)\u001b[0m\u001b[0;34m\u001b[0m\u001b[0;34m\u001b[0m\u001b[0m\n\u001b[0m\u001b[1;32m    232\u001b[0m     \u001b[0;32mreturn\u001b[0m \u001b[0my\u001b[0m\u001b[0;34m\u001b[0m\u001b[0;34m\u001b[0m\u001b[0m\n\u001b[1;32m    233\u001b[0m \u001b[0md\u001b[0m\u001b[0;34m[\u001b[0m\u001b[0mdict\u001b[0m\u001b[0;34m]\u001b[0m \u001b[0;34m=\u001b[0m \u001b[0m_deepcopy_dict\u001b[0m\u001b[0;34m\u001b[0m\u001b[0;34m\u001b[0m\u001b[0m\n",
            "\u001b[0;32m/usr/lib/python3.11/copy.py\u001b[0m in \u001b[0;36mdeepcopy\u001b[0;34m(x, memo, _nil)\u001b[0m\n\u001b[1;32m    170\u001b[0m                     \u001b[0my\u001b[0m \u001b[0;34m=\u001b[0m \u001b[0mx\u001b[0m\u001b[0;34m\u001b[0m\u001b[0;34m\u001b[0m\u001b[0m\n\u001b[1;32m    171\u001b[0m                 \u001b[0;32melse\u001b[0m\u001b[0;34m:\u001b[0m\u001b[0;34m\u001b[0m\u001b[0;34m\u001b[0m\u001b[0m\n\u001b[0;32m--> 172\u001b[0;31m                     \u001b[0my\u001b[0m \u001b[0;34m=\u001b[0m \u001b[0m_reconstruct\u001b[0m\u001b[0;34m(\u001b[0m\u001b[0mx\u001b[0m\u001b[0;34m,\u001b[0m \u001b[0mmemo\u001b[0m\u001b[0;34m,\u001b[0m \u001b[0;34m*\u001b[0m\u001b[0mrv\u001b[0m\u001b[0;34m)\u001b[0m\u001b[0;34m\u001b[0m\u001b[0;34m\u001b[0m\u001b[0m\n\u001b[0m\u001b[1;32m    173\u001b[0m \u001b[0;34m\u001b[0m\u001b[0m\n\u001b[1;32m    174\u001b[0m     \u001b[0;31m# If is its own copy, don't memoize.\u001b[0m\u001b[0;34m\u001b[0m\u001b[0;34m\u001b[0m\u001b[0m\n",
            "\u001b[0;32m/usr/lib/python3.11/copy.py\u001b[0m in \u001b[0;36m_reconstruct\u001b[0;34m(x, memo, func, args, state, listiter, dictiter, deepcopy)\u001b[0m\n\u001b[1;32m    269\u001b[0m     \u001b[0;32mif\u001b[0m \u001b[0mstate\u001b[0m \u001b[0;32mis\u001b[0m \u001b[0;32mnot\u001b[0m \u001b[0;32mNone\u001b[0m\u001b[0;34m:\u001b[0m\u001b[0;34m\u001b[0m\u001b[0;34m\u001b[0m\u001b[0m\n\u001b[1;32m    270\u001b[0m         \u001b[0;32mif\u001b[0m \u001b[0mdeep\u001b[0m\u001b[0;34m:\u001b[0m\u001b[0;34m\u001b[0m\u001b[0;34m\u001b[0m\u001b[0m\n\u001b[0;32m--> 271\u001b[0;31m             \u001b[0mstate\u001b[0m \u001b[0;34m=\u001b[0m \u001b[0mdeepcopy\u001b[0m\u001b[0;34m(\u001b[0m\u001b[0mstate\u001b[0m\u001b[0;34m,\u001b[0m \u001b[0mmemo\u001b[0m\u001b[0;34m)\u001b[0m\u001b[0;34m\u001b[0m\u001b[0;34m\u001b[0m\u001b[0m\n\u001b[0m\u001b[1;32m    272\u001b[0m         \u001b[0;32mif\u001b[0m \u001b[0mhasattr\u001b[0m\u001b[0;34m(\u001b[0m\u001b[0my\u001b[0m\u001b[0;34m,\u001b[0m \u001b[0;34m'__setstate__'\u001b[0m\u001b[0;34m)\u001b[0m\u001b[0;34m:\u001b[0m\u001b[0;34m\u001b[0m\u001b[0;34m\u001b[0m\u001b[0m\n\u001b[1;32m    273\u001b[0m             \u001b[0my\u001b[0m\u001b[0;34m.\u001b[0m\u001b[0m__setstate__\u001b[0m\u001b[0;34m(\u001b[0m\u001b[0mstate\u001b[0m\u001b[0;34m)\u001b[0m\u001b[0;34m\u001b[0m\u001b[0;34m\u001b[0m\u001b[0m\n",
            "\u001b[0;32m/usr/lib/python3.11/copy.py\u001b[0m in \u001b[0;36mdeepcopy\u001b[0;34m(x, memo, _nil)\u001b[0m\n\u001b[1;32m    144\u001b[0m     \u001b[0mcopier\u001b[0m \u001b[0;34m=\u001b[0m \u001b[0m_deepcopy_dispatch\u001b[0m\u001b[0;34m.\u001b[0m\u001b[0mget\u001b[0m\u001b[0;34m(\u001b[0m\u001b[0mcls\u001b[0m\u001b[0;34m)\u001b[0m\u001b[0;34m\u001b[0m\u001b[0;34m\u001b[0m\u001b[0m\n\u001b[1;32m    145\u001b[0m     \u001b[0;32mif\u001b[0m \u001b[0mcopier\u001b[0m \u001b[0;32mis\u001b[0m \u001b[0;32mnot\u001b[0m \u001b[0;32mNone\u001b[0m\u001b[0;34m:\u001b[0m\u001b[0;34m\u001b[0m\u001b[0;34m\u001b[0m\u001b[0m\n\u001b[0;32m--> 146\u001b[0;31m         \u001b[0my\u001b[0m \u001b[0;34m=\u001b[0m \u001b[0mcopier\u001b[0m\u001b[0;34m(\u001b[0m\u001b[0mx\u001b[0m\u001b[0;34m,\u001b[0m \u001b[0mmemo\u001b[0m\u001b[0;34m)\u001b[0m\u001b[0;34m\u001b[0m\u001b[0;34m\u001b[0m\u001b[0m\n\u001b[0m\u001b[1;32m    147\u001b[0m     \u001b[0;32melse\u001b[0m\u001b[0;34m:\u001b[0m\u001b[0;34m\u001b[0m\u001b[0;34m\u001b[0m\u001b[0m\n\u001b[1;32m    148\u001b[0m         \u001b[0;32mif\u001b[0m \u001b[0missubclass\u001b[0m\u001b[0;34m(\u001b[0m\u001b[0mcls\u001b[0m\u001b[0;34m,\u001b[0m \u001b[0mtype\u001b[0m\u001b[0;34m)\u001b[0m\u001b[0;34m:\u001b[0m\u001b[0;34m\u001b[0m\u001b[0;34m\u001b[0m\u001b[0m\n",
            "\u001b[0;32m/usr/lib/python3.11/copy.py\u001b[0m in \u001b[0;36m_deepcopy_dict\u001b[0;34m(x, memo, deepcopy)\u001b[0m\n\u001b[1;32m    229\u001b[0m     \u001b[0mmemo\u001b[0m\u001b[0;34m[\u001b[0m\u001b[0mid\u001b[0m\u001b[0;34m(\u001b[0m\u001b[0mx\u001b[0m\u001b[0;34m)\u001b[0m\u001b[0;34m]\u001b[0m \u001b[0;34m=\u001b[0m \u001b[0my\u001b[0m\u001b[0;34m\u001b[0m\u001b[0;34m\u001b[0m\u001b[0m\n\u001b[1;32m    230\u001b[0m     \u001b[0;32mfor\u001b[0m \u001b[0mkey\u001b[0m\u001b[0;34m,\u001b[0m \u001b[0mvalue\u001b[0m \u001b[0;32min\u001b[0m \u001b[0mx\u001b[0m\u001b[0;34m.\u001b[0m\u001b[0mitems\u001b[0m\u001b[0;34m(\u001b[0m\u001b[0;34m)\u001b[0m\u001b[0;34m:\u001b[0m\u001b[0;34m\u001b[0m\u001b[0;34m\u001b[0m\u001b[0m\n\u001b[0;32m--> 231\u001b[0;31m         \u001b[0my\u001b[0m\u001b[0;34m[\u001b[0m\u001b[0mdeepcopy\u001b[0m\u001b[0;34m(\u001b[0m\u001b[0mkey\u001b[0m\u001b[0;34m,\u001b[0m \u001b[0mmemo\u001b[0m\u001b[0;34m)\u001b[0m\u001b[0;34m]\u001b[0m \u001b[0;34m=\u001b[0m \u001b[0mdeepcopy\u001b[0m\u001b[0;34m(\u001b[0m\u001b[0mvalue\u001b[0m\u001b[0;34m,\u001b[0m \u001b[0mmemo\u001b[0m\u001b[0;34m)\u001b[0m\u001b[0;34m\u001b[0m\u001b[0;34m\u001b[0m\u001b[0m\n\u001b[0m\u001b[1;32m    232\u001b[0m     \u001b[0;32mreturn\u001b[0m \u001b[0my\u001b[0m\u001b[0;34m\u001b[0m\u001b[0;34m\u001b[0m\u001b[0m\n\u001b[1;32m    233\u001b[0m \u001b[0md\u001b[0m\u001b[0;34m[\u001b[0m\u001b[0mdict\u001b[0m\u001b[0;34m]\u001b[0m \u001b[0;34m=\u001b[0m \u001b[0m_deepcopy_dict\u001b[0m\u001b[0;34m\u001b[0m\u001b[0;34m\u001b[0m\u001b[0m\n",
            "\u001b[0;32m/usr/lib/python3.11/copy.py\u001b[0m in \u001b[0;36mdeepcopy\u001b[0;34m(x, memo, _nil)\u001b[0m\n\u001b[1;32m    144\u001b[0m     \u001b[0mcopier\u001b[0m \u001b[0;34m=\u001b[0m \u001b[0m_deepcopy_dispatch\u001b[0m\u001b[0;34m.\u001b[0m\u001b[0mget\u001b[0m\u001b[0;34m(\u001b[0m\u001b[0mcls\u001b[0m\u001b[0;34m)\u001b[0m\u001b[0;34m\u001b[0m\u001b[0;34m\u001b[0m\u001b[0m\n\u001b[1;32m    145\u001b[0m     \u001b[0;32mif\u001b[0m \u001b[0mcopier\u001b[0m \u001b[0;32mis\u001b[0m \u001b[0;32mnot\u001b[0m \u001b[0;32mNone\u001b[0m\u001b[0;34m:\u001b[0m\u001b[0;34m\u001b[0m\u001b[0;34m\u001b[0m\u001b[0m\n\u001b[0;32m--> 146\u001b[0;31m         \u001b[0my\u001b[0m \u001b[0;34m=\u001b[0m \u001b[0mcopier\u001b[0m\u001b[0;34m(\u001b[0m\u001b[0mx\u001b[0m\u001b[0;34m,\u001b[0m \u001b[0mmemo\u001b[0m\u001b[0;34m)\u001b[0m\u001b[0;34m\u001b[0m\u001b[0;34m\u001b[0m\u001b[0m\n\u001b[0m\u001b[1;32m    147\u001b[0m     \u001b[0;32melse\u001b[0m\u001b[0;34m:\u001b[0m\u001b[0;34m\u001b[0m\u001b[0;34m\u001b[0m\u001b[0m\n\u001b[1;32m    148\u001b[0m         \u001b[0;32mif\u001b[0m \u001b[0missubclass\u001b[0m\u001b[0;34m(\u001b[0m\u001b[0mcls\u001b[0m\u001b[0;34m,\u001b[0m \u001b[0mtype\u001b[0m\u001b[0;34m)\u001b[0m\u001b[0;34m:\u001b[0m\u001b[0;34m\u001b[0m\u001b[0;34m\u001b[0m\u001b[0m\n",
            "\u001b[0;32m/usr/lib/python3.11/copy.py\u001b[0m in \u001b[0;36m_deepcopy_dict\u001b[0;34m(x, memo, deepcopy)\u001b[0m\n\u001b[1;32m    229\u001b[0m     \u001b[0mmemo\u001b[0m\u001b[0;34m[\u001b[0m\u001b[0mid\u001b[0m\u001b[0;34m(\u001b[0m\u001b[0mx\u001b[0m\u001b[0;34m)\u001b[0m\u001b[0;34m]\u001b[0m \u001b[0;34m=\u001b[0m \u001b[0my\u001b[0m\u001b[0;34m\u001b[0m\u001b[0;34m\u001b[0m\u001b[0m\n\u001b[1;32m    230\u001b[0m     \u001b[0;32mfor\u001b[0m \u001b[0mkey\u001b[0m\u001b[0;34m,\u001b[0m \u001b[0mvalue\u001b[0m \u001b[0;32min\u001b[0m \u001b[0mx\u001b[0m\u001b[0;34m.\u001b[0m\u001b[0mitems\u001b[0m\u001b[0;34m(\u001b[0m\u001b[0;34m)\u001b[0m\u001b[0;34m:\u001b[0m\u001b[0;34m\u001b[0m\u001b[0;34m\u001b[0m\u001b[0m\n\u001b[0;32m--> 231\u001b[0;31m         \u001b[0my\u001b[0m\u001b[0;34m[\u001b[0m\u001b[0mdeepcopy\u001b[0m\u001b[0;34m(\u001b[0m\u001b[0mkey\u001b[0m\u001b[0;34m,\u001b[0m \u001b[0mmemo\u001b[0m\u001b[0;34m)\u001b[0m\u001b[0;34m]\u001b[0m \u001b[0;34m=\u001b[0m \u001b[0mdeepcopy\u001b[0m\u001b[0;34m(\u001b[0m\u001b[0mvalue\u001b[0m\u001b[0;34m,\u001b[0m \u001b[0mmemo\u001b[0m\u001b[0;34m)\u001b[0m\u001b[0;34m\u001b[0m\u001b[0;34m\u001b[0m\u001b[0m\n\u001b[0m\u001b[1;32m    232\u001b[0m     \u001b[0;32mreturn\u001b[0m \u001b[0my\u001b[0m\u001b[0;34m\u001b[0m\u001b[0;34m\u001b[0m\u001b[0m\n\u001b[1;32m    233\u001b[0m \u001b[0md\u001b[0m\u001b[0;34m[\u001b[0m\u001b[0mdict\u001b[0m\u001b[0;34m]\u001b[0m \u001b[0;34m=\u001b[0m \u001b[0m_deepcopy_dict\u001b[0m\u001b[0;34m\u001b[0m\u001b[0;34m\u001b[0m\u001b[0m\n",
            "\u001b[0;32m/usr/lib/python3.11/copy.py\u001b[0m in \u001b[0;36mdeepcopy\u001b[0;34m(x, memo, _nil)\u001b[0m\n\u001b[1;32m    170\u001b[0m                     \u001b[0my\u001b[0m \u001b[0;34m=\u001b[0m \u001b[0mx\u001b[0m\u001b[0;34m\u001b[0m\u001b[0;34m\u001b[0m\u001b[0m\n\u001b[1;32m    171\u001b[0m                 \u001b[0;32melse\u001b[0m\u001b[0;34m:\u001b[0m\u001b[0;34m\u001b[0m\u001b[0;34m\u001b[0m\u001b[0m\n\u001b[0;32m--> 172\u001b[0;31m                     \u001b[0my\u001b[0m \u001b[0;34m=\u001b[0m \u001b[0m_reconstruct\u001b[0m\u001b[0;34m(\u001b[0m\u001b[0mx\u001b[0m\u001b[0;34m,\u001b[0m \u001b[0mmemo\u001b[0m\u001b[0;34m,\u001b[0m \u001b[0;34m*\u001b[0m\u001b[0mrv\u001b[0m\u001b[0;34m)\u001b[0m\u001b[0;34m\u001b[0m\u001b[0;34m\u001b[0m\u001b[0m\n\u001b[0m\u001b[1;32m    173\u001b[0m \u001b[0;34m\u001b[0m\u001b[0m\n\u001b[1;32m    174\u001b[0m     \u001b[0;31m# If is its own copy, don't memoize.\u001b[0m\u001b[0;34m\u001b[0m\u001b[0;34m\u001b[0m\u001b[0m\n",
            "\u001b[0;32m/usr/lib/python3.11/copy.py\u001b[0m in \u001b[0;36m_reconstruct\u001b[0;34m(x, memo, func, args, state, listiter, dictiter, deepcopy)\u001b[0m\n\u001b[1;32m    269\u001b[0m     \u001b[0;32mif\u001b[0m \u001b[0mstate\u001b[0m \u001b[0;32mis\u001b[0m \u001b[0;32mnot\u001b[0m \u001b[0;32mNone\u001b[0m\u001b[0;34m:\u001b[0m\u001b[0;34m\u001b[0m\u001b[0;34m\u001b[0m\u001b[0m\n\u001b[1;32m    270\u001b[0m         \u001b[0;32mif\u001b[0m \u001b[0mdeep\u001b[0m\u001b[0;34m:\u001b[0m\u001b[0;34m\u001b[0m\u001b[0;34m\u001b[0m\u001b[0m\n\u001b[0;32m--> 271\u001b[0;31m             \u001b[0mstate\u001b[0m \u001b[0;34m=\u001b[0m \u001b[0mdeepcopy\u001b[0m\u001b[0;34m(\u001b[0m\u001b[0mstate\u001b[0m\u001b[0;34m,\u001b[0m \u001b[0mmemo\u001b[0m\u001b[0;34m)\u001b[0m\u001b[0;34m\u001b[0m\u001b[0;34m\u001b[0m\u001b[0m\n\u001b[0m\u001b[1;32m    272\u001b[0m         \u001b[0;32mif\u001b[0m \u001b[0mhasattr\u001b[0m\u001b[0;34m(\u001b[0m\u001b[0my\u001b[0m\u001b[0;34m,\u001b[0m \u001b[0;34m'__setstate__'\u001b[0m\u001b[0;34m)\u001b[0m\u001b[0;34m:\u001b[0m\u001b[0;34m\u001b[0m\u001b[0;34m\u001b[0m\u001b[0m\n\u001b[1;32m    273\u001b[0m             \u001b[0my\u001b[0m\u001b[0;34m.\u001b[0m\u001b[0m__setstate__\u001b[0m\u001b[0;34m(\u001b[0m\u001b[0mstate\u001b[0m\u001b[0;34m)\u001b[0m\u001b[0;34m\u001b[0m\u001b[0;34m\u001b[0m\u001b[0m\n",
            "\u001b[0;32m/usr/lib/python3.11/copy.py\u001b[0m in \u001b[0;36mdeepcopy\u001b[0;34m(x, memo, _nil)\u001b[0m\n\u001b[1;32m    144\u001b[0m     \u001b[0mcopier\u001b[0m \u001b[0;34m=\u001b[0m \u001b[0m_deepcopy_dispatch\u001b[0m\u001b[0;34m.\u001b[0m\u001b[0mget\u001b[0m\u001b[0;34m(\u001b[0m\u001b[0mcls\u001b[0m\u001b[0;34m)\u001b[0m\u001b[0;34m\u001b[0m\u001b[0;34m\u001b[0m\u001b[0m\n\u001b[1;32m    145\u001b[0m     \u001b[0;32mif\u001b[0m \u001b[0mcopier\u001b[0m \u001b[0;32mis\u001b[0m \u001b[0;32mnot\u001b[0m \u001b[0;32mNone\u001b[0m\u001b[0;34m:\u001b[0m\u001b[0;34m\u001b[0m\u001b[0;34m\u001b[0m\u001b[0m\n\u001b[0;32m--> 146\u001b[0;31m         \u001b[0my\u001b[0m \u001b[0;34m=\u001b[0m \u001b[0mcopier\u001b[0m\u001b[0;34m(\u001b[0m\u001b[0mx\u001b[0m\u001b[0;34m,\u001b[0m \u001b[0mmemo\u001b[0m\u001b[0;34m)\u001b[0m\u001b[0;34m\u001b[0m\u001b[0;34m\u001b[0m\u001b[0m\n\u001b[0m\u001b[1;32m    147\u001b[0m     \u001b[0;32melse\u001b[0m\u001b[0;34m:\u001b[0m\u001b[0;34m\u001b[0m\u001b[0;34m\u001b[0m\u001b[0m\n\u001b[1;32m    148\u001b[0m         \u001b[0;32mif\u001b[0m \u001b[0missubclass\u001b[0m\u001b[0;34m(\u001b[0m\u001b[0mcls\u001b[0m\u001b[0;34m,\u001b[0m \u001b[0mtype\u001b[0m\u001b[0;34m)\u001b[0m\u001b[0;34m:\u001b[0m\u001b[0;34m\u001b[0m\u001b[0;34m\u001b[0m\u001b[0m\n",
            "\u001b[0;32m/usr/lib/python3.11/copy.py\u001b[0m in \u001b[0;36m_deepcopy_dict\u001b[0;34m(x, memo, deepcopy)\u001b[0m\n\u001b[1;32m    229\u001b[0m     \u001b[0mmemo\u001b[0m\u001b[0;34m[\u001b[0m\u001b[0mid\u001b[0m\u001b[0;34m(\u001b[0m\u001b[0mx\u001b[0m\u001b[0;34m)\u001b[0m\u001b[0;34m]\u001b[0m \u001b[0;34m=\u001b[0m \u001b[0my\u001b[0m\u001b[0;34m\u001b[0m\u001b[0;34m\u001b[0m\u001b[0m\n\u001b[1;32m    230\u001b[0m     \u001b[0;32mfor\u001b[0m \u001b[0mkey\u001b[0m\u001b[0;34m,\u001b[0m \u001b[0mvalue\u001b[0m \u001b[0;32min\u001b[0m \u001b[0mx\u001b[0m\u001b[0;34m.\u001b[0m\u001b[0mitems\u001b[0m\u001b[0;34m(\u001b[0m\u001b[0;34m)\u001b[0m\u001b[0;34m:\u001b[0m\u001b[0;34m\u001b[0m\u001b[0;34m\u001b[0m\u001b[0m\n\u001b[0;32m--> 231\u001b[0;31m         \u001b[0my\u001b[0m\u001b[0;34m[\u001b[0m\u001b[0mdeepcopy\u001b[0m\u001b[0;34m(\u001b[0m\u001b[0mkey\u001b[0m\u001b[0;34m,\u001b[0m \u001b[0mmemo\u001b[0m\u001b[0;34m)\u001b[0m\u001b[0;34m]\u001b[0m \u001b[0;34m=\u001b[0m \u001b[0mdeepcopy\u001b[0m\u001b[0;34m(\u001b[0m\u001b[0mvalue\u001b[0m\u001b[0;34m,\u001b[0m \u001b[0mmemo\u001b[0m\u001b[0;34m)\u001b[0m\u001b[0;34m\u001b[0m\u001b[0;34m\u001b[0m\u001b[0m\n\u001b[0m\u001b[1;32m    232\u001b[0m     \u001b[0;32mreturn\u001b[0m \u001b[0my\u001b[0m\u001b[0;34m\u001b[0m\u001b[0;34m\u001b[0m\u001b[0m\n\u001b[1;32m    233\u001b[0m \u001b[0md\u001b[0m\u001b[0;34m[\u001b[0m\u001b[0mdict\u001b[0m\u001b[0;34m]\u001b[0m \u001b[0;34m=\u001b[0m \u001b[0m_deepcopy_dict\u001b[0m\u001b[0;34m\u001b[0m\u001b[0;34m\u001b[0m\u001b[0m\n",
            "\u001b[0;32m/usr/lib/python3.11/copy.py\u001b[0m in \u001b[0;36mdeepcopy\u001b[0;34m(x, memo, _nil)\u001b[0m\n\u001b[1;32m    144\u001b[0m     \u001b[0mcopier\u001b[0m \u001b[0;34m=\u001b[0m \u001b[0m_deepcopy_dispatch\u001b[0m\u001b[0;34m.\u001b[0m\u001b[0mget\u001b[0m\u001b[0;34m(\u001b[0m\u001b[0mcls\u001b[0m\u001b[0;34m)\u001b[0m\u001b[0;34m\u001b[0m\u001b[0;34m\u001b[0m\u001b[0m\n\u001b[1;32m    145\u001b[0m     \u001b[0;32mif\u001b[0m \u001b[0mcopier\u001b[0m \u001b[0;32mis\u001b[0m \u001b[0;32mnot\u001b[0m \u001b[0;32mNone\u001b[0m\u001b[0;34m:\u001b[0m\u001b[0;34m\u001b[0m\u001b[0;34m\u001b[0m\u001b[0m\n\u001b[0;32m--> 146\u001b[0;31m         \u001b[0my\u001b[0m \u001b[0;34m=\u001b[0m \u001b[0mcopier\u001b[0m\u001b[0;34m(\u001b[0m\u001b[0mx\u001b[0m\u001b[0;34m,\u001b[0m \u001b[0mmemo\u001b[0m\u001b[0;34m)\u001b[0m\u001b[0;34m\u001b[0m\u001b[0;34m\u001b[0m\u001b[0m\n\u001b[0m\u001b[1;32m    147\u001b[0m     \u001b[0;32melse\u001b[0m\u001b[0;34m:\u001b[0m\u001b[0;34m\u001b[0m\u001b[0;34m\u001b[0m\u001b[0m\n\u001b[1;32m    148\u001b[0m         \u001b[0;32mif\u001b[0m \u001b[0missubclass\u001b[0m\u001b[0;34m(\u001b[0m\u001b[0mcls\u001b[0m\u001b[0;34m,\u001b[0m \u001b[0mtype\u001b[0m\u001b[0;34m)\u001b[0m\u001b[0;34m:\u001b[0m\u001b[0;34m\u001b[0m\u001b[0;34m\u001b[0m\u001b[0m\n",
            "\u001b[0;32m/usr/lib/python3.11/copy.py\u001b[0m in \u001b[0;36m_deepcopy_dict\u001b[0;34m(x, memo, deepcopy)\u001b[0m\n\u001b[1;32m    229\u001b[0m     \u001b[0mmemo\u001b[0m\u001b[0;34m[\u001b[0m\u001b[0mid\u001b[0m\u001b[0;34m(\u001b[0m\u001b[0mx\u001b[0m\u001b[0;34m)\u001b[0m\u001b[0;34m]\u001b[0m \u001b[0;34m=\u001b[0m \u001b[0my\u001b[0m\u001b[0;34m\u001b[0m\u001b[0;34m\u001b[0m\u001b[0m\n\u001b[1;32m    230\u001b[0m     \u001b[0;32mfor\u001b[0m \u001b[0mkey\u001b[0m\u001b[0;34m,\u001b[0m \u001b[0mvalue\u001b[0m \u001b[0;32min\u001b[0m \u001b[0mx\u001b[0m\u001b[0;34m.\u001b[0m\u001b[0mitems\u001b[0m\u001b[0;34m(\u001b[0m\u001b[0;34m)\u001b[0m\u001b[0;34m:\u001b[0m\u001b[0;34m\u001b[0m\u001b[0;34m\u001b[0m\u001b[0m\n\u001b[0;32m--> 231\u001b[0;31m         \u001b[0my\u001b[0m\u001b[0;34m[\u001b[0m\u001b[0mdeepcopy\u001b[0m\u001b[0;34m(\u001b[0m\u001b[0mkey\u001b[0m\u001b[0;34m,\u001b[0m \u001b[0mmemo\u001b[0m\u001b[0;34m)\u001b[0m\u001b[0;34m]\u001b[0m \u001b[0;34m=\u001b[0m \u001b[0mdeepcopy\u001b[0m\u001b[0;34m(\u001b[0m\u001b[0mvalue\u001b[0m\u001b[0;34m,\u001b[0m \u001b[0mmemo\u001b[0m\u001b[0;34m)\u001b[0m\u001b[0;34m\u001b[0m\u001b[0;34m\u001b[0m\u001b[0m\n\u001b[0m\u001b[1;32m    232\u001b[0m     \u001b[0;32mreturn\u001b[0m \u001b[0my\u001b[0m\u001b[0;34m\u001b[0m\u001b[0;34m\u001b[0m\u001b[0m\n\u001b[1;32m    233\u001b[0m \u001b[0md\u001b[0m\u001b[0;34m[\u001b[0m\u001b[0mdict\u001b[0m\u001b[0;34m]\u001b[0m \u001b[0;34m=\u001b[0m \u001b[0m_deepcopy_dict\u001b[0m\u001b[0;34m\u001b[0m\u001b[0;34m\u001b[0m\u001b[0m\n",
            "\u001b[0;32m/usr/lib/python3.11/copy.py\u001b[0m in \u001b[0;36mdeepcopy\u001b[0;34m(x, memo, _nil)\u001b[0m\n\u001b[1;32m    151\u001b[0m             \u001b[0mcopier\u001b[0m \u001b[0;34m=\u001b[0m \u001b[0mgetattr\u001b[0m\u001b[0;34m(\u001b[0m\u001b[0mx\u001b[0m\u001b[0;34m,\u001b[0m \u001b[0;34m\"__deepcopy__\"\u001b[0m\u001b[0;34m,\u001b[0m \u001b[0;32mNone\u001b[0m\u001b[0;34m)\u001b[0m\u001b[0;34m\u001b[0m\u001b[0;34m\u001b[0m\u001b[0m\n\u001b[1;32m    152\u001b[0m             \u001b[0;32mif\u001b[0m \u001b[0mcopier\u001b[0m \u001b[0;32mis\u001b[0m \u001b[0;32mnot\u001b[0m \u001b[0;32mNone\u001b[0m\u001b[0;34m:\u001b[0m\u001b[0;34m\u001b[0m\u001b[0;34m\u001b[0m\u001b[0m\n\u001b[0;32m--> 153\u001b[0;31m                 \u001b[0my\u001b[0m \u001b[0;34m=\u001b[0m \u001b[0mcopier\u001b[0m\u001b[0;34m(\u001b[0m\u001b[0mmemo\u001b[0m\u001b[0;34m)\u001b[0m\u001b[0;34m\u001b[0m\u001b[0;34m\u001b[0m\u001b[0m\n\u001b[0m\u001b[1;32m    154\u001b[0m             \u001b[0;32melse\u001b[0m\u001b[0;34m:\u001b[0m\u001b[0;34m\u001b[0m\u001b[0;34m\u001b[0m\u001b[0m\n\u001b[1;32m    155\u001b[0m                 \u001b[0mreductor\u001b[0m \u001b[0;34m=\u001b[0m \u001b[0mdispatch_table\u001b[0m\u001b[0;34m.\u001b[0m\u001b[0mget\u001b[0m\u001b[0;34m(\u001b[0m\u001b[0mcls\u001b[0m\u001b[0;34m)\u001b[0m\u001b[0;34m\u001b[0m\u001b[0;34m\u001b[0m\u001b[0m\n",
            "\u001b[0;32m/usr/local/lib/python3.11/dist-packages/torch/_tensor.py\u001b[0m in \u001b[0;36m__deepcopy__\u001b[0;34m(self, memo)\u001b[0m\n\u001b[1;32m    179\u001b[0m                             \u001b[0;34m\"an instance of a different type.\"\u001b[0m\u001b[0;34m\u001b[0m\u001b[0;34m\u001b[0m\u001b[0m\n\u001b[1;32m    180\u001b[0m                         )\n\u001b[0;32m--> 181\u001b[0;31m                     new_tensor.set_(\n\u001b[0m\u001b[1;32m    182\u001b[0m                         \u001b[0mnew_storage\u001b[0m\u001b[0;34m,\u001b[0m \u001b[0mself\u001b[0m\u001b[0;34m.\u001b[0m\u001b[0mstorage_offset\u001b[0m\u001b[0;34m(\u001b[0m\u001b[0;34m)\u001b[0m\u001b[0;34m,\u001b[0m \u001b[0mself\u001b[0m\u001b[0;34m.\u001b[0m\u001b[0msize\u001b[0m\u001b[0;34m(\u001b[0m\u001b[0;34m)\u001b[0m\u001b[0;34m,\u001b[0m \u001b[0mself\u001b[0m\u001b[0;34m.\u001b[0m\u001b[0mstride\u001b[0m\u001b[0;34m(\u001b[0m\u001b[0;34m)\u001b[0m\u001b[0;34m\u001b[0m\u001b[0;34m\u001b[0m\u001b[0m\n\u001b[1;32m    183\u001b[0m                     )\n",
            "\u001b[0;31mKeyboardInterrupt\u001b[0m: "
          ]
        }
      ]
    },
    {
      "cell_type": "code",
      "source": [
        "if __name__ == '__main__':\n",
        "    model.train(\n",
        "        data=yaml_path,\n",
        "        epochs=100,  # More epochs\n",
        "        imgsz=1024,  # Larger image size\n",
        "        batch=8,  # Smaller batch size\n",
        "        device=\"0\",\n",
        "        optimizer=\"SGD\",  # Try SGD if AdamW doesn't work\n",
        "        lr0=0.002,  # Lower learning rate\n",
        "        lrf=0.0005,  # Fine-tune LR final value\n",
        "        momentum=0.9,  # Slightly lower momentum\n",
        "        weight_decay=0.0005,\n",
        "        cos_lr=True,\n",
        "        patience=20  # More patience for early stopping\n",
        "    )\n"
      ],
      "metadata": {
        "colab": {
          "base_uri": "https://localhost:8080/"
        },
        "id": "HfSraSYX1ygj",
        "outputId": "aa30efc3-5a77-4e4d-f2ca-1a672d5df450"
      },
      "execution_count": 24,
      "outputs": [
        {
          "output_type": "stream",
          "name": "stdout",
          "text": [
            "Ultralytics 8.3.79 🚀 Python-3.11.11 torch-2.5.1+cu124 CUDA:0 (Tesla T4, 15095MiB)\n",
            "\u001b[34m\u001b[1mengine/trainer: \u001b[0mtask=segment, mode=train, model=yolo11n-seg.pt, data=/content/processed_dataset3/data.yaml, epochs=100, time=None, patience=20, batch=8, imgsz=1024, save=True, save_period=-1, cache=False, device=0, workers=8, project=None, name=train3, exist_ok=False, pretrained=True, optimizer=SGD, verbose=True, seed=0, deterministic=True, single_cls=False, rect=False, cos_lr=True, close_mosaic=10, resume=False, amp=True, fraction=1.0, profile=False, freeze=None, multi_scale=False, overlap_mask=True, mask_ratio=4, dropout=0.0, val=True, split=val, save_json=False, save_hybrid=False, conf=None, iou=0.7, max_det=300, half=False, dnn=False, plots=True, source=None, vid_stride=1, stream_buffer=False, visualize=False, augment=False, agnostic_nms=False, classes=None, retina_masks=False, embed=None, show=False, save_frames=False, save_txt=False, save_conf=False, save_crop=False, show_labels=True, show_conf=True, show_boxes=True, line_width=None, format=torchscript, keras=False, optimize=False, int8=False, dynamic=False, simplify=True, opset=None, workspace=None, nms=False, lr0=0.002, lrf=0.0005, momentum=0.9, weight_decay=0.0005, warmup_epochs=3.0, warmup_momentum=0.8, warmup_bias_lr=0.1, box=7.5, cls=0.5, dfl=1.5, pose=12.0, kobj=1.0, nbs=64, hsv_h=0.015, hsv_s=0.7, hsv_v=0.4, degrees=0.0, translate=0.1, scale=0.5, shear=0.0, perspective=0.0, flipud=0.0, fliplr=0.5, bgr=0.0, mosaic=1.0, mixup=0.0, copy_paste=0.0, copy_paste_mode=flip, auto_augment=randaugment, erasing=0.4, crop_fraction=1.0, cfg=None, tracker=botsort.yaml, save_dir=runs/segment/train3\n",
            "\n",
            "                   from  n    params  module                                       arguments                     \n",
            "  0                  -1  1       464  ultralytics.nn.modules.conv.Conv             [3, 16, 3, 2]                 \n",
            "  1                  -1  1      4672  ultralytics.nn.modules.conv.Conv             [16, 32, 3, 2]                \n",
            "  2                  -1  1      6640  ultralytics.nn.modules.block.C3k2            [32, 64, 1, False, 0.25]      \n",
            "  3                  -1  1     36992  ultralytics.nn.modules.conv.Conv             [64, 64, 3, 2]                \n",
            "  4                  -1  1     26080  ultralytics.nn.modules.block.C3k2            [64, 128, 1, False, 0.25]     \n",
            "  5                  -1  1    147712  ultralytics.nn.modules.conv.Conv             [128, 128, 3, 2]              \n",
            "  6                  -1  1     87040  ultralytics.nn.modules.block.C3k2            [128, 128, 1, True]           \n",
            "  7                  -1  1    295424  ultralytics.nn.modules.conv.Conv             [128, 256, 3, 2]              \n",
            "  8                  -1  1    346112  ultralytics.nn.modules.block.C3k2            [256, 256, 1, True]           \n",
            "  9                  -1  1    164608  ultralytics.nn.modules.block.SPPF            [256, 256, 5]                 \n",
            " 10                  -1  1    249728  ultralytics.nn.modules.block.C2PSA           [256, 256, 1]                 \n",
            " 11                  -1  1         0  torch.nn.modules.upsampling.Upsample         [None, 2, 'nearest']          \n",
            " 12             [-1, 6]  1         0  ultralytics.nn.modules.conv.Concat           [1]                           \n",
            " 13                  -1  1    111296  ultralytics.nn.modules.block.C3k2            [384, 128, 1, False]          \n",
            " 14                  -1  1         0  torch.nn.modules.upsampling.Upsample         [None, 2, 'nearest']          \n",
            " 15             [-1, 4]  1         0  ultralytics.nn.modules.conv.Concat           [1]                           \n",
            " 16                  -1  1     32096  ultralytics.nn.modules.block.C3k2            [256, 64, 1, False]           \n",
            " 17                  -1  1     36992  ultralytics.nn.modules.conv.Conv             [64, 64, 3, 2]                \n",
            " 18            [-1, 13]  1         0  ultralytics.nn.modules.conv.Concat           [1]                           \n",
            " 19                  -1  1     86720  ultralytics.nn.modules.block.C3k2            [192, 128, 1, False]          \n",
            " 20                  -1  1    147712  ultralytics.nn.modules.conv.Conv             [128, 128, 3, 2]              \n",
            " 21            [-1, 10]  1         0  ultralytics.nn.modules.conv.Concat           [1]                           \n",
            " 22                  -1  1    378880  ultralytics.nn.modules.block.C3k2            [384, 256, 1, True]           \n",
            " 23        [16, 19, 22]  1    684220  ultralytics.nn.modules.head.Segment          [4, 32, 64, [64, 128, 256]]   \n",
            "YOLO11n-seg summary: 203 layers, 2,843,388 parameters, 2,843,372 gradients, 10.4 GFLOPs\n",
            "\n",
            "Transferred 561/561 items from pretrained weights\n",
            "\u001b[34m\u001b[1mTensorBoard: \u001b[0mStart with 'tensorboard --logdir runs/segment/train3', view at http://localhost:6006/\n",
            "Freezing layer 'model.23.dfl.conv.weight'\n",
            "\u001b[34m\u001b[1mAMP: \u001b[0mrunning Automatic Mixed Precision (AMP) checks...\n",
            "\u001b[34m\u001b[1mAMP: \u001b[0mchecks passed ✅\n"
          ]
        },
        {
          "output_type": "stream",
          "name": "stderr",
          "text": [
            "\u001b[34m\u001b[1mtrain: \u001b[0mScanning /content/processed_dataset3/labels.cache... 324 images, 0 backgrounds, 218 corrupt: 100%|██████████| 324/324 [00:00<?, ?it/s]"
          ]
        },
        {
          "output_type": "stream",
          "name": "stdout",
          "text": [
            "\u001b[34m\u001b[1mtrain: \u001b[0mWARNING ⚠️ /content/processed_dataset3/images/01c252f8-1574421.jpg: ignoring corrupt image/label: non-normalized or out of bounds coordinates [     382.36      382.71      382.74      382.65      382.38      382.36      382.11      382.91      382.68]\n",
            "\u001b[34m\u001b[1mtrain: \u001b[0mWARNING ⚠️ /content/processed_dataset3/images/02c4415a-995801.jpg: ignoring corrupt image/label: non-normalized or out of bounds coordinates [     19.226]\n",
            "\u001b[34m\u001b[1mtrain: \u001b[0mWARNING ⚠️ /content/processed_dataset3/images/069f9c9b-118126.jpg: ignoring corrupt image/label: non-normalized or out of bounds coordinates [     382.52]\n",
            "\u001b[34m\u001b[1mtrain: \u001b[0mWARNING ⚠️ /content/processed_dataset3/images/07e95446-2781056.jpg: ignoring corrupt image/label: non-normalized or out of bounds coordinates [     510.57]\n",
            "\u001b[34m\u001b[1mtrain: \u001b[0mWARNING ⚠️ /content/processed_dataset3/images/080248d8-2031692.jpg: ignoring corrupt image/label: non-normalized or out of bounds coordinates [     496.58      1.0339]\n",
            "\u001b[34m\u001b[1mtrain: \u001b[0mWARNING ⚠️ /content/processed_dataset3/images/082737e5-2498460.jpg: ignoring corrupt image/label: non-normalized or out of bounds coordinates [     510.15]\n",
            "\u001b[34m\u001b[1mtrain: \u001b[0mWARNING ⚠️ /content/processed_dataset3/images/0b45d160-3763432.jpg: ignoring corrupt image/label: non-normalized or out of bounds coordinates [     543.83      38.935]\n",
            "\u001b[34m\u001b[1mtrain: \u001b[0mWARNING ⚠️ /content/processed_dataset3/images/0d1879f9-358748.jpg: ignoring corrupt image/label: non-normalized or out of bounds coordinates [     380.54]\n",
            "\u001b[34m\u001b[1mtrain: \u001b[0mWARNING ⚠️ /content/processed_dataset3/images/11c97300-3515250.jpg: ignoring corrupt image/label: non-normalized or out of bounds coordinates [      510.5]\n",
            "\u001b[34m\u001b[1mtrain: \u001b[0mWARNING ⚠️ /content/processed_dataset3/images/123adde7-3827966.jpg: ignoring corrupt image/label: non-normalized or out of bounds coordinates [     512.25      2.2466]\n",
            "\u001b[34m\u001b[1mtrain: \u001b[0mWARNING ⚠️ /content/processed_dataset3/images/165a1c35-538037.jpg: ignoring corrupt image/label: non-normalized or out of bounds coordinates [     42.876]\n",
            "\u001b[34m\u001b[1mtrain: \u001b[0mWARNING ⚠️ /content/processed_dataset3/images/179a55c2-663285.jpg: ignoring corrupt image/label: non-normalized or out of bounds coordinates [     23.059      1.0093       1.094]\n",
            "\u001b[34m\u001b[1mtrain: \u001b[0mWARNING ⚠️ /content/processed_dataset3/images/18717882-2580309.jpg: ignoring corrupt image/label: non-normalized or out of bounds coordinates [     545.02      40.295      544.49      40.118]\n",
            "\u001b[34m\u001b[1mtrain: \u001b[0mWARNING ⚠️ /content/processed_dataset3/images/1ac491f4-2569760.jpg: ignoring corrupt image/label: non-normalized or out of bounds coordinates [     382.49      1.0024]\n",
            "\u001b[34m\u001b[1mtrain: \u001b[0mWARNING ⚠️ /content/processed_dataset3/images/2bf4eb29-1137400.jpg: ignoring corrupt image/label: non-normalized or out of bounds coordinates [     1.0037]\n",
            "\u001b[34m\u001b[1mtrain: \u001b[0mWARNING ⚠️ /content/processed_dataset3/images/2d139c35-3082443.jpg: ignoring corrupt image/label: non-normalized or out of bounds coordinates [     510.52]\n",
            "\u001b[34m\u001b[1mtrain: \u001b[0mWARNING ⚠️ /content/processed_dataset3/images/2db1fae2-45067.jpg: ignoring corrupt image/label: non-normalized or out of bounds coordinates [     530.17      30.036]\n",
            "\u001b[34m\u001b[1mtrain: \u001b[0mWARNING ⚠️ /content/processed_dataset3/images/2fa4bd26-1668806.jpg: ignoring corrupt image/label: non-normalized or out of bounds coordinates [     556.33      56.565]\n",
            "\u001b[34m\u001b[1mtrain: \u001b[0mWARNING ⚠️ /content/processed_dataset3/images/315f30af-153082.jpg: ignoring corrupt image/label: non-normalized or out of bounds coordinates [     510.43]\n",
            "\u001b[34m\u001b[1mtrain: \u001b[0mWARNING ⚠️ /content/processed_dataset3/images/341758e6-1725269.jpg: ignoring corrupt image/label: non-normalized or out of bounds coordinates [     510.49]\n",
            "\u001b[34m\u001b[1mtrain: \u001b[0mWARNING ⚠️ /content/processed_dataset3/images/36054e32-680155.jpg: ignoring corrupt image/label: non-normalized or out of bounds coordinates [     7.8623]\n",
            "\u001b[34m\u001b[1mtrain: \u001b[0mWARNING ⚠️ /content/processed_dataset3/images/368b7222-2240535.jpg: ignoring corrupt image/label: non-normalized or out of bounds coordinates [     510.54]\n",
            "\u001b[34m\u001b[1mtrain: \u001b[0mWARNING ⚠️ /content/processed_dataset3/images/386040bf-2752957.jpg: ignoring corrupt image/label: non-normalized or out of bounds coordinates [     520.66      16.994      1.0181]\n",
            "\u001b[34m\u001b[1mtrain: \u001b[0mWARNING ⚠️ /content/processed_dataset3/images/39245006-2352914.jpg: ignoring corrupt image/label: non-normalized or out of bounds coordinates [     10.468      10.557      10.506      10.461      10.436]\n",
            "\u001b[34m\u001b[1mtrain: \u001b[0mWARNING ⚠️ /content/processed_dataset3/images/3a42925b-238730.jpg: ignoring corrupt image/label: non-normalized or out of bounds coordinates [     380.59]\n",
            "\u001b[34m\u001b[1mtrain: \u001b[0mWARNING ⚠️ /content/processed_dataset3/images/42999b7e-909848.jpg: ignoring corrupt image/label: non-normalized or out of bounds coordinates [     510.68      510.17       510.5      510.43]\n",
            "\u001b[34m\u001b[1mtrain: \u001b[0mWARNING ⚠️ /content/processed_dataset3/images/4549f6c3-1127099.jpg: ignoring corrupt image/label: non-normalized or out of bounds coordinates [      510.5]\n",
            "\u001b[34m\u001b[1mtrain: \u001b[0mWARNING ⚠️ /content/processed_dataset3/images/47e94771-1368498.jpg: ignoring corrupt image/label: non-normalized or out of bounds coordinates [     58.502      58.947      58.896      58.472]\n",
            "\u001b[34m\u001b[1mtrain: \u001b[0mWARNING ⚠️ /content/processed_dataset3/images/48802d1d-316451.jpg: ignoring corrupt image/label: non-normalized or out of bounds coordinates [     510.96      510.66      510.31      510.39      510.67      510.94]\n",
            "\u001b[34m\u001b[1mtrain: \u001b[0mWARNING ⚠️ /content/processed_dataset3/images/4a2f89b1-1279146.jpg: ignoring corrupt image/label: non-normalized or out of bounds coordinates [     526.37      23.673]\n",
            "\u001b[34m\u001b[1mtrain: \u001b[0mWARNING ⚠️ /content/processed_dataset3/images/4a45f233-1680339.jpg: ignoring corrupt image/label: non-normalized or out of bounds coordinates [      510.5      1.0037]\n",
            "\u001b[34m\u001b[1mtrain: \u001b[0mWARNING ⚠️ /content/processed_dataset3/images/4db73d0e-3382880.jpg: ignoring corrupt image/label: non-normalized or out of bounds coordinates [     314.84      18.042]\n",
            "\u001b[34m\u001b[1mtrain: \u001b[0mWARNING ⚠️ /content/processed_dataset3/images/4f66689a-2519291.jpg: ignoring corrupt image/label: non-normalized or out of bounds coordinates [     1.0016]\n",
            "\u001b[34m\u001b[1mtrain: \u001b[0mWARNING ⚠️ /content/processed_dataset3/images/4f8944b4-1099080.jpg: ignoring corrupt image/label: non-normalized or out of bounds coordinates [        557      58.281]\n",
            "\u001b[34m\u001b[1mtrain: \u001b[0mWARNING ⚠️ /content/processed_dataset3/images/5002917a-1327402.jpg: ignoring corrupt image/label: non-normalized or out of bounds coordinates [      510.5]\n",
            "\u001b[34m\u001b[1mtrain: \u001b[0mWARNING ⚠️ /content/processed_dataset3/images/516a61a1-3543883.jpg: ignoring corrupt image/label: non-normalized or out of bounds coordinates [     510.48]\n",
            "\u001b[34m\u001b[1mtrain: \u001b[0mWARNING ⚠️ /content/processed_dataset3/images/52de6bd3-1029698.jpg: ignoring corrupt image/label: non-normalized or out of bounds coordinates [     510.49      1.0055]\n",
            "\u001b[34m\u001b[1mtrain: \u001b[0mWARNING ⚠️ /content/processed_dataset3/images/53cc0189-258111.jpg: ignoring corrupt image/label: non-normalized or out of bounds coordinates [     510.43]\n",
            "\u001b[34m\u001b[1mtrain: \u001b[0mWARNING ⚠️ /content/processed_dataset3/images/56831cfb-2198043.jpg: ignoring corrupt image/label: non-normalized or out of bounds coordinates [     17.538]\n",
            "\u001b[34m\u001b[1mtrain: \u001b[0mWARNING ⚠️ /content/processed_dataset3/images/599796b1-478300.jpg: ignoring corrupt image/label: non-normalized or out of bounds coordinates [     56.126]\n",
            "\u001b[34m\u001b[1mtrain: \u001b[0mWARNING ⚠️ /content/processed_dataset3/images/5a682264-20777.jpg: ignoring corrupt image/label: non-normalized or out of bounds coordinates [     44.782      44.659      44.656      44.349      44.287      44.186      44.134]\n",
            "\u001b[34m\u001b[1mtrain: \u001b[0mWARNING ⚠️ /content/processed_dataset3/images/5c099022-1873816.jpg: ignoring corrupt image/label: non-normalized or out of bounds coordinates [     492.41]\n",
            "\u001b[34m\u001b[1mtrain: \u001b[0mWARNING ⚠️ /content/processed_dataset3/images/5cdbcd1e-2278442.jpg: ignoring corrupt image/label: non-normalized or out of bounds coordinates [     346.45]\n",
            "\u001b[34m\u001b[1mtrain: \u001b[0mWARNING ⚠️ /content/processed_dataset3/images/5e83e2b2-2670852.jpg: ignoring corrupt image/label: non-normalized or out of bounds coordinates [     510.43]\n",
            "\u001b[34m\u001b[1mtrain: \u001b[0mWARNING ⚠️ /content/processed_dataset3/images/605b2856-383439.jpg: ignoring corrupt image/label: non-normalized or out of bounds coordinates [     510.57]\n",
            "\u001b[34m\u001b[1mtrain: \u001b[0mWARNING ⚠️ /content/processed_dataset3/images/6079f86d-3323080.jpg: ignoring corrupt image/label: non-normalized or out of bounds coordinates [      16.07      15.931]\n",
            "\u001b[34m\u001b[1mtrain: \u001b[0mWARNING ⚠️ /content/processed_dataset3/images/6193491e-2155429.jpg: ignoring corrupt image/label: non-normalized or out of bounds coordinates [     527.38       18.65]\n",
            "\u001b[34m\u001b[1mtrain: \u001b[0mWARNING ⚠️ /content/processed_dataset3/images/61fe7abb-573054.jpg: ignoring corrupt image/label: non-normalized or out of bounds coordinates [     67.395      1.0276]\n",
            "\u001b[34m\u001b[1mtrain: \u001b[0mWARNING ⚠️ /content/processed_dataset3/images/6aacbfee-3734413.jpg: ignoring corrupt image/label: non-normalized or out of bounds coordinates [     532.14      24.079      1.0008]\n",
            "\u001b[34m\u001b[1mtrain: \u001b[0mWARNING ⚠️ /content/processed_dataset3/images/6bfa534a-870449.jpg: ignoring corrupt image/label: non-normalized or out of bounds coordinates [     510.56]\n",
            "\u001b[34m\u001b[1mtrain: \u001b[0mWARNING ⚠️ /content/processed_dataset3/images/71632285-1259816.jpg: ignoring corrupt image/label: non-normalized or out of bounds coordinates [     27.897      1.0309]\n",
            "\u001b[34m\u001b[1mtrain: \u001b[0mWARNING ⚠️ /content/processed_dataset3/images/7462b06a-1727509.jpg: ignoring corrupt image/label: non-normalized or out of bounds coordinates [     73.413      1.2027      1.1334]\n",
            "\u001b[34m\u001b[1mtrain: \u001b[0mWARNING ⚠️ /content/processed_dataset3/images/75817f79-3693594.jpg: ignoring corrupt image/label: non-normalized or out of bounds coordinates [     44.322]\n",
            "\u001b[34m\u001b[1mtrain: \u001b[0mWARNING ⚠️ /content/processed_dataset3/images/7637160e-2772699.jpg: ignoring corrupt image/label: non-normalized or out of bounds coordinates [     33.551]\n",
            "\u001b[34m\u001b[1mtrain: \u001b[0mWARNING ⚠️ /content/processed_dataset3/images/772987e1-3018077.jpg: ignoring corrupt image/label: non-normalized or out of bounds coordinates [     29.406]\n",
            "\u001b[34m\u001b[1mtrain: \u001b[0mWARNING ⚠️ /content/processed_dataset3/images/7c808801-2265512.jpg: ignoring corrupt image/label: non-normalized or out of bounds coordinates [     14.114      1.0455]\n",
            "\u001b[34m\u001b[1mtrain: \u001b[0mWARNING ⚠️ /content/processed_dataset3/images/7f3c9225-403431.jpg: ignoring corrupt image/label: non-normalized or out of bounds coordinates [     1.0018]\n",
            "\u001b[34m\u001b[1mtrain: \u001b[0mWARNING ⚠️ /content/processed_dataset3/images/7ff5a4ea-3763593.jpg: ignoring corrupt image/label: non-normalized or out of bounds coordinates [     43.057]\n",
            "\u001b[34m\u001b[1mtrain: \u001b[0mWARNING ⚠️ /content/processed_dataset3/images/8407a260-2323548.jpg: ignoring corrupt image/label: non-normalized or out of bounds coordinates [     509.13]\n",
            "\u001b[34m\u001b[1mtrain: \u001b[0mWARNING ⚠️ /content/processed_dataset3/images/84c1baf6-706931.jpg: ignoring corrupt image/label: non-normalized or out of bounds coordinates [     46.104      46.562]\n",
            "\u001b[34m\u001b[1mtrain: \u001b[0mWARNING ⚠️ /content/processed_dataset3/images/8763e50e-265406.jpg: ignoring corrupt image/label: non-normalized or out of bounds coordinates [     30.522]\n",
            "\u001b[34m\u001b[1mtrain: \u001b[0mWARNING ⚠️ /content/processed_dataset3/images/8765709f-3381633.jpg: ignoring corrupt image/label: non-normalized or out of bounds coordinates [     510.48]\n",
            "\u001b[34m\u001b[1mtrain: \u001b[0mWARNING ⚠️ /content/processed_dataset3/images/88a65abd-920703.jpg: ignoring corrupt image/label: non-normalized or out of bounds coordinates [     501.87      501.54      501.78      501.53      501.73      501.58      501.55      501.69      501.56]\n",
            "\u001b[34m\u001b[1mtrain: \u001b[0mWARNING ⚠️ /content/processed_dataset3/images/8af03f92-135434.jpg: ignoring corrupt image/label: non-normalized or out of bounds coordinates [     548.22      65.758       1.134      1.1032]\n",
            "\u001b[34m\u001b[1mtrain: \u001b[0mWARNING ⚠️ /content/processed_dataset3/images/8be40675-1854061.jpg: ignoring corrupt image/label: non-normalized or out of bounds coordinates [     510.69      510.62]\n",
            "\u001b[34m\u001b[1mtrain: \u001b[0mWARNING ⚠️ /content/processed_dataset3/images/93d0e528-495881.jpg: ignoring corrupt image/label: non-normalized or out of bounds coordinates [      547.6      64.784]\n",
            "\u001b[34m\u001b[1mtrain: \u001b[0mWARNING ⚠️ /content/processed_dataset3/images/94b0882f-2296393.jpg: ignoring corrupt image/label: non-normalized or out of bounds coordinates [     510.51]\n",
            "\u001b[34m\u001b[1mtrain: \u001b[0mWARNING ⚠️ /content/processed_dataset3/images/979af42c-584916.jpg: ignoring corrupt image/label: non-normalized or out of bounds coordinates [     529.81      21.559]\n",
            "\u001b[34m\u001b[1mtrain: \u001b[0mWARNING ⚠️ /content/processed_dataset3/images/98da9fce-3680697.jpg: ignoring corrupt image/label: non-normalized or out of bounds coordinates [     510.31      510.77      510.16      510.49      510.78]\n",
            "\u001b[34m\u001b[1mtrain: \u001b[0mWARNING ⚠️ /content/processed_dataset3/images/998aff27-515907.jpg: ignoring corrupt image/label: non-normalized or out of bounds coordinates [     510.48]\n",
            "\u001b[34m\u001b[1mtrain: \u001b[0mWARNING ⚠️ /content/processed_dataset3/images/99ef7210-2670730.jpg: ignoring corrupt image/label: non-normalized or out of bounds coordinates [     67.297      1.1451      1.0761]\n",
            "\u001b[34m\u001b[1mtrain: \u001b[0mWARNING ⚠️ /content/processed_dataset3/images/9a0f67a2-210027.jpg: ignoring corrupt image/label: non-normalized or out of bounds coordinates [     43.566]\n",
            "\u001b[34m\u001b[1mtrain: \u001b[0mWARNING ⚠️ /content/processed_dataset3/images/9e120cc8-1981348.jpg: ignoring corrupt image/label: non-normalized or out of bounds coordinates [     420.76      35.292]\n",
            "\u001b[34m\u001b[1mtrain: \u001b[0mWARNING ⚠️ /content/processed_dataset3/images/a1c949d3-2318938.jpg: ignoring corrupt image/label: non-normalized or out of bounds coordinates [     35.058      1.0569]\n",
            "\u001b[34m\u001b[1mtrain: \u001b[0mWARNING ⚠️ /content/processed_dataset3/images/a20654e4-2466030.jpg: ignoring corrupt image/label: non-normalized or out of bounds coordinates [      510.5]\n",
            "\u001b[34m\u001b[1mtrain: \u001b[0mWARNING ⚠️ /content/processed_dataset3/images/a2fe1ab4-1021229.jpg: ignoring corrupt image/label: non-normalized or out of bounds coordinates [     510.48]\n",
            "\u001b[34m\u001b[1mtrain: \u001b[0mWARNING ⚠️ /content/processed_dataset3/images/acf84d70-2476468.jpg: ignoring corrupt image/label: non-normalized or out of bounds coordinates [     510.47]\n",
            "\u001b[34m\u001b[1mtrain: \u001b[0mWARNING ⚠️ /content/processed_dataset3/images/adf3da67-2968258.jpg: ignoring corrupt image/label: non-normalized or out of bounds coordinates [     510.49]\n",
            "\u001b[34m\u001b[1mtrain: \u001b[0mWARNING ⚠️ /content/processed_dataset3/images/ae8acbac-2236338.jpg: ignoring corrupt image/label: non-normalized or out of bounds coordinates [     509.11      1.0067]\n",
            "\u001b[34m\u001b[1mtrain: \u001b[0mWARNING ⚠️ /content/processed_dataset3/images/aed7bc39-2948329.jpg: ignoring corrupt image/label: non-normalized or out of bounds coordinates [     510.52]\n",
            "\u001b[34m\u001b[1mtrain: \u001b[0mWARNING ⚠️ /content/processed_dataset3/images/af82b8b2-8917.jpg: ignoring corrupt image/label: non-normalized or out of bounds coordinates [     1.0009]\n",
            "\u001b[34m\u001b[1mtrain: \u001b[0mWARNING ⚠️ /content/processed_dataset3/images/aug_02e731de-1106165.jpg: ignoring corrupt image/label: non-normalized or out of bounds coordinates [     510.53]\n",
            "\u001b[34m\u001b[1mtrain: \u001b[0mWARNING ⚠️ /content/processed_dataset3/images/aug_07e95446-2781056.jpg: ignoring corrupt image/label: non-normalized or out of bounds coordinates [     510.57]\n",
            "\u001b[34m\u001b[1mtrain: \u001b[0mWARNING ⚠️ /content/processed_dataset3/images/aug_080248d8-2031692.jpg: ignoring corrupt image/label: non-normalized or out of bounds coordinates [     460.37       1.147      1.0487]\n",
            "\u001b[34m\u001b[1mtrain: \u001b[0mWARNING ⚠️ /content/processed_dataset3/images/aug_082737e5-2498460.jpg: ignoring corrupt image/label: non-normalized or out of bounds coordinates [     510.15]\n",
            "\u001b[34m\u001b[1mtrain: \u001b[0mWARNING ⚠️ /content/processed_dataset3/images/aug_0b45d160-3763432.jpg: ignoring corrupt image/label: non-normalized or out of bounds coordinates [     510.47]\n",
            "\u001b[34m\u001b[1mtrain: \u001b[0mWARNING ⚠️ /content/processed_dataset3/images/aug_11c97300-3515250.jpg: ignoring corrupt image/label: non-normalized or out of bounds coordinates [     523.24      13.914      1.0485      1.0162]\n",
            "\u001b[34m\u001b[1mtrain: \u001b[0mWARNING ⚠️ /content/processed_dataset3/images/aug_120ddac2-2674351.jpg: ignoring corrupt image/label: non-normalized or out of bounds coordinates [     510.49]\n",
            "\u001b[34m\u001b[1mtrain: \u001b[0mWARNING ⚠️ /content/processed_dataset3/images/aug_179a55c2-663285.jpg: ignoring corrupt image/label: non-normalized or out of bounds coordinates [     10.584      1.0305]\n",
            "\u001b[34m\u001b[1mtrain: \u001b[0mWARNING ⚠️ /content/processed_dataset3/images/aug_18717882-2580309.jpg: ignoring corrupt image/label: non-normalized or out of bounds coordinates [     510.76      510.22]\n",
            "\u001b[34m\u001b[1mtrain: \u001b[0mWARNING ⚠️ /content/processed_dataset3/images/aug_1ac491f4-2569760.jpg: ignoring corrupt image/label: non-normalized or out of bounds coordinates [     1.0025]\n",
            "\u001b[34m\u001b[1mtrain: \u001b[0mWARNING ⚠️ /content/processed_dataset3/images/aug_1ce34d36-3606882.jpg: ignoring corrupt image/label: non-normalized or out of bounds coordinates [     541.62      35.795]\n",
            "\u001b[34m\u001b[1mtrain: \u001b[0mWARNING ⚠️ /content/processed_dataset3/images/aug_23229113-3839255.jpg: ignoring corrupt image/label: non-normalized or out of bounds coordinates [     382.47]\n",
            "\u001b[34m\u001b[1mtrain: \u001b[0mWARNING ⚠️ /content/processed_dataset3/images/aug_2bf4eb29-1137400.jpg: ignoring corrupt image/label: non-normalized or out of bounds coordinates [     510.49      1.0037]\n",
            "\u001b[34m\u001b[1mtrain: \u001b[0mWARNING ⚠️ /content/processed_dataset3/images/aug_2d139c35-3082443.jpg: ignoring corrupt image/label: non-normalized or out of bounds coordinates [     27.212]\n",
            "\u001b[34m\u001b[1mtrain: \u001b[0mWARNING ⚠️ /content/processed_dataset3/images/aug_2d7fc5ad-1581355.jpg: ignoring corrupt image/label: non-normalized or out of bounds coordinates [     510.49]\n",
            "\u001b[34m\u001b[1mtrain: \u001b[0mWARNING ⚠️ /content/processed_dataset3/images/aug_2fa4bd26-1668806.jpg: ignoring corrupt image/label: non-normalized or out of bounds coordinates [     510.57]\n",
            "\u001b[34m\u001b[1mtrain: \u001b[0mWARNING ⚠️ /content/processed_dataset3/images/aug_341758e6-1725269.jpg: ignoring corrupt image/label: non-normalized or out of bounds coordinates [     510.49]\n",
            "\u001b[34m\u001b[1mtrain: \u001b[0mWARNING ⚠️ /content/processed_dataset3/images/aug_368b7222-2240535.jpg: ignoring corrupt image/label: non-normalized or out of bounds coordinates [     42.166]\n",
            "\u001b[34m\u001b[1mtrain: \u001b[0mWARNING ⚠️ /content/processed_dataset3/images/aug_37eae2a5-1676252.jpg: ignoring corrupt image/label: non-normalized or out of bounds coordinates [     35.189       34.82]\n",
            "\u001b[34m\u001b[1mtrain: \u001b[0mWARNING ⚠️ /content/processed_dataset3/images/aug_386040bf-2752957.jpg: ignoring corrupt image/label: non-normalized or out of bounds coordinates [     464.77      1.0253]\n",
            "\u001b[34m\u001b[1mtrain: \u001b[0mWARNING ⚠️ /content/processed_dataset3/images/aug_3a42925b-238730.jpg: ignoring corrupt image/label: non-normalized or out of bounds coordinates [     377.43]\n",
            "\u001b[34m\u001b[1mtrain: \u001b[0mWARNING ⚠️ /content/processed_dataset3/images/aug_433cf466-245724.jpg: ignoring corrupt image/label: non-normalized or out of bounds coordinates [     56.728]\n",
            "\u001b[34m\u001b[1mtrain: \u001b[0mWARNING ⚠️ /content/processed_dataset3/images/aug_4549f6c3-1127099.jpg: ignoring corrupt image/label: non-normalized or out of bounds coordinates [      510.5]\n",
            "\u001b[34m\u001b[1mtrain: \u001b[0mWARNING ⚠️ /content/processed_dataset3/images/aug_47e94771-1368498.jpg: ignoring corrupt image/label: non-normalized or out of bounds coordinates [     484.41      484.48      484.12      484.06]\n",
            "\u001b[34m\u001b[1mtrain: \u001b[0mWARNING ⚠️ /content/processed_dataset3/images/aug_48802d1d-316451.jpg: ignoring corrupt image/label: non-normalized or out of bounds coordinates [     489.77      489.47      489.12      489.16      489.44      489.71]\n",
            "\u001b[34m\u001b[1mtrain: \u001b[0mWARNING ⚠️ /content/processed_dataset3/images/aug_49228c3a-2587921.jpg: ignoring corrupt image/label: non-normalized or out of bounds coordinates [     65.274]\n",
            "\u001b[34m\u001b[1mtrain: \u001b[0mWARNING ⚠️ /content/processed_dataset3/images/aug_4a2f89b1-1279146.jpg: ignoring corrupt image/label: non-normalized or out of bounds coordinates [     510.47]\n",
            "\u001b[34m\u001b[1mtrain: \u001b[0mWARNING ⚠️ /content/processed_dataset3/images/aug_4a45f233-1680339.jpg: ignoring corrupt image/label: non-normalized or out of bounds coordinates [     1.0037]\n",
            "\u001b[34m\u001b[1mtrain: \u001b[0mWARNING ⚠️ /content/processed_dataset3/images/aug_4ae53831-3790643.jpg: ignoring corrupt image/label: non-normalized or out of bounds coordinates [     286.46]\n",
            "\u001b[34m\u001b[1mtrain: \u001b[0mWARNING ⚠️ /content/processed_dataset3/images/aug_4db73d0e-3382880.jpg: ignoring corrupt image/label: non-normalized or out of bounds coordinates [     59.243]\n",
            "\u001b[34m\u001b[1mtrain: \u001b[0mWARNING ⚠️ /content/processed_dataset3/images/aug_4f66689a-2519291.jpg: ignoring corrupt image/label: non-normalized or out of bounds coordinates [      510.5      1.0016]\n",
            "\u001b[34m\u001b[1mtrain: \u001b[0mWARNING ⚠️ /content/processed_dataset3/images/aug_4f8944b4-1099080.jpg: ignoring corrupt image/label: non-normalized or out of bounds coordinates [     510.25]\n",
            "\u001b[34m\u001b[1mtrain: \u001b[0mWARNING ⚠️ /content/processed_dataset3/images/aug_516a61a1-3543883.jpg: ignoring corrupt image/label: non-normalized or out of bounds coordinates [     510.48]\n",
            "\u001b[34m\u001b[1mtrain: \u001b[0mWARNING ⚠️ /content/processed_dataset3/images/aug_52de6bd3-1029698.jpg: ignoring corrupt image/label: non-normalized or out of bounds coordinates [     510.49      1.0055]\n",
            "\u001b[34m\u001b[1mtrain: \u001b[0mWARNING ⚠️ /content/processed_dataset3/images/aug_53cc0189-258111.jpg: ignoring corrupt image/label: non-normalized or out of bounds coordinates [     510.43]\n",
            "\u001b[34m\u001b[1mtrain: \u001b[0mWARNING ⚠️ /content/processed_dataset3/images/aug_5528cfb5-3921590.jpg: ignoring corrupt image/label: non-normalized or out of bounds coordinates [     510.43]\n",
            "\u001b[34m\u001b[1mtrain: \u001b[0mWARNING ⚠️ /content/processed_dataset3/images/aug_56831cfb-2198043.jpg: ignoring corrupt image/label: non-normalized or out of bounds coordinates [     563.94      68.757]\n",
            "\u001b[34m\u001b[1mtrain: \u001b[0mWARNING ⚠️ /content/processed_dataset3/images/aug_599796b1-478300.jpg: ignoring corrupt image/label: non-normalized or out of bounds coordinates [     17.719       1.003]\n",
            "\u001b[34m\u001b[1mtrain: \u001b[0mWARNING ⚠️ /content/processed_dataset3/images/aug_5a682264-20777.jpg: ignoring corrupt image/label: non-normalized or out of bounds coordinates [     385.89      3.0466      385.51      2.9756      385.18      3.0634      385.84      2.6149      385.58      2.6033      385.29      2.5563      385.12      2.5416]\n",
            "\u001b[34m\u001b[1mtrain: \u001b[0mWARNING ⚠️ /content/processed_dataset3/images/aug_5c099022-1873816.jpg: ignoring corrupt image/label: non-normalized or out of bounds coordinates [     510.48]\n",
            "\u001b[34m\u001b[1mtrain: \u001b[0mWARNING ⚠️ /content/processed_dataset3/images/aug_5e83e2b2-2670852.jpg: ignoring corrupt image/label: non-normalized or out of bounds coordinates [     5.6548]\n",
            "\u001b[34m\u001b[1mtrain: \u001b[0mWARNING ⚠️ /content/processed_dataset3/images/aug_605b2856-383439.jpg: ignoring corrupt image/label: non-normalized or out of bounds coordinates [     510.57]\n",
            "\u001b[34m\u001b[1mtrain: \u001b[0mWARNING ⚠️ /content/processed_dataset3/images/aug_6193491e-2155429.jpg: ignoring corrupt image/label: non-normalized or out of bounds coordinates [     510.58]\n",
            "\u001b[34m\u001b[1mtrain: \u001b[0mWARNING ⚠️ /content/processed_dataset3/images/aug_61fe7abb-573054.jpg: ignoring corrupt image/label: non-normalized or out of bounds coordinates [     512.74      2.9127]\n",
            "\u001b[34m\u001b[1mtrain: \u001b[0mWARNING ⚠️ /content/processed_dataset3/images/aug_6aacbfee-3734413.jpg: ignoring corrupt image/label: non-normalized or out of bounds coordinates [      510.5]\n",
            "\u001b[34m\u001b[1mtrain: \u001b[0mWARNING ⚠️ /content/processed_dataset3/images/aug_7637160e-2772699.jpg: ignoring corrupt image/label: non-normalized or out of bounds coordinates [     510.57]\n",
            "\u001b[34m\u001b[1mtrain: \u001b[0mWARNING ⚠️ /content/processed_dataset3/images/aug_772987e1-3018077.jpg: ignoring corrupt image/label: non-normalized or out of bounds coordinates [     565.73       71.63]\n",
            "\u001b[34m\u001b[1mtrain: \u001b[0mWARNING ⚠️ /content/processed_dataset3/images/aug_7c808801-2265512.jpg: ignoring corrupt image/label: non-normalized or out of bounds coordinates [     474.54      1.1131]\n",
            "\u001b[34m\u001b[1mtrain: \u001b[0mWARNING ⚠️ /content/processed_dataset3/images/aug_7d531957-3282393.jpg: ignoring corrupt image/label: non-normalized or out of bounds coordinates [      510.5]\n",
            "\u001b[34m\u001b[1mtrain: \u001b[0mWARNING ⚠️ /content/processed_dataset3/images/aug_7f3c9225-403431.jpg: ignoring corrupt image/label: non-normalized or out of bounds coordinates [      510.5      1.0019]\n",
            "\u001b[34m\u001b[1mtrain: \u001b[0mWARNING ⚠️ /content/processed_dataset3/images/aug_7ff5a4ea-3763593.jpg: ignoring corrupt image/label: non-normalized or out of bounds coordinates [     548.64      45.632]\n",
            "\u001b[34m\u001b[1mtrain: \u001b[0mWARNING ⚠️ /content/processed_dataset3/images/aug_833cbb3b-2984337.jpg: ignoring corrupt image/label: non-normalized or out of bounds coordinates [     496.94]\n",
            "\u001b[34m\u001b[1mtrain: \u001b[0mWARNING ⚠️ /content/processed_dataset3/images/aug_84c1baf6-706931.jpg: ignoring corrupt image/label: non-normalized or out of bounds coordinates [     525.64      22.508      525.17      22.507]\n",
            "\u001b[34m\u001b[1mtrain: \u001b[0mWARNING ⚠️ /content/processed_dataset3/images/aug_8763e50e-265406.jpg: ignoring corrupt image/label: non-normalized or out of bounds coordinates [     454.43]\n",
            "\u001b[34m\u001b[1mtrain: \u001b[0mWARNING ⚠️ /content/processed_dataset3/images/aug_8765709f-3381633.jpg: ignoring corrupt image/label: non-normalized or out of bounds coordinates [     467.41      1.0092]\n",
            "\u001b[34m\u001b[1mtrain: \u001b[0mWARNING ⚠️ /content/processed_dataset3/images/aug_88a65abd-920703.jpg: ignoring corrupt image/label: non-normalized or out of bounds coordinates [     510.81      510.47      510.72      510.48      510.67      510.52      510.51      510.64      510.51]\n",
            "\u001b[34m\u001b[1mtrain: \u001b[0mWARNING ⚠️ /content/processed_dataset3/images/aug_8af03f92-135434.jpg: ignoring corrupt image/label: non-normalized or out of bounds coordinates [      510.5]\n",
            "\u001b[34m\u001b[1mtrain: \u001b[0mWARNING ⚠️ /content/processed_dataset3/images/aug_8b873d46-1327608.jpg: ignoring corrupt image/label: non-normalized or out of bounds coordinates [     510.52]\n",
            "\u001b[34m\u001b[1mtrain: \u001b[0mWARNING ⚠️ /content/processed_dataset3/images/aug_8be40675-1854061.jpg: ignoring corrupt image/label: non-normalized or out of bounds coordinates [     510.69      510.62]\n",
            "\u001b[34m\u001b[1mtrain: \u001b[0mWARNING ⚠️ /content/processed_dataset3/images/aug_8c03e01f-2120760.jpg: ignoring corrupt image/label: non-normalized or out of bounds coordinates [     12.671]\n",
            "\u001b[34m\u001b[1mtrain: \u001b[0mWARNING ⚠️ /content/processed_dataset3/images/aug_8ca147ae-901549.jpg: ignoring corrupt image/label: non-normalized or out of bounds coordinates [      510.5]\n",
            "\u001b[34m\u001b[1mtrain: \u001b[0mWARNING ⚠️ /content/processed_dataset3/images/aug_93d0e528-495881.jpg: ignoring corrupt image/label: non-normalized or out of bounds coordinates [     509.17]\n",
            "\u001b[34m\u001b[1mtrain: \u001b[0mWARNING ⚠️ /content/processed_dataset3/images/aug_94b0882f-2296393.jpg: ignoring corrupt image/label: non-normalized or out of bounds coordinates [     510.51]\n",
            "\u001b[34m\u001b[1mtrain: \u001b[0mWARNING ⚠️ /content/processed_dataset3/images/aug_96e3a26c-1708466.jpg: ignoring corrupt image/label: non-normalized or out of bounds coordinates [     552.37      50.709      1.0051]\n",
            "\u001b[34m\u001b[1mtrain: \u001b[0mWARNING ⚠️ /content/processed_dataset3/images/aug_9731b2c8-1993926.jpg: ignoring corrupt image/label: non-normalized or out of bounds coordinates [     510.43]\n",
            "\u001b[34m\u001b[1mtrain: \u001b[0mWARNING ⚠️ /content/processed_dataset3/images/aug_98bdcdba-3728155.jpg: ignoring corrupt image/label: non-normalized or out of bounds coordinates [     510.51]\n",
            "\u001b[34m\u001b[1mtrain: \u001b[0mWARNING ⚠️ /content/processed_dataset3/images/aug_98da9fce-3680697.jpg: ignoring corrupt image/label: non-normalized or out of bounds coordinates [     510.31      510.77      510.16      510.49      510.78]\n",
            "\u001b[34m\u001b[1mtrain: \u001b[0mWARNING ⚠️ /content/processed_dataset3/images/aug_998aff27-515907.jpg: ignoring corrupt image/label: non-normalized or out of bounds coordinates [     510.48]\n",
            "\u001b[34m\u001b[1mtrain: \u001b[0mWARNING ⚠️ /content/processed_dataset3/images/aug_9a0f67a2-210027.jpg: ignoring corrupt image/label: non-normalized or out of bounds coordinates [     510.61]\n",
            "\u001b[34m\u001b[1mtrain: \u001b[0mWARNING ⚠️ /content/processed_dataset3/images/aug_9e120cc8-1981348.jpg: ignoring corrupt image/label: non-normalized or out of bounds coordinates [     420.94      35.478]\n",
            "\u001b[34m\u001b[1mtrain: \u001b[0mWARNING ⚠️ /content/processed_dataset3/images/aug_a2fe1ab4-1021229.jpg: ignoring corrupt image/label: non-normalized or out of bounds coordinates [     480.24]\n",
            "\u001b[34m\u001b[1mtrain: \u001b[0mWARNING ⚠️ /content/processed_dataset3/images/aug_a66b8628-3778801.jpg: ignoring corrupt image/label: non-normalized or out of bounds coordinates [     540.85      49.847      1.0897      1.0708]\n",
            "\u001b[34m\u001b[1mtrain: \u001b[0mWARNING ⚠️ /content/processed_dataset3/images/aug_acf84d70-2476468.jpg: ignoring corrupt image/label: non-normalized or out of bounds coordinates [     510.47]\n",
            "\u001b[34m\u001b[1mtrain: \u001b[0mWARNING ⚠️ /content/processed_dataset3/images/aug_ae8acbac-2236338.jpg: ignoring corrupt image/label: non-normalized or out of bounds coordinates [     1.0018]\n",
            "\u001b[34m\u001b[1mtrain: \u001b[0mWARNING ⚠️ /content/processed_dataset3/images/aug_aed7bc39-2948329.jpg: ignoring corrupt image/label: non-normalized or out of bounds coordinates [     510.52]\n",
            "\u001b[34m\u001b[1mtrain: \u001b[0mWARNING ⚠️ /content/processed_dataset3/images/aug_af82b8b2-8917.jpg: ignoring corrupt image/label: non-normalized or out of bounds coordinates [      510.5      1.0009]\n",
            "\u001b[34m\u001b[1mtrain: \u001b[0mWARNING ⚠️ /content/processed_dataset3/images/aug_b1914a0b-712331.jpg: ignoring corrupt image/label: non-normalized or out of bounds coordinates [     509.82      509.89      509.54      509.14      509.51      509.18]\n",
            "\u001b[34m\u001b[1mtrain: \u001b[0mWARNING ⚠️ /content/processed_dataset3/images/aug_b34d8eb8-1407753.jpg: ignoring corrupt image/label: non-normalized or out of bounds coordinates [     382.13]\n",
            "\u001b[34m\u001b[1mtrain: \u001b[0mWARNING ⚠️ /content/processed_dataset3/images/aug_b3fafc29-2168957.jpg: ignoring corrupt image/label: non-normalized or out of bounds coordinates [     510.53]\n",
            "\u001b[34m\u001b[1mtrain: \u001b[0mWARNING ⚠️ /content/processed_dataset3/images/aug_b4261bd0-739531.jpg: ignoring corrupt image/label: non-normalized or out of bounds coordinates [     510.51]\n",
            "\u001b[34m\u001b[1mtrain: \u001b[0mWARNING ⚠️ /content/processed_dataset3/images/aug_b5cfdd1f-2005627.jpg: ignoring corrupt image/label: non-normalized or out of bounds coordinates [     1.0055]\n",
            "\u001b[34m\u001b[1mtrain: \u001b[0mWARNING ⚠️ /content/processed_dataset3/images/aug_bc8305b7-72729.jpg: ignoring corrupt image/label: non-normalized or out of bounds coordinates [     510.75      510.46      510.26]\n",
            "\u001b[34m\u001b[1mtrain: \u001b[0mWARNING ⚠️ /content/processed_dataset3/images/aug_bcb2fdeb-2701185.jpg: ignoring corrupt image/label: non-normalized or out of bounds coordinates [     510.53]\n",
            "\u001b[34m\u001b[1mtrain: \u001b[0mWARNING ⚠️ /content/processed_dataset3/images/aug_c41ba1ea-1119011.jpg: ignoring corrupt image/label: non-normalized or out of bounds coordinates [     507.85]\n",
            "\u001b[34m\u001b[1mtrain: \u001b[0mWARNING ⚠️ /content/processed_dataset3/images/aug_c492af2c-2431195.jpg: ignoring corrupt image/label: non-normalized or out of bounds coordinates [     510.49]\n",
            "\u001b[34m\u001b[1mtrain: \u001b[0mWARNING ⚠️ /content/processed_dataset3/images/aug_c628f001-716348.jpg: ignoring corrupt image/label: non-normalized or out of bounds coordinates [     304.75      304.36]\n",
            "\u001b[34m\u001b[1mtrain: \u001b[0mWARNING ⚠️ /content/processed_dataset3/images/aug_c70e6beb-45515.jpg: ignoring corrupt image/label: non-normalized or out of bounds coordinates [     382.66]\n",
            "\u001b[34m\u001b[1mtrain: \u001b[0mWARNING ⚠️ /content/processed_dataset3/images/aug_c941d52f-3001740.jpg: ignoring corrupt image/label: non-normalized or out of bounds coordinates [     46.152      1.0475]\n",
            "\u001b[34m\u001b[1mtrain: \u001b[0mWARNING ⚠️ /content/processed_dataset3/images/aug_c99796f4-714866.jpg: ignoring corrupt image/label: non-normalized or out of bounds coordinates [      510.5]\n",
            "\u001b[34m\u001b[1mtrain: \u001b[0mWARNING ⚠️ /content/processed_dataset3/images/aug_c9cc046a-1097991.jpg: ignoring corrupt image/label: non-normalized or out of bounds coordinates [     519.85      10.323]\n",
            "\u001b[34m\u001b[1mtrain: \u001b[0mWARNING ⚠️ /content/processed_dataset3/images/aug_cc298798-280869.jpg: ignoring corrupt image/label: non-normalized or out of bounds coordinates [     510.52]\n",
            "\u001b[34m\u001b[1mtrain: \u001b[0mWARNING ⚠️ /content/processed_dataset3/images/aug_d0280983-2517724.jpg: ignoring corrupt image/label: non-normalized or out of bounds coordinates [     510.49]\n",
            "\u001b[34m\u001b[1mtrain: \u001b[0mWARNING ⚠️ /content/processed_dataset3/images/aug_d12d2211-1470156.jpg: ignoring corrupt image/label: non-normalized or out of bounds coordinates [     510.49]\n",
            "\u001b[34m\u001b[1mtrain: \u001b[0mWARNING ⚠️ /content/processed_dataset3/images/aug_d3e6d927-2606829.jpg: ignoring corrupt image/label: non-normalized or out of bounds coordinates [     1.0018]\n",
            "\u001b[34m\u001b[1mtrain: \u001b[0mWARNING ⚠️ /content/processed_dataset3/images/aug_d6aeab37-1193742.jpg: ignoring corrupt image/label: non-normalized or out of bounds coordinates [     64.213      64.661      64.538]\n",
            "\u001b[34m\u001b[1mtrain: \u001b[0mWARNING ⚠️ /content/processed_dataset3/images/aug_d7000609-2032236.jpg: ignoring corrupt image/label: non-normalized or out of bounds coordinates [     384.43      1.9576]\n",
            "\u001b[34m\u001b[1mtrain: \u001b[0mWARNING ⚠️ /content/processed_dataset3/images/aug_d91e93a4-786596.jpg: ignoring corrupt image/label: non-normalized or out of bounds coordinates [     329.15]\n",
            "\u001b[34m\u001b[1mtrain: \u001b[0mWARNING ⚠️ /content/processed_dataset3/images/aug_da1297b4-3381609.jpg: ignoring corrupt image/label: non-normalized or out of bounds coordinates [     510.46]\n",
            "\u001b[34m\u001b[1mtrain: \u001b[0mWARNING ⚠️ /content/processed_dataset3/images/aug_dd15030d-3445331.jpg: ignoring corrupt image/label: non-normalized or out of bounds coordinates [     443.91]\n",
            "\u001b[34m\u001b[1mtrain: \u001b[0mWARNING ⚠️ /content/processed_dataset3/images/aug_dd670e51-3708711.jpg: ignoring corrupt image/label: non-normalized or out of bounds coordinates [     510.49]\n",
            "\u001b[34m\u001b[1mtrain: \u001b[0mWARNING ⚠️ /content/processed_dataset3/images/aug_df117ee2-232737.jpg: ignoring corrupt image/label: non-normalized or out of bounds coordinates [     380.49      1.0052]\n",
            "\u001b[34m\u001b[1mtrain: \u001b[0mWARNING ⚠️ /content/processed_dataset3/images/aug_e51becfb-919785.jpg: ignoring corrupt image/label: non-normalized or out of bounds coordinates [      510.5      1.0037]\n",
            "\u001b[34m\u001b[1mtrain: \u001b[0mWARNING ⚠️ /content/processed_dataset3/images/aug_e83eed3f-447914.jpg: ignoring corrupt image/label: non-normalized or out of bounds coordinates [     382.49      1.0074]\n",
            "\u001b[34m\u001b[1mtrain: \u001b[0mWARNING ⚠️ /content/processed_dataset3/images/aug_ebbc3258-2570036.jpg: ignoring corrupt image/label: non-normalized or out of bounds coordinates [     510.49]\n",
            "\u001b[34m\u001b[1mtrain: \u001b[0mWARNING ⚠️ /content/processed_dataset3/images/aug_edad813d-3401466.jpg: ignoring corrupt image/label: non-normalized or out of bounds coordinates [     8.0135]\n",
            "\u001b[34m\u001b[1mtrain: \u001b[0mWARNING ⚠️ /content/processed_dataset3/images/aug_ee2bb5a3-549804.jpg: ignoring corrupt image/label: non-normalized or out of bounds coordinates [     510.49]\n",
            "\u001b[34m\u001b[1mtrain: \u001b[0mWARNING ⚠️ /content/processed_dataset3/images/aug_f2047a23-5764.jpg: ignoring corrupt image/label: non-normalized or out of bounds coordinates [     548.76      67.091]\n",
            "\u001b[34m\u001b[1mtrain: \u001b[0mWARNING ⚠️ /content/processed_dataset3/images/aug_f221a416-1332728.jpg: ignoring corrupt image/label: non-normalized or out of bounds coordinates [     47.574]\n",
            "\u001b[34m\u001b[1mtrain: \u001b[0mWARNING ⚠️ /content/processed_dataset3/images/aug_f313d111-326809.jpg: ignoring corrupt image/label: non-normalized or out of bounds coordinates [     439.32      57.472]\n",
            "\u001b[34m\u001b[1mtrain: \u001b[0mWARNING ⚠️ /content/processed_dataset3/images/aug_f4df36a7-568773.jpg: ignoring corrupt image/label: non-normalized or out of bounds coordinates [     73.951]\n",
            "\u001b[34m\u001b[1mtrain: \u001b[0mWARNING ⚠️ /content/processed_dataset3/images/b1914a0b-712331.jpg: ignoring corrupt image/label: non-normalized or out of bounds coordinates [     509.82      509.89      509.54      509.14      509.51      509.18]\n",
            "\u001b[34m\u001b[1mtrain: \u001b[0mWARNING ⚠️ /content/processed_dataset3/images/b34d8eb8-1407753.jpg: ignoring corrupt image/label: non-normalized or out of bounds coordinates [     382.13]\n",
            "\u001b[34m\u001b[1mtrain: \u001b[0mWARNING ⚠️ /content/processed_dataset3/images/b5cfdd1f-2005627.jpg: ignoring corrupt image/label: non-normalized or out of bounds coordinates [     455.19      1.0392]\n",
            "\u001b[34m\u001b[1mtrain: \u001b[0mWARNING ⚠️ /content/processed_dataset3/images/b7607bac-1822700.jpg: ignoring corrupt image/label: non-normalized or out of bounds coordinates [      510.5]\n",
            "\u001b[34m\u001b[1mtrain: \u001b[0mWARNING ⚠️ /content/processed_dataset3/images/bc8305b7-72729.jpg: ignoring corrupt image/label: non-normalized or out of bounds coordinates [     487.35       487.1      486.85]\n",
            "\u001b[34m\u001b[1mtrain: \u001b[0mWARNING ⚠️ /content/processed_dataset3/images/c41ba1ea-1119011.jpg: ignoring corrupt image/label: non-normalized or out of bounds coordinates [     510.47]\n",
            "\u001b[34m\u001b[1mtrain: \u001b[0mWARNING ⚠️ /content/processed_dataset3/images/c492af2c-2431195.jpg: ignoring corrupt image/label: non-normalized or out of bounds coordinates [     27.196]\n",
            "\u001b[34m\u001b[1mtrain: \u001b[0mWARNING ⚠️ /content/processed_dataset3/images/c70e6beb-45515.jpg: ignoring corrupt image/label: non-normalized or out of bounds coordinates [     382.66]\n",
            "\u001b[34m\u001b[1mtrain: \u001b[0mWARNING ⚠️ /content/processed_dataset3/images/c99796f4-714866.jpg: ignoring corrupt image/label: non-normalized or out of bounds coordinates [      510.5]\n",
            "\u001b[34m\u001b[1mtrain: \u001b[0mWARNING ⚠️ /content/processed_dataset3/images/c9cc046a-1097991.jpg: ignoring corrupt image/label: non-normalized or out of bounds coordinates [      510.5]\n",
            "\u001b[34m\u001b[1mtrain: \u001b[0mWARNING ⚠️ /content/processed_dataset3/images/d0280983-2517724.jpg: ignoring corrupt image/label: non-normalized or out of bounds coordinates [     504.27]\n",
            "\u001b[34m\u001b[1mtrain: \u001b[0mWARNING ⚠️ /content/processed_dataset3/images/d3e6d927-2606829.jpg: ignoring corrupt image/label: non-normalized or out of bounds coordinates [     1.0018]\n",
            "\u001b[34m\u001b[1mtrain: \u001b[0mWARNING ⚠️ /content/processed_dataset3/images/d6aeab37-1193742.jpg: ignoring corrupt image/label: non-normalized or out of bounds coordinates [     510.75      510.43      510.47]\n",
            "\u001b[34m\u001b[1mtrain: \u001b[0mWARNING ⚠️ /content/processed_dataset3/images/d91e93a4-786596.jpg: ignoring corrupt image/label: non-normalized or out of bounds coordinates [     382.47]\n",
            "\u001b[34m\u001b[1mtrain: \u001b[0mWARNING ⚠️ /content/processed_dataset3/images/d99b0683-863509.jpg: ignoring corrupt image/label: non-normalized or out of bounds coordinates [     510.51]\n",
            "\u001b[34m\u001b[1mtrain: \u001b[0mWARNING ⚠️ /content/processed_dataset3/images/dad95938-2844278.jpg: ignoring corrupt image/label: non-normalized or out of bounds coordinates [     560.31      62.756      1.1816       1.162]\n",
            "\u001b[34m\u001b[1mtrain: \u001b[0mWARNING ⚠️ /content/processed_dataset3/images/df117ee2-232737.jpg: ignoring corrupt image/label: non-normalized or out of bounds coordinates [     1.0052]\n",
            "\u001b[34m\u001b[1mtrain: \u001b[0mWARNING ⚠️ /content/processed_dataset3/images/e51becfb-919785.jpg: ignoring corrupt image/label: non-normalized or out of bounds coordinates [      510.5      1.0037]\n",
            "\u001b[34m\u001b[1mtrain: \u001b[0mWARNING ⚠️ /content/processed_dataset3/images/e83eed3f-447914.jpg: ignoring corrupt image/label: non-normalized or out of bounds coordinates [     422.84      36.467      1.0993]\n",
            "\u001b[34m\u001b[1mtrain: \u001b[0mWARNING ⚠️ /content/processed_dataset3/images/ebbc3258-2570036.jpg: ignoring corrupt image/label: non-normalized or out of bounds coordinates [     510.49]\n",
            "\u001b[34m\u001b[1mtrain: \u001b[0mWARNING ⚠️ /content/processed_dataset3/images/edad813d-3401466.jpg: ignoring corrupt image/label: non-normalized or out of bounds coordinates [     510.52]\n",
            "\u001b[34m\u001b[1mtrain: \u001b[0mWARNING ⚠️ /content/processed_dataset3/images/f2047a23-5764.jpg: ignoring corrupt image/label: non-normalized or out of bounds coordinates [     510.49]\n",
            "\u001b[34m\u001b[1mtrain: \u001b[0mWARNING ⚠️ /content/processed_dataset3/images/f2e1cb2e-1782666.jpg: ignoring corrupt image/label: non-normalized or out of bounds coordinates [     444.94]\n",
            "\u001b[34m\u001b[1mtrain: \u001b[0mWARNING ⚠️ /content/processed_dataset3/images/f313d111-326809.jpg: ignoring corrupt image/label: non-normalized or out of bounds coordinates [     410.64      26.015]\n",
            "\u001b[34m\u001b[1mtrain: \u001b[0mWARNING ⚠️ /content/processed_dataset3/images/f4df36a7-568773.jpg: ignoring corrupt image/label: non-normalized or out of bounds coordinates [     42.903      1.0033]\n",
            "\u001b[34m\u001b[1mtrain: \u001b[0mWARNING ⚠️ /content/processed_dataset3/images/f82da03c-68684.jpg: ignoring corrupt image/label: non-normalized or out of bounds coordinates [     510.52]\n",
            "\u001b[34m\u001b[1mtrain: \u001b[0mWARNING ⚠️ /content/processed_dataset3/images/fbf0cf11-3057757.jpg: ignoring corrupt image/label: non-normalized or out of bounds coordinates [     382.51]\n",
            "\u001b[34m\u001b[1malbumentations: \u001b[0mBlur(p=0.01, blur_limit=(3, 7)), MedianBlur(p=0.01, blur_limit=(3, 7)), ToGray(p=0.01, num_output_channels=3, method='weighted_average'), CLAHE(p=0.01, clip_limit=(1.0, 4.0), tile_grid_size=(8, 8))\n"
          ]
        },
        {
          "output_type": "stream",
          "name": "stderr",
          "text": [
            "\n",
            "\u001b[34m\u001b[1mval: \u001b[0mScanning /content/processed_dataset3/labels.cache... 324 images, 0 backgrounds, 218 corrupt: 100%|██████████| 324/324 [00:00<?, ?it/s]"
          ]
        },
        {
          "output_type": "stream",
          "name": "stdout",
          "text": [
            "\u001b[34m\u001b[1mtrain: \u001b[0mWARNING ⚠️ /content/processed_dataset3/images/01c252f8-1574421.jpg: ignoring corrupt image/label: non-normalized or out of bounds coordinates [     382.36      382.71      382.74      382.65      382.38      382.36      382.11      382.91      382.68]\n",
            "\u001b[34m\u001b[1mtrain: \u001b[0mWARNING ⚠️ /content/processed_dataset3/images/02c4415a-995801.jpg: ignoring corrupt image/label: non-normalized or out of bounds coordinates [     19.226]\n",
            "\u001b[34m\u001b[1mtrain: \u001b[0mWARNING ⚠️ /content/processed_dataset3/images/069f9c9b-118126.jpg: ignoring corrupt image/label: non-normalized or out of bounds coordinates [     382.52]\n",
            "\u001b[34m\u001b[1mtrain: \u001b[0mWARNING ⚠️ /content/processed_dataset3/images/07e95446-2781056.jpg: ignoring corrupt image/label: non-normalized or out of bounds coordinates [     510.57]\n",
            "\u001b[34m\u001b[1mtrain: \u001b[0mWARNING ⚠️ /content/processed_dataset3/images/080248d8-2031692.jpg: ignoring corrupt image/label: non-normalized or out of bounds coordinates [     496.58      1.0339]\n",
            "\u001b[34m\u001b[1mtrain: \u001b[0mWARNING ⚠️ /content/processed_dataset3/images/082737e5-2498460.jpg: ignoring corrupt image/label: non-normalized or out of bounds coordinates [     510.15]\n",
            "\u001b[34m\u001b[1mtrain: \u001b[0mWARNING ⚠️ /content/processed_dataset3/images/0b45d160-3763432.jpg: ignoring corrupt image/label: non-normalized or out of bounds coordinates [     543.83      38.935]\n",
            "\u001b[34m\u001b[1mtrain: \u001b[0mWARNING ⚠️ /content/processed_dataset3/images/0d1879f9-358748.jpg: ignoring corrupt image/label: non-normalized or out of bounds coordinates [     380.54]\n",
            "\u001b[34m\u001b[1mtrain: \u001b[0mWARNING ⚠️ /content/processed_dataset3/images/11c97300-3515250.jpg: ignoring corrupt image/label: non-normalized or out of bounds coordinates [      510.5]\n",
            "\u001b[34m\u001b[1mtrain: \u001b[0mWARNING ⚠️ /content/processed_dataset3/images/123adde7-3827966.jpg: ignoring corrupt image/label: non-normalized or out of bounds coordinates [     512.25      2.2466]\n",
            "\u001b[34m\u001b[1mtrain: \u001b[0mWARNING ⚠️ /content/processed_dataset3/images/165a1c35-538037.jpg: ignoring corrupt image/label: non-normalized or out of bounds coordinates [     42.876]\n",
            "\u001b[34m\u001b[1mtrain: \u001b[0mWARNING ⚠️ /content/processed_dataset3/images/179a55c2-663285.jpg: ignoring corrupt image/label: non-normalized or out of bounds coordinates [     23.059      1.0093       1.094]\n",
            "\u001b[34m\u001b[1mtrain: \u001b[0mWARNING ⚠️ /content/processed_dataset3/images/18717882-2580309.jpg: ignoring corrupt image/label: non-normalized or out of bounds coordinates [     545.02      40.295      544.49      40.118]\n",
            "\u001b[34m\u001b[1mtrain: \u001b[0mWARNING ⚠️ /content/processed_dataset3/images/1ac491f4-2569760.jpg: ignoring corrupt image/label: non-normalized or out of bounds coordinates [     382.49      1.0024]\n",
            "\u001b[34m\u001b[1mtrain: \u001b[0mWARNING ⚠️ /content/processed_dataset3/images/2bf4eb29-1137400.jpg: ignoring corrupt image/label: non-normalized or out of bounds coordinates [     1.0037]\n",
            "\u001b[34m\u001b[1mtrain: \u001b[0mWARNING ⚠️ /content/processed_dataset3/images/2d139c35-3082443.jpg: ignoring corrupt image/label: non-normalized or out of bounds coordinates [     510.52]\n",
            "\u001b[34m\u001b[1mtrain: \u001b[0mWARNING ⚠️ /content/processed_dataset3/images/2db1fae2-45067.jpg: ignoring corrupt image/label: non-normalized or out of bounds coordinates [     530.17      30.036]\n",
            "\u001b[34m\u001b[1mtrain: \u001b[0mWARNING ⚠️ /content/processed_dataset3/images/2fa4bd26-1668806.jpg: ignoring corrupt image/label: non-normalized or out of bounds coordinates [     556.33      56.565]\n",
            "\u001b[34m\u001b[1mtrain: \u001b[0mWARNING ⚠️ /content/processed_dataset3/images/315f30af-153082.jpg: ignoring corrupt image/label: non-normalized or out of bounds coordinates [     510.43]\n",
            "\u001b[34m\u001b[1mtrain: \u001b[0mWARNING ⚠️ /content/processed_dataset3/images/341758e6-1725269.jpg: ignoring corrupt image/label: non-normalized or out of bounds coordinates [     510.49]\n",
            "\u001b[34m\u001b[1mtrain: \u001b[0mWARNING ⚠️ /content/processed_dataset3/images/36054e32-680155.jpg: ignoring corrupt image/label: non-normalized or out of bounds coordinates [     7.8623]\n",
            "\u001b[34m\u001b[1mtrain: \u001b[0mWARNING ⚠️ /content/processed_dataset3/images/368b7222-2240535.jpg: ignoring corrupt image/label: non-normalized or out of bounds coordinates [     510.54]\n",
            "\u001b[34m\u001b[1mtrain: \u001b[0mWARNING ⚠️ /content/processed_dataset3/images/386040bf-2752957.jpg: ignoring corrupt image/label: non-normalized or out of bounds coordinates [     520.66      16.994      1.0181]\n",
            "\u001b[34m\u001b[1mtrain: \u001b[0mWARNING ⚠️ /content/processed_dataset3/images/39245006-2352914.jpg: ignoring corrupt image/label: non-normalized or out of bounds coordinates [     10.468      10.557      10.506      10.461      10.436]\n",
            "\u001b[34m\u001b[1mtrain: \u001b[0mWARNING ⚠️ /content/processed_dataset3/images/3a42925b-238730.jpg: ignoring corrupt image/label: non-normalized or out of bounds coordinates [     380.59]\n",
            "\u001b[34m\u001b[1mtrain: \u001b[0mWARNING ⚠️ /content/processed_dataset3/images/42999b7e-909848.jpg: ignoring corrupt image/label: non-normalized or out of bounds coordinates [     510.68      510.17       510.5      510.43]\n",
            "\u001b[34m\u001b[1mtrain: \u001b[0mWARNING ⚠️ /content/processed_dataset3/images/4549f6c3-1127099.jpg: ignoring corrupt image/label: non-normalized or out of bounds coordinates [      510.5]\n",
            "\u001b[34m\u001b[1mtrain: \u001b[0mWARNING ⚠️ /content/processed_dataset3/images/47e94771-1368498.jpg: ignoring corrupt image/label: non-normalized or out of bounds coordinates [     58.502      58.947      58.896      58.472]\n",
            "\u001b[34m\u001b[1mtrain: \u001b[0mWARNING ⚠️ /content/processed_dataset3/images/48802d1d-316451.jpg: ignoring corrupt image/label: non-normalized or out of bounds coordinates [     510.96      510.66      510.31      510.39      510.67      510.94]\n",
            "\u001b[34m\u001b[1mtrain: \u001b[0mWARNING ⚠️ /content/processed_dataset3/images/4a2f89b1-1279146.jpg: ignoring corrupt image/label: non-normalized or out of bounds coordinates [     526.37      23.673]\n",
            "\u001b[34m\u001b[1mtrain: \u001b[0mWARNING ⚠️ /content/processed_dataset3/images/4a45f233-1680339.jpg: ignoring corrupt image/label: non-normalized or out of bounds coordinates [      510.5      1.0037]\n",
            "\u001b[34m\u001b[1mtrain: \u001b[0mWARNING ⚠️ /content/processed_dataset3/images/4db73d0e-3382880.jpg: ignoring corrupt image/label: non-normalized or out of bounds coordinates [     314.84      18.042]\n",
            "\u001b[34m\u001b[1mtrain: \u001b[0mWARNING ⚠️ /content/processed_dataset3/images/4f66689a-2519291.jpg: ignoring corrupt image/label: non-normalized or out of bounds coordinates [     1.0016]\n",
            "\u001b[34m\u001b[1mtrain: \u001b[0mWARNING ⚠️ /content/processed_dataset3/images/4f8944b4-1099080.jpg: ignoring corrupt image/label: non-normalized or out of bounds coordinates [        557      58.281]\n",
            "\u001b[34m\u001b[1mtrain: \u001b[0mWARNING ⚠️ /content/processed_dataset3/images/5002917a-1327402.jpg: ignoring corrupt image/label: non-normalized or out of bounds coordinates [      510.5]\n",
            "\u001b[34m\u001b[1mtrain: \u001b[0mWARNING ⚠️ /content/processed_dataset3/images/516a61a1-3543883.jpg: ignoring corrupt image/label: non-normalized or out of bounds coordinates [     510.48]\n",
            "\u001b[34m\u001b[1mtrain: \u001b[0mWARNING ⚠️ /content/processed_dataset3/images/52de6bd3-1029698.jpg: ignoring corrupt image/label: non-normalized or out of bounds coordinates [     510.49      1.0055]\n",
            "\u001b[34m\u001b[1mtrain: \u001b[0mWARNING ⚠️ /content/processed_dataset3/images/53cc0189-258111.jpg: ignoring corrupt image/label: non-normalized or out of bounds coordinates [     510.43]\n",
            "\u001b[34m\u001b[1mtrain: \u001b[0mWARNING ⚠️ /content/processed_dataset3/images/56831cfb-2198043.jpg: ignoring corrupt image/label: non-normalized or out of bounds coordinates [     17.538]\n",
            "\u001b[34m\u001b[1mtrain: \u001b[0mWARNING ⚠️ /content/processed_dataset3/images/599796b1-478300.jpg: ignoring corrupt image/label: non-normalized or out of bounds coordinates [     56.126]\n",
            "\u001b[34m\u001b[1mtrain: \u001b[0mWARNING ⚠️ /content/processed_dataset3/images/5a682264-20777.jpg: ignoring corrupt image/label: non-normalized or out of bounds coordinates [     44.782      44.659      44.656      44.349      44.287      44.186      44.134]\n",
            "\u001b[34m\u001b[1mtrain: \u001b[0mWARNING ⚠️ /content/processed_dataset3/images/5c099022-1873816.jpg: ignoring corrupt image/label: non-normalized or out of bounds coordinates [     492.41]\n",
            "\u001b[34m\u001b[1mtrain: \u001b[0mWARNING ⚠️ /content/processed_dataset3/images/5cdbcd1e-2278442.jpg: ignoring corrupt image/label: non-normalized or out of bounds coordinates [     346.45]\n",
            "\u001b[34m\u001b[1mtrain: \u001b[0mWARNING ⚠️ /content/processed_dataset3/images/5e83e2b2-2670852.jpg: ignoring corrupt image/label: non-normalized or out of bounds coordinates [     510.43]\n",
            "\u001b[34m\u001b[1mtrain: \u001b[0mWARNING ⚠️ /content/processed_dataset3/images/605b2856-383439.jpg: ignoring corrupt image/label: non-normalized or out of bounds coordinates [     510.57]\n",
            "\u001b[34m\u001b[1mtrain: \u001b[0mWARNING ⚠️ /content/processed_dataset3/images/6079f86d-3323080.jpg: ignoring corrupt image/label: non-normalized or out of bounds coordinates [      16.07      15.931]\n",
            "\u001b[34m\u001b[1mtrain: \u001b[0mWARNING ⚠️ /content/processed_dataset3/images/6193491e-2155429.jpg: ignoring corrupt image/label: non-normalized or out of bounds coordinates [     527.38       18.65]\n",
            "\u001b[34m\u001b[1mtrain: \u001b[0mWARNING ⚠️ /content/processed_dataset3/images/61fe7abb-573054.jpg: ignoring corrupt image/label: non-normalized or out of bounds coordinates [     67.395      1.0276]\n",
            "\u001b[34m\u001b[1mtrain: \u001b[0mWARNING ⚠️ /content/processed_dataset3/images/6aacbfee-3734413.jpg: ignoring corrupt image/label: non-normalized or out of bounds coordinates [     532.14      24.079      1.0008]\n",
            "\u001b[34m\u001b[1mtrain: \u001b[0mWARNING ⚠️ /content/processed_dataset3/images/6bfa534a-870449.jpg: ignoring corrupt image/label: non-normalized or out of bounds coordinates [     510.56]\n",
            "\u001b[34m\u001b[1mtrain: \u001b[0mWARNING ⚠️ /content/processed_dataset3/images/71632285-1259816.jpg: ignoring corrupt image/label: non-normalized or out of bounds coordinates [     27.897      1.0309]\n",
            "\u001b[34m\u001b[1mtrain: \u001b[0mWARNING ⚠️ /content/processed_dataset3/images/7462b06a-1727509.jpg: ignoring corrupt image/label: non-normalized or out of bounds coordinates [     73.413      1.2027      1.1334]\n",
            "\u001b[34m\u001b[1mtrain: \u001b[0mWARNING ⚠️ /content/processed_dataset3/images/75817f79-3693594.jpg: ignoring corrupt image/label: non-normalized or out of bounds coordinates [     44.322]\n",
            "\u001b[34m\u001b[1mtrain: \u001b[0mWARNING ⚠️ /content/processed_dataset3/images/7637160e-2772699.jpg: ignoring corrupt image/label: non-normalized or out of bounds coordinates [     33.551]\n",
            "\u001b[34m\u001b[1mtrain: \u001b[0mWARNING ⚠️ /content/processed_dataset3/images/772987e1-3018077.jpg: ignoring corrupt image/label: non-normalized or out of bounds coordinates [     29.406]\n",
            "\u001b[34m\u001b[1mtrain: \u001b[0mWARNING ⚠️ /content/processed_dataset3/images/7c808801-2265512.jpg: ignoring corrupt image/label: non-normalized or out of bounds coordinates [     14.114      1.0455]\n",
            "\u001b[34m\u001b[1mtrain: \u001b[0mWARNING ⚠️ /content/processed_dataset3/images/7f3c9225-403431.jpg: ignoring corrupt image/label: non-normalized or out of bounds coordinates [     1.0018]\n",
            "\u001b[34m\u001b[1mtrain: \u001b[0mWARNING ⚠️ /content/processed_dataset3/images/7ff5a4ea-3763593.jpg: ignoring corrupt image/label: non-normalized or out of bounds coordinates [     43.057]\n",
            "\u001b[34m\u001b[1mtrain: \u001b[0mWARNING ⚠️ /content/processed_dataset3/images/8407a260-2323548.jpg: ignoring corrupt image/label: non-normalized or out of bounds coordinates [     509.13]\n",
            "\u001b[34m\u001b[1mtrain: \u001b[0mWARNING ⚠️ /content/processed_dataset3/images/84c1baf6-706931.jpg: ignoring corrupt image/label: non-normalized or out of bounds coordinates [     46.104      46.562]\n",
            "\u001b[34m\u001b[1mtrain: \u001b[0mWARNING ⚠️ /content/processed_dataset3/images/8763e50e-265406.jpg: ignoring corrupt image/label: non-normalized or out of bounds coordinates [     30.522]\n",
            "\u001b[34m\u001b[1mtrain: \u001b[0mWARNING ⚠️ /content/processed_dataset3/images/8765709f-3381633.jpg: ignoring corrupt image/label: non-normalized or out of bounds coordinates [     510.48]\n",
            "\u001b[34m\u001b[1mtrain: \u001b[0mWARNING ⚠️ /content/processed_dataset3/images/88a65abd-920703.jpg: ignoring corrupt image/label: non-normalized or out of bounds coordinates [     501.87      501.54      501.78      501.53      501.73      501.58      501.55      501.69      501.56]\n",
            "\u001b[34m\u001b[1mtrain: \u001b[0mWARNING ⚠️ /content/processed_dataset3/images/8af03f92-135434.jpg: ignoring corrupt image/label: non-normalized or out of bounds coordinates [     548.22      65.758       1.134      1.1032]\n",
            "\u001b[34m\u001b[1mtrain: \u001b[0mWARNING ⚠️ /content/processed_dataset3/images/8be40675-1854061.jpg: ignoring corrupt image/label: non-normalized or out of bounds coordinates [     510.69      510.62]\n",
            "\u001b[34m\u001b[1mtrain: \u001b[0mWARNING ⚠️ /content/processed_dataset3/images/93d0e528-495881.jpg: ignoring corrupt image/label: non-normalized or out of bounds coordinates [      547.6      64.784]\n",
            "\u001b[34m\u001b[1mtrain: \u001b[0mWARNING ⚠️ /content/processed_dataset3/images/94b0882f-2296393.jpg: ignoring corrupt image/label: non-normalized or out of bounds coordinates [     510.51]\n",
            "\u001b[34m\u001b[1mtrain: \u001b[0mWARNING ⚠️ /content/processed_dataset3/images/979af42c-584916.jpg: ignoring corrupt image/label: non-normalized or out of bounds coordinates [     529.81      21.559]\n",
            "\u001b[34m\u001b[1mtrain: \u001b[0mWARNING ⚠️ /content/processed_dataset3/images/98da9fce-3680697.jpg: ignoring corrupt image/label: non-normalized or out of bounds coordinates [     510.31      510.77      510.16      510.49      510.78]\n",
            "\u001b[34m\u001b[1mtrain: \u001b[0mWARNING ⚠️ /content/processed_dataset3/images/998aff27-515907.jpg: ignoring corrupt image/label: non-normalized or out of bounds coordinates [     510.48]\n",
            "\u001b[34m\u001b[1mtrain: \u001b[0mWARNING ⚠️ /content/processed_dataset3/images/99ef7210-2670730.jpg: ignoring corrupt image/label: non-normalized or out of bounds coordinates [     67.297      1.1451      1.0761]\n",
            "\u001b[34m\u001b[1mtrain: \u001b[0mWARNING ⚠️ /content/processed_dataset3/images/9a0f67a2-210027.jpg: ignoring corrupt image/label: non-normalized or out of bounds coordinates [     43.566]\n",
            "\u001b[34m\u001b[1mtrain: \u001b[0mWARNING ⚠️ /content/processed_dataset3/images/9e120cc8-1981348.jpg: ignoring corrupt image/label: non-normalized or out of bounds coordinates [     420.76      35.292]\n",
            "\u001b[34m\u001b[1mtrain: \u001b[0mWARNING ⚠️ /content/processed_dataset3/images/a1c949d3-2318938.jpg: ignoring corrupt image/label: non-normalized or out of bounds coordinates [     35.058      1.0569]\n",
            "\u001b[34m\u001b[1mtrain: \u001b[0mWARNING ⚠️ /content/processed_dataset3/images/a20654e4-2466030.jpg: ignoring corrupt image/label: non-normalized or out of bounds coordinates [      510.5]\n",
            "\u001b[34m\u001b[1mtrain: \u001b[0mWARNING ⚠️ /content/processed_dataset3/images/a2fe1ab4-1021229.jpg: ignoring corrupt image/label: non-normalized or out of bounds coordinates [     510.48]\n",
            "\u001b[34m\u001b[1mtrain: \u001b[0mWARNING ⚠️ /content/processed_dataset3/images/acf84d70-2476468.jpg: ignoring corrupt image/label: non-normalized or out of bounds coordinates [     510.47]\n",
            "\u001b[34m\u001b[1mtrain: \u001b[0mWARNING ⚠️ /content/processed_dataset3/images/adf3da67-2968258.jpg: ignoring corrupt image/label: non-normalized or out of bounds coordinates [     510.49]\n",
            "\u001b[34m\u001b[1mtrain: \u001b[0mWARNING ⚠️ /content/processed_dataset3/images/ae8acbac-2236338.jpg: ignoring corrupt image/label: non-normalized or out of bounds coordinates [     509.11      1.0067]\n",
            "\u001b[34m\u001b[1mtrain: \u001b[0mWARNING ⚠️ /content/processed_dataset3/images/aed7bc39-2948329.jpg: ignoring corrupt image/label: non-normalized or out of bounds coordinates [     510.52]\n",
            "\u001b[34m\u001b[1mtrain: \u001b[0mWARNING ⚠️ /content/processed_dataset3/images/af82b8b2-8917.jpg: ignoring corrupt image/label: non-normalized or out of bounds coordinates [     1.0009]\n",
            "\u001b[34m\u001b[1mtrain: \u001b[0mWARNING ⚠️ /content/processed_dataset3/images/aug_02e731de-1106165.jpg: ignoring corrupt image/label: non-normalized or out of bounds coordinates [     510.53]\n",
            "\u001b[34m\u001b[1mtrain: \u001b[0mWARNING ⚠️ /content/processed_dataset3/images/aug_07e95446-2781056.jpg: ignoring corrupt image/label: non-normalized or out of bounds coordinates [     510.57]\n",
            "\u001b[34m\u001b[1mtrain: \u001b[0mWARNING ⚠️ /content/processed_dataset3/images/aug_080248d8-2031692.jpg: ignoring corrupt image/label: non-normalized or out of bounds coordinates [     460.37       1.147      1.0487]\n",
            "\u001b[34m\u001b[1mtrain: \u001b[0mWARNING ⚠️ /content/processed_dataset3/images/aug_082737e5-2498460.jpg: ignoring corrupt image/label: non-normalized or out of bounds coordinates [     510.15]\n",
            "\u001b[34m\u001b[1mtrain: \u001b[0mWARNING ⚠️ /content/processed_dataset3/images/aug_0b45d160-3763432.jpg: ignoring corrupt image/label: non-normalized or out of bounds coordinates [     510.47]\n",
            "\u001b[34m\u001b[1mtrain: \u001b[0mWARNING ⚠️ /content/processed_dataset3/images/aug_11c97300-3515250.jpg: ignoring corrupt image/label: non-normalized or out of bounds coordinates [     523.24      13.914      1.0485      1.0162]\n",
            "\u001b[34m\u001b[1mtrain: \u001b[0mWARNING ⚠️ /content/processed_dataset3/images/aug_120ddac2-2674351.jpg: ignoring corrupt image/label: non-normalized or out of bounds coordinates [     510.49]\n",
            "\u001b[34m\u001b[1mtrain: \u001b[0mWARNING ⚠️ /content/processed_dataset3/images/aug_179a55c2-663285.jpg: ignoring corrupt image/label: non-normalized or out of bounds coordinates [     10.584      1.0305]\n",
            "\u001b[34m\u001b[1mtrain: \u001b[0mWARNING ⚠️ /content/processed_dataset3/images/aug_18717882-2580309.jpg: ignoring corrupt image/label: non-normalized or out of bounds coordinates [     510.76      510.22]\n",
            "\u001b[34m\u001b[1mtrain: \u001b[0mWARNING ⚠️ /content/processed_dataset3/images/aug_1ac491f4-2569760.jpg: ignoring corrupt image/label: non-normalized or out of bounds coordinates [     1.0025]\n",
            "\u001b[34m\u001b[1mtrain: \u001b[0mWARNING ⚠️ /content/processed_dataset3/images/aug_1ce34d36-3606882.jpg: ignoring corrupt image/label: non-normalized or out of bounds coordinates [     541.62      35.795]\n",
            "\u001b[34m\u001b[1mtrain: \u001b[0mWARNING ⚠️ /content/processed_dataset3/images/aug_23229113-3839255.jpg: ignoring corrupt image/label: non-normalized or out of bounds coordinates [     382.47]\n",
            "\u001b[34m\u001b[1mtrain: \u001b[0mWARNING ⚠️ /content/processed_dataset3/images/aug_2bf4eb29-1137400.jpg: ignoring corrupt image/label: non-normalized or out of bounds coordinates [     510.49      1.0037]\n",
            "\u001b[34m\u001b[1mtrain: \u001b[0mWARNING ⚠️ /content/processed_dataset3/images/aug_2d139c35-3082443.jpg: ignoring corrupt image/label: non-normalized or out of bounds coordinates [     27.212]\n",
            "\u001b[34m\u001b[1mtrain: \u001b[0mWARNING ⚠️ /content/processed_dataset3/images/aug_2d7fc5ad-1581355.jpg: ignoring corrupt image/label: non-normalized or out of bounds coordinates [     510.49]\n",
            "\u001b[34m\u001b[1mtrain: \u001b[0mWARNING ⚠️ /content/processed_dataset3/images/aug_2fa4bd26-1668806.jpg: ignoring corrupt image/label: non-normalized or out of bounds coordinates [     510.57]\n",
            "\u001b[34m\u001b[1mtrain: \u001b[0mWARNING ⚠️ /content/processed_dataset3/images/aug_341758e6-1725269.jpg: ignoring corrupt image/label: non-normalized or out of bounds coordinates [     510.49]\n",
            "\u001b[34m\u001b[1mtrain: \u001b[0mWARNING ⚠️ /content/processed_dataset3/images/aug_368b7222-2240535.jpg: ignoring corrupt image/label: non-normalized or out of bounds coordinates [     42.166]\n",
            "\u001b[34m\u001b[1mtrain: \u001b[0mWARNING ⚠️ /content/processed_dataset3/images/aug_37eae2a5-1676252.jpg: ignoring corrupt image/label: non-normalized or out of bounds coordinates [     35.189       34.82]\n",
            "\u001b[34m\u001b[1mtrain: \u001b[0mWARNING ⚠️ /content/processed_dataset3/images/aug_386040bf-2752957.jpg: ignoring corrupt image/label: non-normalized or out of bounds coordinates [     464.77      1.0253]\n",
            "\u001b[34m\u001b[1mtrain: \u001b[0mWARNING ⚠️ /content/processed_dataset3/images/aug_3a42925b-238730.jpg: ignoring corrupt image/label: non-normalized or out of bounds coordinates [     377.43]\n",
            "\u001b[34m\u001b[1mtrain: \u001b[0mWARNING ⚠️ /content/processed_dataset3/images/aug_433cf466-245724.jpg: ignoring corrupt image/label: non-normalized or out of bounds coordinates [     56.728]\n",
            "\u001b[34m\u001b[1mtrain: \u001b[0mWARNING ⚠️ /content/processed_dataset3/images/aug_4549f6c3-1127099.jpg: ignoring corrupt image/label: non-normalized or out of bounds coordinates [      510.5]\n",
            "\u001b[34m\u001b[1mtrain: \u001b[0mWARNING ⚠️ /content/processed_dataset3/images/aug_47e94771-1368498.jpg: ignoring corrupt image/label: non-normalized or out of bounds coordinates [     484.41      484.48      484.12      484.06]\n",
            "\u001b[34m\u001b[1mtrain: \u001b[0mWARNING ⚠️ /content/processed_dataset3/images/aug_48802d1d-316451.jpg: ignoring corrupt image/label: non-normalized or out of bounds coordinates [     489.77      489.47      489.12      489.16      489.44      489.71]\n",
            "\u001b[34m\u001b[1mtrain: \u001b[0mWARNING ⚠️ /content/processed_dataset3/images/aug_49228c3a-2587921.jpg: ignoring corrupt image/label: non-normalized or out of bounds coordinates [     65.274]\n",
            "\u001b[34m\u001b[1mtrain: \u001b[0mWARNING ⚠️ /content/processed_dataset3/images/aug_4a2f89b1-1279146.jpg: ignoring corrupt image/label: non-normalized or out of bounds coordinates [     510.47]\n",
            "\u001b[34m\u001b[1mtrain: \u001b[0mWARNING ⚠️ /content/processed_dataset3/images/aug_4a45f233-1680339.jpg: ignoring corrupt image/label: non-normalized or out of bounds coordinates [     1.0037]\n",
            "\u001b[34m\u001b[1mtrain: \u001b[0mWARNING ⚠️ /content/processed_dataset3/images/aug_4ae53831-3790643.jpg: ignoring corrupt image/label: non-normalized or out of bounds coordinates [     286.46]\n",
            "\u001b[34m\u001b[1mtrain: \u001b[0mWARNING ⚠️ /content/processed_dataset3/images/aug_4db73d0e-3382880.jpg: ignoring corrupt image/label: non-normalized or out of bounds coordinates [     59.243]\n",
            "\u001b[34m\u001b[1mtrain: \u001b[0mWARNING ⚠️ /content/processed_dataset3/images/aug_4f66689a-2519291.jpg: ignoring corrupt image/label: non-normalized or out of bounds coordinates [      510.5      1.0016]\n",
            "\u001b[34m\u001b[1mtrain: \u001b[0mWARNING ⚠️ /content/processed_dataset3/images/aug_4f8944b4-1099080.jpg: ignoring corrupt image/label: non-normalized or out of bounds coordinates [     510.25]\n",
            "\u001b[34m\u001b[1mtrain: \u001b[0mWARNING ⚠️ /content/processed_dataset3/images/aug_516a61a1-3543883.jpg: ignoring corrupt image/label: non-normalized or out of bounds coordinates [     510.48]\n",
            "\u001b[34m\u001b[1mtrain: \u001b[0mWARNING ⚠️ /content/processed_dataset3/images/aug_52de6bd3-1029698.jpg: ignoring corrupt image/label: non-normalized or out of bounds coordinates [     510.49      1.0055]\n",
            "\u001b[34m\u001b[1mtrain: \u001b[0mWARNING ⚠️ /content/processed_dataset3/images/aug_53cc0189-258111.jpg: ignoring corrupt image/label: non-normalized or out of bounds coordinates [     510.43]\n",
            "\u001b[34m\u001b[1mtrain: \u001b[0mWARNING ⚠️ /content/processed_dataset3/images/aug_5528cfb5-3921590.jpg: ignoring corrupt image/label: non-normalized or out of bounds coordinates [     510.43]\n",
            "\u001b[34m\u001b[1mtrain: \u001b[0mWARNING ⚠️ /content/processed_dataset3/images/aug_56831cfb-2198043.jpg: ignoring corrupt image/label: non-normalized or out of bounds coordinates [     563.94      68.757]\n",
            "\u001b[34m\u001b[1mtrain: \u001b[0mWARNING ⚠️ /content/processed_dataset3/images/aug_599796b1-478300.jpg: ignoring corrupt image/label: non-normalized or out of bounds coordinates [     17.719       1.003]\n",
            "\u001b[34m\u001b[1mtrain: \u001b[0mWARNING ⚠️ /content/processed_dataset3/images/aug_5a682264-20777.jpg: ignoring corrupt image/label: non-normalized or out of bounds coordinates [     385.89      3.0466      385.51      2.9756      385.18      3.0634      385.84      2.6149      385.58      2.6033      385.29      2.5563      385.12      2.5416]\n",
            "\u001b[34m\u001b[1mtrain: \u001b[0mWARNING ⚠️ /content/processed_dataset3/images/aug_5c099022-1873816.jpg: ignoring corrupt image/label: non-normalized or out of bounds coordinates [     510.48]\n",
            "\u001b[34m\u001b[1mtrain: \u001b[0mWARNING ⚠️ /content/processed_dataset3/images/aug_5e83e2b2-2670852.jpg: ignoring corrupt image/label: non-normalized or out of bounds coordinates [     5.6548]\n",
            "\u001b[34m\u001b[1mtrain: \u001b[0mWARNING ⚠️ /content/processed_dataset3/images/aug_605b2856-383439.jpg: ignoring corrupt image/label: non-normalized or out of bounds coordinates [     510.57]\n",
            "\u001b[34m\u001b[1mtrain: \u001b[0mWARNING ⚠️ /content/processed_dataset3/images/aug_6193491e-2155429.jpg: ignoring corrupt image/label: non-normalized or out of bounds coordinates [     510.58]\n",
            "\u001b[34m\u001b[1mtrain: \u001b[0mWARNING ⚠️ /content/processed_dataset3/images/aug_61fe7abb-573054.jpg: ignoring corrupt image/label: non-normalized or out of bounds coordinates [     512.74      2.9127]\n",
            "\u001b[34m\u001b[1mtrain: \u001b[0mWARNING ⚠️ /content/processed_dataset3/images/aug_6aacbfee-3734413.jpg: ignoring corrupt image/label: non-normalized or out of bounds coordinates [      510.5]\n",
            "\u001b[34m\u001b[1mtrain: \u001b[0mWARNING ⚠️ /content/processed_dataset3/images/aug_7637160e-2772699.jpg: ignoring corrupt image/label: non-normalized or out of bounds coordinates [     510.57]\n",
            "\u001b[34m\u001b[1mtrain: \u001b[0mWARNING ⚠️ /content/processed_dataset3/images/aug_772987e1-3018077.jpg: ignoring corrupt image/label: non-normalized or out of bounds coordinates [     565.73       71.63]\n",
            "\u001b[34m\u001b[1mtrain: \u001b[0mWARNING ⚠️ /content/processed_dataset3/images/aug_7c808801-2265512.jpg: ignoring corrupt image/label: non-normalized or out of bounds coordinates [     474.54      1.1131]\n",
            "\u001b[34m\u001b[1mtrain: \u001b[0mWARNING ⚠️ /content/processed_dataset3/images/aug_7d531957-3282393.jpg: ignoring corrupt image/label: non-normalized or out of bounds coordinates [      510.5]\n",
            "\u001b[34m\u001b[1mtrain: \u001b[0mWARNING ⚠️ /content/processed_dataset3/images/aug_7f3c9225-403431.jpg: ignoring corrupt image/label: non-normalized or out of bounds coordinates [      510.5      1.0019]\n",
            "\u001b[34m\u001b[1mtrain: \u001b[0mWARNING ⚠️ /content/processed_dataset3/images/aug_7ff5a4ea-3763593.jpg: ignoring corrupt image/label: non-normalized or out of bounds coordinates [     548.64      45.632]\n",
            "\u001b[34m\u001b[1mtrain: \u001b[0mWARNING ⚠️ /content/processed_dataset3/images/aug_833cbb3b-2984337.jpg: ignoring corrupt image/label: non-normalized or out of bounds coordinates [     496.94]\n",
            "\u001b[34m\u001b[1mtrain: \u001b[0mWARNING ⚠️ /content/processed_dataset3/images/aug_84c1baf6-706931.jpg: ignoring corrupt image/label: non-normalized or out of bounds coordinates [     525.64      22.508      525.17      22.507]\n",
            "\u001b[34m\u001b[1mtrain: \u001b[0mWARNING ⚠️ /content/processed_dataset3/images/aug_8763e50e-265406.jpg: ignoring corrupt image/label: non-normalized or out of bounds coordinates [     454.43]\n",
            "\u001b[34m\u001b[1mtrain: \u001b[0mWARNING ⚠️ /content/processed_dataset3/images/aug_8765709f-3381633.jpg: ignoring corrupt image/label: non-normalized or out of bounds coordinates [     467.41      1.0092]\n",
            "\u001b[34m\u001b[1mtrain: \u001b[0mWARNING ⚠️ /content/processed_dataset3/images/aug_88a65abd-920703.jpg: ignoring corrupt image/label: non-normalized or out of bounds coordinates [     510.81      510.47      510.72      510.48      510.67      510.52      510.51      510.64      510.51]\n",
            "\u001b[34m\u001b[1mtrain: \u001b[0mWARNING ⚠️ /content/processed_dataset3/images/aug_8af03f92-135434.jpg: ignoring corrupt image/label: non-normalized or out of bounds coordinates [      510.5]\n",
            "\u001b[34m\u001b[1mtrain: \u001b[0mWARNING ⚠️ /content/processed_dataset3/images/aug_8b873d46-1327608.jpg: ignoring corrupt image/label: non-normalized or out of bounds coordinates [     510.52]\n",
            "\u001b[34m\u001b[1mtrain: \u001b[0mWARNING ⚠️ /content/processed_dataset3/images/aug_8be40675-1854061.jpg: ignoring corrupt image/label: non-normalized or out of bounds coordinates [     510.69      510.62]\n",
            "\u001b[34m\u001b[1mtrain: \u001b[0mWARNING ⚠️ /content/processed_dataset3/images/aug_8c03e01f-2120760.jpg: ignoring corrupt image/label: non-normalized or out of bounds coordinates [     12.671]\n",
            "\u001b[34m\u001b[1mtrain: \u001b[0mWARNING ⚠️ /content/processed_dataset3/images/aug_8ca147ae-901549.jpg: ignoring corrupt image/label: non-normalized or out of bounds coordinates [      510.5]\n",
            "\u001b[34m\u001b[1mtrain: \u001b[0mWARNING ⚠️ /content/processed_dataset3/images/aug_93d0e528-495881.jpg: ignoring corrupt image/label: non-normalized or out of bounds coordinates [     509.17]\n",
            "\u001b[34m\u001b[1mtrain: \u001b[0mWARNING ⚠️ /content/processed_dataset3/images/aug_94b0882f-2296393.jpg: ignoring corrupt image/label: non-normalized or out of bounds coordinates [     510.51]\n",
            "\u001b[34m\u001b[1mtrain: \u001b[0mWARNING ⚠️ /content/processed_dataset3/images/aug_96e3a26c-1708466.jpg: ignoring corrupt image/label: non-normalized or out of bounds coordinates [     552.37      50.709      1.0051]\n",
            "\u001b[34m\u001b[1mtrain: \u001b[0mWARNING ⚠️ /content/processed_dataset3/images/aug_9731b2c8-1993926.jpg: ignoring corrupt image/label: non-normalized or out of bounds coordinates [     510.43]\n",
            "\u001b[34m\u001b[1mtrain: \u001b[0mWARNING ⚠️ /content/processed_dataset3/images/aug_98bdcdba-3728155.jpg: ignoring corrupt image/label: non-normalized or out of bounds coordinates [     510.51]\n",
            "\u001b[34m\u001b[1mtrain: \u001b[0mWARNING ⚠️ /content/processed_dataset3/images/aug_98da9fce-3680697.jpg: ignoring corrupt image/label: non-normalized or out of bounds coordinates [     510.31      510.77      510.16      510.49      510.78]\n",
            "\u001b[34m\u001b[1mtrain: \u001b[0mWARNING ⚠️ /content/processed_dataset3/images/aug_998aff27-515907.jpg: ignoring corrupt image/label: non-normalized or out of bounds coordinates [     510.48]\n",
            "\u001b[34m\u001b[1mtrain: \u001b[0mWARNING ⚠️ /content/processed_dataset3/images/aug_9a0f67a2-210027.jpg: ignoring corrupt image/label: non-normalized or out of bounds coordinates [     510.61]\n",
            "\u001b[34m\u001b[1mtrain: \u001b[0mWARNING ⚠️ /content/processed_dataset3/images/aug_9e120cc8-1981348.jpg: ignoring corrupt image/label: non-normalized or out of bounds coordinates [     420.94      35.478]\n",
            "\u001b[34m\u001b[1mtrain: \u001b[0mWARNING ⚠️ /content/processed_dataset3/images/aug_a2fe1ab4-1021229.jpg: ignoring corrupt image/label: non-normalized or out of bounds coordinates [     480.24]\n",
            "\u001b[34m\u001b[1mtrain: \u001b[0mWARNING ⚠️ /content/processed_dataset3/images/aug_a66b8628-3778801.jpg: ignoring corrupt image/label: non-normalized or out of bounds coordinates [     540.85      49.847      1.0897      1.0708]\n",
            "\u001b[34m\u001b[1mtrain: \u001b[0mWARNING ⚠️ /content/processed_dataset3/images/aug_acf84d70-2476468.jpg: ignoring corrupt image/label: non-normalized or out of bounds coordinates [     510.47]\n",
            "\u001b[34m\u001b[1mtrain: \u001b[0mWARNING ⚠️ /content/processed_dataset3/images/aug_ae8acbac-2236338.jpg: ignoring corrupt image/label: non-normalized or out of bounds coordinates [     1.0018]\n",
            "\u001b[34m\u001b[1mtrain: \u001b[0mWARNING ⚠️ /content/processed_dataset3/images/aug_aed7bc39-2948329.jpg: ignoring corrupt image/label: non-normalized or out of bounds coordinates [     510.52]\n",
            "\u001b[34m\u001b[1mtrain: \u001b[0mWARNING ⚠️ /content/processed_dataset3/images/aug_af82b8b2-8917.jpg: ignoring corrupt image/label: non-normalized or out of bounds coordinates [      510.5      1.0009]\n",
            "\u001b[34m\u001b[1mtrain: \u001b[0mWARNING ⚠️ /content/processed_dataset3/images/aug_b1914a0b-712331.jpg: ignoring corrupt image/label: non-normalized or out of bounds coordinates [     509.82      509.89      509.54      509.14      509.51      509.18]\n",
            "\u001b[34m\u001b[1mtrain: \u001b[0mWARNING ⚠️ /content/processed_dataset3/images/aug_b34d8eb8-1407753.jpg: ignoring corrupt image/label: non-normalized or out of bounds coordinates [     382.13]\n",
            "\u001b[34m\u001b[1mtrain: \u001b[0mWARNING ⚠️ /content/processed_dataset3/images/aug_b3fafc29-2168957.jpg: ignoring corrupt image/label: non-normalized or out of bounds coordinates [     510.53]\n",
            "\u001b[34m\u001b[1mtrain: \u001b[0mWARNING ⚠️ /content/processed_dataset3/images/aug_b4261bd0-739531.jpg: ignoring corrupt image/label: non-normalized or out of bounds coordinates [     510.51]\n",
            "\u001b[34m\u001b[1mtrain: \u001b[0mWARNING ⚠️ /content/processed_dataset3/images/aug_b5cfdd1f-2005627.jpg: ignoring corrupt image/label: non-normalized or out of bounds coordinates [     1.0055]\n",
            "\u001b[34m\u001b[1mtrain: \u001b[0mWARNING ⚠️ /content/processed_dataset3/images/aug_bc8305b7-72729.jpg: ignoring corrupt image/label: non-normalized or out of bounds coordinates [     510.75      510.46      510.26]\n",
            "\u001b[34m\u001b[1mtrain: \u001b[0mWARNING ⚠️ /content/processed_dataset3/images/aug_bcb2fdeb-2701185.jpg: ignoring corrupt image/label: non-normalized or out of bounds coordinates [     510.53]\n",
            "\u001b[34m\u001b[1mtrain: \u001b[0mWARNING ⚠️ /content/processed_dataset3/images/aug_c41ba1ea-1119011.jpg: ignoring corrupt image/label: non-normalized or out of bounds coordinates [     507.85]\n",
            "\u001b[34m\u001b[1mtrain: \u001b[0mWARNING ⚠️ /content/processed_dataset3/images/aug_c492af2c-2431195.jpg: ignoring corrupt image/label: non-normalized or out of bounds coordinates [     510.49]\n",
            "\u001b[34m\u001b[1mtrain: \u001b[0mWARNING ⚠️ /content/processed_dataset3/images/aug_c628f001-716348.jpg: ignoring corrupt image/label: non-normalized or out of bounds coordinates [     304.75      304.36]\n",
            "\u001b[34m\u001b[1mtrain: \u001b[0mWARNING ⚠️ /content/processed_dataset3/images/aug_c70e6beb-45515.jpg: ignoring corrupt image/label: non-normalized or out of bounds coordinates [     382.66]\n",
            "\u001b[34m\u001b[1mtrain: \u001b[0mWARNING ⚠️ /content/processed_dataset3/images/aug_c941d52f-3001740.jpg: ignoring corrupt image/label: non-normalized or out of bounds coordinates [     46.152      1.0475]\n",
            "\u001b[34m\u001b[1mtrain: \u001b[0mWARNING ⚠️ /content/processed_dataset3/images/aug_c99796f4-714866.jpg: ignoring corrupt image/label: non-normalized or out of bounds coordinates [      510.5]\n",
            "\u001b[34m\u001b[1mtrain: \u001b[0mWARNING ⚠️ /content/processed_dataset3/images/aug_c9cc046a-1097991.jpg: ignoring corrupt image/label: non-normalized or out of bounds coordinates [     519.85      10.323]\n",
            "\u001b[34m\u001b[1mtrain: \u001b[0mWARNING ⚠️ /content/processed_dataset3/images/aug_cc298798-280869.jpg: ignoring corrupt image/label: non-normalized or out of bounds coordinates [     510.52]\n",
            "\u001b[34m\u001b[1mtrain: \u001b[0mWARNING ⚠️ /content/processed_dataset3/images/aug_d0280983-2517724.jpg: ignoring corrupt image/label: non-normalized or out of bounds coordinates [     510.49]\n",
            "\u001b[34m\u001b[1mtrain: \u001b[0mWARNING ⚠️ /content/processed_dataset3/images/aug_d12d2211-1470156.jpg: ignoring corrupt image/label: non-normalized or out of bounds coordinates [     510.49]\n",
            "\u001b[34m\u001b[1mtrain: \u001b[0mWARNING ⚠️ /content/processed_dataset3/images/aug_d3e6d927-2606829.jpg: ignoring corrupt image/label: non-normalized or out of bounds coordinates [     1.0018]\n",
            "\u001b[34m\u001b[1mtrain: \u001b[0mWARNING ⚠️ /content/processed_dataset3/images/aug_d6aeab37-1193742.jpg: ignoring corrupt image/label: non-normalized or out of bounds coordinates [     64.213      64.661      64.538]\n",
            "\u001b[34m\u001b[1mtrain: \u001b[0mWARNING ⚠️ /content/processed_dataset3/images/aug_d7000609-2032236.jpg: ignoring corrupt image/label: non-normalized or out of bounds coordinates [     384.43      1.9576]\n",
            "\u001b[34m\u001b[1mtrain: \u001b[0mWARNING ⚠️ /content/processed_dataset3/images/aug_d91e93a4-786596.jpg: ignoring corrupt image/label: non-normalized or out of bounds coordinates [     329.15]\n",
            "\u001b[34m\u001b[1mtrain: \u001b[0mWARNING ⚠️ /content/processed_dataset3/images/aug_da1297b4-3381609.jpg: ignoring corrupt image/label: non-normalized or out of bounds coordinates [     510.46]\n",
            "\u001b[34m\u001b[1mtrain: \u001b[0mWARNING ⚠️ /content/processed_dataset3/images/aug_dd15030d-3445331.jpg: ignoring corrupt image/label: non-normalized or out of bounds coordinates [     443.91]\n",
            "\u001b[34m\u001b[1mtrain: \u001b[0mWARNING ⚠️ /content/processed_dataset3/images/aug_dd670e51-3708711.jpg: ignoring corrupt image/label: non-normalized or out of bounds coordinates [     510.49]\n",
            "\u001b[34m\u001b[1mtrain: \u001b[0mWARNING ⚠️ /content/processed_dataset3/images/aug_df117ee2-232737.jpg: ignoring corrupt image/label: non-normalized or out of bounds coordinates [     380.49      1.0052]\n",
            "\u001b[34m\u001b[1mtrain: \u001b[0mWARNING ⚠️ /content/processed_dataset3/images/aug_e51becfb-919785.jpg: ignoring corrupt image/label: non-normalized or out of bounds coordinates [      510.5      1.0037]\n",
            "\u001b[34m\u001b[1mtrain: \u001b[0mWARNING ⚠️ /content/processed_dataset3/images/aug_e83eed3f-447914.jpg: ignoring corrupt image/label: non-normalized or out of bounds coordinates [     382.49      1.0074]\n",
            "\u001b[34m\u001b[1mtrain: \u001b[0mWARNING ⚠️ /content/processed_dataset3/images/aug_ebbc3258-2570036.jpg: ignoring corrupt image/label: non-normalized or out of bounds coordinates [     510.49]\n",
            "\u001b[34m\u001b[1mtrain: \u001b[0mWARNING ⚠️ /content/processed_dataset3/images/aug_edad813d-3401466.jpg: ignoring corrupt image/label: non-normalized or out of bounds coordinates [     8.0135]\n",
            "\u001b[34m\u001b[1mtrain: \u001b[0mWARNING ⚠️ /content/processed_dataset3/images/aug_ee2bb5a3-549804.jpg: ignoring corrupt image/label: non-normalized or out of bounds coordinates [     510.49]\n",
            "\u001b[34m\u001b[1mtrain: \u001b[0mWARNING ⚠️ /content/processed_dataset3/images/aug_f2047a23-5764.jpg: ignoring corrupt image/label: non-normalized or out of bounds coordinates [     548.76      67.091]\n",
            "\u001b[34m\u001b[1mtrain: \u001b[0mWARNING ⚠️ /content/processed_dataset3/images/aug_f221a416-1332728.jpg: ignoring corrupt image/label: non-normalized or out of bounds coordinates [     47.574]\n",
            "\u001b[34m\u001b[1mtrain: \u001b[0mWARNING ⚠️ /content/processed_dataset3/images/aug_f313d111-326809.jpg: ignoring corrupt image/label: non-normalized or out of bounds coordinates [     439.32      57.472]\n",
            "\u001b[34m\u001b[1mtrain: \u001b[0mWARNING ⚠️ /content/processed_dataset3/images/aug_f4df36a7-568773.jpg: ignoring corrupt image/label: non-normalized or out of bounds coordinates [     73.951]\n",
            "\u001b[34m\u001b[1mtrain: \u001b[0mWARNING ⚠️ /content/processed_dataset3/images/b1914a0b-712331.jpg: ignoring corrupt image/label: non-normalized or out of bounds coordinates [     509.82      509.89      509.54      509.14      509.51      509.18]\n",
            "\u001b[34m\u001b[1mtrain: \u001b[0mWARNING ⚠️ /content/processed_dataset3/images/b34d8eb8-1407753.jpg: ignoring corrupt image/label: non-normalized or out of bounds coordinates [     382.13]\n",
            "\u001b[34m\u001b[1mtrain: \u001b[0mWARNING ⚠️ /content/processed_dataset3/images/b5cfdd1f-2005627.jpg: ignoring corrupt image/label: non-normalized or out of bounds coordinates [     455.19      1.0392]\n",
            "\u001b[34m\u001b[1mtrain: \u001b[0mWARNING ⚠️ /content/processed_dataset3/images/b7607bac-1822700.jpg: ignoring corrupt image/label: non-normalized or out of bounds coordinates [      510.5]\n",
            "\u001b[34m\u001b[1mtrain: \u001b[0mWARNING ⚠️ /content/processed_dataset3/images/bc8305b7-72729.jpg: ignoring corrupt image/label: non-normalized or out of bounds coordinates [     487.35       487.1      486.85]\n",
            "\u001b[34m\u001b[1mtrain: \u001b[0mWARNING ⚠️ /content/processed_dataset3/images/c41ba1ea-1119011.jpg: ignoring corrupt image/label: non-normalized or out of bounds coordinates [     510.47]\n",
            "\u001b[34m\u001b[1mtrain: \u001b[0mWARNING ⚠️ /content/processed_dataset3/images/c492af2c-2431195.jpg: ignoring corrupt image/label: non-normalized or out of bounds coordinates [     27.196]\n",
            "\u001b[34m\u001b[1mtrain: \u001b[0mWARNING ⚠️ /content/processed_dataset3/images/c70e6beb-45515.jpg: ignoring corrupt image/label: non-normalized or out of bounds coordinates [     382.66]\n",
            "\u001b[34m\u001b[1mtrain: \u001b[0mWARNING ⚠️ /content/processed_dataset3/images/c99796f4-714866.jpg: ignoring corrupt image/label: non-normalized or out of bounds coordinates [      510.5]\n",
            "\u001b[34m\u001b[1mtrain: \u001b[0mWARNING ⚠️ /content/processed_dataset3/images/c9cc046a-1097991.jpg: ignoring corrupt image/label: non-normalized or out of bounds coordinates [      510.5]\n",
            "\u001b[34m\u001b[1mtrain: \u001b[0mWARNING ⚠️ /content/processed_dataset3/images/d0280983-2517724.jpg: ignoring corrupt image/label: non-normalized or out of bounds coordinates [     504.27]\n",
            "\u001b[34m\u001b[1mtrain: \u001b[0mWARNING ⚠️ /content/processed_dataset3/images/d3e6d927-2606829.jpg: ignoring corrupt image/label: non-normalized or out of bounds coordinates [     1.0018]\n",
            "\u001b[34m\u001b[1mtrain: \u001b[0mWARNING ⚠️ /content/processed_dataset3/images/d6aeab37-1193742.jpg: ignoring corrupt image/label: non-normalized or out of bounds coordinates [     510.75      510.43      510.47]\n",
            "\u001b[34m\u001b[1mtrain: \u001b[0mWARNING ⚠️ /content/processed_dataset3/images/d91e93a4-786596.jpg: ignoring corrupt image/label: non-normalized or out of bounds coordinates [     382.47]\n",
            "\u001b[34m\u001b[1mtrain: \u001b[0mWARNING ⚠️ /content/processed_dataset3/images/d99b0683-863509.jpg: ignoring corrupt image/label: non-normalized or out of bounds coordinates [     510.51]\n",
            "\u001b[34m\u001b[1mtrain: \u001b[0mWARNING ⚠️ /content/processed_dataset3/images/dad95938-2844278.jpg: ignoring corrupt image/label: non-normalized or out of bounds coordinates [     560.31      62.756      1.1816       1.162]\n",
            "\u001b[34m\u001b[1mtrain: \u001b[0mWARNING ⚠️ /content/processed_dataset3/images/df117ee2-232737.jpg: ignoring corrupt image/label: non-normalized or out of bounds coordinates [     1.0052]\n",
            "\u001b[34m\u001b[1mtrain: \u001b[0mWARNING ⚠️ /content/processed_dataset3/images/e51becfb-919785.jpg: ignoring corrupt image/label: non-normalized or out of bounds coordinates [      510.5      1.0037]\n",
            "\u001b[34m\u001b[1mtrain: \u001b[0mWARNING ⚠️ /content/processed_dataset3/images/e83eed3f-447914.jpg: ignoring corrupt image/label: non-normalized or out of bounds coordinates [     422.84      36.467      1.0993]\n",
            "\u001b[34m\u001b[1mtrain: \u001b[0mWARNING ⚠️ /content/processed_dataset3/images/ebbc3258-2570036.jpg: ignoring corrupt image/label: non-normalized or out of bounds coordinates [     510.49]\n",
            "\u001b[34m\u001b[1mtrain: \u001b[0mWARNING ⚠️ /content/processed_dataset3/images/edad813d-3401466.jpg: ignoring corrupt image/label: non-normalized or out of bounds coordinates [     510.52]\n",
            "\u001b[34m\u001b[1mtrain: \u001b[0mWARNING ⚠️ /content/processed_dataset3/images/f2047a23-5764.jpg: ignoring corrupt image/label: non-normalized or out of bounds coordinates [     510.49]\n",
            "\u001b[34m\u001b[1mtrain: \u001b[0mWARNING ⚠️ /content/processed_dataset3/images/f2e1cb2e-1782666.jpg: ignoring corrupt image/label: non-normalized or out of bounds coordinates [     444.94]\n",
            "\u001b[34m\u001b[1mtrain: \u001b[0mWARNING ⚠️ /content/processed_dataset3/images/f313d111-326809.jpg: ignoring corrupt image/label: non-normalized or out of bounds coordinates [     410.64      26.015]\n",
            "\u001b[34m\u001b[1mtrain: \u001b[0mWARNING ⚠️ /content/processed_dataset3/images/f4df36a7-568773.jpg: ignoring corrupt image/label: non-normalized or out of bounds coordinates [     42.903      1.0033]\n",
            "\u001b[34m\u001b[1mtrain: \u001b[0mWARNING ⚠️ /content/processed_dataset3/images/f82da03c-68684.jpg: ignoring corrupt image/label: non-normalized or out of bounds coordinates [     510.52]\n",
            "\u001b[34m\u001b[1mtrain: \u001b[0mWARNING ⚠️ /content/processed_dataset3/images/fbf0cf11-3057757.jpg: ignoring corrupt image/label: non-normalized or out of bounds coordinates [     382.51]\n"
          ]
        },
        {
          "output_type": "stream",
          "name": "stderr",
          "text": [
            "\n"
          ]
        },
        {
          "output_type": "stream",
          "name": "stdout",
          "text": [
            "Plotting labels to runs/segment/train3/labels.jpg... \n",
            "\u001b[34m\u001b[1moptimizer:\u001b[0m SGD(lr=0.002, momentum=0.9) with parameter groups 90 weight(decay=0.0), 101 weight(decay=0.0005), 100 bias(decay=0.0)\n",
            "\u001b[34m\u001b[1mTensorBoard: \u001b[0mmodel graph visualization added ✅\n",
            "Image sizes 1024 train, 1024 val\n",
            "Using 2 dataloader workers\n",
            "Logging results to \u001b[1mruns/segment/train3\u001b[0m\n",
            "Starting training for 100 epochs...\n",
            "\n",
            "      Epoch    GPU_mem   box_loss   seg_loss   cls_loss   dfl_loss  Instances       Size\n"
          ]
        },
        {
          "output_type": "stream",
          "name": "stderr",
          "text": [
            "      1/100     0.408G      1.678      5.309      4.462      2.092          9       1024: 100%|██████████| 14/14 [00:10<00:00,  1.38it/s]\n",
            "                 Class     Images  Instances      Box(P          R      mAP50  mAP50-95)     Mask(P          R      mAP50  mAP50-95): 100%|██████████| 7/7 [00:04<00:00,  1.43it/s]"
          ]
        },
        {
          "output_type": "stream",
          "name": "stdout",
          "text": [
            "                   all        106        132     0.0056      0.624     0.0108     0.0022    0.00453      0.606     0.0046    0.00127\n"
          ]
        },
        {
          "output_type": "stream",
          "name": "stderr",
          "text": [
            "\n"
          ]
        },
        {
          "output_type": "stream",
          "name": "stdout",
          "text": [
            "\n",
            "      Epoch    GPU_mem   box_loss   seg_loss   cls_loss   dfl_loss  Instances       Size\n"
          ]
        },
        {
          "output_type": "stream",
          "name": "stderr",
          "text": [
            "      2/100      3.61G      1.684      3.956      4.539      2.141          4       1024: 100%|██████████| 14/14 [00:05<00:00,  2.42it/s]\n",
            "                 Class     Images  Instances      Box(P          R      mAP50  mAP50-95)     Mask(P          R      mAP50  mAP50-95): 100%|██████████| 7/7 [00:02<00:00,  2.37it/s]\n"
          ]
        },
        {
          "output_type": "stream",
          "name": "stdout",
          "text": [
            "                   all        106        132    0.00456       0.59      0.007    0.00227    0.00451       0.61    0.00592    0.00207\n",
            "\n",
            "      Epoch    GPU_mem   box_loss   seg_loss   cls_loss   dfl_loss  Instances       Size\n"
          ]
        },
        {
          "output_type": "stream",
          "name": "stderr",
          "text": [
            "      3/100      3.67G       1.45      3.583      4.106      1.946          5       1024: 100%|██████████| 14/14 [00:04<00:00,  2.99it/s]\n",
            "                 Class     Images  Instances      Box(P          R      mAP50  mAP50-95)     Mask(P          R      mAP50  mAP50-95): 100%|██████████| 7/7 [00:02<00:00,  2.98it/s]\n"
          ]
        },
        {
          "output_type": "stream",
          "name": "stdout",
          "text": [
            "                   all        106        132    0.00504      0.622    0.00633     0.0023    0.00485      0.629    0.00627    0.00264\n",
            "\n",
            "      Epoch    GPU_mem   box_loss   seg_loss   cls_loss   dfl_loss  Instances       Size\n"
          ]
        },
        {
          "output_type": "stream",
          "name": "stderr",
          "text": [
            "      4/100      3.62G       1.28      2.942      3.932       1.75         16       1024: 100%|██████████| 14/14 [00:06<00:00,  2.29it/s]\n",
            "                 Class     Images  Instances      Box(P          R      mAP50  mAP50-95)     Mask(P          R      mAP50  mAP50-95): 100%|██████████| 7/7 [00:02<00:00,  3.03it/s]\n"
          ]
        },
        {
          "output_type": "stream",
          "name": "stdout",
          "text": [
            "                   all        106        132    0.00663      0.709    0.00814    0.00315    0.00713       0.74    0.00897    0.00335\n",
            "\n",
            "      Epoch    GPU_mem   box_loss   seg_loss   cls_loss   dfl_loss  Instances       Size\n"
          ]
        },
        {
          "output_type": "stream",
          "name": "stderr",
          "text": [
            "      5/100      3.62G      1.188      2.626      3.875      1.737          6       1024: 100%|██████████| 14/14 [00:05<00:00,  2.74it/s]\n",
            "                 Class     Images  Instances      Box(P          R      mAP50  mAP50-95)     Mask(P          R      mAP50  mAP50-95): 100%|██████████| 7/7 [00:03<00:00,  2.17it/s]\n"
          ]
        },
        {
          "output_type": "stream",
          "name": "stdout",
          "text": [
            "                   all        106        132    0.00902      0.825      0.015     0.0052    0.00902      0.825     0.0173    0.00573\n",
            "\n",
            "      Epoch    GPU_mem   box_loss   seg_loss   cls_loss   dfl_loss  Instances       Size\n"
          ]
        },
        {
          "output_type": "stream",
          "name": "stderr",
          "text": [
            "      6/100      3.73G      1.294      2.673      3.879      1.781         12       1024: 100%|██████████| 14/14 [00:04<00:00,  3.03it/s]\n",
            "                 Class     Images  Instances      Box(P          R      mAP50  mAP50-95)     Mask(P          R      mAP50  mAP50-95): 100%|██████████| 7/7 [00:02<00:00,  3.04it/s]\n"
          ]
        },
        {
          "output_type": "stream",
          "name": "stdout",
          "text": [
            "                   all        106        132    0.00852      0.865     0.0458     0.0233    0.00821      0.861     0.0457     0.0231\n",
            "\n",
            "      Epoch    GPU_mem   box_loss   seg_loss   cls_loss   dfl_loss  Instances       Size\n"
          ]
        },
        {
          "output_type": "stream",
          "name": "stderr",
          "text": [
            "      7/100      3.66G     0.9954       2.29       3.75      1.638          8       1024: 100%|██████████| 14/14 [00:06<00:00,  2.30it/s]\n",
            "                 Class     Images  Instances      Box(P          R      mAP50  mAP50-95)     Mask(P          R      mAP50  mAP50-95): 100%|██████████| 7/7 [00:02<00:00,  2.90it/s]\n"
          ]
        },
        {
          "output_type": "stream",
          "name": "stdout",
          "text": [
            "                   all        106        132    0.00551      0.803     0.0917      0.056    0.00545      0.804     0.0929     0.0512\n",
            "\n",
            "      Epoch    GPU_mem   box_loss   seg_loss   cls_loss   dfl_loss  Instances       Size\n"
          ]
        },
        {
          "output_type": "stream",
          "name": "stderr",
          "text": [
            "      8/100      3.64G      1.179      2.548      3.858      1.761          7       1024: 100%|██████████| 14/14 [00:04<00:00,  3.05it/s]\n",
            "                 Class     Images  Instances      Box(P          R      mAP50  mAP50-95)     Mask(P          R      mAP50  mAP50-95): 100%|██████████| 7/7 [00:03<00:00,  2.18it/s]"
          ]
        },
        {
          "output_type": "stream",
          "name": "stdout",
          "text": [
            "                   all        106        132    0.00596      0.901      0.147     0.0822    0.00583      0.889      0.133     0.0772\n"
          ]
        },
        {
          "output_type": "stream",
          "name": "stderr",
          "text": [
            "\n"
          ]
        },
        {
          "output_type": "stream",
          "name": "stdout",
          "text": [
            "\n",
            "      Epoch    GPU_mem   box_loss   seg_loss   cls_loss   dfl_loss  Instances       Size\n"
          ]
        },
        {
          "output_type": "stream",
          "name": "stderr",
          "text": [
            "      9/100      3.65G      1.157      2.535      3.713      1.688          6       1024: 100%|██████████| 14/14 [00:04<00:00,  3.02it/s]\n",
            "                 Class     Images  Instances      Box(P          R      mAP50  mAP50-95)     Mask(P          R      mAP50  mAP50-95): 100%|██████████| 7/7 [00:02<00:00,  2.85it/s]\n"
          ]
        },
        {
          "output_type": "stream",
          "name": "stdout",
          "text": [
            "                   all        106        132      0.668     0.0498      0.156     0.0837      0.668     0.0498      0.152      0.083\n",
            "\n",
            "      Epoch    GPU_mem   box_loss   seg_loss   cls_loss   dfl_loss  Instances       Size\n"
          ]
        },
        {
          "output_type": "stream",
          "name": "stderr",
          "text": [
            "     10/100      3.62G      1.052      2.122      3.605      1.598          8       1024: 100%|██████████| 14/14 [00:05<00:00,  2.40it/s]\n",
            "                 Class     Images  Instances      Box(P          R      mAP50  mAP50-95)     Mask(P          R      mAP50  mAP50-95): 100%|██████████| 7/7 [00:02<00:00,  2.52it/s]\n"
          ]
        },
        {
          "output_type": "stream",
          "name": "stdout",
          "text": [
            "                   all        106        132       0.38      0.186      0.211      0.104       0.38      0.186      0.223      0.116\n",
            "\n",
            "      Epoch    GPU_mem   box_loss   seg_loss   cls_loss   dfl_loss  Instances       Size\n"
          ]
        },
        {
          "output_type": "stream",
          "name": "stderr",
          "text": [
            "     11/100      3.65G      1.067      2.083      3.602      1.616          6       1024: 100%|██████████| 14/14 [00:04<00:00,  2.96it/s]\n",
            "                 Class     Images  Instances      Box(P          R      mAP50  mAP50-95)     Mask(P          R      mAP50  mAP50-95): 100%|██████████| 7/7 [00:02<00:00,  2.59it/s]"
          ]
        },
        {
          "output_type": "stream",
          "name": "stdout",
          "text": [
            "                   all        106        132      0.137      0.185      0.179      0.097      0.137      0.185      0.177      0.106\n"
          ]
        },
        {
          "output_type": "stream",
          "name": "stderr",
          "text": [
            "\n"
          ]
        },
        {
          "output_type": "stream",
          "name": "stdout",
          "text": [
            "\n",
            "      Epoch    GPU_mem   box_loss   seg_loss   cls_loss   dfl_loss  Instances       Size\n"
          ]
        },
        {
          "output_type": "stream",
          "name": "stderr",
          "text": [
            "     12/100      3.66G       1.02      2.128       3.54      1.555         13       1024: 100%|██████████| 14/14 [00:05<00:00,  2.69it/s]\n",
            "                 Class     Images  Instances      Box(P          R      mAP50  mAP50-95)     Mask(P          R      mAP50  mAP50-95): 100%|██████████| 7/7 [00:02<00:00,  2.67it/s]"
          ]
        },
        {
          "output_type": "stream",
          "name": "stdout",
          "text": [
            "                   all        106        132      0.245      0.324      0.251      0.161      0.249      0.324      0.242       0.16\n"
          ]
        },
        {
          "output_type": "stream",
          "name": "stderr",
          "text": [
            "\n"
          ]
        },
        {
          "output_type": "stream",
          "name": "stdout",
          "text": [
            "\n",
            "      Epoch    GPU_mem   box_loss   seg_loss   cls_loss   dfl_loss  Instances       Size\n"
          ]
        },
        {
          "output_type": "stream",
          "name": "stderr",
          "text": [
            "     13/100      3.66G      1.179      2.283      3.661      1.736          3       1024: 100%|██████████| 14/14 [00:05<00:00,  2.55it/s]\n",
            "                 Class     Images  Instances      Box(P          R      mAP50  mAP50-95)     Mask(P          R      mAP50  mAP50-95): 100%|██████████| 7/7 [00:03<00:00,  2.22it/s]\n"
          ]
        },
        {
          "output_type": "stream",
          "name": "stdout",
          "text": [
            "                   all        106        132      0.396      0.264      0.261      0.145      0.396      0.264      0.253      0.156\n",
            "\n",
            "      Epoch    GPU_mem   box_loss   seg_loss   cls_loss   dfl_loss  Instances       Size\n"
          ]
        },
        {
          "output_type": "stream",
          "name": "stderr",
          "text": [
            "     14/100      3.59G      1.062      2.195      3.629      1.637          6       1024: 100%|██████████| 14/14 [00:04<00:00,  3.10it/s]\n",
            "                 Class     Images  Instances      Box(P          R      mAP50  mAP50-95)     Mask(P          R      mAP50  mAP50-95): 100%|██████████| 7/7 [00:02<00:00,  2.86it/s]\n"
          ]
        },
        {
          "output_type": "stream",
          "name": "stdout",
          "text": [
            "                   all        106        132      0.189      0.305      0.272      0.153       0.19      0.304       0.26      0.162\n",
            "\n",
            "      Epoch    GPU_mem   box_loss   seg_loss   cls_loss   dfl_loss  Instances       Size\n"
          ]
        },
        {
          "output_type": "stream",
          "name": "stderr",
          "text": [
            "     15/100      3.61G      1.104      2.075      3.523      1.611          4       1024: 100%|██████████| 14/14 [00:05<00:00,  2.41it/s]\n",
            "                 Class     Images  Instances      Box(P          R      mAP50  mAP50-95)     Mask(P          R      mAP50  mAP50-95): 100%|██████████| 7/7 [00:02<00:00,  2.82it/s]\n"
          ]
        },
        {
          "output_type": "stream",
          "name": "stdout",
          "text": [
            "                   all        106        132       0.16      0.351      0.244      0.112      0.157      0.341      0.236       0.11\n",
            "\n",
            "      Epoch    GPU_mem   box_loss   seg_loss   cls_loss   dfl_loss  Instances       Size\n"
          ]
        },
        {
          "output_type": "stream",
          "name": "stderr",
          "text": [
            "     16/100      3.63G      0.974      1.926      3.366      1.566          6       1024: 100%|██████████| 14/14 [00:04<00:00,  2.93it/s]\n",
            "                 Class     Images  Instances      Box(P          R      mAP50  mAP50-95)     Mask(P          R      mAP50  mAP50-95): 100%|██████████| 7/7 [00:03<00:00,  1.94it/s]"
          ]
        },
        {
          "output_type": "stream",
          "name": "stdout",
          "text": [
            "                   all        106        132      0.339      0.297      0.349      0.187       0.37      0.289      0.344      0.201\n"
          ]
        },
        {
          "output_type": "stream",
          "name": "stderr",
          "text": [
            "\n"
          ]
        },
        {
          "output_type": "stream",
          "name": "stdout",
          "text": [
            "\n",
            "      Epoch    GPU_mem   box_loss   seg_loss   cls_loss   dfl_loss  Instances       Size\n"
          ]
        },
        {
          "output_type": "stream",
          "name": "stderr",
          "text": [
            "     17/100      3.69G       1.03       2.02      3.329      1.561          4       1024: 100%|██████████| 14/14 [00:04<00:00,  2.93it/s]\n",
            "                 Class     Images  Instances      Box(P          R      mAP50  mAP50-95)     Mask(P          R      mAP50  mAP50-95): 100%|██████████| 7/7 [00:02<00:00,  2.85it/s]\n"
          ]
        },
        {
          "output_type": "stream",
          "name": "stdout",
          "text": [
            "                   all        106        132      0.243      0.496      0.362      0.204      0.235      0.485      0.347       0.21\n",
            "\n",
            "      Epoch    GPU_mem   box_loss   seg_loss   cls_loss   dfl_loss  Instances       Size\n"
          ]
        },
        {
          "output_type": "stream",
          "name": "stderr",
          "text": [
            "     18/100      3.63G      1.166      2.121      3.549      1.667          3       1024: 100%|██████████| 14/14 [00:06<00:00,  2.26it/s]\n",
            "                 Class     Images  Instances      Box(P          R      mAP50  mAP50-95)     Mask(P          R      mAP50  mAP50-95): 100%|██████████| 7/7 [00:02<00:00,  2.78it/s]"
          ]
        },
        {
          "output_type": "stream",
          "name": "stdout",
          "text": [
            "                   all        106        132      0.331      0.357      0.352      0.208      0.326      0.341      0.345      0.211\n"
          ]
        },
        {
          "output_type": "stream",
          "name": "stderr",
          "text": [
            "\n"
          ]
        },
        {
          "output_type": "stream",
          "name": "stdout",
          "text": [
            "\n",
            "      Epoch    GPU_mem   box_loss   seg_loss   cls_loss   dfl_loss  Instances       Size\n"
          ]
        },
        {
          "output_type": "stream",
          "name": "stderr",
          "text": [
            "     19/100      3.62G      1.009      1.939      3.204      1.596          9       1024: 100%|██████████| 14/14 [00:04<00:00,  2.89it/s]\n",
            "                 Class     Images  Instances      Box(P          R      mAP50  mAP50-95)     Mask(P          R      mAP50  mAP50-95): 100%|██████████| 7/7 [00:03<00:00,  2.31it/s]"
          ]
        },
        {
          "output_type": "stream",
          "name": "stdout",
          "text": [
            "                   all        106        132      0.253      0.441       0.37      0.216      0.249       0.44      0.367      0.226\n"
          ]
        },
        {
          "output_type": "stream",
          "name": "stderr",
          "text": [
            "\n"
          ]
        },
        {
          "output_type": "stream",
          "name": "stdout",
          "text": [
            "\n",
            "      Epoch    GPU_mem   box_loss   seg_loss   cls_loss   dfl_loss  Instances       Size\n"
          ]
        },
        {
          "output_type": "stream",
          "name": "stderr",
          "text": [
            "     20/100      3.62G      1.123      2.073      3.353      1.645          4       1024: 100%|██████████| 14/14 [00:04<00:00,  3.02it/s]\n",
            "                 Class     Images  Instances      Box(P          R      mAP50  mAP50-95)     Mask(P          R      mAP50  mAP50-95): 100%|██████████| 7/7 [00:02<00:00,  2.69it/s]\n"
          ]
        },
        {
          "output_type": "stream",
          "name": "stdout",
          "text": [
            "                   all        106        132      0.363      0.344      0.425      0.248      0.355      0.339      0.419      0.266\n",
            "\n",
            "      Epoch    GPU_mem   box_loss   seg_loss   cls_loss   dfl_loss  Instances       Size\n"
          ]
        },
        {
          "output_type": "stream",
          "name": "stderr",
          "text": [
            "     21/100      3.66G     0.9514      1.863      3.025      1.555          6       1024: 100%|██████████| 14/14 [00:05<00:00,  2.38it/s]\n",
            "                 Class     Images  Instances      Box(P          R      mAP50  mAP50-95)     Mask(P          R      mAP50  mAP50-95): 100%|██████████| 7/7 [00:02<00:00,  2.65it/s]\n"
          ]
        },
        {
          "output_type": "stream",
          "name": "stdout",
          "text": [
            "                   all        106        132      0.486       0.45      0.481      0.265      0.477      0.447      0.473       0.28\n",
            "\n",
            "      Epoch    GPU_mem   box_loss   seg_loss   cls_loss   dfl_loss  Instances       Size\n"
          ]
        },
        {
          "output_type": "stream",
          "name": "stderr",
          "text": [
            "     22/100      3.59G      1.003      1.889      3.089      1.558          5       1024: 100%|██████████| 14/14 [00:04<00:00,  2.98it/s]\n",
            "                 Class     Images  Instances      Box(P          R      mAP50  mAP50-95)     Mask(P          R      mAP50  mAP50-95): 100%|██████████| 7/7 [00:02<00:00,  2.41it/s]"
          ]
        },
        {
          "output_type": "stream",
          "name": "stdout",
          "text": [
            "                   all        106        132      0.411      0.378      0.418      0.238      0.273      0.561      0.412      0.248\n"
          ]
        },
        {
          "output_type": "stream",
          "name": "stderr",
          "text": [
            "\n"
          ]
        },
        {
          "output_type": "stream",
          "name": "stdout",
          "text": [
            "\n",
            "      Epoch    GPU_mem   box_loss   seg_loss   cls_loss   dfl_loss  Instances       Size\n"
          ]
        },
        {
          "output_type": "stream",
          "name": "stderr",
          "text": [
            "     23/100      3.52G      1.062        1.9      3.168      1.552          6       1024: 100%|██████████| 14/14 [00:05<00:00,  2.71it/s]\n",
            "                 Class     Images  Instances      Box(P          R      mAP50  mAP50-95)     Mask(P          R      mAP50  mAP50-95): 100%|██████████| 7/7 [00:02<00:00,  2.86it/s]\n"
          ]
        },
        {
          "output_type": "stream",
          "name": "stdout",
          "text": [
            "                   all        106        132      0.388      0.351        0.4      0.221       0.38      0.346      0.386      0.227\n",
            "\n",
            "      Epoch    GPU_mem   box_loss   seg_loss   cls_loss   dfl_loss  Instances       Size\n"
          ]
        },
        {
          "output_type": "stream",
          "name": "stderr",
          "text": [
            "     24/100      3.65G     0.9105      1.834      2.891      1.466          9       1024: 100%|██████████| 14/14 [00:05<00:00,  2.53it/s]\n",
            "                 Class     Images  Instances      Box(P          R      mAP50  mAP50-95)     Mask(P          R      mAP50  mAP50-95): 100%|██████████| 7/7 [00:03<00:00,  2.31it/s]\n"
          ]
        },
        {
          "output_type": "stream",
          "name": "stdout",
          "text": [
            "                   all        106        132       0.42      0.476      0.524      0.289      0.411      0.471      0.507      0.309\n",
            "\n",
            "      Epoch    GPU_mem   box_loss   seg_loss   cls_loss   dfl_loss  Instances       Size\n"
          ]
        },
        {
          "output_type": "stream",
          "name": "stderr",
          "text": [
            "     25/100      3.64G      1.009      1.838      3.055      1.604          4       1024: 100%|██████████| 14/14 [00:05<00:00,  2.79it/s]\n",
            "                 Class     Images  Instances      Box(P          R      mAP50  mAP50-95)     Mask(P          R      mAP50  mAP50-95): 100%|██████████| 7/7 [00:02<00:00,  2.81it/s]"
          ]
        },
        {
          "output_type": "stream",
          "name": "stdout",
          "text": [
            "                   all        106        132      0.433      0.418      0.465       0.28       0.43      0.427      0.465      0.291\n"
          ]
        },
        {
          "output_type": "stream",
          "name": "stderr",
          "text": [
            "\n"
          ]
        },
        {
          "output_type": "stream",
          "name": "stdout",
          "text": [
            "\n",
            "      Epoch    GPU_mem   box_loss   seg_loss   cls_loss   dfl_loss  Instances       Size\n"
          ]
        },
        {
          "output_type": "stream",
          "name": "stderr",
          "text": [
            "     26/100      3.57G     0.9381      1.866      2.839      1.525          7       1024: 100%|██████████| 14/14 [00:05<00:00,  2.50it/s]\n",
            "                 Class     Images  Instances      Box(P          R      mAP50  mAP50-95)     Mask(P          R      mAP50  mAP50-95): 100%|██████████| 7/7 [00:02<00:00,  2.89it/s]"
          ]
        },
        {
          "output_type": "stream",
          "name": "stdout",
          "text": [
            "                   all        106        132      0.406      0.673      0.567      0.341      0.409      0.679      0.566      0.375\n"
          ]
        },
        {
          "output_type": "stream",
          "name": "stderr",
          "text": [
            "\n"
          ]
        },
        {
          "output_type": "stream",
          "name": "stdout",
          "text": [
            "\n",
            "      Epoch    GPU_mem   box_loss   seg_loss   cls_loss   dfl_loss  Instances       Size\n"
          ]
        },
        {
          "output_type": "stream",
          "name": "stderr",
          "text": [
            "     27/100      3.59G     0.9296      1.698      2.734      1.498          6       1024: 100%|██████████| 14/14 [00:04<00:00,  2.81it/s]\n",
            "                 Class     Images  Instances      Box(P          R      mAP50  mAP50-95)     Mask(P          R      mAP50  mAP50-95): 100%|██████████| 7/7 [00:03<00:00,  1.96it/s]\n"
          ]
        },
        {
          "output_type": "stream",
          "name": "stdout",
          "text": [
            "                   all        106        132      0.436      0.626      0.572      0.347      0.436      0.626      0.571      0.367\n",
            "\n",
            "      Epoch    GPU_mem   box_loss   seg_loss   cls_loss   dfl_loss  Instances       Size\n"
          ]
        },
        {
          "output_type": "stream",
          "name": "stderr",
          "text": [
            "     28/100      3.59G     0.9325      1.868      2.873       1.48          7       1024: 100%|██████████| 14/14 [00:04<00:00,  2.92it/s]\n",
            "                 Class     Images  Instances      Box(P          R      mAP50  mAP50-95)     Mask(P          R      mAP50  mAP50-95): 100%|██████████| 7/7 [00:02<00:00,  2.60it/s]\n"
          ]
        },
        {
          "output_type": "stream",
          "name": "stdout",
          "text": [
            "                   all        106        132      0.539      0.634      0.643      0.386      0.531      0.629      0.631      0.414\n",
            "\n",
            "      Epoch    GPU_mem   box_loss   seg_loss   cls_loss   dfl_loss  Instances       Size\n"
          ]
        },
        {
          "output_type": "stream",
          "name": "stderr",
          "text": [
            "     29/100      3.63G     0.8821      1.716      2.703      1.463          8       1024: 100%|██████████| 14/14 [00:06<00:00,  2.28it/s]\n",
            "                 Class     Images  Instances      Box(P          R      mAP50  mAP50-95)     Mask(P          R      mAP50  mAP50-95): 100%|██████████| 7/7 [00:02<00:00,  2.89it/s]"
          ]
        },
        {
          "output_type": "stream",
          "name": "stdout",
          "text": [
            "                   all        106        132      0.588      0.538      0.632      0.397      0.585      0.541       0.62      0.421\n"
          ]
        },
        {
          "output_type": "stream",
          "name": "stderr",
          "text": [
            "\n"
          ]
        },
        {
          "output_type": "stream",
          "name": "stdout",
          "text": [
            "\n",
            "      Epoch    GPU_mem   box_loss   seg_loss   cls_loss   dfl_loss  Instances       Size\n"
          ]
        },
        {
          "output_type": "stream",
          "name": "stderr",
          "text": [
            "     30/100      3.62G     0.9165      1.872      2.677      1.483         13       1024: 100%|██████████| 14/14 [00:04<00:00,  2.91it/s]\n",
            "                 Class     Images  Instances      Box(P          R      mAP50  mAP50-95)     Mask(P          R      mAP50  mAP50-95): 100%|██████████| 7/7 [00:03<00:00,  1.99it/s]"
          ]
        },
        {
          "output_type": "stream",
          "name": "stdout",
          "text": [
            "                   all        106        132      0.612      0.521      0.634      0.383      0.548      0.528      0.619      0.404\n"
          ]
        },
        {
          "output_type": "stream",
          "name": "stderr",
          "text": [
            "\n"
          ]
        },
        {
          "output_type": "stream",
          "name": "stdout",
          "text": [
            "\n",
            "      Epoch    GPU_mem   box_loss   seg_loss   cls_loss   dfl_loss  Instances       Size\n"
          ]
        },
        {
          "output_type": "stream",
          "name": "stderr",
          "text": [
            "     31/100      3.63G     0.9477      1.697      2.691      1.498          7       1024: 100%|██████████| 14/14 [00:04<00:00,  3.01it/s]\n",
            "                 Class     Images  Instances      Box(P          R      mAP50  mAP50-95)     Mask(P          R      mAP50  mAP50-95): 100%|██████████| 7/7 [00:02<00:00,  2.86it/s]\n"
          ]
        },
        {
          "output_type": "stream",
          "name": "stdout",
          "text": [
            "                   all        106        132      0.508      0.646       0.65      0.408      0.508      0.646      0.645      0.435\n",
            "\n",
            "      Epoch    GPU_mem   box_loss   seg_loss   cls_loss   dfl_loss  Instances       Size\n"
          ]
        },
        {
          "output_type": "stream",
          "name": "stderr",
          "text": [
            "     32/100      3.58G      0.921      1.734       2.77      1.483          3       1024: 100%|██████████| 14/14 [00:06<00:00,  2.29it/s]\n",
            "                 Class     Images  Instances      Box(P          R      mAP50  mAP50-95)     Mask(P          R      mAP50  mAP50-95): 100%|██████████| 7/7 [00:02<00:00,  2.71it/s]\n"
          ]
        },
        {
          "output_type": "stream",
          "name": "stdout",
          "text": [
            "                   all        106        132      0.509      0.712      0.654      0.422      0.513      0.712      0.652      0.439\n",
            "\n",
            "      Epoch    GPU_mem   box_loss   seg_loss   cls_loss   dfl_loss  Instances       Size\n"
          ]
        },
        {
          "output_type": "stream",
          "name": "stderr",
          "text": [
            "     33/100       3.6G      0.862      1.723      2.569      1.438          9       1024: 100%|██████████| 14/14 [00:04<00:00,  3.01it/s]\n",
            "                 Class     Images  Instances      Box(P          R      mAP50  mAP50-95)     Mask(P          R      mAP50  mAP50-95): 100%|██████████| 7/7 [00:02<00:00,  2.35it/s]"
          ]
        },
        {
          "output_type": "stream",
          "name": "stdout",
          "text": [
            "                   all        106        132      0.584      0.691      0.704      0.426      0.579      0.686      0.705      0.472\n"
          ]
        },
        {
          "output_type": "stream",
          "name": "stderr",
          "text": [
            "\n"
          ]
        },
        {
          "output_type": "stream",
          "name": "stdout",
          "text": [
            "\n",
            "      Epoch    GPU_mem   box_loss   seg_loss   cls_loss   dfl_loss  Instances       Size\n"
          ]
        },
        {
          "output_type": "stream",
          "name": "stderr",
          "text": [
            "     34/100      3.63G      0.857      1.722      2.468      1.378          8       1024: 100%|██████████| 14/14 [00:05<00:00,  2.74it/s]\n",
            "                 Class     Images  Instances      Box(P          R      mAP50  mAP50-95)     Mask(P          R      mAP50  mAP50-95): 100%|██████████| 7/7 [00:02<00:00,  2.85it/s]\n"
          ]
        },
        {
          "output_type": "stream",
          "name": "stdout",
          "text": [
            "                   all        106        132      0.552      0.683      0.665      0.431      0.548      0.683      0.665      0.458\n",
            "\n",
            "      Epoch    GPU_mem   box_loss   seg_loss   cls_loss   dfl_loss  Instances       Size\n"
          ]
        },
        {
          "output_type": "stream",
          "name": "stderr",
          "text": [
            "     35/100      3.68G     0.8856      1.682        2.5      1.422         11       1024: 100%|██████████| 14/14 [00:05<00:00,  2.58it/s]\n",
            "                 Class     Images  Instances      Box(P          R      mAP50  mAP50-95)     Mask(P          R      mAP50  mAP50-95): 100%|██████████| 7/7 [00:03<00:00,  2.28it/s]\n"
          ]
        },
        {
          "output_type": "stream",
          "name": "stdout",
          "text": [
            "                   all        106        132      0.523      0.641      0.642      0.425      0.523      0.641      0.642      0.437\n",
            "\n",
            "      Epoch    GPU_mem   box_loss   seg_loss   cls_loss   dfl_loss  Instances       Size\n"
          ]
        },
        {
          "output_type": "stream",
          "name": "stderr",
          "text": [
            "     36/100      3.61G     0.8391       1.57      2.498      1.494          6       1024: 100%|██████████| 14/14 [00:04<00:00,  3.08it/s]\n",
            "                 Class     Images  Instances      Box(P          R      mAP50  mAP50-95)     Mask(P          R      mAP50  mAP50-95): 100%|██████████| 7/7 [00:02<00:00,  2.66it/s]"
          ]
        },
        {
          "output_type": "stream",
          "name": "stdout",
          "text": [
            "                   all        106        132      0.665      0.642      0.736      0.476      0.658      0.631      0.735      0.504\n"
          ]
        },
        {
          "output_type": "stream",
          "name": "stderr",
          "text": [
            "\n"
          ]
        },
        {
          "output_type": "stream",
          "name": "stdout",
          "text": [
            "\n",
            "      Epoch    GPU_mem   box_loss   seg_loss   cls_loss   dfl_loss  Instances       Size\n"
          ]
        },
        {
          "output_type": "stream",
          "name": "stderr",
          "text": [
            "     37/100      3.62G     0.8898      1.672      2.479      1.459          5       1024: 100%|██████████| 14/14 [00:05<00:00,  2.59it/s]\n",
            "                 Class     Images  Instances      Box(P          R      mAP50  mAP50-95)     Mask(P          R      mAP50  mAP50-95): 100%|██████████| 7/7 [00:02<00:00,  2.68it/s]"
          ]
        },
        {
          "output_type": "stream",
          "name": "stdout",
          "text": [
            "                   all        106        132      0.616      0.735      0.746      0.499      0.595      0.731      0.739      0.529\n"
          ]
        },
        {
          "output_type": "stream",
          "name": "stderr",
          "text": [
            "\n"
          ]
        },
        {
          "output_type": "stream",
          "name": "stdout",
          "text": [
            "\n",
            "      Epoch    GPU_mem   box_loss   seg_loss   cls_loss   dfl_loss  Instances       Size\n"
          ]
        },
        {
          "output_type": "stream",
          "name": "stderr",
          "text": [
            "     38/100      3.67G     0.8662      1.693      2.476      1.435          7       1024: 100%|██████████| 14/14 [00:05<00:00,  2.69it/s]\n",
            "                 Class     Images  Instances      Box(P          R      mAP50  mAP50-95)     Mask(P          R      mAP50  mAP50-95): 100%|██████████| 7/7 [00:03<00:00,  2.14it/s]"
          ]
        },
        {
          "output_type": "stream",
          "name": "stdout",
          "text": [
            "                   all        106        132      0.665      0.705      0.756      0.494       0.66      0.699       0.75      0.515\n"
          ]
        },
        {
          "output_type": "stream",
          "name": "stderr",
          "text": [
            "\n"
          ]
        },
        {
          "output_type": "stream",
          "name": "stdout",
          "text": [
            "\n",
            "      Epoch    GPU_mem   box_loss   seg_loss   cls_loss   dfl_loss  Instances       Size\n"
          ]
        },
        {
          "output_type": "stream",
          "name": "stderr",
          "text": [
            "     39/100      3.65G     0.9167      1.662      2.589      1.424          5       1024: 100%|██████████| 14/14 [00:04<00:00,  2.94it/s]\n",
            "                 Class     Images  Instances      Box(P          R      mAP50  mAP50-95)     Mask(P          R      mAP50  mAP50-95): 100%|██████████| 7/7 [00:02<00:00,  2.63it/s]\n"
          ]
        },
        {
          "output_type": "stream",
          "name": "stdout",
          "text": [
            "                   all        106        132      0.587      0.842      0.751      0.498      0.584      0.837      0.745      0.511\n",
            "\n",
            "      Epoch    GPU_mem   box_loss   seg_loss   cls_loss   dfl_loss  Instances       Size\n"
          ]
        },
        {
          "output_type": "stream",
          "name": "stderr",
          "text": [
            "     40/100      3.56G      0.823      1.577      2.396      1.427          7       1024: 100%|██████████| 14/14 [00:05<00:00,  2.36it/s]\n",
            "                 Class     Images  Instances      Box(P          R      mAP50  mAP50-95)     Mask(P          R      mAP50  mAP50-95): 100%|██████████| 7/7 [00:02<00:00,  2.96it/s]"
          ]
        },
        {
          "output_type": "stream",
          "name": "stdout",
          "text": [
            "                   all        106        132      0.581      0.762      0.717      0.488      0.586      0.774      0.715      0.495\n"
          ]
        },
        {
          "output_type": "stream",
          "name": "stderr",
          "text": [
            "\n"
          ]
        },
        {
          "output_type": "stream",
          "name": "stdout",
          "text": [
            "\n",
            "      Epoch    GPU_mem   box_loss   seg_loss   cls_loss   dfl_loss  Instances       Size\n"
          ]
        },
        {
          "output_type": "stream",
          "name": "stderr",
          "text": [
            "     41/100      3.67G     0.8542      1.742      2.408      1.394          6       1024: 100%|██████████| 14/14 [00:04<00:00,  2.88it/s]\n",
            "                 Class     Images  Instances      Box(P          R      mAP50  mAP50-95)     Mask(P          R      mAP50  mAP50-95): 100%|██████████| 7/7 [00:03<00:00,  1.96it/s]"
          ]
        },
        {
          "output_type": "stream",
          "name": "stdout",
          "text": [
            "                   all        106        132      0.613      0.831      0.755        0.5      0.601      0.811      0.741      0.511\n"
          ]
        },
        {
          "output_type": "stream",
          "name": "stderr",
          "text": [
            "\n"
          ]
        },
        {
          "output_type": "stream",
          "name": "stdout",
          "text": [
            "\n",
            "      Epoch    GPU_mem   box_loss   seg_loss   cls_loss   dfl_loss  Instances       Size\n"
          ]
        },
        {
          "output_type": "stream",
          "name": "stderr",
          "text": [
            "     42/100      3.64G       0.82      1.542      2.338      1.357         13       1024: 100%|██████████| 14/14 [00:04<00:00,  2.97it/s]\n",
            "                 Class     Images  Instances      Box(P          R      mAP50  mAP50-95)     Mask(P          R      mAP50  mAP50-95): 100%|██████████| 7/7 [00:02<00:00,  2.91it/s]\n"
          ]
        },
        {
          "output_type": "stream",
          "name": "stdout",
          "text": [
            "                   all        106        132      0.643      0.791      0.758      0.514      0.625      0.772       0.75      0.525\n",
            "\n",
            "      Epoch    GPU_mem   box_loss   seg_loss   cls_loss   dfl_loss  Instances       Size\n"
          ]
        },
        {
          "output_type": "stream",
          "name": "stderr",
          "text": [
            "     43/100       3.6G     0.8064      1.645      2.279      1.396          6       1024: 100%|██████████| 14/14 [00:06<00:00,  2.27it/s]\n",
            "                 Class     Images  Instances      Box(P          R      mAP50  mAP50-95)     Mask(P          R      mAP50  mAP50-95): 100%|██████████| 7/7 [00:02<00:00,  2.65it/s]\n"
          ]
        },
        {
          "output_type": "stream",
          "name": "stdout",
          "text": [
            "                   all        106        132      0.698      0.795      0.757      0.512       0.69      0.783      0.744      0.516\n",
            "\n",
            "      Epoch    GPU_mem   box_loss   seg_loss   cls_loss   dfl_loss  Instances       Size\n"
          ]
        },
        {
          "output_type": "stream",
          "name": "stderr",
          "text": [
            "     44/100      3.61G     0.7897      1.549      2.231      1.339          5       1024: 100%|██████████| 14/14 [00:04<00:00,  2.90it/s]\n",
            "                 Class     Images  Instances      Box(P          R      mAP50  mAP50-95)     Mask(P          R      mAP50  mAP50-95): 100%|██████████| 7/7 [00:03<00:00,  2.23it/s]"
          ]
        },
        {
          "output_type": "stream",
          "name": "stdout",
          "text": [
            "                   all        106        132      0.739      0.813      0.791      0.563      0.728      0.793      0.782      0.557\n"
          ]
        },
        {
          "output_type": "stream",
          "name": "stderr",
          "text": [
            "\n"
          ]
        },
        {
          "output_type": "stream",
          "name": "stdout",
          "text": [
            "\n",
            "      Epoch    GPU_mem   box_loss   seg_loss   cls_loss   dfl_loss  Instances       Size\n"
          ]
        },
        {
          "output_type": "stream",
          "name": "stderr",
          "text": [
            "     45/100      3.63G     0.7985       1.52       2.19      1.372          8       1024: 100%|██████████| 14/14 [00:04<00:00,  2.93it/s]\n",
            "                 Class     Images  Instances      Box(P          R      mAP50  mAP50-95)     Mask(P          R      mAP50  mAP50-95): 100%|██████████| 7/7 [00:02<00:00,  2.87it/s]\n"
          ]
        },
        {
          "output_type": "stream",
          "name": "stdout",
          "text": [
            "                   all        106        132      0.647      0.789      0.782       0.54      0.643      0.784      0.778      0.548\n",
            "\n",
            "      Epoch    GPU_mem   box_loss   seg_loss   cls_loss   dfl_loss  Instances       Size\n"
          ]
        },
        {
          "output_type": "stream",
          "name": "stderr",
          "text": [
            "     46/100      3.61G     0.9461      1.687      2.384      1.458         13       1024: 100%|██████████| 14/14 [00:05<00:00,  2.41it/s]\n",
            "                 Class     Images  Instances      Box(P          R      mAP50  mAP50-95)     Mask(P          R      mAP50  mAP50-95): 100%|██████████| 7/7 [00:02<00:00,  2.53it/s]"
          ]
        },
        {
          "output_type": "stream",
          "name": "stdout",
          "text": [
            "                   all        106        132      0.685      0.781      0.805      0.536      0.681      0.776      0.802      0.562\n"
          ]
        },
        {
          "output_type": "stream",
          "name": "stderr",
          "text": [
            "\n"
          ]
        },
        {
          "output_type": "stream",
          "name": "stdout",
          "text": [
            "\n",
            "      Epoch    GPU_mem   box_loss   seg_loss   cls_loss   dfl_loss  Instances       Size\n"
          ]
        },
        {
          "output_type": "stream",
          "name": "stderr",
          "text": [
            "     47/100       3.7G     0.8598      1.739      2.354      1.436          4       1024: 100%|██████████| 14/14 [00:04<00:00,  2.92it/s]\n",
            "                 Class     Images  Instances      Box(P          R      mAP50  mAP50-95)     Mask(P          R      mAP50  mAP50-95): 100%|██████████| 7/7 [00:03<00:00,  2.29it/s]"
          ]
        },
        {
          "output_type": "stream",
          "name": "stdout",
          "text": [
            "                   all        106        132      0.691      0.813      0.801      0.563      0.686      0.809      0.798      0.573\n"
          ]
        },
        {
          "output_type": "stream",
          "name": "stderr",
          "text": [
            "\n"
          ]
        },
        {
          "output_type": "stream",
          "name": "stdout",
          "text": [
            "\n",
            "      Epoch    GPU_mem   box_loss   seg_loss   cls_loss   dfl_loss  Instances       Size\n"
          ]
        },
        {
          "output_type": "stream",
          "name": "stderr",
          "text": [
            "     48/100      3.63G     0.8892      1.663      2.357      1.467          4       1024: 100%|██████████| 14/14 [00:04<00:00,  2.87it/s]\n",
            "                 Class     Images  Instances      Box(P          R      mAP50  mAP50-95)     Mask(P          R      mAP50  mAP50-95): 100%|██████████| 7/7 [00:02<00:00,  2.90it/s]\n"
          ]
        },
        {
          "output_type": "stream",
          "name": "stdout",
          "text": [
            "                   all        106        132      0.702      0.789      0.815      0.592      0.702      0.789      0.813      0.599\n",
            "\n",
            "      Epoch    GPU_mem   box_loss   seg_loss   cls_loss   dfl_loss  Instances       Size\n"
          ]
        },
        {
          "output_type": "stream",
          "name": "stderr",
          "text": [
            "     49/100      3.61G     0.8915      1.681      2.269      1.476          9       1024: 100%|██████████| 14/14 [00:05<00:00,  2.49it/s]\n",
            "                 Class     Images  Instances      Box(P          R      mAP50  mAP50-95)     Mask(P          R      mAP50  mAP50-95): 100%|██████████| 7/7 [00:02<00:00,  2.57it/s]\n"
          ]
        },
        {
          "output_type": "stream",
          "name": "stdout",
          "text": [
            "                   all        106        132      0.804      0.752      0.848      0.624      0.804      0.752      0.846      0.636\n",
            "\n",
            "      Epoch    GPU_mem   box_loss   seg_loss   cls_loss   dfl_loss  Instances       Size\n"
          ]
        },
        {
          "output_type": "stream",
          "name": "stderr",
          "text": [
            "     50/100      3.64G     0.7415      1.603      2.004      1.301          7       1024: 100%|██████████| 14/14 [00:04<00:00,  2.91it/s]\n",
            "                 Class     Images  Instances      Box(P          R      mAP50  mAP50-95)     Mask(P          R      mAP50  mAP50-95): 100%|██████████| 7/7 [00:03<00:00,  2.27it/s]"
          ]
        },
        {
          "output_type": "stream",
          "name": "stdout",
          "text": [
            "                   all        106        132      0.792       0.62      0.804      0.558      0.792       0.62      0.802      0.582\n"
          ]
        },
        {
          "output_type": "stream",
          "name": "stderr",
          "text": [
            "\n"
          ]
        },
        {
          "output_type": "stream",
          "name": "stdout",
          "text": [
            "\n",
            "      Epoch    GPU_mem   box_loss   seg_loss   cls_loss   dfl_loss  Instances       Size\n"
          ]
        },
        {
          "output_type": "stream",
          "name": "stderr",
          "text": [
            "     51/100       3.6G     0.8627       1.64      2.354      1.484          3       1024: 100%|██████████| 14/14 [00:05<00:00,  2.58it/s]\n",
            "                 Class     Images  Instances      Box(P          R      mAP50  mAP50-95)     Mask(P          R      mAP50  mAP50-95): 100%|██████████| 7/7 [00:02<00:00,  2.89it/s]\n"
          ]
        },
        {
          "output_type": "stream",
          "name": "stdout",
          "text": [
            "                   all        106        132      0.784      0.704      0.825      0.569      0.784      0.704      0.825      0.592\n",
            "\n",
            "      Epoch    GPU_mem   box_loss   seg_loss   cls_loss   dfl_loss  Instances       Size\n"
          ]
        },
        {
          "output_type": "stream",
          "name": "stderr",
          "text": [
            "     52/100      3.67G     0.7743      1.416      2.187      1.336          5       1024: 100%|██████████| 14/14 [00:05<00:00,  2.73it/s]\n",
            "                 Class     Images  Instances      Box(P          R      mAP50  mAP50-95)     Mask(P          R      mAP50  mAP50-95): 100%|██████████| 7/7 [00:03<00:00,  2.13it/s]\n"
          ]
        },
        {
          "output_type": "stream",
          "name": "stdout",
          "text": [
            "                   all        106        132      0.777      0.761      0.859      0.604      0.772      0.756       0.86       0.62\n",
            "\n",
            "      Epoch    GPU_mem   box_loss   seg_loss   cls_loss   dfl_loss  Instances       Size\n"
          ]
        },
        {
          "output_type": "stream",
          "name": "stderr",
          "text": [
            "     53/100      3.64G     0.7851      1.337       2.08      1.339          5       1024: 100%|██████████| 14/14 [00:04<00:00,  2.99it/s]\n",
            "                 Class     Images  Instances      Box(P          R      mAP50  mAP50-95)     Mask(P          R      mAP50  mAP50-95): 100%|██████████| 7/7 [00:02<00:00,  2.82it/s]"
          ]
        },
        {
          "output_type": "stream",
          "name": "stdout",
          "text": [
            "                   all        106        132      0.814      0.821      0.889      0.624      0.809      0.815      0.887      0.641\n"
          ]
        },
        {
          "output_type": "stream",
          "name": "stderr",
          "text": [
            "\n"
          ]
        },
        {
          "output_type": "stream",
          "name": "stdout",
          "text": [
            "\n",
            "      Epoch    GPU_mem   box_loss   seg_loss   cls_loss   dfl_loss  Instances       Size\n"
          ]
        },
        {
          "output_type": "stream",
          "name": "stderr",
          "text": [
            "     54/100       3.6G     0.7782      1.498      2.299      1.348          3       1024: 100%|██████████| 14/14 [00:06<00:00,  2.12it/s]\n",
            "                 Class     Images  Instances      Box(P          R      mAP50  mAP50-95)     Mask(P          R      mAP50  mAP50-95): 100%|██████████| 7/7 [00:02<00:00,  2.93it/s]\n"
          ]
        },
        {
          "output_type": "stream",
          "name": "stdout",
          "text": [
            "                   all        106        132      0.822      0.856       0.89       0.62      0.816      0.852      0.886      0.649\n",
            "\n",
            "      Epoch    GPU_mem   box_loss   seg_loss   cls_loss   dfl_loss  Instances       Size\n"
          ]
        },
        {
          "output_type": "stream",
          "name": "stderr",
          "text": [
            "     55/100      3.57G     0.8331      1.528      2.171      1.363          7       1024: 100%|██████████| 14/14 [00:04<00:00,  2.97it/s]\n",
            "                 Class     Images  Instances      Box(P          R      mAP50  mAP50-95)     Mask(P          R      mAP50  mAP50-95): 100%|██████████| 7/7 [00:03<00:00,  2.05it/s]"
          ]
        },
        {
          "output_type": "stream",
          "name": "stdout",
          "text": [
            "                   all        106        132      0.861      0.812      0.894      0.628      0.857      0.806      0.891      0.643\n"
          ]
        },
        {
          "output_type": "stream",
          "name": "stderr",
          "text": [
            "\n"
          ]
        },
        {
          "output_type": "stream",
          "name": "stdout",
          "text": [
            "\n",
            "      Epoch    GPU_mem   box_loss   seg_loss   cls_loss   dfl_loss  Instances       Size\n"
          ]
        },
        {
          "output_type": "stream",
          "name": "stderr",
          "text": [
            "     56/100      3.59G     0.7452      1.431      2.005      1.364          8       1024: 100%|██████████| 14/14 [00:04<00:00,  3.05it/s]\n",
            "                 Class     Images  Instances      Box(P          R      mAP50  mAP50-95)     Mask(P          R      mAP50  mAP50-95): 100%|██████████| 7/7 [00:02<00:00,  2.84it/s]\n"
          ]
        },
        {
          "output_type": "stream",
          "name": "stdout",
          "text": [
            "                   all        106        132      0.822      0.838      0.902      0.622      0.822      0.838        0.9      0.635\n",
            "\n",
            "      Epoch    GPU_mem   box_loss   seg_loss   cls_loss   dfl_loss  Instances       Size\n"
          ]
        },
        {
          "output_type": "stream",
          "name": "stderr",
          "text": [
            "     57/100      3.64G     0.8922      1.525      2.398      1.474          9       1024: 100%|██████████| 14/14 [00:05<00:00,  2.35it/s]\n",
            "                 Class     Images  Instances      Box(P          R      mAP50  mAP50-95)     Mask(P          R      mAP50  mAP50-95): 100%|██████████| 7/7 [00:02<00:00,  2.72it/s]\n"
          ]
        },
        {
          "output_type": "stream",
          "name": "stdout",
          "text": [
            "                   all        106        132      0.874      0.838      0.918      0.652      0.874      0.838      0.916       0.68\n",
            "\n",
            "      Epoch    GPU_mem   box_loss   seg_loss   cls_loss   dfl_loss  Instances       Size\n"
          ]
        },
        {
          "output_type": "stream",
          "name": "stderr",
          "text": [
            "     58/100      3.59G      0.808      1.483      2.137      1.368          4       1024: 100%|██████████| 14/14 [00:04<00:00,  2.87it/s]\n",
            "                 Class     Images  Instances      Box(P          R      mAP50  mAP50-95)     Mask(P          R      mAP50  mAP50-95): 100%|██████████| 7/7 [00:03<00:00,  2.25it/s]"
          ]
        },
        {
          "output_type": "stream",
          "name": "stdout",
          "text": [
            "                   all        106        132      0.879      0.859      0.923       0.66      0.884      0.858      0.917       0.67\n"
          ]
        },
        {
          "output_type": "stream",
          "name": "stderr",
          "text": [
            "\n"
          ]
        },
        {
          "output_type": "stream",
          "name": "stdout",
          "text": [
            "\n",
            "      Epoch    GPU_mem   box_loss   seg_loss   cls_loss   dfl_loss  Instances       Size\n"
          ]
        },
        {
          "output_type": "stream",
          "name": "stderr",
          "text": [
            "     59/100      3.61G     0.7105      1.309      1.944      1.313          9       1024: 100%|██████████| 14/14 [00:04<00:00,  3.02it/s]\n",
            "                 Class     Images  Instances      Box(P          R      mAP50  mAP50-95)     Mask(P          R      mAP50  mAP50-95): 100%|██████████| 7/7 [00:02<00:00,  2.91it/s]"
          ]
        },
        {
          "output_type": "stream",
          "name": "stdout",
          "text": [
            "                   all        106        132      0.874      0.853      0.921      0.669      0.874      0.853       0.92      0.671\n"
          ]
        },
        {
          "output_type": "stream",
          "name": "stderr",
          "text": [
            "\n"
          ]
        },
        {
          "output_type": "stream",
          "name": "stdout",
          "text": [
            "\n",
            "      Epoch    GPU_mem   box_loss   seg_loss   cls_loss   dfl_loss  Instances       Size\n"
          ]
        },
        {
          "output_type": "stream",
          "name": "stderr",
          "text": [
            "     60/100       3.6G     0.8349      1.535      2.107      1.404          8       1024: 100%|██████████| 14/14 [00:05<00:00,  2.49it/s]\n",
            "                 Class     Images  Instances      Box(P          R      mAP50  mAP50-95)     Mask(P          R      mAP50  mAP50-95): 100%|██████████| 7/7 [00:02<00:00,  2.58it/s]\n"
          ]
        },
        {
          "output_type": "stream",
          "name": "stdout",
          "text": [
            "                   all        106        132      0.799      0.869      0.915       0.66      0.799      0.869      0.915      0.662\n",
            "\n",
            "      Epoch    GPU_mem   box_loss   seg_loss   cls_loss   dfl_loss  Instances       Size\n"
          ]
        },
        {
          "output_type": "stream",
          "name": "stderr",
          "text": [
            "     61/100      3.63G     0.8535      1.481      2.163      1.384          5       1024: 100%|██████████| 14/14 [00:04<00:00,  2.97it/s]\n",
            "                 Class     Images  Instances      Box(P          R      mAP50  mAP50-95)     Mask(P          R      mAP50  mAP50-95): 100%|██████████| 7/7 [00:03<00:00,  2.10it/s]"
          ]
        },
        {
          "output_type": "stream",
          "name": "stdout",
          "text": [
            "                   all        106        132      0.862      0.821      0.919      0.677      0.862      0.821      0.919      0.685\n"
          ]
        },
        {
          "output_type": "stream",
          "name": "stderr",
          "text": [
            "\n"
          ]
        },
        {
          "output_type": "stream",
          "name": "stdout",
          "text": [
            "\n",
            "      Epoch    GPU_mem   box_loss   seg_loss   cls_loss   dfl_loss  Instances       Size\n"
          ]
        },
        {
          "output_type": "stream",
          "name": "stderr",
          "text": [
            "     62/100      3.65G     0.7143      1.445      1.962      1.317          8       1024: 100%|██████████| 14/14 [00:05<00:00,  2.76it/s]\n",
            "                 Class     Images  Instances      Box(P          R      mAP50  mAP50-95)     Mask(P          R      mAP50  mAP50-95): 100%|██████████| 7/7 [00:02<00:00,  2.88it/s]\n"
          ]
        },
        {
          "output_type": "stream",
          "name": "stdout",
          "text": [
            "                   all        106        132      0.861      0.871      0.928      0.687      0.861      0.871      0.928      0.695\n",
            "\n",
            "      Epoch    GPU_mem   box_loss   seg_loss   cls_loss   dfl_loss  Instances       Size\n"
          ]
        },
        {
          "output_type": "stream",
          "name": "stderr",
          "text": [
            "     63/100      3.58G     0.8406      1.643      2.152      1.384          5       1024: 100%|██████████| 14/14 [00:05<00:00,  2.77it/s]\n",
            "                 Class     Images  Instances      Box(P          R      mAP50  mAP50-95)     Mask(P          R      mAP50  mAP50-95): 100%|██████████| 7/7 [00:03<00:00,  2.02it/s]\n"
          ]
        },
        {
          "output_type": "stream",
          "name": "stdout",
          "text": [
            "                   all        106        132      0.883      0.878      0.932      0.687      0.883      0.878      0.932      0.702\n",
            "\n",
            "      Epoch    GPU_mem   box_loss   seg_loss   cls_loss   dfl_loss  Instances       Size\n"
          ]
        },
        {
          "output_type": "stream",
          "name": "stderr",
          "text": [
            "     64/100      3.62G     0.7708      1.464      1.968      1.343          6       1024: 100%|██████████| 14/14 [00:04<00:00,  2.94it/s]\n",
            "                 Class     Images  Instances      Box(P          R      mAP50  mAP50-95)     Mask(P          R      mAP50  mAP50-95): 100%|██████████| 7/7 [00:02<00:00,  2.92it/s]\n"
          ]
        },
        {
          "output_type": "stream",
          "name": "stdout",
          "text": [
            "                   all        106        132      0.916      0.862       0.94      0.685      0.916      0.862      0.938      0.701\n",
            "\n",
            "      Epoch    GPU_mem   box_loss   seg_loss   cls_loss   dfl_loss  Instances       Size\n"
          ]
        },
        {
          "output_type": "stream",
          "name": "stderr",
          "text": [
            "     65/100      3.67G     0.7134      1.408      1.934      1.255          8       1024: 100%|██████████| 14/14 [00:06<00:00,  2.28it/s]\n",
            "                 Class     Images  Instances      Box(P          R      mAP50  mAP50-95)     Mask(P          R      mAP50  mAP50-95): 100%|██████████| 7/7 [00:02<00:00,  2.89it/s]\n"
          ]
        },
        {
          "output_type": "stream",
          "name": "stdout",
          "text": [
            "                   all        106        132      0.923      0.883      0.942       0.69      0.923      0.883      0.943      0.708\n",
            "\n",
            "      Epoch    GPU_mem   box_loss   seg_loss   cls_loss   dfl_loss  Instances       Size\n"
          ]
        },
        {
          "output_type": "stream",
          "name": "stderr",
          "text": [
            "     66/100       3.6G     0.7359      1.363      1.994      1.303          5       1024: 100%|██████████| 14/14 [00:04<00:00,  2.86it/s]\n",
            "                 Class     Images  Instances      Box(P          R      mAP50  mAP50-95)     Mask(P          R      mAP50  mAP50-95): 100%|██████████| 7/7 [00:03<00:00,  2.06it/s]"
          ]
        },
        {
          "output_type": "stream",
          "name": "stdout",
          "text": [
            "                   all        106        132      0.931      0.877      0.947      0.705      0.931      0.877      0.948       0.71\n"
          ]
        },
        {
          "output_type": "stream",
          "name": "stderr",
          "text": [
            "\n"
          ]
        },
        {
          "output_type": "stream",
          "name": "stdout",
          "text": [
            "\n",
            "      Epoch    GPU_mem   box_loss   seg_loss   cls_loss   dfl_loss  Instances       Size\n"
          ]
        },
        {
          "output_type": "stream",
          "name": "stderr",
          "text": [
            "     67/100      3.63G     0.7448      1.445      2.032      1.356          8       1024: 100%|██████████| 14/14 [00:04<00:00,  3.02it/s]\n",
            "                 Class     Images  Instances      Box(P          R      mAP50  mAP50-95)     Mask(P          R      mAP50  mAP50-95): 100%|██████████| 7/7 [00:02<00:00,  2.95it/s]\n"
          ]
        },
        {
          "output_type": "stream",
          "name": "stdout",
          "text": [
            "                   all        106        132      0.912      0.872      0.937      0.688      0.912      0.872      0.938      0.703\n",
            "\n",
            "      Epoch    GPU_mem   box_loss   seg_loss   cls_loss   dfl_loss  Instances       Size\n"
          ]
        },
        {
          "output_type": "stream",
          "name": "stderr",
          "text": [
            "     68/100      3.65G     0.7741      1.384      2.035      1.328          7       1024: 100%|██████████| 14/14 [00:05<00:00,  2.37it/s]\n",
            "                 Class     Images  Instances      Box(P          R      mAP50  mAP50-95)     Mask(P          R      mAP50  mAP50-95): 100%|██████████| 7/7 [00:02<00:00,  2.78it/s]\n"
          ]
        },
        {
          "output_type": "stream",
          "name": "stdout",
          "text": [
            "                   all        106        132      0.922      0.855      0.944      0.689      0.922      0.855      0.945      0.708\n",
            "\n",
            "      Epoch    GPU_mem   box_loss   seg_loss   cls_loss   dfl_loss  Instances       Size\n"
          ]
        },
        {
          "output_type": "stream",
          "name": "stderr",
          "text": [
            "     69/100       3.6G     0.7962      1.391      1.949       1.38          6       1024: 100%|██████████| 14/14 [00:04<00:00,  2.91it/s]\n",
            "                 Class     Images  Instances      Box(P          R      mAP50  mAP50-95)     Mask(P          R      mAP50  mAP50-95): 100%|██████████| 7/7 [00:02<00:00,  2.40it/s]"
          ]
        },
        {
          "output_type": "stream",
          "name": "stdout",
          "text": [
            "                   all        106        132      0.909      0.873      0.948       0.69      0.909      0.873      0.948      0.698\n"
          ]
        },
        {
          "output_type": "stream",
          "name": "stderr",
          "text": [
            "\n"
          ]
        },
        {
          "output_type": "stream",
          "name": "stdout",
          "text": [
            "\n",
            "      Epoch    GPU_mem   box_loss   seg_loss   cls_loss   dfl_loss  Instances       Size\n"
          ]
        },
        {
          "output_type": "stream",
          "name": "stderr",
          "text": [
            "     70/100      3.61G     0.7004      1.327      1.881      1.264          9       1024: 100%|██████████| 14/14 [00:04<00:00,  2.92it/s]\n",
            "                 Class     Images  Instances      Box(P          R      mAP50  mAP50-95)     Mask(P          R      mAP50  mAP50-95): 100%|██████████| 7/7 [00:02<00:00,  2.92it/s]\n"
          ]
        },
        {
          "output_type": "stream",
          "name": "stdout",
          "text": [
            "                   all        106        132        0.9      0.875      0.953      0.694        0.9      0.875      0.953      0.702\n",
            "\n",
            "      Epoch    GPU_mem   box_loss   seg_loss   cls_loss   dfl_loss  Instances       Size\n"
          ]
        },
        {
          "output_type": "stream",
          "name": "stderr",
          "text": [
            "     71/100      3.57G     0.7624      1.424      1.989       1.35          7       1024: 100%|██████████| 14/14 [00:05<00:00,  2.59it/s]\n",
            "                 Class     Images  Instances      Box(P          R      mAP50  mAP50-95)     Mask(P          R      mAP50  mAP50-95): 100%|██████████| 7/7 [00:03<00:00,  2.23it/s]\n"
          ]
        },
        {
          "output_type": "stream",
          "name": "stdout",
          "text": [
            "                   all        106        132      0.882      0.906      0.959      0.702      0.882      0.906      0.959      0.704\n",
            "\n",
            "      Epoch    GPU_mem   box_loss   seg_loss   cls_loss   dfl_loss  Instances       Size\n"
          ]
        },
        {
          "output_type": "stream",
          "name": "stderr",
          "text": [
            "     72/100      3.61G     0.7989      1.313      2.143      1.374          3       1024: 100%|██████████| 14/14 [00:04<00:00,  3.00it/s]\n",
            "                 Class     Images  Instances      Box(P          R      mAP50  mAP50-95)     Mask(P          R      mAP50  mAP50-95): 100%|██████████| 7/7 [00:02<00:00,  2.90it/s]\n"
          ]
        },
        {
          "output_type": "stream",
          "name": "stdout",
          "text": [
            "                   all        106        132      0.929      0.871      0.959      0.713      0.929      0.871      0.959      0.715\n",
            "\n",
            "      Epoch    GPU_mem   box_loss   seg_loss   cls_loss   dfl_loss  Instances       Size\n"
          ]
        },
        {
          "output_type": "stream",
          "name": "stderr",
          "text": [
            "     73/100      3.65G     0.7392      1.362      1.936      1.337          5       1024: 100%|██████████| 14/14 [00:05<00:00,  2.48it/s]\n",
            "                 Class     Images  Instances      Box(P          R      mAP50  mAP50-95)     Mask(P          R      mAP50  mAP50-95): 100%|██████████| 7/7 [00:02<00:00,  2.89it/s]\n"
          ]
        },
        {
          "output_type": "stream",
          "name": "stdout",
          "text": [
            "                   all        106        132      0.932      0.885      0.962      0.715      0.933      0.885      0.962      0.719\n",
            "\n",
            "      Epoch    GPU_mem   box_loss   seg_loss   cls_loss   dfl_loss  Instances       Size\n"
          ]
        },
        {
          "output_type": "stream",
          "name": "stderr",
          "text": [
            "     74/100      3.56G     0.7782      1.448      1.956      1.377          7       1024: 100%|██████████| 14/14 [00:04<00:00,  2.88it/s]\n",
            "                 Class     Images  Instances      Box(P          R      mAP50  mAP50-95)     Mask(P          R      mAP50  mAP50-95): 100%|██████████| 7/7 [00:03<00:00,  2.04it/s]"
          ]
        },
        {
          "output_type": "stream",
          "name": "stdout",
          "text": [
            "                   all        106        132       0.92      0.908      0.957      0.713       0.92      0.908      0.957      0.716\n"
          ]
        },
        {
          "output_type": "stream",
          "name": "stderr",
          "text": [
            "\n"
          ]
        },
        {
          "output_type": "stream",
          "name": "stdout",
          "text": [
            "\n",
            "      Epoch    GPU_mem   box_loss   seg_loss   cls_loss   dfl_loss  Instances       Size\n"
          ]
        },
        {
          "output_type": "stream",
          "name": "stderr",
          "text": [
            "     75/100      3.61G     0.7602      1.498      1.987      1.312          5       1024: 100%|██████████| 14/14 [00:04<00:00,  3.01it/s]\n",
            "                 Class     Images  Instances      Box(P          R      mAP50  mAP50-95)     Mask(P          R      mAP50  mAP50-95): 100%|██████████| 7/7 [00:02<00:00,  2.87it/s]\n"
          ]
        },
        {
          "output_type": "stream",
          "name": "stdout",
          "text": [
            "                   all        106        132      0.924      0.905      0.961      0.721      0.924      0.905      0.961      0.718\n",
            "\n",
            "      Epoch    GPU_mem   box_loss   seg_loss   cls_loss   dfl_loss  Instances       Size\n"
          ]
        },
        {
          "output_type": "stream",
          "name": "stderr",
          "text": [
            "     76/100      3.61G     0.7285      1.427      1.846      1.292          8       1024: 100%|██████████| 14/14 [00:05<00:00,  2.35it/s]\n",
            "                 Class     Images  Instances      Box(P          R      mAP50  mAP50-95)     Mask(P          R      mAP50  mAP50-95): 100%|██████████| 7/7 [00:02<00:00,  2.70it/s]\n"
          ]
        },
        {
          "output_type": "stream",
          "name": "stdout",
          "text": [
            "                   all        106        132      0.886      0.922      0.954      0.711      0.886      0.922      0.954      0.717\n",
            "\n",
            "      Epoch    GPU_mem   box_loss   seg_loss   cls_loss   dfl_loss  Instances       Size\n"
          ]
        },
        {
          "output_type": "stream",
          "name": "stderr",
          "text": [
            "     77/100      3.62G     0.8911      1.579      2.049      1.391          5       1024: 100%|██████████| 14/14 [00:04<00:00,  2.98it/s]\n",
            "                 Class     Images  Instances      Box(P          R      mAP50  mAP50-95)     Mask(P          R      mAP50  mAP50-95): 100%|██████████| 7/7 [00:03<00:00,  2.30it/s]"
          ]
        },
        {
          "output_type": "stream",
          "name": "stdout",
          "text": [
            "                   all        106        132       0.88      0.925      0.953      0.712       0.88      0.925      0.953       0.72\n"
          ]
        },
        {
          "output_type": "stream",
          "name": "stderr",
          "text": [
            "\n"
          ]
        },
        {
          "output_type": "stream",
          "name": "stdout",
          "text": [
            "\n",
            "      Epoch    GPU_mem   box_loss   seg_loss   cls_loss   dfl_loss  Instances       Size\n"
          ]
        },
        {
          "output_type": "stream",
          "name": "stderr",
          "text": [
            "     78/100      3.59G      0.838      1.541      2.014      1.424          4       1024: 100%|██████████| 14/14 [00:04<00:00,  2.91it/s]\n",
            "                 Class     Images  Instances      Box(P          R      mAP50  mAP50-95)     Mask(P          R      mAP50  mAP50-95): 100%|██████████| 7/7 [00:02<00:00,  3.02it/s]\n"
          ]
        },
        {
          "output_type": "stream",
          "name": "stdout",
          "text": [
            "                   all        106        132      0.914      0.913      0.954      0.715      0.914      0.913      0.954      0.728\n",
            "\n",
            "      Epoch    GPU_mem   box_loss   seg_loss   cls_loss   dfl_loss  Instances       Size\n"
          ]
        },
        {
          "output_type": "stream",
          "name": "stderr",
          "text": [
            "     79/100      3.62G      0.709      1.344      1.845       1.29          9       1024: 100%|██████████| 14/14 [00:05<00:00,  2.55it/s]\n",
            "                 Class     Images  Instances      Box(P          R      mAP50  mAP50-95)     Mask(P          R      mAP50  mAP50-95): 100%|██████████| 7/7 [00:02<00:00,  2.46it/s]\n"
          ]
        },
        {
          "output_type": "stream",
          "name": "stdout",
          "text": [
            "                   all        106        132      0.914      0.911      0.954      0.713      0.914      0.911      0.954      0.723\n",
            "\n",
            "      Epoch    GPU_mem   box_loss   seg_loss   cls_loss   dfl_loss  Instances       Size\n"
          ]
        },
        {
          "output_type": "stream",
          "name": "stderr",
          "text": [
            "     80/100      3.63G     0.7322      1.315      1.923      1.347          7       1024: 100%|██████████| 14/14 [00:04<00:00,  3.00it/s]\n",
            "                 Class     Images  Instances      Box(P          R      mAP50  mAP50-95)     Mask(P          R      mAP50  mAP50-95): 100%|██████████| 7/7 [00:02<00:00,  3.00it/s]\n"
          ]
        },
        {
          "output_type": "stream",
          "name": "stdout",
          "text": [
            "                   all        106        132      0.929      0.901       0.96      0.719      0.929      0.901       0.96      0.725\n",
            "\n",
            "      Epoch    GPU_mem   box_loss   seg_loss   cls_loss   dfl_loss  Instances       Size\n"
          ]
        },
        {
          "output_type": "stream",
          "name": "stderr",
          "text": [
            "     81/100      3.69G     0.7968      1.516      1.988      1.337          5       1024: 100%|██████████| 14/14 [00:05<00:00,  2.46it/s]\n",
            "                 Class     Images  Instances      Box(P          R      mAP50  mAP50-95)     Mask(P          R      mAP50  mAP50-95): 100%|██████████| 7/7 [00:02<00:00,  2.89it/s]\n"
          ]
        },
        {
          "output_type": "stream",
          "name": "stdout",
          "text": [
            "                   all        106        132      0.954      0.912       0.97      0.727      0.954      0.912       0.97      0.732\n",
            "\n",
            "      Epoch    GPU_mem   box_loss   seg_loss   cls_loss   dfl_loss  Instances       Size\n"
          ]
        },
        {
          "output_type": "stream",
          "name": "stderr",
          "text": [
            "     82/100      3.58G     0.7522      1.322      1.875      1.299          6       1024: 100%|██████████| 14/14 [00:05<00:00,  2.74it/s]\n",
            "                 Class     Images  Instances      Box(P          R      mAP50  mAP50-95)     Mask(P          R      mAP50  mAP50-95): 100%|██████████| 7/7 [00:03<00:00,  2.15it/s]\n"
          ]
        },
        {
          "output_type": "stream",
          "name": "stdout",
          "text": [
            "                   all        106        132      0.945      0.915      0.973      0.726      0.945      0.915      0.974      0.735\n",
            "\n",
            "      Epoch    GPU_mem   box_loss   seg_loss   cls_loss   dfl_loss  Instances       Size\n"
          ]
        },
        {
          "output_type": "stream",
          "name": "stderr",
          "text": [
            "     83/100      3.64G     0.6854      1.226      1.849      1.305          4       1024: 100%|██████████| 14/14 [00:04<00:00,  2.97it/s]\n",
            "                 Class     Images  Instances      Box(P          R      mAP50  mAP50-95)     Mask(P          R      mAP50  mAP50-95): 100%|██████████| 7/7 [00:02<00:00,  2.92it/s]\n"
          ]
        },
        {
          "output_type": "stream",
          "name": "stdout",
          "text": [
            "                   all        106        132      0.959      0.919      0.973      0.733      0.959      0.919      0.974      0.733\n",
            "\n",
            "      Epoch    GPU_mem   box_loss   seg_loss   cls_loss   dfl_loss  Instances       Size\n"
          ]
        },
        {
          "output_type": "stream",
          "name": "stderr",
          "text": [
            "     84/100       3.6G     0.7596      1.397      1.874      1.327         13       1024: 100%|██████████| 14/14 [00:06<00:00,  2.33it/s]\n",
            "                 Class     Images  Instances      Box(P          R      mAP50  mAP50-95)     Mask(P          R      mAP50  mAP50-95): 100%|██████████| 7/7 [00:02<00:00,  2.88it/s]\n"
          ]
        },
        {
          "output_type": "stream",
          "name": "stdout",
          "text": [
            "                   all        106        132      0.919      0.941      0.969      0.736      0.919      0.941       0.97      0.729\n",
            "\n",
            "      Epoch    GPU_mem   box_loss   seg_loss   cls_loss   dfl_loss  Instances       Size\n"
          ]
        },
        {
          "output_type": "stream",
          "name": "stderr",
          "text": [
            "     85/100      3.63G     0.7064      1.259      1.743      1.281          7       1024: 100%|██████████| 14/14 [00:04<00:00,  2.96it/s]\n",
            "                 Class     Images  Instances      Box(P          R      mAP50  mAP50-95)     Mask(P          R      mAP50  mAP50-95): 100%|██████████| 7/7 [00:03<00:00,  2.20it/s]"
          ]
        },
        {
          "output_type": "stream",
          "name": "stdout",
          "text": [
            "                   all        106        132      0.911      0.934      0.966      0.738      0.911      0.934      0.967      0.728\n"
          ]
        },
        {
          "output_type": "stream",
          "name": "stderr",
          "text": [
            "\n"
          ]
        },
        {
          "output_type": "stream",
          "name": "stdout",
          "text": [
            "\n",
            "      Epoch    GPU_mem   box_loss   seg_loss   cls_loss   dfl_loss  Instances       Size\n"
          ]
        },
        {
          "output_type": "stream",
          "name": "stderr",
          "text": [
            "     86/100       3.6G     0.6811      1.274      1.861       1.25          7       1024: 100%|██████████| 14/14 [00:04<00:00,  3.03it/s]\n",
            "                 Class     Images  Instances      Box(P          R      mAP50  mAP50-95)     Mask(P          R      mAP50  mAP50-95): 100%|██████████| 7/7 [00:02<00:00,  2.93it/s]\n"
          ]
        },
        {
          "output_type": "stream",
          "name": "stdout",
          "text": [
            "                   all        106        132      0.922      0.931      0.966      0.735      0.922      0.931      0.967      0.731\n",
            "\n",
            "      Epoch    GPU_mem   box_loss   seg_loss   cls_loss   dfl_loss  Instances       Size\n"
          ]
        },
        {
          "output_type": "stream",
          "name": "stderr",
          "text": [
            "     87/100      3.62G      0.722      1.421      1.848      1.261          8       1024: 100%|██████████| 14/14 [00:05<00:00,  2.41it/s]\n",
            "                 Class     Images  Instances      Box(P          R      mAP50  mAP50-95)     Mask(P          R      mAP50  mAP50-95): 100%|██████████| 7/7 [00:02<00:00,  2.71it/s]\n"
          ]
        },
        {
          "output_type": "stream",
          "name": "stdout",
          "text": [
            "                   all        106        132      0.938      0.939      0.969      0.741      0.938      0.939      0.969      0.733\n",
            "\n",
            "      Epoch    GPU_mem   box_loss   seg_loss   cls_loss   dfl_loss  Instances       Size\n"
          ]
        },
        {
          "output_type": "stream",
          "name": "stderr",
          "text": [
            "     88/100      3.63G     0.7681      1.385      1.957      1.309          6       1024: 100%|██████████| 14/14 [00:04<00:00,  3.07it/s]\n",
            "                 Class     Images  Instances      Box(P          R      mAP50  mAP50-95)     Mask(P          R      mAP50  mAP50-95): 100%|██████████| 7/7 [00:02<00:00,  2.71it/s]"
          ]
        },
        {
          "output_type": "stream",
          "name": "stdout",
          "text": [
            "                   all        106        132      0.918      0.943      0.971      0.741      0.918      0.943      0.971      0.738\n"
          ]
        },
        {
          "output_type": "stream",
          "name": "stderr",
          "text": [
            "\n"
          ]
        },
        {
          "output_type": "stream",
          "name": "stdout",
          "text": [
            "\n",
            "      Epoch    GPU_mem   box_loss   seg_loss   cls_loss   dfl_loss  Instances       Size\n"
          ]
        },
        {
          "output_type": "stream",
          "name": "stderr",
          "text": [
            "     89/100      3.71G     0.7081      1.342      1.826      1.307          8       1024: 100%|██████████| 14/14 [00:05<00:00,  2.57it/s]\n",
            "                 Class     Images  Instances      Box(P          R      mAP50  mAP50-95)     Mask(P          R      mAP50  mAP50-95): 100%|██████████| 7/7 [00:02<00:00,  2.85it/s]\n"
          ]
        },
        {
          "output_type": "stream",
          "name": "stdout",
          "text": [
            "                   all        106        132       0.92      0.938       0.97      0.744       0.92      0.938       0.97      0.735\n",
            "\n",
            "      Epoch    GPU_mem   box_loss   seg_loss   cls_loss   dfl_loss  Instances       Size\n"
          ]
        },
        {
          "output_type": "stream",
          "name": "stderr",
          "text": [
            "     90/100      3.69G     0.6599      1.332      1.779      1.245          8       1024: 100%|██████████| 14/14 [00:05<00:00,  2.71it/s]\n",
            "                 Class     Images  Instances      Box(P          R      mAP50  mAP50-95)     Mask(P          R      mAP50  mAP50-95): 100%|██████████| 7/7 [00:03<00:00,  2.22it/s]\n"
          ]
        },
        {
          "output_type": "stream",
          "name": "stdout",
          "text": [
            "                   all        106        132        0.9      0.941      0.972      0.744        0.9      0.941      0.972       0.74\n",
            "Closing dataloader mosaic\n",
            "\u001b[34m\u001b[1malbumentations: \u001b[0mBlur(p=0.01, blur_limit=(3, 7)), MedianBlur(p=0.01, blur_limit=(3, 7)), ToGray(p=0.01, num_output_channels=3, method='weighted_average'), CLAHE(p=0.01, clip_limit=(1.0, 4.0), tile_grid_size=(8, 8))\n",
            "\n",
            "      Epoch    GPU_mem   box_loss   seg_loss   cls_loss   dfl_loss  Instances       Size\n"
          ]
        },
        {
          "output_type": "stream",
          "name": "stderr",
          "text": [
            "     91/100      3.56G      1.028       1.29      3.931      1.499          2       1024: 100%|██████████| 14/14 [00:06<00:00,  2.20it/s]\n",
            "                 Class     Images  Instances      Box(P          R      mAP50  mAP50-95)     Mask(P          R      mAP50  mAP50-95): 100%|██████████| 7/7 [00:02<00:00,  2.49it/s]"
          ]
        },
        {
          "output_type": "stream",
          "name": "stdout",
          "text": [
            "                   all        106        132      0.896      0.913      0.957      0.727      0.896      0.913      0.957      0.723\n"
          ]
        },
        {
          "output_type": "stream",
          "name": "stderr",
          "text": [
            "\n"
          ]
        },
        {
          "output_type": "stream",
          "name": "stdout",
          "text": [
            "\n",
            "      Epoch    GPU_mem   box_loss   seg_loss   cls_loss   dfl_loss  Instances       Size\n"
          ]
        },
        {
          "output_type": "stream",
          "name": "stderr",
          "text": [
            "     92/100      3.48G       1.02      1.328       3.59       1.52          5       1024: 100%|██████████| 14/14 [00:04<00:00,  2.98it/s]\n",
            "                 Class     Images  Instances      Box(P          R      mAP50  mAP50-95)     Mask(P          R      mAP50  mAP50-95): 100%|██████████| 7/7 [00:02<00:00,  2.99it/s]"
          ]
        },
        {
          "output_type": "stream",
          "name": "stdout",
          "text": [
            "                   all        106        132      0.836      0.926      0.952       0.72      0.836      0.926      0.953      0.719\n"
          ]
        },
        {
          "output_type": "stream",
          "name": "stderr",
          "text": [
            "\n"
          ]
        },
        {
          "output_type": "stream",
          "name": "stdout",
          "text": [
            "\n",
            "      Epoch    GPU_mem   box_loss   seg_loss   cls_loss   dfl_loss  Instances       Size\n"
          ]
        },
        {
          "output_type": "stream",
          "name": "stderr",
          "text": [
            "     93/100      3.49G      1.021      1.184       3.87      1.545          2       1024: 100%|██████████| 14/14 [00:04<00:00,  2.83it/s]\n",
            "                 Class     Images  Instances      Box(P          R      mAP50  mAP50-95)     Mask(P          R      mAP50  mAP50-95): 100%|██████████| 7/7 [00:03<00:00,  2.31it/s]\n"
          ]
        },
        {
          "output_type": "stream",
          "name": "stdout",
          "text": [
            "                   all        106        132      0.802       0.93      0.934      0.709      0.802       0.93      0.939       0.71\n",
            "\n",
            "      Epoch    GPU_mem   box_loss   seg_loss   cls_loss   dfl_loss  Instances       Size\n"
          ]
        },
        {
          "output_type": "stream",
          "name": "stderr",
          "text": [
            "     94/100       3.5G      1.012      1.311      3.931      1.445          2       1024: 100%|██████████| 14/14 [00:04<00:00,  3.18it/s]\n",
            "                 Class     Images  Instances      Box(P          R      mAP50  mAP50-95)     Mask(P          R      mAP50  mAP50-95): 100%|██████████| 7/7 [00:02<00:00,  2.96it/s]\n"
          ]
        },
        {
          "output_type": "stream",
          "name": "stdout",
          "text": [
            "                   all        106        132      0.819      0.874      0.934        0.7      0.819      0.874      0.939      0.701\n",
            "\n",
            "      Epoch    GPU_mem   box_loss   seg_loss   cls_loss   dfl_loss  Instances       Size\n"
          ]
        },
        {
          "output_type": "stream",
          "name": "stderr",
          "text": [
            "     95/100      3.49G      1.017      1.241       3.91      1.519          2       1024: 100%|██████████| 14/14 [00:05<00:00,  2.44it/s]\n",
            "                 Class     Images  Instances      Box(P          R      mAP50  mAP50-95)     Mask(P          R      mAP50  mAP50-95): 100%|██████████| 7/7 [00:02<00:00,  2.90it/s]\n"
          ]
        },
        {
          "output_type": "stream",
          "name": "stdout",
          "text": [
            "                   all        106        132      0.828      0.874       0.93      0.692      0.828      0.874      0.934      0.694\n",
            "\n",
            "      Epoch    GPU_mem   box_loss   seg_loss   cls_loss   dfl_loss  Instances       Size\n"
          ]
        },
        {
          "output_type": "stream",
          "name": "stderr",
          "text": [
            "     96/100      3.49G     0.9074      1.311      3.626       1.45          2       1024: 100%|██████████| 14/14 [00:04<00:00,  3.20it/s]\n",
            "                 Class     Images  Instances      Box(P          R      mAP50  mAP50-95)     Mask(P          R      mAP50  mAP50-95): 100%|██████████| 7/7 [00:02<00:00,  2.52it/s]"
          ]
        },
        {
          "output_type": "stream",
          "name": "stdout",
          "text": [
            "                   all        106        132      0.795      0.917      0.924      0.689      0.795      0.917      0.929      0.691\n"
          ]
        },
        {
          "output_type": "stream",
          "name": "stderr",
          "text": [
            "\n"
          ]
        },
        {
          "output_type": "stream",
          "name": "stdout",
          "text": [
            "\n",
            "      Epoch    GPU_mem   box_loss   seg_loss   cls_loss   dfl_loss  Instances       Size\n"
          ]
        },
        {
          "output_type": "stream",
          "name": "stderr",
          "text": [
            "     97/100      3.55G      1.081      1.341       3.78      1.646          2       1024: 100%|██████████| 14/14 [00:04<00:00,  2.85it/s]\n",
            "                 Class     Images  Instances      Box(P          R      mAP50  mAP50-95)     Mask(P          R      mAP50  mAP50-95): 100%|██████████| 7/7 [00:02<00:00,  2.94it/s]\n"
          ]
        },
        {
          "output_type": "stream",
          "name": "stdout",
          "text": [
            "                   all        106        132       0.79      0.909      0.924      0.687       0.79      0.909      0.928      0.687\n",
            "\n",
            "      Epoch    GPU_mem   box_loss   seg_loss   cls_loss   dfl_loss  Instances       Size\n"
          ]
        },
        {
          "output_type": "stream",
          "name": "stderr",
          "text": [
            "     98/100      3.51G     0.8945      1.408      3.671      1.411          2       1024: 100%|██████████| 14/14 [00:04<00:00,  2.88it/s]\n",
            "                 Class     Images  Instances      Box(P          R      mAP50  mAP50-95)     Mask(P          R      mAP50  mAP50-95): 100%|██████████| 7/7 [00:03<00:00,  2.26it/s]\n"
          ]
        },
        {
          "output_type": "stream",
          "name": "stdout",
          "text": [
            "                   all        106        132      0.776      0.905       0.92      0.681      0.776      0.905      0.921      0.684\n",
            "\n",
            "      Epoch    GPU_mem   box_loss   seg_loss   cls_loss   dfl_loss  Instances       Size\n"
          ]
        },
        {
          "output_type": "stream",
          "name": "stderr",
          "text": [
            "     99/100      3.49G     0.9147      1.207      3.567      1.452          2       1024: 100%|██████████| 14/14 [00:04<00:00,  3.32it/s]\n",
            "                 Class     Images  Instances      Box(P          R      mAP50  mAP50-95)     Mask(P          R      mAP50  mAP50-95): 100%|██████████| 7/7 [00:02<00:00,  2.74it/s]"
          ]
        },
        {
          "output_type": "stream",
          "name": "stdout",
          "text": [
            "                   all        106        132      0.777      0.906      0.913      0.677      0.777      0.906      0.914      0.678\n"
          ]
        },
        {
          "output_type": "stream",
          "name": "stderr",
          "text": [
            "\n"
          ]
        },
        {
          "output_type": "stream",
          "name": "stdout",
          "text": [
            "\n",
            "      Epoch    GPU_mem   box_loss   seg_loss   cls_loss   dfl_loss  Instances       Size\n"
          ]
        },
        {
          "output_type": "stream",
          "name": "stderr",
          "text": [
            "    100/100      3.49G      0.911      1.299      3.662       1.41          2       1024: 100%|██████████| 14/14 [00:05<00:00,  2.50it/s]\n",
            "                 Class     Images  Instances      Box(P          R      mAP50  mAP50-95)     Mask(P          R      mAP50  mAP50-95): 100%|██████████| 7/7 [00:02<00:00,  2.65it/s]\n"
          ]
        },
        {
          "output_type": "stream",
          "name": "stdout",
          "text": [
            "                   all        106        132       0.78      0.879      0.909      0.677       0.78      0.879      0.911      0.673\n",
            "\n",
            "100 epochs completed in 0.250 hours.\n",
            "Optimizer stripped from runs/segment/train3/weights/last.pt, 6.1MB\n",
            "Optimizer stripped from runs/segment/train3/weights/best.pt, 6.1MB\n",
            "\n",
            "Validating runs/segment/train3/weights/best.pt...\n",
            "Ultralytics 8.3.79 🚀 Python-3.11.11 torch-2.5.1+cu124 CUDA:0 (Tesla T4, 15095MiB)\n",
            "YOLO11n-seg summary (fused): 113 layers, 2,835,348 parameters, 0 gradients, 10.2 GFLOPs\n"
          ]
        },
        {
          "output_type": "stream",
          "name": "stderr",
          "text": [
            "                 Class     Images  Instances      Box(P          R      mAP50  mAP50-95)     Mask(P          R      mAP50  mAP50-95): 100%|██████████| 7/7 [00:07<00:00,  1.03s/it]\n"
          ]
        },
        {
          "output_type": "stream",
          "name": "stdout",
          "text": [
            "                   all        106        132        0.9      0.941      0.972      0.742        0.9      0.941      0.972      0.737\n",
            "            fried_rice         28         28      0.835      0.964      0.966      0.733      0.835      0.964      0.966      0.788\n",
            "             ice_cream         27         38      0.833      0.842      0.939      0.696      0.833      0.842      0.939      0.643\n",
            "                 pizza         19         19      0.967          1      0.995       0.73      0.967          1      0.995      0.785\n",
            "                 sushi         32         47      0.963      0.957      0.988      0.808      0.963      0.957      0.988      0.734\n",
            "Speed: 0.6ms preprocess, 10.8ms inference, 0.0ms loss, 19.4ms postprocess per image\n",
            "Results saved to \u001b[1mruns/segment/train3\u001b[0m\n"
          ]
        }
      ]
    },
    {
      "cell_type": "code",
      "source": [
        "image_path = r\"/content/images\"\n",
        "model = YOLO(r\"/content/runs/segment/train/weights/best.pt\")\n",
        "results = model.predict(r\"/content/images/01154da3-1976362.jpg\")\n"
      ],
      "metadata": {
        "colab": {
          "base_uri": "https://localhost:8080/"
        },
        "id": "kEcZGVcqjmLv",
        "outputId": "4a798228-e3e9-418d-9f62-cb0f9eb2e8f5"
      },
      "execution_count": null,
      "outputs": [
        {
          "output_type": "stream",
          "name": "stdout",
          "text": [
            "\n",
            "image 1/1 /content/images/01154da3-1976362.jpg: 480x640 (no detections), 29.2ms\n",
            "Speed: 11.6ms preprocess, 29.2ms inference, 0.8ms postprocess per image at shape (1, 3, 480, 640)\n"
          ]
        }
      ]
    }
  ]
}